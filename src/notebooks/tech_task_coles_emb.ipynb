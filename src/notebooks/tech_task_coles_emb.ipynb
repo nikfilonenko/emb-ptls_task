{
 "cells": [
  {
   "cell_type": "markdown",
   "source": [
    "# Выполнил: Филоненко Никита\n",
    "\n",
    "-----\n",
    "\n",
    "**Решение на GitHub**\n",
    "\n"
   ],
   "metadata": {
    "collapsed": false,
    "id": "76d7a995a763727b"
   },
   "id": "76d7a995a763727b"
  },
  {
   "cell_type": "markdown",
   "source": [
    "# Содержание\n",
    "#### [**Задание**](#01)\n",
    "\n",
    "1. [**Load data & EDA**](#02)\n",
    "\n",
    "2. [**Data preprocessing**](#03)\n",
    "\n",
    "3. [**`PTLS` и создание эмбеддингов на основе последовательностей дискретных событий**](#04)\n",
    "\n",
    "4. [**Обучение random forest**](#05)\n",
    "   - [**Эксперимент №1**](#05.1)\n",
    "   - [**Эксперимент №2**](#05.2)"
   ],
   "metadata": {
    "collapsed": false,
    "id": "82cf06de4f6ac087"
   },
   "id": "82cf06de4f6ac087"
  },
  {
   "cell_type": "markdown",
   "source": [
    "## Задание"
   ],
   "metadata": {
    "collapsed": false,
    "id": "945f45e952af53d6"
   },
   "id": "945f45e952af53d6"
  },
  {
   "cell_type": "markdown",
   "source": [
    "- Взять за основу демо с примером работы нашего алгоритма: `https://github.com/dllllb/pytorch-lifestream/blob/main/demo/coles-emb.ipynb`\n",
    "- Переделать его, применить алгоритм к другому датасету (на выбор)\n",
    "- Улучшить решение\n",
    "\n",
    "Улучшать решение можно двумя способами:\n",
    "1. Тюнинг гипперпараметров\n",
    "2. Изменить подход к решению\n",
    "Второе предпочтительнее.\n"
   ],
   "metadata": {
    "collapsed": false,
    "id": "d06f2bb57a4525cd"
   },
   "id": "d06f2bb57a4525cd"
  },
  {
   "cell_type": "markdown",
   "source": [
    "### Бизнес-задача (исходя из выбранного мною набора данных)\n",
    "\n",
    "- Определить, к какому сегменту относится клиент, чтобы персонализировать предложения и увеличить лояльность клиентов, а также максимизировать доход компании\n",
    "\n",
    "-----\n",
    "\n",
    "### План выполнения\n",
    "\n",
    "- **провести анализ и подготовку данных** (EDA, общее представление, содержательные и статические характеристики, нормальность распределения данных, энкодинг категориальных признаков и тд)\n",
    "\n",
    "- **сгенерировать эмбеддинги на основе последовательностей дискретных событий с помощью `PTLS`**\n",
    "\n",
    "- **обучить на полученных эмбеддингах `random forest`** для сегментации клиентов на основе их покупательского поведения с целью улучшения таргетинга маркетинговых кампаний и персонализированного обслуживания\n",
    "\n"
   ],
   "metadata": {
    "collapsed": false,
    "id": "be8e3b0c25e32bf9"
   },
   "id": "be8e3b0c25e32bf9"
  },
  {
   "cell_type": "markdown",
   "source": [
    "## Решение"
   ],
   "metadata": {
    "collapsed": false,
    "id": "2352aa4932e99a63"
   },
   "id": "2352aa4932e99a63"
  },
  {
   "cell_type": "markdown",
   "source": [
    "## 1. **Load data & EDA**\n",
    "\n",
    "-----\n",
    "\n",
    "Так как библиотека **PTLS** предназначена для работы с событийными данными, я решил остановить свое внимание на датасете [Retail_Transaction](https://www.kaggle.com/datasets/fahadrehman07/retail-transaction-dataset) (набор данных о розничных транзакциях), который содержит:\n",
    "\n",
    "- информацию о поведении потребителей,\n",
    "- предпочтениях продуктов,\n",
    "- ценовых стратегиях и региональных тенденциях в розничной среде,\n",
    "- динамике розничной торговли,\n",
    "- суть транзакций в розничной среде.\n"
   ],
   "metadata": {
    "collapsed": false,
    "id": "90ad7e0157f49a7"
   },
   "id": "90ad7e0157f49a7"
  },
  {
   "cell_type": "markdown",
   "source": [
    "- **Импортируем необходимые модули**"
   ],
   "metadata": {
    "collapsed": false,
    "id": "3b7db8a4b7e220ca"
   },
   "id": "3b7db8a4b7e220ca"
  },
  {
   "cell_type": "code",
   "outputs": [
    {
     "output_type": "stream",
     "name": "stdout",
     "text": [
      "Collecting pytorch-lifestream\n",
      "  Downloading pytorch-lifestream-0.6.0.tar.gz (163 kB)\n",
      "\u001B[?25l     \u001B[90m━━━━━━━━━━━━━━━━━━━━━━━━━━━━━━━━━━━━━━━━\u001B[0m \u001B[32m0.0/163.4 kB\u001B[0m \u001B[31m?\u001B[0m eta \u001B[36m-:--:--\u001B[0m\r\u001B[2K     \u001B[90m━━━━━━━━━━━━━━━━━━━━━━━━━━━━━━━━━━━━━━━━\u001B[0m \u001B[32m163.4/163.4 kB\u001B[0m \u001B[31m11.7 MB/s\u001B[0m eta \u001B[36m0:00:00\u001B[0m\n",
      "\u001B[?25h  Installing build dependencies ... \u001B[?25l\u001B[?25hdone\n",
      "  Getting requirements to build wheel ... \u001B[?25l\u001B[?25hdone\n",
      "  Preparing metadata (pyproject.toml) ... \u001B[?25l\u001B[?25hdone\n",
      "Requirement already satisfied: duckdb in /usr/local/lib/python3.10/dist-packages (from pytorch-lifestream) (1.1.0)\n",
      "Collecting hydra-core>=1.1.2 (from pytorch-lifestream)\n",
      "  Downloading hydra_core-1.3.2-py3-none-any.whl.metadata (5.5 kB)\n",
      "Requirement already satisfied: numpy>=1.21.5 in /usr/local/lib/python3.10/dist-packages (from pytorch-lifestream) (1.26.4)\n",
      "Collecting omegaconf (from pytorch-lifestream)\n",
      "  Downloading omegaconf-2.3.0-py3-none-any.whl.metadata (3.9 kB)\n",
      "Requirement already satisfied: pandas>=1.3.5 in /usr/local/lib/python3.10/dist-packages (from pytorch-lifestream) (2.1.4)\n",
      "Requirement already satisfied: pyarrow>=6.0.1 in /usr/local/lib/python3.10/dist-packages (from pytorch-lifestream) (14.0.2)\n",
      "Collecting pytorch-lightning>=1.6.0 (from pytorch-lifestream)\n",
      "  Downloading pytorch_lightning-2.4.0-py3-none-any.whl.metadata (21 kB)\n",
      "Requirement already satisfied: scikit-learn>=1.0.2 in /usr/local/lib/python3.10/dist-packages (from pytorch-lifestream) (1.5.2)\n",
      "Requirement already satisfied: torch>=1.12.0 in /usr/local/lib/python3.10/dist-packages (from pytorch-lifestream) (2.4.1+cu121)\n",
      "Collecting torchmetrics>=0.9.0 (from pytorch-lifestream)\n",
      "  Downloading torchmetrics-1.4.2-py3-none-any.whl.metadata (19 kB)\n",
      "Requirement already satisfied: transformers in /usr/local/lib/python3.10/dist-packages (from pytorch-lifestream) (4.44.2)\n",
      "Collecting antlr4-python3-runtime==4.9.* (from hydra-core>=1.1.2->pytorch-lifestream)\n",
      "  Downloading antlr4-python3-runtime-4.9.3.tar.gz (117 kB)\n",
      "\u001B[2K     \u001B[90m━━━━━━━━━━━━━━━━━━━━━━━━━━━━━━━━━━━━━━━━\u001B[0m \u001B[32m117.0/117.0 kB\u001B[0m \u001B[31m8.1 MB/s\u001B[0m eta \u001B[36m0:00:00\u001B[0m\n",
      "\u001B[?25h  Preparing metadata (setup.py) ... \u001B[?25l\u001B[?25hdone\n",
      "Requirement already satisfied: packaging in /usr/local/lib/python3.10/dist-packages (from hydra-core>=1.1.2->pytorch-lifestream) (24.1)\n",
      "Requirement already satisfied: PyYAML>=5.1.0 in /usr/local/lib/python3.10/dist-packages (from omegaconf->pytorch-lifestream) (6.0.2)\n",
      "Requirement already satisfied: python-dateutil>=2.8.2 in /usr/local/lib/python3.10/dist-packages (from pandas>=1.3.5->pytorch-lifestream) (2.8.2)\n",
      "Requirement already satisfied: pytz>=2020.1 in /usr/local/lib/python3.10/dist-packages (from pandas>=1.3.5->pytorch-lifestream) (2024.2)\n",
      "Requirement already satisfied: tzdata>=2022.1 in /usr/local/lib/python3.10/dist-packages (from pandas>=1.3.5->pytorch-lifestream) (2024.1)\n",
      "Requirement already satisfied: tqdm>=4.57.0 in /usr/local/lib/python3.10/dist-packages (from pytorch-lightning>=1.6.0->pytorch-lifestream) (4.66.5)\n",
      "Requirement already satisfied: fsspec>=2022.5.0 in /usr/local/lib/python3.10/dist-packages (from fsspec[http]>=2022.5.0->pytorch-lightning>=1.6.0->pytorch-lifestream) (2024.6.1)\n",
      "Requirement already satisfied: typing-extensions>=4.4.0 in /usr/local/lib/python3.10/dist-packages (from pytorch-lightning>=1.6.0->pytorch-lifestream) (4.12.2)\n",
      "Collecting lightning-utilities>=0.10.0 (from pytorch-lightning>=1.6.0->pytorch-lifestream)\n",
      "  Downloading lightning_utilities-0.11.7-py3-none-any.whl.metadata (5.2 kB)\n",
      "Requirement already satisfied: scipy>=1.6.0 in /usr/local/lib/python3.10/dist-packages (from scikit-learn>=1.0.2->pytorch-lifestream) (1.13.1)\n",
      "Requirement already satisfied: joblib>=1.2.0 in /usr/local/lib/python3.10/dist-packages (from scikit-learn>=1.0.2->pytorch-lifestream) (1.4.2)\n",
      "Requirement already satisfied: threadpoolctl>=3.1.0 in /usr/local/lib/python3.10/dist-packages (from scikit-learn>=1.0.2->pytorch-lifestream) (3.5.0)\n",
      "Requirement already satisfied: filelock in /usr/local/lib/python3.10/dist-packages (from torch>=1.12.0->pytorch-lifestream) (3.16.1)\n",
      "Requirement already satisfied: sympy in /usr/local/lib/python3.10/dist-packages (from torch>=1.12.0->pytorch-lifestream) (1.13.3)\n",
      "Requirement already satisfied: networkx in /usr/local/lib/python3.10/dist-packages (from torch>=1.12.0->pytorch-lifestream) (3.3)\n",
      "Requirement already satisfied: jinja2 in /usr/local/lib/python3.10/dist-packages (from torch>=1.12.0->pytorch-lifestream) (3.1.4)\n",
      "Requirement already satisfied: huggingface-hub<1.0,>=0.23.2 in /usr/local/lib/python3.10/dist-packages (from transformers->pytorch-lifestream) (0.24.7)\n",
      "Requirement already satisfied: regex!=2019.12.17 in /usr/local/lib/python3.10/dist-packages (from transformers->pytorch-lifestream) (2024.9.11)\n",
      "Requirement already satisfied: requests in /usr/local/lib/python3.10/dist-packages (from transformers->pytorch-lifestream) (2.32.3)\n",
      "Requirement already satisfied: safetensors>=0.4.1 in /usr/local/lib/python3.10/dist-packages (from transformers->pytorch-lifestream) (0.4.5)\n",
      "Requirement already satisfied: tokenizers<0.20,>=0.19 in /usr/local/lib/python3.10/dist-packages (from transformers->pytorch-lifestream) (0.19.1)\n",
      "Requirement already satisfied: aiohttp!=4.0.0a0,!=4.0.0a1 in /usr/local/lib/python3.10/dist-packages (from fsspec[http]>=2022.5.0->pytorch-lightning>=1.6.0->pytorch-lifestream) (3.10.5)\n",
      "Requirement already satisfied: setuptools in /usr/local/lib/python3.10/dist-packages (from lightning-utilities>=0.10.0->pytorch-lightning>=1.6.0->pytorch-lifestream) (71.0.4)\n",
      "Requirement already satisfied: six>=1.5 in /usr/local/lib/python3.10/dist-packages (from python-dateutil>=2.8.2->pandas>=1.3.5->pytorch-lifestream) (1.16.0)\n",
      "Requirement already satisfied: MarkupSafe>=2.0 in /usr/local/lib/python3.10/dist-packages (from jinja2->torch>=1.12.0->pytorch-lifestream) (2.1.5)\n",
      "Requirement already satisfied: charset-normalizer<4,>=2 in /usr/local/lib/python3.10/dist-packages (from requests->transformers->pytorch-lifestream) (3.3.2)\n",
      "Requirement already satisfied: idna<4,>=2.5 in /usr/local/lib/python3.10/dist-packages (from requests->transformers->pytorch-lifestream) (3.10)\n",
      "Requirement already satisfied: urllib3<3,>=1.21.1 in /usr/local/lib/python3.10/dist-packages (from requests->transformers->pytorch-lifestream) (2.2.3)\n",
      "Requirement already satisfied: certifi>=2017.4.17 in /usr/local/lib/python3.10/dist-packages (from requests->transformers->pytorch-lifestream) (2024.8.30)\n",
      "Requirement already satisfied: mpmath<1.4,>=1.1.0 in /usr/local/lib/python3.10/dist-packages (from sympy->torch>=1.12.0->pytorch-lifestream) (1.3.0)\n",
      "Requirement already satisfied: aiohappyeyeballs>=2.3.0 in /usr/local/lib/python3.10/dist-packages (from aiohttp!=4.0.0a0,!=4.0.0a1->fsspec[http]>=2022.5.0->pytorch-lightning>=1.6.0->pytorch-lifestream) (2.4.0)\n",
      "Requirement already satisfied: aiosignal>=1.1.2 in /usr/local/lib/python3.10/dist-packages (from aiohttp!=4.0.0a0,!=4.0.0a1->fsspec[http]>=2022.5.0->pytorch-lightning>=1.6.0->pytorch-lifestream) (1.3.1)\n",
      "Requirement already satisfied: attrs>=17.3.0 in /usr/local/lib/python3.10/dist-packages (from aiohttp!=4.0.0a0,!=4.0.0a1->fsspec[http]>=2022.5.0->pytorch-lightning>=1.6.0->pytorch-lifestream) (24.2.0)\n",
      "Requirement already satisfied: frozenlist>=1.1.1 in /usr/local/lib/python3.10/dist-packages (from aiohttp!=4.0.0a0,!=4.0.0a1->fsspec[http]>=2022.5.0->pytorch-lightning>=1.6.0->pytorch-lifestream) (1.4.1)\n",
      "Requirement already satisfied: multidict<7.0,>=4.5 in /usr/local/lib/python3.10/dist-packages (from aiohttp!=4.0.0a0,!=4.0.0a1->fsspec[http]>=2022.5.0->pytorch-lightning>=1.6.0->pytorch-lifestream) (6.1.0)\n",
      "Requirement already satisfied: yarl<2.0,>=1.0 in /usr/local/lib/python3.10/dist-packages (from aiohttp!=4.0.0a0,!=4.0.0a1->fsspec[http]>=2022.5.0->pytorch-lightning>=1.6.0->pytorch-lifestream) (1.11.1)\n",
      "Requirement already satisfied: async-timeout<5.0,>=4.0 in /usr/local/lib/python3.10/dist-packages (from aiohttp!=4.0.0a0,!=4.0.0a1->fsspec[http]>=2022.5.0->pytorch-lightning>=1.6.0->pytorch-lifestream) (4.0.3)\n",
      "Downloading hydra_core-1.3.2-py3-none-any.whl (154 kB)\n",
      "\u001B[2K   \u001B[90m━━━━━━━━━━━━━━━━━━━━━━━━━━━━━━━━━━━━━━━━\u001B[0m \u001B[32m154.5/154.5 kB\u001B[0m \u001B[31m13.1 MB/s\u001B[0m eta \u001B[36m0:00:00\u001B[0m\n",
      "\u001B[?25hDownloading omegaconf-2.3.0-py3-none-any.whl (79 kB)\n",
      "\u001B[2K   \u001B[90m━━━━━━━━━━━━━━━━━━━━━━━━━━━━━━━━━━━━━━━━\u001B[0m \u001B[32m79.5/79.5 kB\u001B[0m \u001B[31m6.7 MB/s\u001B[0m eta \u001B[36m0:00:00\u001B[0m\n",
      "\u001B[?25hDownloading pytorch_lightning-2.4.0-py3-none-any.whl (815 kB)\n",
      "\u001B[2K   \u001B[90m━━━━━━━━━━━━━━━━━━━━━━━━━━━━━━━━━━━━━━━━\u001B[0m \u001B[32m815.2/815.2 kB\u001B[0m \u001B[31m49.4 MB/s\u001B[0m eta \u001B[36m0:00:00\u001B[0m\n",
      "\u001B[?25hDownloading torchmetrics-1.4.2-py3-none-any.whl (869 kB)\n",
      "\u001B[2K   \u001B[90m━━━━━━━━━━━━━━━━━━━━━━━━━━━━━━━━━━━━━━━━\u001B[0m \u001B[32m869.2/869.2 kB\u001B[0m \u001B[31m48.0 MB/s\u001B[0m eta \u001B[36m0:00:00\u001B[0m\n",
      "\u001B[?25hDownloading lightning_utilities-0.11.7-py3-none-any.whl (26 kB)\n",
      "Building wheels for collected packages: pytorch-lifestream, antlr4-python3-runtime\n",
      "  Building wheel for pytorch-lifestream (pyproject.toml) ... \u001B[?25l\u001B[?25hdone\n",
      "  Created wheel for pytorch-lifestream: filename=pytorch_lifestream-0.6.0-py3-none-any.whl size=274602 sha256=9b4aba8852f9dde6e2a95b2833848234864a618e8af205853840413d9c9b3bc8\n",
      "  Stored in directory: /root/.cache/pip/wheels/90/76/b4/0a944bc7c5a69201e4d757cc54886971117a2a581740e7f11d\n",
      "  Building wheel for antlr4-python3-runtime (setup.py) ... \u001B[?25l\u001B[?25hdone\n",
      "  Created wheel for antlr4-python3-runtime: filename=antlr4_python3_runtime-4.9.3-py3-none-any.whl size=144554 sha256=54f9e161e4ccffad46a4dfdd216dd1b17e9c4a6c9e635c93894b6a85ce54a5fd\n",
      "  Stored in directory: /root/.cache/pip/wheels/12/93/dd/1f6a127edc45659556564c5730f6d4e300888f4bca2d4c5a88\n",
      "Successfully built pytorch-lifestream antlr4-python3-runtime\n",
      "Installing collected packages: antlr4-python3-runtime, omegaconf, lightning-utilities, hydra-core, torchmetrics, pytorch-lightning, pytorch-lifestream\n",
      "Successfully installed antlr4-python3-runtime-4.9.3 hydra-core-1.3.2 lightning-utilities-0.11.7 omegaconf-2.3.0 pytorch-lifestream-0.6.0 pytorch-lightning-2.4.0 torchmetrics-1.4.2\n",
      "Collecting colorama\n",
      "  Downloading colorama-0.4.6-py2.py3-none-any.whl.metadata (17 kB)\n",
      "Downloading colorama-0.4.6-py2.py3-none-any.whl (25 kB)\n",
      "Installing collected packages: colorama\n",
      "Successfully installed colorama-0.4.6\n"
     ]
    }
   ],
   "source": [
    "import sys\n",
    "if 'google.colab' in str(get_ipython()):\n",
    "    ! {sys.executable} -m pip install pytorch-lifestream\n",
    "    ! {sys.executable} -m pip install colorama"
   ],
   "metadata": {
    "ExecuteTime": {
     "end_time": "2024-09-22T16:14:16.457001400Z",
     "start_time": "2024-09-22T16:14:16.449049300Z"
    },
    "colab": {
     "base_uri": "https://localhost:8080/"
    },
    "id": "1f9cdd31b04f7287",
    "outputId": "e0dce18b-b882-4d3e-9f0f-7091ba188122"
   },
   "id": "1f9cdd31b04f7287",
   "execution_count": 1
  },
  {
   "cell_type": "code",
   "outputs": [],
   "source": [
    "%load_ext autoreload\n",
    "%autoreload 2\n",
    "\n",
    "# import logging\n",
    "import torch\n",
    "import pytorch_lightning as pl\n",
    "import pandas as pd\n",
    "import numpy as np\n",
    "\n",
    "import matplotlib.pyplot as plt\n",
    "import seaborn as sns\n",
    "from colorama import Fore, Style\n",
    "\n",
    "# import warnings\n",
    "# warnings.filterwarnings('ignore')\n",
    "# logging.getLogger(\"pytorch_lightning\").setLevel(logging.ERROR)"
   ],
   "metadata": {
    "id": "3f4e15f46cc875a3",
    "ExecuteTime": {
     "end_time": "2024-09-25T12:14:41.483938500Z",
     "start_time": "2024-09-25T12:14:36.055951300Z"
    }
   },
   "id": "3f4e15f46cc875a3",
   "execution_count": 1
  },
  {
   "cell_type": "markdown",
   "source": [
    "- **Получение общего представления о данных (Пропуски, дубликаты, datatypes)**"
   ],
   "metadata": {
    "collapsed": false,
    "id": "9f30b82214129742"
   },
   "id": "9f30b82214129742"
  },
  {
   "cell_type": "code",
   "outputs": [],
   "source": [
    "data = pd.read_csv(\"../../src/data/Retail_Transaction_Dataset.csv\", sep=',')"
   ],
   "metadata": {
    "ExecuteTime": {
     "end_time": "2024-09-25T07:09:55.812105600Z",
     "start_time": "2024-09-25T07:09:54.682025800Z"
    },
    "id": "c0f9e9e089240eff"
   },
   "id": "c0f9e9e089240eff",
   "execution_count": null
  },
  {
   "cell_type": "code",
   "outputs": [
    {
     "name": "stdout",
     "output_type": "stream",
     "text": [
      "<class 'pandas.core.frame.DataFrame'>\n",
      "RangeIndex: 828328 entries, 0 to 828327\n",
      "Data columns (total 10 columns):\n",
      " #   Column              Non-Null Count   Dtype  \n",
      "---  ------              --------------   -----  \n",
      " 0   CustomerID          828328 non-null  int64  \n",
      " 1   ProductID           828328 non-null  object \n",
      " 2   Quantity            828328 non-null  int64  \n",
      " 3   Price               828328 non-null  float64\n",
      " 4   TransactionDate     828328 non-null  object \n",
      " 5   PaymentMethod       828328 non-null  object \n",
      " 6   StoreLocation       828328 non-null  object \n",
      " 7   ProductCategory     828328 non-null  object \n",
      " 8   DiscountApplied(%)  828328 non-null  float64\n",
      " 9   TotalAmount         828328 non-null  float64\n",
      "dtypes: float64(3), int64(2), object(5)\n",
      "memory usage: 63.2+ MB\n"
     ]
    }
   ],
   "source": [
    "data.info()"
   ],
   "metadata": {
    "ExecuteTime": {
     "end_time": "2024-09-25T07:09:55.959254700Z",
     "start_time": "2024-09-25T07:09:55.814076800Z"
    },
    "id": "3fab0a775e281cd9",
    "outputId": "93f6f1db-3767-4906-bb7e-07f15dcccf97"
   },
   "id": "3fab0a775e281cd9",
   "execution_count": null
  },
  {
   "cell_type": "markdown",
   "source": [
    "**Столбцы:**\n",
    "\n",
    "`CustomerID`: Уникальный идентификатор для каждого клиента.\n",
    "\n",
    "`ProductID`: Идентификатор для каждого ценового сегмента продукта.\n",
    "\n",
    "`Quantity`: Количество единиц, приобретенных для определенного продукта.\n",
    "\n",
    "`Price`: Цена единицы товара.\n",
    "\n",
    "`TransactionDate`: Дата и время, когда произошла транзакция.\n",
    "\n",
    "`PaymentMethod`: Метод, используемый клиентом для совершения платежа.\n",
    "\n",
    "`StoreLocation`: Местоположение, где была совершена транзакция.\n",
    "\n",
    "`ProductCategory`: Категория, к которой относится продукт.\n",
    "\n",
    "`DiscountApplied(%)`: Процент от скидки, применяемой к продукту.\n",
    "\n",
    "`TotalAmount`: Общая сумма, уплаченная за транзакцию."
   ],
   "metadata": {
    "collapsed": false,
    "id": "5d1ce115b0a597d9"
   },
   "id": "5d1ce115b0a597d9"
  },
  {
   "cell_type": "code",
   "outputs": [
    {
     "data": {
      "text/plain": "   CustomerID ProductID  Quantity      Price      TransactionDate  \\\n0      109318         C         7  80.079844  2023-12-26 12:32:00   \n1      993229         C         4  75.195229  2023-08-05 00:00:00   \n2      579675         A         8  31.528816  2024-03-11 18:51:00   \n3      799826         D         5  98.880218  2023-10-27 22:00:00   \n4      121413         A         7  93.188512  2023-12-22 11:38:00   \n\n  PaymentMethod                                      StoreLocation  \\\n0          Cash            176 Andrew Cliffs\\nBaileyfort, HI 93354   \n1          Cash  11635 William Well Suite 809\\nEast Kara, MT 19483   \n2          Cash  910 Mendez Ville Suite 909\\nPort Lauraland, MO...   \n3        PayPal  87522 Sharon Corners Suite 500\\nLake Tammy, MO...   \n4          Cash   0070 Michelle Island Suite 143\\nHoland, VA 80142   \n\n  ProductCategory  DiscountApplied(%)  TotalAmount  \n0           Books           18.677100   455.862764  \n1      Home Decor           14.121365   258.306546  \n2           Books           15.943701   212.015651  \n3           Books            6.686337   461.343769  \n4     Electronics            4.030096   626.030484  ",
      "text/html": "<div>\n<style scoped>\n    .dataframe tbody tr th:only-of-type {\n        vertical-align: middle;\n    }\n\n    .dataframe tbody tr th {\n        vertical-align: top;\n    }\n\n    .dataframe thead th {\n        text-align: right;\n    }\n</style>\n<table border=\"1\" class=\"dataframe\">\n  <thead>\n    <tr style=\"text-align: right;\">\n      <th></th>\n      <th>CustomerID</th>\n      <th>ProductID</th>\n      <th>Quantity</th>\n      <th>Price</th>\n      <th>TransactionDate</th>\n      <th>PaymentMethod</th>\n      <th>StoreLocation</th>\n      <th>ProductCategory</th>\n      <th>DiscountApplied(%)</th>\n      <th>TotalAmount</th>\n    </tr>\n  </thead>\n  <tbody>\n    <tr>\n      <th>0</th>\n      <td>109318</td>\n      <td>C</td>\n      <td>7</td>\n      <td>80.079844</td>\n      <td>2023-12-26 12:32:00</td>\n      <td>Cash</td>\n      <td>176 Andrew Cliffs\\nBaileyfort, HI 93354</td>\n      <td>Books</td>\n      <td>18.677100</td>\n      <td>455.862764</td>\n    </tr>\n    <tr>\n      <th>1</th>\n      <td>993229</td>\n      <td>C</td>\n      <td>4</td>\n      <td>75.195229</td>\n      <td>2023-08-05 00:00:00</td>\n      <td>Cash</td>\n      <td>11635 William Well Suite 809\\nEast Kara, MT 19483</td>\n      <td>Home Decor</td>\n      <td>14.121365</td>\n      <td>258.306546</td>\n    </tr>\n    <tr>\n      <th>2</th>\n      <td>579675</td>\n      <td>A</td>\n      <td>8</td>\n      <td>31.528816</td>\n      <td>2024-03-11 18:51:00</td>\n      <td>Cash</td>\n      <td>910 Mendez Ville Suite 909\\nPort Lauraland, MO...</td>\n      <td>Books</td>\n      <td>15.943701</td>\n      <td>212.015651</td>\n    </tr>\n    <tr>\n      <th>3</th>\n      <td>799826</td>\n      <td>D</td>\n      <td>5</td>\n      <td>98.880218</td>\n      <td>2023-10-27 22:00:00</td>\n      <td>PayPal</td>\n      <td>87522 Sharon Corners Suite 500\\nLake Tammy, MO...</td>\n      <td>Books</td>\n      <td>6.686337</td>\n      <td>461.343769</td>\n    </tr>\n    <tr>\n      <th>4</th>\n      <td>121413</td>\n      <td>A</td>\n      <td>7</td>\n      <td>93.188512</td>\n      <td>2023-12-22 11:38:00</td>\n      <td>Cash</td>\n      <td>0070 Michelle Island Suite 143\\nHoland, VA 80142</td>\n      <td>Electronics</td>\n      <td>4.030096</td>\n      <td>626.030484</td>\n    </tr>\n  </tbody>\n</table>\n</div>"
     },
     "execution_count": 4,
     "metadata": {},
     "output_type": "execute_result"
    }
   ],
   "source": [
    "data.head(5)"
   ],
   "metadata": {
    "ExecuteTime": {
     "end_time": "2024-09-25T07:09:56.718060Z",
     "start_time": "2024-09-25T07:09:56.640036900Z"
    },
    "id": "d70ef17f4eebb4e3",
    "outputId": "0d1a7edc-4e89-4153-e030-d66f2450da00"
   },
   "id": "d70ef17f4eebb4e3",
   "execution_count": null
  },
  {
   "cell_type": "code",
   "outputs": [
    {
     "data": {
      "text/plain": "CustomerID              int64\nProductID              object\nQuantity                int64\nPrice                 float64\nTransactionDate        object\nPaymentMethod          object\nStoreLocation          object\nProductCategory        object\nDiscountApplied(%)    float64\nTotalAmount           float64\ndtype: object"
     },
     "execution_count": 5,
     "metadata": {},
     "output_type": "execute_result"
    }
   ],
   "source": [
    "data.dtypes"
   ],
   "metadata": {
    "ExecuteTime": {
     "end_time": "2024-09-25T07:09:57.436349200Z",
     "start_time": "2024-09-25T07:09:57.368299600Z"
    },
    "id": "b77c15853d287957",
    "outputId": "5d5ebb35-6a96-4bb3-897a-5ac71baf5fc5"
   },
   "id": "b77c15853d287957",
   "execution_count": null
  },
  {
   "cell_type": "code",
   "outputs": [
    {
     "data": {
      "text/plain": "CustomerID            0\nProductID             0\nQuantity              0\nPrice                 0\nTransactionDate       0\nPaymentMethod         0\nStoreLocation         0\nProductCategory       0\nDiscountApplied(%)    0\nTotalAmount           0\ndtype: int64"
     },
     "execution_count": 6,
     "metadata": {},
     "output_type": "execute_result"
    }
   ],
   "source": [
    "data.isna().sum()"
   ],
   "metadata": {
    "ExecuteTime": {
     "end_time": "2024-09-25T07:09:57.756388800Z",
     "start_time": "2024-09-25T07:09:57.619357400Z"
    },
    "id": "c0ca1f453edd08ce",
    "outputId": "a96bf290-deae-4810-b2f9-e40a545a8fa7"
   },
   "id": "c0ca1f453edd08ce",
   "execution_count": null
  },
  {
   "cell_type": "code",
   "outputs": [
    {
     "data": {
      "text/plain": "0    2023-12-26 12:32:00\nName: TransactionDate, dtype: object"
     },
     "execution_count": 7,
     "metadata": {},
     "output_type": "execute_result"
    }
   ],
   "source": [
    "data[\"TransactionDate\"].head(1)"
   ],
   "metadata": {
    "ExecuteTime": {
     "end_time": "2024-09-25T07:09:58.006649200Z",
     "start_time": "2024-09-25T07:09:57.889545700Z"
    },
    "id": "a51191582370ac64",
    "outputId": "f9f13a14-9497-48b3-a52f-9e937b0990e6"
   },
   "id": "a51191582370ac64",
   "execution_count": null
  },
  {
   "cell_type": "markdown",
   "source": [
    "**Исходя из полученной информации можно сделать вывод, что пропусков в данных нет, однако, я заметил, что столбец *`TransactionDate`* имеет некорректный datatype для отображения даты (в виде строки), чтобы избежать ряда проблем (например, при работе с временными интервалами) нужно его преобразовать в тип данных `datetime`**\n"
   ],
   "metadata": {
    "collapsed": false,
    "id": "ff8ee6b8f4ec602b"
   },
   "id": "ff8ee6b8f4ec602b"
  },
  {
   "cell_type": "markdown",
   "source": [
    "- **Преобразуем столбец `TransactionDate` в нужный тип данных:**"
   ],
   "metadata": {
    "collapsed": false,
    "id": "b03ebfb8217785fd"
   },
   "id": "b03ebfb8217785fd"
  },
  {
   "cell_type": "code",
   "outputs": [
    {
     "data": {
      "text/plain": "CustomerID                     int64\nProductID                     object\nQuantity                       int64\nPrice                        float64\nTransactionDate       datetime64[ns]\nPaymentMethod                 object\nStoreLocation                 object\nProductCategory               object\nDiscountApplied(%)           float64\nTotalAmount                  float64\ndtype: object"
     },
     "execution_count": 8,
     "metadata": {},
     "output_type": "execute_result"
    }
   ],
   "source": [
    "data['TransactionDate'] = pd.to_datetime(data['TransactionDate'])\n",
    "\n",
    "data.dtypes"
   ],
   "metadata": {
    "ExecuteTime": {
     "end_time": "2024-09-25T07:09:59.730645100Z",
     "start_time": "2024-09-25T07:09:59.385786200Z"
    },
    "id": "b97b208f17da2515",
    "outputId": "72ebadc7-ca52-402b-e2d7-242f96e76941"
   },
   "id": "b97b208f17da2515",
   "execution_count": null
  },
  {
   "cell_type": "code",
   "outputs": [
    {
     "data": {
      "text/plain": "0   2023-12-26 12:32:00\n1   2023-08-05 00:00:00\n2   2024-03-11 18:51:00\n3   2023-10-27 22:00:00\n4   2023-12-22 11:38:00\nName: TransactionDate, dtype: datetime64[ns]"
     },
     "execution_count": 9,
     "metadata": {},
     "output_type": "execute_result"
    }
   ],
   "source": [
    "data['TransactionDate'].head()"
   ],
   "metadata": {
    "ExecuteTime": {
     "end_time": "2024-09-25T07:10:00.433756100Z",
     "start_time": "2024-09-25T07:10:00.361511300Z"
    },
    "id": "25422c7ad2d3481a",
    "outputId": "dc090fbb-100b-4fa5-dfed-5fbb9a5929c0"
   },
   "id": "25422c7ad2d3481a",
   "execution_count": null
  },
  {
   "cell_type": "markdown",
   "source": [
    "- **Проверим ***наличие дубликатов*** в данных**"
   ],
   "metadata": {
    "collapsed": false,
    "id": "bddcc464140f6820"
   },
   "id": "bddcc464140f6820"
  },
  {
   "cell_type": "code",
   "outputs": [
    {
     "data": {
      "text/plain": "0"
     },
     "execution_count": 10,
     "metadata": {},
     "output_type": "execute_result"
    }
   ],
   "source": [
    "data.duplicated().sum()"
   ],
   "metadata": {
    "ExecuteTime": {
     "end_time": "2024-09-25T07:10:01.738821200Z",
     "start_time": "2024-09-25T07:10:01.186804400Z"
    },
    "id": "3227fd0997ebb29e",
    "outputId": "2196a253-22f5-498f-9bc8-fd0b239ed269"
   },
   "id": "3227fd0997ebb29e",
   "execution_count": null
  },
  {
   "cell_type": "markdown",
   "source": [
    "### **Проведем базовый EDA, чтобы узнать получше о наборе данных**"
   ],
   "metadata": {
    "collapsed": false,
    "id": "c1af0b23ca9c490b"
   },
   "id": "c1af0b23ca9c490b"
  },
  {
   "cell_type": "markdown",
   "source": [
    "**Первоначально проверим согласованность и точность имеющихся данных**\n",
    "\n",
    "Нужно:\n",
    "\n",
    "-  Проверить столбец `TotalAmount` на соответствие формуле рассчета **Quantity * Price * (1 - DiscountApplied/100)**\n",
    "\n",
    "- Проверить аномалии в данных, такие как нулевые или отрицательные значения в столбцах `Quantity` и `Price`\n",
    "\n",
    "- Проверить, что значения в столбце `DiscountApplied(%)` находятся в пределах от 0 до 100\n",
    "\n",
    "- Стандартизировать формат данных в столбце `StoreLocation`"
   ],
   "metadata": {
    "collapsed": false,
    "id": "32a82830707f4247"
   },
   "id": "32a82830707f4247"
  },
  {
   "cell_type": "code",
   "outputs": [
    {
     "name": "stdout",
     "output_type": "stream",
     "text": [
      "Обнаружено \u001B[92m0\u001B[0m расхождений между 'TotalAmount' и рассчитанным значением.\n",
      "\n",
      "Обнаружено \u001B[92m0\u001B[0m аномалий с нулевыми или отрицательными значениями в столбце 'Quantity'.\n",
      "\n",
      "Обнаружено \u001B[92m0\u001B[0m аномалий с нулевыми или отрицательными значениями в столбце 'Price'.\n",
      "\n",
      "Обнаружено \u001B[92m0\u001B[0m аномальных значений в столбце 'DiscountApplied(%)'.\n"
     ]
    }
   ],
   "source": [
    "# 1. Проверка корректности TotalAmount без создания новых столбцов\n",
    "calculated_total = data['Quantity'] * data['Price'] * (1 - data['DiscountApplied(%)'] / 100)\n",
    "\n",
    "discrepancies = data[np.abs(data['TotalAmount'] - calculated_total) > 1e-2]\n",
    "\n",
    "print(f\"Обнаружено {Fore.LIGHTGREEN_EX}{len(discrepancies)}{Style.RESET_ALL} расхождений между 'TotalAmount' и рассчитанным значением.\\n\")\n",
    "\n",
    "# 2. Проверка аномалий в столбцах Quantity и Price\n",
    "quantity_anomalies = data[data['Quantity'] <= 0]\n",
    "price_anomalies = data[data['Price'] <= 0]\n",
    "\n",
    "print(f\"Обнаружено {Fore.LIGHTGREEN_EX}{len(quantity_anomalies)}{Style.RESET_ALL} аномалий с нулевыми или отрицательными значениями в столбце 'Quantity'.\\n\" )\n",
    "\n",
    "print(f\"Обнаружено {Fore.LIGHTGREEN_EX}{len(price_anomalies)}{Style.RESET_ALL} аномалий с нулевыми или отрицательными значениями в столбце 'Price'.\\n\")\n",
    "\n",
    "\n",
    "# 3. Проверка значений в столбце DiscountApplied(%)\n",
    "discount_anomalies = data[(data['DiscountApplied(%)'] < 0) | (data['DiscountApplied(%)'] > 100)]\n",
    "\n",
    "print(f\"Обнаружено {Fore.LIGHTGREEN_EX}{len(discount_anomalies)}{Style.RESET_ALL} аномальных значений в столбце 'DiscountApplied(%)'.\\n\")\n"
   ],
   "metadata": {
    "ExecuteTime": {
     "end_time": "2024-09-25T07:10:02.544487200Z",
     "start_time": "2024-09-25T07:10:02.443422600Z"
    },
    "id": "bdf6325606f4cc69",
    "outputId": "874d5636-37e8-4d9a-9a86-f099640d1629"
   },
   "id": "bdf6325606f4cc69",
   "execution_count": null
  },
  {
   "cell_type": "markdown",
   "source": [
    "#### **Далее, получим несколько содержательных характеристик о нашем датасете**"
   ],
   "metadata": {
    "collapsed": false,
    "id": "3b5acbd3283a86d4"
   },
   "id": "3b5acbd3283a86d4"
  },
  {
   "cell_type": "markdown",
   "source": [
    "- **Кол-во категорий товаров**"
   ],
   "metadata": {
    "collapsed": false,
    "id": "436f31b955dd7344"
   },
   "id": "436f31b955dd7344"
  },
  {
   "cell_type": "code",
   "outputs": [
    {
     "data": {
      "text/plain": "array(['Books', 'Home Decor', 'Electronics', 'Clothing'], dtype=object)"
     },
     "execution_count": 12,
     "metadata": {},
     "output_type": "execute_result"
    }
   ],
   "source": [
    "data.ProductCategory.unique()"
   ],
   "metadata": {
    "ExecuteTime": {
     "end_time": "2024-09-25T07:10:03.972183500Z",
     "start_time": "2024-09-25T07:10:03.877127300Z"
    },
    "id": "bac0a33fa9e9b1ba",
    "outputId": "45a99c03-29e3-4414-d1bc-92529c3577ff"
   },
   "id": "bac0a33fa9e9b1ba",
   "execution_count": null
  },
  {
   "cell_type": "code",
   "outputs": [
    {
     "data": {
      "text/plain": "Text(0.5, 0, 'Частота')"
     },
     "execution_count": 13,
     "metadata": {},
     "output_type": "execute_result"
    },
    {
     "data": {
      "text/plain": "<Figure size 1500x600 with 1 Axes>",
      "image/png": "[encoded data removed]"
     },
     "metadata": {},
     "output_type": "display_data"
    }
   ],
   "source": [
    "product_category_counts = data.ProductCategory.value_counts()\n",
    "\n",
    "plt.figure(figsize=(15,6))\n",
    "ax = sns.barplot(x=product_category_counts.values, y=product_category_counts.index)\n",
    "\n",
    "for i, count in enumerate(product_category_counts.values):\n",
    "    ax.text(count + 0.1, i, str(count), ha='left')\n",
    "\n",
    "\n",
    "plt.title(\"Четыре основных категории товаров\")\n",
    "plt.ylabel(\"Категории\")\n",
    "plt.xlabel(\"Частота\")"
   ],
   "metadata": {
    "ExecuteTime": {
     "end_time": "2024-09-25T07:10:04.766798800Z",
     "start_time": "2024-09-25T07:10:04.532835200Z"
    },
    "id": "e1f4ca79775b8007",
    "outputId": "2d1d8124-baf1-4467-b743-d7a6c4eb0974"
   },
   "id": "e1f4ca79775b8007",
   "execution_count": null
  },
  {
   "cell_type": "markdown",
   "source": [
    "- Наиболее часто покупаемая категория товаров"
   ],
   "metadata": {
    "collapsed": false,
    "id": "1a8acab3d8c46693"
   },
   "id": "1a8acab3d8c46693"
  },
  {
   "cell_type": "code",
   "outputs": [
    {
     "name": "stdout",
     "output_type": "stream",
     "text": [
      "Наиболее часто покупаемая категория товаров: \n",
      "\n",
      "\u001B[34mClothing\u001B[0m (Количество: \u001B[92m207511\u001B[0m)\n"
     ]
    }
   ],
   "source": [
    "product_category_counts = data['ProductCategory'].value_counts()\n",
    "\n",
    "most_common_product_category = product_category_counts.idxmax()\n",
    "most_common_product_category_counts = product_category_counts.max()\n",
    "\n",
    "print(f\"Наиболее часто покупаемая категория товаров: \\n\\n{Fore.BLUE}{most_common_product_category}{Style.RESET_ALL} (Количество: {Fore.LIGHTGREEN_EX}{most_common_product_category_counts}{Style.RESET_ALL})\")"
   ],
   "metadata": {
    "ExecuteTime": {
     "end_time": "2024-09-25T07:10:06.036190900Z",
     "start_time": "2024-09-25T07:10:05.934066800Z"
    },
    "id": "62aab01352d46c5f",
    "outputId": "d961e3ce-236c-4170-c8b8-607d4f838f1b"
   },
   "id": "62aab01352d46c5f",
   "execution_count": null
  },
  {
   "cell_type": "markdown",
   "source": [
    "Как можно заметить, **дисбаланс данных** между категориями товаров **отсутствует**"
   ],
   "metadata": {
    "collapsed": false,
    "id": "9f3e3a18f4a1c96d"
   },
   "id": "9f3e3a18f4a1c96d"
  },
  {
   "cell_type": "markdown",
   "source": [
    "- **Какой способ оплаты является наиболее часто используемым**"
   ],
   "metadata": {
    "collapsed": false,
    "id": "bfc672e2279bbb87"
   },
   "id": "bfc672e2279bbb87"
  },
  {
   "cell_type": "code",
   "outputs": [
    {
     "data": {
      "text/plain": "array(['Cash', 'PayPal', 'Debit Card', 'Credit Card'], dtype=object)"
     },
     "execution_count": 15,
     "metadata": {},
     "output_type": "execute_result"
    }
   ],
   "source": [
    "data.PaymentMethod.unique()"
   ],
   "metadata": {
    "ExecuteTime": {
     "end_time": "2024-09-25T07:10:07.357969700Z",
     "start_time": "2024-09-25T07:10:07.266051Z"
    },
    "id": "319179da1dae99b4",
    "outputId": "0f8616e2-9b87-470b-b8bc-64abbdeb9009"
   },
   "id": "319179da1dae99b4",
   "execution_count": null
  },
  {
   "cell_type": "code",
   "outputs": [
    {
     "data": {
      "text/plain": "Text(0, 0.5, 'Частота')"
     },
     "execution_count": 16,
     "metadata": {},
     "output_type": "execute_result"
    },
    {
     "data": {
      "text/plain": "<Figure size 1200x600 with 1 Axes>",
      "image/png": "[encoded data removed]"
     },
     "metadata": {},
     "output_type": "display_data"
    }
   ],
   "source": [
    "payment_method_counts = data.PaymentMethod.value_counts()\n",
    "\n",
    "plt.figure(figsize=(12, 6))\n",
    "\n",
    "colors = ['red', 'blue', 'green', 'orange']\n",
    "ax = sns.barplot(x=payment_method_counts.index, y=payment_method_counts.values, hue=payment_method_counts.index)\n",
    "\n",
    "plt.title(\"Какой способ оплаты является наиболее часто используемым\")\n",
    "\n",
    "for i, count in enumerate(payment_method_counts.values):\n",
    "    ax.text(i, count + 0.1, str(count), ha='center')\n",
    "\n",
    "plt.xlabel('Способ оплаты')\n",
    "plt.ylabel('Частота')"
   ],
   "metadata": {
    "ExecuteTime": {
     "end_time": "2024-09-25T07:10:08.177515500Z",
     "start_time": "2024-09-25T07:10:07.968705100Z"
    },
    "id": "c359eddaef83b571",
    "outputId": "0ac89f03-1630-4447-d7d3-f2e80376de92"
   },
   "id": "c359eddaef83b571",
   "execution_count": null
  },
  {
   "cell_type": "code",
   "outputs": [
    {
     "name": "stdout",
     "output_type": "stream",
     "text": [
      "Наиболее часто используемый метод оплаты: \n",
      "\n",
      "\u001B[34mPayPal\u001B[0m (Количество: \u001B[92m207237\u001B[0m)\n"
     ]
    }
   ],
   "source": [
    "payment_method_counts = data['PaymentMethod'].value_counts()\n",
    "\n",
    "most_common_payment_method = payment_method_counts.idxmax()\n",
    "most_common_count = payment_method_counts.max()\n",
    "\n",
    "print(f\"Наиболее часто используемый метод оплаты: \\n\\n{Fore.BLUE}{most_common_payment_method}{Style.RESET_ALL} (Количество: {Fore.LIGHTGREEN_EX}{most_common_count}{Style.RESET_ALL})\")"
   ],
   "metadata": {
    "ExecuteTime": {
     "end_time": "2024-09-25T07:10:08.890862900Z",
     "start_time": "2024-09-25T07:10:08.792842100Z"
    },
    "id": "6d3802b5392aeeeb",
    "outputId": "7597e867-d087-4089-d1ae-ac9ab8447593"
   },
   "id": "6d3802b5392aeeeb",
   "execution_count": null
  },
  {
   "cell_type": "markdown",
   "source": [
    "- **Кол-во клиентов, совершивших более одной транзакции**"
   ],
   "metadata": {
    "collapsed": false,
    "id": "387160e202062a"
   },
   "id": "387160e202062a"
  },
  {
   "cell_type": "code",
   "outputs": [
    {
     "name": "stdout",
     "output_type": "stream",
     "text": [
      "Кол-во клиентов, совершивших более одной транзакции: \u001B[92m76175\u001B[0m\n",
      "\n",
      "Всего клиентов: \u001B[97m95215\u001B[0m\n"
     ]
    }
   ],
   "source": [
    "quantity_users = data['CustomerID'].value_counts()[data['CustomerID'].value_counts() > 1].index\n",
    "\n",
    "print(f\"Кол-во клиентов, совершивших более одной транзакции: {Fore.LIGHTGREEN_EX}{len(quantity_users)}{Style.RESET_ALL}\"\n",
    "      f\"\\n\\nВсего клиентов: {Fore.LIGHTWHITE_EX}{len(data['CustomerID'].unique())}{Style.RESET_ALL}\")"
   ],
   "metadata": {
    "ExecuteTime": {
     "end_time": "2024-09-25T07:10:09.475297400Z",
     "start_time": "2024-09-25T07:10:09.368282700Z"
    },
    "id": "c90f806c8a2c06a3",
    "outputId": "e9590521-9885-4d33-d1ee-91857806a0ce"
   },
   "id": "c90f806c8a2c06a3",
   "execution_count": null
  },
  {
   "cell_type": "markdown",
   "source": [
    "- **Какой способ оплаты чаще всего используется для какой категории товаров?**"
   ],
   "metadata": {
    "collapsed": false,
    "id": "5daabeb65e5e7945"
   },
   "id": "5daabeb65e5e7945"
  },
  {
   "cell_type": "code",
   "outputs": [
    {
     "data": {
      "text/plain": "<Figure size 1000x5000 with 0 Axes>"
     },
     "metadata": {},
     "output_type": "display_data"
    },
    {
     "data": {
      "text/plain": "<Figure size 640x480 with 1 Axes>",
      "image/png": "[encoded data removed]"
     },
     "metadata": {},
     "output_type": "display_data"
    }
   ],
   "source": [
    "data_q = data.groupby(['PaymentMethod', 'ProductCategory']).size().unstack(fill_value=0)\n",
    "\n",
    "plt.figure(figsize = (10, 50))\n",
    "data_q.plot(kind='bar', stacked=False)\n",
    "plt.xlabel('Способ оплаты')\n",
    "plt.ylabel('Количество категорий товаров')\n",
    "plt.title('Количество категорий товаров в зависимости от способа оплаты')\n",
    "plt.show()"
   ],
   "metadata": {
    "ExecuteTime": {
     "end_time": "2024-09-25T07:10:10.378990300Z",
     "start_time": "2024-09-25T07:10:10.139327Z"
    },
    "id": "2ada75b59aefaf16",
    "outputId": "3275c19a-6793-4853-89d3-806e08921a91"
   },
   "id": "2ada75b59aefaf16",
   "execution_count": null
  },
  {
   "cell_type": "markdown",
   "source": [
    "Что касается количества категорий товаров в отношении способа оплаты, то здесь также заметить, что **дисбаланс данных отсутствует**"
   ],
   "metadata": {
    "collapsed": false,
    "id": "5744256d848e845e"
   },
   "id": "5744256d848e845e"
  },
  {
   "cell_type": "code",
   "outputs": [
    {
     "data": {
      "text/plain": "ProductCategory  Books  Clothing  Electronics  Home Decor\nPaymentMethod                                            \nCash             51970     51907        51840       51298\nCredit Card      51995     51867        51933       51430\nDebit Card       51735     51787        51431       51898\nPayPal           51791     51950        51796       51700",
      "text/html": "<div>\n<style scoped>\n    .dataframe tbody tr th:only-of-type {\n        vertical-align: middle;\n    }\n\n    .dataframe tbody tr th {\n        vertical-align: top;\n    }\n\n    .dataframe thead th {\n        text-align: right;\n    }\n</style>\n<table border=\"1\" class=\"dataframe\">\n  <thead>\n    <tr style=\"text-align: right;\">\n      <th>ProductCategory</th>\n      <th>Books</th>\n      <th>Clothing</th>\n      <th>Electronics</th>\n      <th>Home Decor</th>\n    </tr>\n    <tr>\n      <th>PaymentMethod</th>\n      <th></th>\n      <th></th>\n      <th></th>\n      <th></th>\n    </tr>\n  </thead>\n  <tbody>\n    <tr>\n      <th>Cash</th>\n      <td>51970</td>\n      <td>51907</td>\n      <td>51840</td>\n      <td>51298</td>\n    </tr>\n    <tr>\n      <th>Credit Card</th>\n      <td>51995</td>\n      <td>51867</td>\n      <td>51933</td>\n      <td>51430</td>\n    </tr>\n    <tr>\n      <th>Debit Card</th>\n      <td>51735</td>\n      <td>51787</td>\n      <td>51431</td>\n      <td>51898</td>\n    </tr>\n    <tr>\n      <th>PayPal</th>\n      <td>51791</td>\n      <td>51950</td>\n      <td>51796</td>\n      <td>51700</td>\n    </tr>\n  </tbody>\n</table>\n</div>"
     },
     "execution_count": 20,
     "metadata": {},
     "output_type": "execute_result"
    }
   ],
   "source": [
    "data_q"
   ],
   "metadata": {
    "ExecuteTime": {
     "end_time": "2024-09-25T07:10:10.999562900Z",
     "start_time": "2024-09-25T07:10:10.922096900Z"
    },
    "id": "2af1e16add23d9f1",
    "outputId": "ea691131-7196-45e1-ee44-ee9a10790d67"
   },
   "id": "2af1e16add23d9f1",
   "execution_count": null
  },
  {
   "cell_type": "code",
   "outputs": [
    {
     "name": "stdout",
     "output_type": "stream",
     "text": [
      "Какой payment method выбирается чаще всего для оплаты n-й категории\n",
      "\n",
      "\u001B[34mCredit Card\u001B[0m: \u001B[97mBooks\u001B[0m, count = \u001B[36m51995\u001B[0m\n",
      "\n",
      "\u001B[34mPayPal\u001B[0m: \u001B[97mClothing\u001B[0m, count = \u001B[36m51950\u001B[0m\n",
      "\n",
      "\u001B[34mCredit Card\u001B[0m: \u001B[97mElectronics\u001B[0m, count = \u001B[36m51933\u001B[0m\n",
      "\n",
      "\u001B[34mDebit Card\u001B[0m: \u001B[97mHome Decor\u001B[0m, count = \u001B[36m51898\u001B[0m\n"
     ]
    }
   ],
   "source": [
    "most_frequent_categories = data_q.idxmax(axis=0)\n",
    "most_frequent_counts = data_q.max(axis=0)\n",
    "\n",
    "print(\"Какой payment method выбирается чаще всего для оплаты n-й категории\\n\")\n",
    "\n",
    "for category in most_frequent_categories.index:\n",
    "    payment_method = most_frequent_categories[category]\n",
    "    count = most_frequent_counts[category]\n",
    "\n",
    "    print(f\"{Fore.BLUE}{payment_method}{Style.RESET_ALL}: {Fore.LIGHTWHITE_EX}{category}{Style.RESET_ALL}, count = {Fore.CYAN}{count}{Style.RESET_ALL}\\n\")"
   ],
   "metadata": {
    "ExecuteTime": {
     "end_time": "2024-09-25T07:10:11.358615100Z",
     "start_time": "2024-09-25T07:10:11.284614800Z"
    },
    "id": "57825a5b25898f6f",
    "outputId": "bf07465f-11cb-48f8-ee73-57320058b3f6"
   },
   "id": "57825a5b25898f6f",
   "execution_count": null
  },
  {
   "cell_type": "code",
   "outputs": [],
   "source": [
    "data_copy = data.copy()"
   ],
   "metadata": {
    "ExecuteTime": {
     "end_time": "2024-09-25T07:10:12.174856900Z",
     "start_time": "2024-09-25T07:10:12.062590400Z"
    },
    "id": "2aa3e756a09d82b8"
   },
   "id": "2aa3e756a09d82b8",
   "execution_count": null
  },
  {
   "cell_type": "markdown",
   "source": [
    "- **Каков процент транзакций, совершенных в 2023 и 2024 годах?**"
   ],
   "metadata": {
    "collapsed": false,
    "id": "725c8b8f0e1b87dd"
   },
   "id": "725c8b8f0e1b87dd"
  },
  {
   "cell_type": "code",
   "outputs": [],
   "source": [
    "data_copy['Month'] = data_copy['TransactionDate'].dt.month\n",
    "data_copy['Year'] = data_copy['TransactionDate'].dt.year"
   ],
   "metadata": {
    "ExecuteTime": {
     "end_time": "2024-09-25T07:10:12.871120700Z",
     "start_time": "2024-09-25T07:10:12.744876Z"
    },
    "id": "126934db221e4851"
   },
   "id": "126934db221e4851",
   "execution_count": null
  },
  {
   "cell_type": "code",
   "outputs": [
    {
     "data": {
      "text/plain": "Year\n2023    [12, 8, 10, 11, 9, 6, 5, 7, 4, 2, 3, 1]\n2024                               [3, 2, 4, 1]\nName: Month, dtype: object"
     },
     "execution_count": 24,
     "metadata": {},
     "output_type": "execute_result"
    }
   ],
   "source": [
    "data_copy.groupby('Year')['Month'].unique()"
   ],
   "metadata": {
    "ExecuteTime": {
     "end_time": "2024-09-25T07:10:13.136471500Z",
     "start_time": "2024-09-25T07:10:13.039196800Z"
    },
    "id": "ac0615bb56cc1787",
    "outputId": "6dc578cb-6592-455d-b50e-35005b7ca683"
   },
   "id": "ac0615bb56cc1787",
   "execution_count": null
  },
  {
   "cell_type": "code",
   "outputs": [
    {
     "data": {
      "text/plain": "<Figure size 640x480 with 1 Axes>",
      "image/png": "[encoded data removed]"
     },
     "metadata": {},
     "output_type": "display_data"
    }
   ],
   "source": [
    "sizes = data_copy.groupby('Year').size()\n",
    "colors = ['#ff9999', '#66b3ff']\n",
    "\n",
    "plt.pie(sizes, autopct='%1.2f%%', startangle=140, colors=colors, wedgeprops=dict(width=0.7))\n",
    "\n",
    "plt.legend(list(key for key in data_copy['Year'].unique()))\n",
    "plt.title('Процент транзакций, совершенных в 2023 и 2024 годах')\n",
    "plt.axis('equal')\n",
    "plt.show()"
   ],
   "metadata": {
    "ExecuteTime": {
     "end_time": "2024-09-25T07:10:13.434470800Z",
     "start_time": "2024-09-25T07:10:13.309470100Z"
    },
    "id": "94655ffb859873e1",
    "outputId": "7b3cab32-b8fb-45ee-bc8f-16429c7ab284"
   },
   "id": "94655ffb859873e1",
   "execution_count": null
  },
  {
   "cell_type": "markdown",
   "source": [
    "**Теперь необходимо получить `статистические характеристики` на наборе данных. НО! Сначала приведем датасет в приемлемый вид**\n",
    "\n",
    "- Для этого реализуем следующий пайплайн:\n",
    "\n",
    "привести имена столбцов в нормальный вид\n",
    "\n",
    "добавим столбец `returning_customer` для обучения классификатора\n",
    "\n",
    "обновим столбец  `store_location`, заменяя коды местоположений на названия регионов\n",
    "\n",
    "округлим значения столбца `price`, `discount_applied` до ближайшего целого числа + пересчитаем общую сумму `total_amount` с учетом округленной скидки\n",
    "\n",
    "создадим новый идентификатор продукта в формате <product_id>-<product_category>\n",
    "\n",
    "Также отсортируем dataframe по столбцу `transaction_date`, чтобы представить записи транзакций в хронологическом порядке\n"
   ],
   "metadata": {
    "collapsed": false,
    "id": "cddf9e6614d6cd59"
   },
   "id": "cddf9e6614d6cd59"
  },
  {
   "cell_type": "code",
   "outputs": [],
   "source": [
    "website_reference = \"https://www.factiva.com/CP_Developer/ProductHelp/FDK/FDK20/registration/shared_code_tables/state_province_table/united_states_state_province_table.htm\""
   ],
   "metadata": {
    "ExecuteTime": {
     "end_time": "2024-09-25T07:10:14.754509Z",
     "start_time": "2024-09-25T07:10:14.690309300Z"
    },
    "id": "cdfead06d3084c10"
   },
   "id": "cdfead06d3084c10",
   "execution_count": null
  },
  {
   "cell_type": "code",
   "outputs": [],
   "source": [
    "import re\n",
    "import pandas_flavor as pf\n",
    "from typing import Union\n",
    "from plotnine import *\n",
    "import janitor\n",
    "import warnings\n",
    "\n",
    "\n",
    "warnings.filterwarnings(\"ignore\", category=UserWarning, message=\"registration of accessor\")\n",
    "\n",
    "\n",
    "__all__ = [\"DataPipeline\"]\n",
    "\n",
    "\n",
    "class DataPipeline:\n",
    "    def __init__(self, input_dataframe):\n",
    "        self.df = input_dataframe\n",
    "\n",
    "\n",
    "    @staticmethod\n",
    "    @pf.register_dataframe_method\n",
    "    def transform_store_location_to_region(input_df):\n",
    "        global website_reference\n",
    "\n",
    "        output_df = input_df.copy()\n",
    "        region_code_df = pd.read_html(website_reference)[-1]\n",
    "        region_code_dict = region_code_df.set_index('Code').to_dict()['State/Province']\n",
    "\n",
    "        def match_and_extract_code(location_string) -> Union[str, float]:\n",
    "            region_pattern = re.compile(r\"(\\s[A-Z]{2}\\s)\")\n",
    "            match_obj = region_pattern.search(location_string)\n",
    "\n",
    "            if match_obj:\n",
    "                _match = match_obj.group(1)\n",
    "                return _match\n",
    "            else:\n",
    "                return np.nan\n",
    "\n",
    "        region_code_series: pd.Series = input_df.store_location\\\n",
    "            .apply(match_and_extract_code)\\\n",
    "            .str.strip()\n",
    "\n",
    "        output_df['store_location'] = region_code_series.map(region_code_dict).fillna('Abroad')\n",
    "\n",
    "        return output_df\n",
    "\n",
    "\n",
    "    @staticmethod\n",
    "    @pf.register_dataframe_method\n",
    "    def clean_discount_feature(input_df) -> pd.DataFrame:\n",
    "        output_df = input_df.copy()\n",
    "        clean_discount: pd.Series = input_df['discount_applied'].round(0)\n",
    "        output_df['discount_applied'] = clean_discount\n",
    "\n",
    "        return output_df\n",
    "\n",
    "\n",
    "    @staticmethod\n",
    "    @pf.register_dataframe_method\n",
    "    def recalculate_discount_and_total_amount(input_df) -> pd.DataFrame:\n",
    "        output_df = input_df.copy()\n",
    "        output_df['price'] = output_df.price.round(2)\n",
    "\n",
    "        prediscount_total = output_df.quantity * output_df.price\n",
    "        discount_rate = output_df['discount_applied'].round(0)\n",
    "        grand_total_amount = prediscount_total - (prediscount_total * (discount_rate / 100))\n",
    "\n",
    "        output_df['total_amount'] = grand_total_amount.round(2)\n",
    "        output_df['discount_applied'] = discount_rate\n",
    "\n",
    "        return output_df\n",
    "\n",
    "\n",
    "    def run(self) -> pd.DataFrame:\n",
    "        output = self.df\\\n",
    "            .reorder_columns(['transaction_date', 'customer_id'])\\\n",
    "            .reset_index(drop=True)\\\n",
    "            .transform_store_location_to_region()\\\n",
    "            .recalculate_discount_and_total_amount()\\\n",
    "\n",
    "        return output"
   ],
   "metadata": {
    "ExecuteTime": {
     "end_time": "2024-09-25T07:10:15.937385600Z",
     "start_time": "2024-09-25T07:10:15.325504800Z"
    },
    "id": "356cf905cdc31b49"
   },
   "id": "356cf905cdc31b49",
   "execution_count": null
  },
  {
   "cell_type": "code",
   "outputs": [
    {
     "data": {
      "text/plain": "        customer_id product_id  quantity      price    transaction_date  \\\n0            109318          C         7  80.079844 2023-12-26 12:32:00   \n1            993229          C         4  75.195229 2023-08-05 00:00:00   \n2            579675          A         8  31.528816 2024-03-11 18:51:00   \n3            799826          D         5  98.880218 2023-10-27 22:00:00   \n4            121413          A         7  93.188512 2023-12-22 11:38:00   \n...             ...        ...       ...        ...                 ...   \n828323       510831          A         8  49.171301 2023-07-23 11:34:46   \n828324       510831          D         8  28.620203 2023-09-28 06:35:05   \n828325        23284          C         3  81.703774 2023-08-05 13:31:37   \n828326        23284          B         4  28.307923 2023-06-03 01:03:16   \n828327        23284          C         1  27.683998 2023-11-12 06:38:20   \n\n       payment_method                                     store_location  \\\n0                Cash            176 Andrew Cliffs\\nBaileyfort, HI 93354   \n1                Cash  11635 William Well Suite 809\\nEast Kara, MT 19483   \n2                Cash  910 Mendez Ville Suite 909\\nPort Lauraland, MO...   \n3              PayPal  87522 Sharon Corners Suite 500\\nLake Tammy, MO...   \n4                Cash   0070 Michelle Island Suite 143\\nHoland, VA 80142   \n...               ...                                                ...   \n828323     Debit Card  072 Herman Mountains Apt. 171\\nNorth Victoria,...   \n828324           Cash  339 Escobar Vista Suite 380\\nPort Cameronville...   \n828325           Cash             291 Maxwell Pines\\nAngelaton, PA 47553   \n828326         PayPal      953 Wilson Walks Apt. 371\\nNew John, MT 72622   \n828327     Debit Card    460 William Run Apt. 821\\nShermanview, UT 05302   \n\n       product_category  discount_applied  total_amount  \n0                 Books         18.677100    455.862764  \n1            Home Decor         14.121365    258.306546  \n2                 Books         15.943701    212.015651  \n3                 Books          6.686337    461.343769  \n4           Electronics          4.030096    626.030484  \n...                 ...               ...           ...  \n828323            Books         22.146133    306.254071  \n828324         Clothing         27.150789    166.796738  \n828325      Electronics          6.689152    228.715453  \n828326      Electronics         18.346694     92.457420  \n828327      Electronics          1.940131     27.146892  \n\n[828328 rows x 10 columns]",
      "text/html": "<div>\n<style scoped>\n    .dataframe tbody tr th:only-of-type {\n        vertical-align: middle;\n    }\n\n    .dataframe tbody tr th {\n        vertical-align: top;\n    }\n\n    .dataframe thead th {\n        text-align: right;\n    }\n</style>\n<table border=\"1\" class=\"dataframe\">\n  <thead>\n    <tr style=\"text-align: right;\">\n      <th></th>\n      <th>customer_id</th>\n      <th>product_id</th>\n      <th>quantity</th>\n      <th>price</th>\n      <th>transaction_date</th>\n      <th>payment_method</th>\n      <th>store_location</th>\n      <th>product_category</th>\n      <th>discount_applied</th>\n      <th>total_amount</th>\n    </tr>\n  </thead>\n  <tbody>\n    <tr>\n      <th>0</th>\n      <td>109318</td>\n      <td>C</td>\n      <td>7</td>\n      <td>80.079844</td>\n      <td>2023-12-26 12:32:00</td>\n      <td>Cash</td>\n      <td>176 Andrew Cliffs\\nBaileyfort, HI 93354</td>\n      <td>Books</td>\n      <td>18.677100</td>\n      <td>455.862764</td>\n    </tr>\n    <tr>\n      <th>1</th>\n      <td>993229</td>\n      <td>C</td>\n      <td>4</td>\n      <td>75.195229</td>\n      <td>2023-08-05 00:00:00</td>\n      <td>Cash</td>\n      <td>11635 William Well Suite 809\\nEast Kara, MT 19483</td>\n      <td>Home Decor</td>\n      <td>14.121365</td>\n      <td>258.306546</td>\n    </tr>\n    <tr>\n      <th>2</th>\n      <td>579675</td>\n      <td>A</td>\n      <td>8</td>\n      <td>31.528816</td>\n      <td>2024-03-11 18:51:00</td>\n      <td>Cash</td>\n      <td>910 Mendez Ville Suite 909\\nPort Lauraland, MO...</td>\n      <td>Books</td>\n      <td>15.943701</td>\n      <td>212.015651</td>\n    </tr>\n    <tr>\n      <th>3</th>\n      <td>799826</td>\n      <td>D</td>\n      <td>5</td>\n      <td>98.880218</td>\n      <td>2023-10-27 22:00:00</td>\n      <td>PayPal</td>\n      <td>87522 Sharon Corners Suite 500\\nLake Tammy, MO...</td>\n      <td>Books</td>\n      <td>6.686337</td>\n      <td>461.343769</td>\n    </tr>\n    <tr>\n      <th>4</th>\n      <td>121413</td>\n      <td>A</td>\n      <td>7</td>\n      <td>93.188512</td>\n      <td>2023-12-22 11:38:00</td>\n      <td>Cash</td>\n      <td>0070 Michelle Island Suite 143\\nHoland, VA 80142</td>\n      <td>Electronics</td>\n      <td>4.030096</td>\n      <td>626.030484</td>\n    </tr>\n    <tr>\n      <th>...</th>\n      <td>...</td>\n      <td>...</td>\n      <td>...</td>\n      <td>...</td>\n      <td>...</td>\n      <td>...</td>\n      <td>...</td>\n      <td>...</td>\n      <td>...</td>\n      <td>...</td>\n    </tr>\n    <tr>\n      <th>828323</th>\n      <td>510831</td>\n      <td>A</td>\n      <td>8</td>\n      <td>49.171301</td>\n      <td>2023-07-23 11:34:46</td>\n      <td>Debit Card</td>\n      <td>072 Herman Mountains Apt. 171\\nNorth Victoria,...</td>\n      <td>Books</td>\n      <td>22.146133</td>\n      <td>306.254071</td>\n    </tr>\n    <tr>\n      <th>828324</th>\n      <td>510831</td>\n      <td>D</td>\n      <td>8</td>\n      <td>28.620203</td>\n      <td>2023-09-28 06:35:05</td>\n      <td>Cash</td>\n      <td>339 Escobar Vista Suite 380\\nPort Cameronville...</td>\n      <td>Clothing</td>\n      <td>27.150789</td>\n      <td>166.796738</td>\n    </tr>\n    <tr>\n      <th>828325</th>\n      <td>23284</td>\n      <td>C</td>\n      <td>3</td>\n      <td>81.703774</td>\n      <td>2023-08-05 13:31:37</td>\n      <td>Cash</td>\n      <td>291 Maxwell Pines\\nAngelaton, PA 47553</td>\n      <td>Electronics</td>\n      <td>6.689152</td>\n      <td>228.715453</td>\n    </tr>\n    <tr>\n      <th>828326</th>\n      <td>23284</td>\n      <td>B</td>\n      <td>4</td>\n      <td>28.307923</td>\n      <td>2023-06-03 01:03:16</td>\n      <td>PayPal</td>\n      <td>953 Wilson Walks Apt. 371\\nNew John, MT 72622</td>\n      <td>Electronics</td>\n      <td>18.346694</td>\n      <td>92.457420</td>\n    </tr>\n    <tr>\n      <th>828327</th>\n      <td>23284</td>\n      <td>C</td>\n      <td>1</td>\n      <td>27.683998</td>\n      <td>2023-11-12 06:38:20</td>\n      <td>Debit Card</td>\n      <td>460 William Run Apt. 821\\nShermanview, UT 05302</td>\n      <td>Electronics</td>\n      <td>1.940131</td>\n      <td>27.146892</td>\n    </tr>\n  </tbody>\n</table>\n<p>828328 rows × 10 columns</p>\n</div>"
     },
     "execution_count": 28,
     "metadata": {},
     "output_type": "execute_result"
    }
   ],
   "source": [
    "data = data.clean_names(strip_underscores=True, remove_special=True, case_type='snake')\n",
    "\n",
    "data"
   ],
   "metadata": {
    "ExecuteTime": {
     "end_time": "2024-09-25T07:10:16.587339400Z",
     "start_time": "2024-09-25T07:10:16.507340100Z"
    },
    "id": "5073665c225d7db2",
    "outputId": "e8027a53-9018-4e7a-b633-fb2fd7499b68"
   },
   "id": "5073665c225d7db2",
   "execution_count": null
  },
  {
   "cell_type": "code",
   "outputs": [
    {
     "data": {
      "text/plain": "          transaction_date  customer_id product_id  quantity  price  \\\n0      2023-12-26 12:32:00       109318          C         7  80.08   \n1      2023-08-05 00:00:00       993229          C         4  75.20   \n2      2024-03-11 18:51:00       579675          A         8  31.53   \n3      2023-10-27 22:00:00       799826          D         5  98.88   \n4      2023-12-22 11:38:00       121413          A         7  93.19   \n...                    ...          ...        ...       ...    ...   \n828323 2023-07-23 11:34:46       510831          A         8  49.17   \n828324 2023-09-28 06:35:05       510831          D         8  28.62   \n828325 2023-08-05 13:31:37        23284          C         3  81.70   \n828326 2023-06-03 01:03:16        23284          B         4  28.31   \n828327 2023-11-12 06:38:20        23284          C         1  27.68   \n\n       payment_method store_location product_category  discount_applied  \\\n0                Cash         Hawaii            Books              19.0   \n1                Cash        Montana       Home Decor              14.0   \n2                Cash       Missouri            Books              16.0   \n3              PayPal       Missouri            Books               7.0   \n4                Cash       Virginia      Electronics               4.0   \n...               ...            ...              ...               ...   \n828323     Debit Card         Abroad            Books              22.0   \n828324           Cash       Arkansas         Clothing              27.0   \n828325           Cash   Pennsylvania      Electronics               7.0   \n828326         PayPal        Montana      Electronics              18.0   \n828327     Debit Card           Utah      Electronics               2.0   \n\n        total_amount  \n0             454.05  \n1             258.69  \n2             211.88  \n3             459.79  \n4             626.24  \n...              ...  \n828323        306.82  \n828324        167.14  \n828325        227.94  \n828326         92.86  \n828327         27.13  \n\n[828328 rows x 10 columns]",
      "text/html": "<div>\n<style scoped>\n    .dataframe tbody tr th:only-of-type {\n        vertical-align: middle;\n    }\n\n    .dataframe tbody tr th {\n        vertical-align: top;\n    }\n\n    .dataframe thead th {\n        text-align: right;\n    }\n</style>\n<table border=\"1\" class=\"dataframe\">\n  <thead>\n    <tr style=\"text-align: right;\">\n      <th></th>\n      <th>transaction_date</th>\n      <th>customer_id</th>\n      <th>product_id</th>\n      <th>quantity</th>\n      <th>price</th>\n      <th>payment_method</th>\n      <th>store_location</th>\n      <th>product_category</th>\n      <th>discount_applied</th>\n      <th>total_amount</th>\n    </tr>\n  </thead>\n  <tbody>\n    <tr>\n      <th>0</th>\n      <td>2023-12-26 12:32:00</td>\n      <td>109318</td>\n      <td>C</td>\n      <td>7</td>\n      <td>80.08</td>\n      <td>Cash</td>\n      <td>Hawaii</td>\n      <td>Books</td>\n      <td>19.0</td>\n      <td>454.05</td>\n    </tr>\n    <tr>\n      <th>1</th>\n      <td>2023-08-05 00:00:00</td>\n      <td>993229</td>\n      <td>C</td>\n      <td>4</td>\n      <td>75.20</td>\n      <td>Cash</td>\n      <td>Montana</td>\n      <td>Home Decor</td>\n      <td>14.0</td>\n      <td>258.69</td>\n    </tr>\n    <tr>\n      <th>2</th>\n      <td>2024-03-11 18:51:00</td>\n      <td>579675</td>\n      <td>A</td>\n      <td>8</td>\n      <td>31.53</td>\n      <td>Cash</td>\n      <td>Missouri</td>\n      <td>Books</td>\n      <td>16.0</td>\n      <td>211.88</td>\n    </tr>\n    <tr>\n      <th>3</th>\n      <td>2023-10-27 22:00:00</td>\n      <td>799826</td>\n      <td>D</td>\n      <td>5</td>\n      <td>98.88</td>\n      <td>PayPal</td>\n      <td>Missouri</td>\n      <td>Books</td>\n      <td>7.0</td>\n      <td>459.79</td>\n    </tr>\n    <tr>\n      <th>4</th>\n      <td>2023-12-22 11:38:00</td>\n      <td>121413</td>\n      <td>A</td>\n      <td>7</td>\n      <td>93.19</td>\n      <td>Cash</td>\n      <td>Virginia</td>\n      <td>Electronics</td>\n      <td>4.0</td>\n      <td>626.24</td>\n    </tr>\n    <tr>\n      <th>...</th>\n      <td>...</td>\n      <td>...</td>\n      <td>...</td>\n      <td>...</td>\n      <td>...</td>\n      <td>...</td>\n      <td>...</td>\n      <td>...</td>\n      <td>...</td>\n      <td>...</td>\n    </tr>\n    <tr>\n      <th>828323</th>\n      <td>2023-07-23 11:34:46</td>\n      <td>510831</td>\n      <td>A</td>\n      <td>8</td>\n      <td>49.17</td>\n      <td>Debit Card</td>\n      <td>Abroad</td>\n      <td>Books</td>\n      <td>22.0</td>\n      <td>306.82</td>\n    </tr>\n    <tr>\n      <th>828324</th>\n      <td>2023-09-28 06:35:05</td>\n      <td>510831</td>\n      <td>D</td>\n      <td>8</td>\n      <td>28.62</td>\n      <td>Cash</td>\n      <td>Arkansas</td>\n      <td>Clothing</td>\n      <td>27.0</td>\n      <td>167.14</td>\n    </tr>\n    <tr>\n      <th>828325</th>\n      <td>2023-08-05 13:31:37</td>\n      <td>23284</td>\n      <td>C</td>\n      <td>3</td>\n      <td>81.70</td>\n      <td>Cash</td>\n      <td>Pennsylvania</td>\n      <td>Electronics</td>\n      <td>7.0</td>\n      <td>227.94</td>\n    </tr>\n    <tr>\n      <th>828326</th>\n      <td>2023-06-03 01:03:16</td>\n      <td>23284</td>\n      <td>B</td>\n      <td>4</td>\n      <td>28.31</td>\n      <td>PayPal</td>\n      <td>Montana</td>\n      <td>Electronics</td>\n      <td>18.0</td>\n      <td>92.86</td>\n    </tr>\n    <tr>\n      <th>828327</th>\n      <td>2023-11-12 06:38:20</td>\n      <td>23284</td>\n      <td>C</td>\n      <td>1</td>\n      <td>27.68</td>\n      <td>Debit Card</td>\n      <td>Utah</td>\n      <td>Electronics</td>\n      <td>2.0</td>\n      <td>27.13</td>\n    </tr>\n  </tbody>\n</table>\n<p>828328 rows × 10 columns</p>\n</div>"
     },
     "execution_count": 29,
     "metadata": {},
     "output_type": "execute_result"
    }
   ],
   "source": [
    "pipe = DataPipeline(data)\n",
    "\n",
    "df = pipe.run()\n",
    "\n",
    "df"
   ],
   "metadata": {
    "ExecuteTime": {
     "end_time": "2024-09-25T07:10:19.439680400Z",
     "start_time": "2024-09-25T07:10:17.695844900Z"
    },
    "id": "bb0fea354f73a167",
    "outputId": "a888ecb3-c0c2-4185-80e2-5c60432bc8f3"
   },
   "id": "bb0fea354f73a167",
   "execution_count": null
  },
  {
   "cell_type": "code",
   "outputs": [
    {
     "data": {
      "text/plain": "transaction_date    0\ncustomer_id         0\nproduct_id          0\nquantity            0\nprice               0\npayment_method      0\nstore_location      0\nproduct_category    0\ndiscount_applied    0\ntotal_amount        0\ndtype: int64"
     },
     "execution_count": 30,
     "metadata": {},
     "output_type": "execute_result"
    }
   ],
   "source": [
    "df.isna().sum()"
   ],
   "metadata": {
    "ExecuteTime": {
     "end_time": "2024-09-25T07:10:20.495505300Z",
     "start_time": "2024-09-25T07:10:20.368056600Z"
    },
    "id": "ad9ab5852376d54b",
    "outputId": "49a5699a-d794-4c72-a395-f4ed99f23a8b"
   },
   "id": "ad9ab5852376d54b",
   "execution_count": null
  },
  {
   "cell_type": "code",
   "outputs": [
    {
     "name": "stdout",
     "output_type": "stream",
     "text": [
      "\u001B[31mДО:\u001B[0m\n"
     ]
    },
    {
     "data": {
      "text/plain": "0               176 Andrew Cliffs\\nBaileyfort, HI 93354\n1     11635 William Well Suite 809\\nEast Kara, MT 19483\n2     910 Mendez Ville Suite 909\\nPort Lauraland, MO...\n3     87522 Sharon Corners Suite 500\\nLake Tammy, MO...\n4      0070 Michelle Island Suite 143\\nHoland, VA 80142\n5      8492 Jonathan Drive\\nNorth Robertshire, TN 67532\n6                            USNV Harrell\\nFPO AA 62814\n7     489 Juan Loop Apt. 093\\nNorth Brettville, WV 7...\n8     528 Justin Expressway Apt. 336\\nCabreraborough...\n9                 189 Wright Mews\\nMartinfurt, MO 75932\n10    388 Matthew Lane Apt. 592\\nWest Andreachester,...\n11                     PSC 1498, Box 4142\\nAPO AP 10928\n12      623 William Track Apt. 920\\nPort Dave, NE 02045\n13    5370 Nichols Fork Suite 983\\nGeorgeshire, MT 2...\n14    1573 Petty Parkway Apt. 835\\nJordanmouth, IN 0...\n15    419 Kerr Passage Apt. 443\\nMartinezfort, MN 45678\n16    1250 Gary Way Apt. 756\\nSouth Thomasport, ND 3...\n17     73061 Larry Pass Apt. 190\\nFischerstad, PW 81056\n18    103 Noah Court Apt. 298\\nSouth Caseymouth, FM ...\n19    44623 Elizabeth Throughway Apt. 440\\nAmberview...\n20                9990 Frank Views\\nDavisstad, MS 73745\n21                12858 Kidd Roads\\nCantuberg, AR 21025\n22    90868 Garcia Bypass Apt. 888\\nNew Joshua, WY 5...\n23    78412 Hernandez Lock Suite 138\\nSouth Lauren, ...\n24        5446 Brooke Row Apt. 988\\nWest Mary, OH 86664\nName: store_location, dtype: object"
     },
     "execution_count": 31,
     "metadata": {},
     "output_type": "execute_result"
    }
   ],
   "source": [
    "print(f\"{Fore.RED}ДО:{Style.RESET_ALL}\")\n",
    "data[\"store_location\"].head(25)"
   ],
   "metadata": {
    "ExecuteTime": {
     "end_time": "2024-09-25T07:10:21.206658Z",
     "start_time": "2024-09-25T07:10:21.110586600Z"
    },
    "id": "b7718cf3308fd6",
    "outputId": "9859aa3b-1aa3-4140-9463-4bfd2b7db543"
   },
   "id": "b7718cf3308fd6",
   "execution_count": null
  },
  {
   "cell_type": "code",
   "outputs": [
    {
     "name": "stdout",
     "output_type": "stream",
     "text": [
      "\u001B[32mПОСЛЕ:\u001B[0m\n"
     ]
    },
    {
     "data": {
      "text/plain": "0            Hawaii\n1           Montana\n2          Missouri\n3          Missouri\n4          Virginia\n5         Tennessee\n6          APO - AA\n7     West Virginia\n8      South Dakota\n9          Missouri\n10          Indiana\n11         APO - AP\n12         Nebraska\n13          Montana\n14          Indiana\n15        Minnesota\n16     North Dakota\n17           Abroad\n18           Abroad\n19         Virginia\n20      Mississippi\n21         Arkansas\n22          Wyoming\n23     Pennsylvania\n24             Ohio\nName: store_location, dtype: object"
     },
     "execution_count": 32,
     "metadata": {},
     "output_type": "execute_result"
    }
   ],
   "source": [
    "print(f\"{Fore.GREEN}ПОСЛЕ:{Style.RESET_ALL}\\n\")\n",
    "df[\"store_location\"].head(25)"
   ],
   "metadata": {
    "ExecuteTime": {
     "end_time": "2024-09-25T07:10:22.305469700Z",
     "start_time": "2024-09-25T07:10:22.226923100Z"
    },
    "id": "7ab3134b72c6c91f",
    "outputId": "70994387-d454-4a66-d55c-b3c54c0b9b6b"
   },
   "id": "7ab3134b72c6c91f",
   "execution_count": null
  },
  {
   "cell_type": "code",
   "outputs": [
    {
     "data": {
      "text/plain": "55"
     },
     "execution_count": 33,
     "metadata": {},
     "output_type": "execute_result"
    }
   ],
   "source": [
    "len(df[\"store_location\"].unique())"
   ],
   "metadata": {
    "ExecuteTime": {
     "end_time": "2024-09-25T07:10:23.036458400Z",
     "start_time": "2024-09-25T07:10:22.938455900Z"
    },
    "id": "1f068202e0bfb708",
    "outputId": "e14e7307-4229-44ac-945b-9ea1312df879"
   },
   "id": "1f068202e0bfb708",
   "execution_count": null
  },
  {
   "cell_type": "code",
   "outputs": [
    {
     "name": "stdout",
     "output_type": "stream",
     "text": [
      "transaction_date    datetime64[ns]\n",
      "customer_id                  int64\n",
      "product_id                  object\n",
      "quantity                     int64\n",
      "price                      float64\n",
      "payment_method              object\n",
      "store_location              object\n",
      "product_category            object\n",
      "discount_applied           float64\n",
      "total_amount               float64\n",
      "dtype: object\n"
     ]
    }
   ],
   "source": [
    "print(df.dtypes)"
   ],
   "metadata": {
    "ExecuteTime": {
     "end_time": "2024-09-25T07:10:23.755483500Z",
     "start_time": "2024-09-25T07:10:23.680489300Z"
    },
    "id": "c8ad25d49cbd2c89",
    "outputId": "848a9c04-c1a2-459b-cd2a-53acfd2df188"
   },
   "id": "c8ad25d49cbd2c89",
   "execution_count": null
  },
  {
   "cell_type": "markdown",
   "source": [
    "В  последствие на данном наборе данных, мы будем обучать random forest сегментации клиентов (лояльные клиенты, чувствительные к скидкам, случайные покупатели)\n",
    "\n",
    "Однако, у нас нет разметки в наших данных под текущую задачу.\n",
    "\n",
    "Чтобы создать свои собственные метки для обучения модели, я воспользуюсь определенными условными конструкциями (поскольку в данной задаче это более простое и интерпретируемое решение) + данная задача не требует использования более изощренных методов (например: использование алгоритмов кластеризации для разделения клиентов на кластеры)\n"
   ],
   "metadata": {
    "collapsed": false,
    "id": "48ab80f1ba209bb4"
   },
   "id": "48ab80f1ba209bb4"
  },
  {
   "cell_type": "markdown",
   "source": [
    "Но! Прежде, чем приступить к решению данной проблемы, важно получить несколько информативных статистических характеристик по данным. Это позволит лучше понять распределение признаков и выявить возможные проблемы"
   ],
   "metadata": {
    "collapsed": false,
    "id": "4c96dfa5553bdd9c"
   },
   "id": "4c96dfa5553bdd9c"
  },
  {
   "cell_type": "markdown",
   "source": [
    "- Корреляция между количественными признаками"
   ],
   "metadata": {
    "collapsed": false,
    "id": "9249048a8ce9ac4c"
   },
   "id": "9249048a8ce9ac4c"
  },
  {
   "cell_type": "code",
   "outputs": [
    {
     "data": {
      "text/plain": "<Figure size 1000x600 with 2 Axes>",
      "image/png": "[encoded data removed]"
     },
     "metadata": {},
     "output_type": "display_data"
    }
   ],
   "source": [
    "correlation_matrix = df[['quantity', 'price', 'discount_applied', 'total_amount']].corr()\n",
    "\n",
    "plt.figure(figsize=(10, 6))\n",
    "sns.heatmap(correlation_matrix, annot=True, cmap='coolwarm', fmt=\".2f\")\n",
    "plt.title('Корреляция между количественными признаками')\n",
    "plt.show()"
   ],
   "metadata": {
    "ExecuteTime": {
     "end_time": "2024-09-25T07:10:25.954790200Z",
     "start_time": "2024-09-25T07:10:25.752519Z"
    },
    "id": "d4c90f009fb9f4fa",
    "outputId": "5329500e-2bca-4722-eca5-9c89eb840c70"
   },
   "id": "d4c90f009fb9f4fa",
   "execution_count": null
  },
  {
   "cell_type": "markdown",
   "source": [
    "- Наиболее значительные корреляции наблюдаются между quantity и total_amount - около 0.69. Это логично, так как общее количество товаров прямо пропорционально влияет на общую сумму заказа/оплаты покупок\n",
    "\n",
    "На самом деле, похоже на мультиколлинеарность (не в \"классическом\" проявлении), но заострять внимание здесь не стоит, так как random Forest, как и другие ансамблевые методы, в меньшей степени страдает от мультиколлинеарности по сравнению с линейными моделями, а мне необходимо использовать именно его.\n",
    "\n",
    "-----\n",
    "\n",
    "- price и total_amount - 0.63. Высокая цена также приводит к увеличению общей суммы\n",
    "\n",
    "- Корреляция между quantity и price равна нулю, что означает, что эти признаки не зависят друг от друга\n",
    "\n",
    "- discount_applied почти не коррелирует с другими признаками, похоже это указывает на то, что скидки применяются независимо от количества или стоимости товаров"
   ],
   "metadata": {
    "collapsed": false,
    "id": "4632770d2453fe08"
   },
   "id": "4632770d2453fe08"
  },
  {
   "cell_type": "markdown",
   "source": [
    "- Распределение количественных признаков"
   ],
   "metadata": {
    "collapsed": false,
    "id": "efbffc63f100d774"
   },
   "id": "efbffc63f100d774"
  },
  {
   "cell_type": "code",
   "outputs": [
    {
     "data": {
      "text/plain": "<Figure size 1500x1000 with 4 Axes>",
      "image/png": "[encoded data removed]"
     },
     "metadata": {},
     "output_type": "display_data"
    }
   ],
   "source": [
    "numerical_columns = ['quantity', 'price', 'discount_applied', 'total_amount']\n",
    "\n",
    "plt.figure(figsize=(15, 10))\n",
    "for i, col in enumerate(numerical_columns, 1):\n",
    "    plt.subplot(2, 2, i)\n",
    "    sns.histplot(df[col], kde=True, bins=30)\n",
    "    plt.title(f'Распределение {col}')\n",
    "plt.tight_layout()\n",
    "plt.show()\n"
   ],
   "metadata": {
    "ExecuteTime": {
     "end_time": "2024-09-25T07:10:49.451042500Z",
     "start_time": "2024-09-25T07:10:29.431531300Z"
    },
    "id": "1bafa10f1b8f7f87",
    "outputId": "78cfb8ec-d979-4c12-8053-2609f10bd02d"
   },
   "id": "1bafa10f1b8f7f87",
   "execution_count": null
  },
  {
   "cell_type": "markdown",
   "source": [
    "- quantity выглядит цикличным, с пиками на каждом значении от 1 до 9. Наверное, это связано с тем, что количество продуктов ограничено фиксированным кол-во значений\n",
    "- price более-менее равномерное, с небольшими спадами на крайних значениях (около 20 и 100)\n",
    "- в discount_applied  распределение почти равномерное, но справа после небольшого спада наблюдается резкий рост транзакций с максимальной скидкой (около 30%). Возможно, это специфическая маркетинговая кампания или акционные товары, на которые распространяется максимальная скидка.\n",
    "- в total_amount явное смещение распределения в сторону меньших значений.  Большинство покупок имеют небольшую общую сумму, и лишь небольшое число покупок выходит за пределы 400-500"
   ],
   "metadata": {
    "collapsed": false,
    "id": "59dd52b9835fbeba"
   },
   "id": "59dd52b9835fbeba"
  },
  {
   "cell_type": "markdown",
   "source": [
    "- Сравнение средних и медианных значений"
   ],
   "metadata": {
    "collapsed": false,
    "id": "e928b36e57dc7901"
   },
   "id": "e928b36e57dc7901"
  },
  {
   "cell_type": "code",
   "outputs": [
    {
     "data": {
      "text/plain": "                        mean  median         std     iqr  skewness  kurtosis\nquantity            5.006011    5.00    2.580156    4.00 -0.003552 -1.228054\nprice              55.009301   55.04   25.984409   44.98 -0.001116 -1.199349\ndiscount_applied   14.402013   14.00    8.534172   14.00  0.088675 -1.138434\ntotal_amount      235.792745  189.39  176.948789  252.92  0.938937  0.206329",
      "text/html": "<div>\n<style scoped>\n    .dataframe tbody tr th:only-of-type {\n        vertical-align: middle;\n    }\n\n    .dataframe tbody tr th {\n        vertical-align: top;\n    }\n\n    .dataframe thead th {\n        text-align: right;\n    }\n</style>\n<table border=\"1\" class=\"dataframe\">\n  <thead>\n    <tr style=\"text-align: right;\">\n      <th></th>\n      <th>mean</th>\n      <th>median</th>\n      <th>std</th>\n      <th>iqr</th>\n      <th>skewness</th>\n      <th>kurtosis</th>\n    </tr>\n  </thead>\n  <tbody>\n    <tr>\n      <th>quantity</th>\n      <td>5.006011</td>\n      <td>5.00</td>\n      <td>2.580156</td>\n      <td>4.00</td>\n      <td>-0.003552</td>\n      <td>-1.228054</td>\n    </tr>\n    <tr>\n      <th>price</th>\n      <td>55.009301</td>\n      <td>55.04</td>\n      <td>25.984409</td>\n      <td>44.98</td>\n      <td>-0.001116</td>\n      <td>-1.199349</td>\n    </tr>\n    <tr>\n      <th>discount_applied</th>\n      <td>14.402013</td>\n      <td>14.00</td>\n      <td>8.534172</td>\n      <td>14.00</td>\n      <td>0.088675</td>\n      <td>-1.138434</td>\n    </tr>\n    <tr>\n      <th>total_amount</th>\n      <td>235.792745</td>\n      <td>189.39</td>\n      <td>176.948789</td>\n      <td>252.92</td>\n      <td>0.938937</td>\n      <td>0.206329</td>\n    </tr>\n  </tbody>\n</table>\n</div>"
     },
     "execution_count": 37,
     "metadata": {},
     "output_type": "execute_result"
    }
   ],
   "source": [
    "statistics_summary = df[numerical_columns].describe().T\n",
    "statistics_summary['median'] = df[numerical_columns].median()\n",
    "statistics_summary['iqr'] = df[numerical_columns].quantile(0.75) - df[numerical_columns].quantile(0.25)\n",
    "statistics_summary['skewness'] = df[numerical_columns].skew()\n",
    "statistics_summary['kurtosis'] = df[numerical_columns].kurtosis()\n",
    "\n",
    "statistics_summary[['mean', 'median', 'std', 'iqr', 'skewness', 'kurtosis']]"
   ],
   "metadata": {
    "ExecuteTime": {
     "end_time": "2024-09-25T07:10:58.399020Z",
     "start_time": "2024-09-25T07:10:58.029874200Z"
    },
    "id": "246f555ad4794a94",
    "outputId": "601bfc0a-af24-4b99-c833-2511f4adc07f"
   },
   "id": "246f555ad4794a94",
   "execution_count": null
  },
  {
   "cell_type": "markdown",
   "source": [
    "- среднее и медиана практически совпадают для quantity, price, и discount_applied, похоже распределение этих признаков симметрично\n",
    "- у total_amount среднее значительно выше медианы, что похоже на правую-положительную скошенность\n",
    "- скошенность у quantity, price, и discount_applied близка к нулю, это говорит о симметричном распределении\n",
    "- total_amount имеет положительную скошенность, что указывает на присутствие нескольких очень высоких значений"
   ],
   "metadata": {
    "collapsed": false,
    "id": "b4d2a3a99df54334"
   },
   "id": "b4d2a3a99df54334"
  },
  {
   "cell_type": "markdown",
   "source": [
    "- Топ-10 клиентов с наибольшим числом транзакций"
   ],
   "metadata": {
    "collapsed": false,
    "id": "70a956aa258ae933"
   },
   "id": "70a956aa258ae933"
  },
  {
   "cell_type": "code",
   "outputs": [
    {
     "data": {
      "text/plain": "<Figure size 1000x600 with 1 Axes>",
      "image/png": "[encoded data removed]"
     },
     "metadata": {},
     "output_type": "display_data"
    }
   ],
   "source": [
    "top_customers = df['customer_id'].value_counts().nlargest(10)\n",
    "\n",
    "plt.figure(figsize=(10, 6))\n",
    "sns.barplot(x=top_customers.index, y=top_customers.values)\n",
    "plt.xlabel('customer_id')\n",
    "plt.ylabel('Кол-во транзакций')\n",
    "plt.title('Топ-10 клиентов с наибольшим числом транзакций')\n",
    "plt.show()\n"
   ],
   "metadata": {
    "ExecuteTime": {
     "end_time": "2024-09-25T07:11:00.201924200Z",
     "start_time": "2024-09-25T07:11:00.023123700Z"
    },
    "id": "2ed4cab7553c249b",
    "outputId": "5cb72d25-56f2-47eb-ee4d-bf9649f84aa8"
   },
   "id": "2ed4cab7553c249b",
   "execution_count": null
  },
  {
   "cell_type": "markdown",
   "source": [
    "- **Энкодинг категориальных переменных**\n",
    "\n",
    "Исходя из того, что для последующего препроцессинга данных мы будем использовать библиотеку PTLS, самостоятельный энкодинг категориальных признаков не требуется, так как он будет выполнен при создании препроцессора (частотный энкодинг)"
   ],
   "metadata": {
    "collapsed": false,
    "id": "c9efdb22e983b4f1"
   },
   "id": "c9efdb22e983b4f1"
  },
  {
   "cell_type": "markdown",
   "source": [
    "- **Также преобразуем дату transaction_date в просто номер дня в хронологическом порядке, начиная от заданной даты**\n",
    "\n",
    "Поскольку это полезно для упрощения обработки данных, в данной задачи точное время суток не так важно. Поэтому достаточно только относительного порядка между событиями.\n",
    "\n",
    "- тем более это необходимо для совместимости с препроцессором PandasDataPreprocessor, который ожидает в качестве времени события числовое значение\n"
   ],
   "metadata": {
    "collapsed": false,
    "id": "785df734977ecb2"
   },
   "id": "785df734977ecb2"
  },
  {
   "cell_type": "code",
   "outputs": [
    {
     "data": {
      "text/plain": "Timestamp('2023-01-01 00:00:49')"
     },
     "execution_count": 39,
     "metadata": {},
     "output_type": "execute_result"
    }
   ],
   "source": [
    "df['transaction_date'].min()"
   ],
   "metadata": {
    "ExecuteTime": {
     "end_time": "2024-09-25T07:11:01.407230200Z",
     "start_time": "2024-09-25T07:11:01.306231800Z"
    },
    "id": "3ca9671fea984163",
    "outputId": "759b9dd4-a8c2-49e4-926b-1312ad30e6ee"
   },
   "id": "3ca9671fea984163",
   "execution_count": null
  },
  {
   "cell_type": "code",
   "outputs": [],
   "source": [
    "start_date = np.datetime64('2023-01-01 00:00:49')\n",
    "\n",
    "df['transaction_date'] = pd.to_datetime(df['transaction_date'])\n",
    "df['transaction_date'] = (df['transaction_date'] - start_date).dt.days"
   ],
   "metadata": {
    "ExecuteTime": {
     "end_time": "2024-09-25T07:11:02.063398100Z",
     "start_time": "2024-09-25T07:11:01.954398Z"
    },
    "id": "6bb919944ce42592"
   },
   "id": "6bb919944ce42592",
   "execution_count": null
  },
  {
   "cell_type": "code",
   "outputs": [
    {
     "data": {
      "text/plain": "Index(['transaction_date', 'customer_id', 'product_id', 'quantity', 'price',\n       'payment_method', 'store_location', 'product_category',\n       'discount_applied', 'total_amount'],\n      dtype='object')"
     },
     "execution_count": 41,
     "metadata": {},
     "output_type": "execute_result"
    }
   ],
   "source": [
    "df.columns"
   ],
   "metadata": {
    "ExecuteTime": {
     "end_time": "2024-09-25T07:11:02.936152800Z",
     "start_time": "2024-09-25T07:11:02.861152500Z"
    },
    "id": "99d58faa507dc09d",
    "outputId": "e63f728d-3778-40bc-ab58-17983226f306"
   },
   "id": "99d58faa507dc09d",
   "execution_count": null
  },
  {
   "cell_type": "markdown",
   "source": [
    "- **Отбрасывание лишних столбцов:**\n",
    "\n",
    "Для сегментации клиентов на \"Лояльные клиенты\", \"Чувствительные к скидкам\", \"Обычные клиенты\" нужно выбрать признаки, которые помогут различить клиентов по их поведению и предпочтениям.\n",
    "\n",
    "Хотя Random Forest и справляется с большим количеством признаков и шумом, так как он строит множество деревьев и использует случайный подвыбор признаков при построении каждого дерева. Все же явно лишние признаки лучше отбросить, поскольку это может привести, к тому что:\n",
    "\n",
    "лишние данные будут создавать избыточность и шум, это также может привести к переобучению модели на случайные шумовые паттерны и тд"
   ],
   "metadata": {
    "collapsed": false,
    "id": "16082a89afc3c9f8"
   },
   "id": "16082a89afc3c9f8"
  },
  {
   "cell_type": "code",
   "outputs": [
    {
     "data": {
      "text/plain": "        transaction_date  customer_id  quantity  price product_category  \\\n0                    359       109318         7  80.08            Books   \n1                    215       993229         4  75.20       Home Decor   \n2                    435       579675         8  31.53            Books   \n3                    299       799826         5  98.88            Books   \n4                    355       121413         7  93.19      Electronics   \n...                  ...          ...       ...    ...              ...   \n828323               203       510831         8  49.17            Books   \n828324               270       510831         8  28.62         Clothing   \n828325               216        23284         3  81.70      Electronics   \n828326               153        23284         4  28.31      Electronics   \n828327               315        23284         1  27.68      Electronics   \n\n        discount_applied  total_amount  \n0                   19.0        454.05  \n1                   14.0        258.69  \n2                   16.0        211.88  \n3                    7.0        459.79  \n4                    4.0        626.24  \n...                  ...           ...  \n828323              22.0        306.82  \n828324              27.0        167.14  \n828325               7.0        227.94  \n828326              18.0         92.86  \n828327               2.0         27.13  \n\n[828328 rows x 7 columns]",
      "text/html": "<div>\n<style scoped>\n    .dataframe tbody tr th:only-of-type {\n        vertical-align: middle;\n    }\n\n    .dataframe tbody tr th {\n        vertical-align: top;\n    }\n\n    .dataframe thead th {\n        text-align: right;\n    }\n</style>\n<table border=\"1\" class=\"dataframe\">\n  <thead>\n    <tr style=\"text-align: right;\">\n      <th></th>\n      <th>transaction_date</th>\n      <th>customer_id</th>\n      <th>quantity</th>\n      <th>price</th>\n      <th>product_category</th>\n      <th>discount_applied</th>\n      <th>total_amount</th>\n    </tr>\n  </thead>\n  <tbody>\n    <tr>\n      <th>0</th>\n      <td>359</td>\n      <td>109318</td>\n      <td>7</td>\n      <td>80.08</td>\n      <td>Books</td>\n      <td>19.0</td>\n      <td>454.05</td>\n    </tr>\n    <tr>\n      <th>1</th>\n      <td>215</td>\n      <td>993229</td>\n      <td>4</td>\n      <td>75.20</td>\n      <td>Home Decor</td>\n      <td>14.0</td>\n      <td>258.69</td>\n    </tr>\n    <tr>\n      <th>2</th>\n      <td>435</td>\n      <td>579675</td>\n      <td>8</td>\n      <td>31.53</td>\n      <td>Books</td>\n      <td>16.0</td>\n      <td>211.88</td>\n    </tr>\n    <tr>\n      <th>3</th>\n      <td>299</td>\n      <td>799826</td>\n      <td>5</td>\n      <td>98.88</td>\n      <td>Books</td>\n      <td>7.0</td>\n      <td>459.79</td>\n    </tr>\n    <tr>\n      <th>4</th>\n      <td>355</td>\n      <td>121413</td>\n      <td>7</td>\n      <td>93.19</td>\n      <td>Electronics</td>\n      <td>4.0</td>\n      <td>626.24</td>\n    </tr>\n    <tr>\n      <th>...</th>\n      <td>...</td>\n      <td>...</td>\n      <td>...</td>\n      <td>...</td>\n      <td>...</td>\n      <td>...</td>\n      <td>...</td>\n    </tr>\n    <tr>\n      <th>828323</th>\n      <td>203</td>\n      <td>510831</td>\n      <td>8</td>\n      <td>49.17</td>\n      <td>Books</td>\n      <td>22.0</td>\n      <td>306.82</td>\n    </tr>\n    <tr>\n      <th>828324</th>\n      <td>270</td>\n      <td>510831</td>\n      <td>8</td>\n      <td>28.62</td>\n      <td>Clothing</td>\n      <td>27.0</td>\n      <td>167.14</td>\n    </tr>\n    <tr>\n      <th>828325</th>\n      <td>216</td>\n      <td>23284</td>\n      <td>3</td>\n      <td>81.70</td>\n      <td>Electronics</td>\n      <td>7.0</td>\n      <td>227.94</td>\n    </tr>\n    <tr>\n      <th>828326</th>\n      <td>153</td>\n      <td>23284</td>\n      <td>4</td>\n      <td>28.31</td>\n      <td>Electronics</td>\n      <td>18.0</td>\n      <td>92.86</td>\n    </tr>\n    <tr>\n      <th>828327</th>\n      <td>315</td>\n      <td>23284</td>\n      <td>1</td>\n      <td>27.68</td>\n      <td>Electronics</td>\n      <td>2.0</td>\n      <td>27.13</td>\n    </tr>\n  </tbody>\n</table>\n<p>828328 rows × 7 columns</p>\n</div>"
     },
     "execution_count": 42,
     "metadata": {},
     "output_type": "execute_result"
    }
   ],
   "source": [
    "df = df.drop(['product_id', 'store_location', 'payment_method'], axis=1)\n",
    "\n",
    "df"
   ],
   "metadata": {
    "ExecuteTime": {
     "end_time": "2024-09-25T07:11:04.804374600Z",
     "start_time": "2024-09-25T07:11:04.701274800Z"
    },
    "id": "194065de8fb02bb0",
    "outputId": "d44c7a0e-52bf-4966-925b-7719fe693a72"
   },
   "id": "194065de8fb02bb0",
   "execution_count": null
  },
  {
   "cell_type": "code",
   "outputs": [],
   "source": [
    "df.to_csv('../../src/data/custom_RetailTransaction_dataset.csv', index=False)"
   ],
   "metadata": {
    "ExecuteTime": {
     "end_time": "2024-09-25T07:11:06.835217600Z",
     "start_time": "2024-09-25T07:11:05.468180Z"
    },
    "id": "bf5a37e22d8838bd"
   },
   "id": "bf5a37e22d8838bd",
   "execution_count": null
  },
  {
   "cell_type": "code",
   "outputs": [],
   "source": [
    "df = pd.read_csv(\"../../src/data/custom_RetailTransaction_dataset.csv\", sep=',')"
   ],
   "metadata": {
    "id": "5fdc561d730bca86",
    "ExecuteTime": {
     "end_time": "2024-09-25T12:15:04.716449400Z",
     "start_time": "2024-09-25T12:15:04.312529300Z"
    }
   },
   "id": "5fdc561d730bca86",
   "execution_count": 3
  },
  {
   "cell_type": "code",
   "outputs": [
    {
     "output_type": "stream",
     "name": "stdout",
     "text": [
      "<class 'pandas.core.frame.DataFrame'>\n",
      "RangeIndex: 828328 entries, 0 to 828327\n",
      "Data columns (total 7 columns):\n",
      " #   Column            Non-Null Count   Dtype  \n",
      "---  ------            --------------   -----  \n",
      " 0   transaction_date  828328 non-null  int64  \n",
      " 1   customer_id       828328 non-null  int64  \n",
      " 2   quantity          828328 non-null  int64  \n",
      " 3   price             828328 non-null  float64\n",
      " 4   product_category  828328 non-null  object \n",
      " 5   discount_applied  828328 non-null  float64\n",
      " 6   total_amount      828328 non-null  float64\n",
      "dtypes: float64(3), int64(3), object(1)\n",
      "memory usage: 44.2+ MB\n"
     ]
    }
   ],
   "source": [
    "df.info()"
   ],
   "metadata": {
    "ExecuteTime": {
     "end_time": "2024-09-25T07:11:12.318172300Z",
     "start_time": "2024-09-25T07:11:12.217172800Z"
    },
    "colab": {
     "base_uri": "https://localhost:8080/"
    },
    "id": "e8b4ac23a12821d3",
    "outputId": "c2c9f642-030b-4f89-dee3-30d6909442af"
   },
   "id": "e8b4ac23a12821d3",
   "execution_count": 4
  },
  {
   "cell_type": "markdown",
   "source": [
    "- **Разметка датасета:**\n",
    "\n",
    "Теперь можно приступить к созданию собственных меток (клиент: loyal (2), bargain hunter (1), обычный (0)), сохранив их потом в отдельном таргет csv файле в формате:\n",
    "\n",
    "`customer_id`: `target`\n"
   ],
   "metadata": {
    "collapsed": false,
    "id": "1b41ba331e1866ca"
   },
   "id": "1b41ba331e1866ca"
  },
  {
   "cell_type": "markdown",
   "source": [
    "условные конструкции для присваивания меток:\n"
   ],
   "metadata": {
    "collapsed": false,
    "id": "539cfad509011b12"
   },
   "id": "539cfad509011b12"
  },
  {
   "cell_type": "code",
   "outputs": [],
   "source": [
    "customer_summary = df.groupby('customer_id').agg(\n",
    "    total_quantity=('quantity', 'sum'),\n",
    "    total_spent=('total_amount', 'sum'),\n",
    "    discount_used=('discount_applied', 'mean'),\n",
    "    num_transactions=('transaction_date', 'count')\n",
    ").reset_index()\n",
    "\n",
    "# mean\n",
    "mean_spent = customer_summary['total_spent'].mean()\n",
    "mean_quantity = customer_summary['total_quantity'].mean()\n",
    "mean_discount = customer_summary['discount_used'].mean()\n",
    "mean_transactions = customer_summary['num_transactions'].mean()"
   ],
   "metadata": {
    "ExecuteTime": {
     "end_time": "2024-09-25T07:11:14.831171400Z",
     "start_time": "2024-09-25T07:11:14.703333800Z"
    },
    "id": "1a8af11c3b623104"
   },
   "id": "1a8af11c3b623104",
   "execution_count": null
  },
  {
   "cell_type": "code",
   "outputs": [],
   "source": [
    "def assign_label(row):\n",
    "    if row['num_transactions'] > mean_transactions and row['total_spent'] > mean_spent and row['discount_used'] < mean_discount:\n",
    "        return 2  # Loyal\n",
    "    elif row['discount_used'] > mean_discount and row['total_spent'] <= mean_spent:\n",
    "        return 1  # Bargain hunters\n",
    "    else:\n",
    "        return 0  # Regular"
   ],
   "metadata": {
    "ExecuteTime": {
     "end_time": "2024-09-25T07:11:15.737652900Z",
     "start_time": "2024-09-25T07:11:15.662652500Z"
    },
    "id": "baad1105958246d6"
   },
   "id": "baad1105958246d6",
   "execution_count": null
  },
  {
   "cell_type": "code",
   "outputs": [
    {
     "name": "stdout",
     "output_type": "stream",
     "text": [
      "Таргетные метки успешно созданы и сохранены!\n"
     ]
    }
   ],
   "source": [
    "customer_summary['target'] = customer_summary.apply(assign_label, axis=1)\n",
    "\n",
    "target_df = customer_summary[['customer_id', 'target']]\n",
    "target_df.to_csv(\"../../src/data/target_TransactionRetail.csv\", index=False)\n",
    "\n",
    "print(\"Таргетные метки успешно созданы и сохранены!\")"
   ],
   "metadata": {
    "ExecuteTime": {
     "end_time": "2024-09-25T07:11:17.765456Z",
     "start_time": "2024-09-25T07:11:17.008504800Z"
    },
    "id": "e8c45552553123ef",
    "outputId": "6c0195e9-498f-4d36-d4ee-f3ab5bf39fcd"
   },
   "id": "e8c45552553123ef",
   "execution_count": null
  },
  {
   "cell_type": "markdown",
   "source": [
    "- **Проверим на дисбаланс по соотношению каждой из меток"
   ],
   "metadata": {
    "collapsed": false,
    "id": "20f895b6e8a3b020"
   },
   "id": "20f895b6e8a3b020"
  },
  {
   "cell_type": "code",
   "outputs": [],
   "source": [
    "test = pd.read_csv(\"../../src/data/target_TransactionRetail.csv\", sep=',')"
   ],
   "metadata": {
    "ExecuteTime": {
     "end_time": "2024-09-25T07:11:19.305809900Z",
     "start_time": "2024-09-25T07:11:19.216338100Z"
    },
    "id": "dcc769a19ad24cc1"
   },
   "id": "dcc769a19ad24cc1",
   "execution_count": null
  },
  {
   "cell_type": "code",
   "outputs": [
    {
     "name": "stdout",
     "output_type": "stream",
     "text": [
      "Количество каждой метки:\n",
      "target\n",
      "0    55698\n",
      "1    27606\n",
      "2    11911\n",
      "Name: count, dtype: int64\n",
      "\n",
      "Процентное соотношение каждой метки:\n",
      "target\n",
      "0    58.497086\n",
      "1    28.993331\n",
      "2    12.509584\n",
      "Name: proportion, dtype: float64\n"
     ]
    }
   ],
   "source": [
    "label_counts = test['target'].value_counts()\n",
    "label_percentages = test['target'].value_counts(normalize=True) * 100\n",
    "\n",
    "\n",
    "print(\"Количество каждой метки:\")\n",
    "print(label_counts)\n",
    "print(\"\\nПроцентное соотношение каждой метки:\")\n",
    "print(label_percentages)\n"
   ],
   "metadata": {
    "ExecuteTime": {
     "end_time": "2024-09-25T07:11:25.520661700Z",
     "start_time": "2024-09-25T07:11:25.451679700Z"
    },
    "id": "3b4aecb53a4e53a4",
    "outputId": "225c4391-d3ce-4c38-e6bb-590f138e2f03"
   },
   "id": "3b4aecb53a4e53a4",
   "execution_count": null
  },
  {
   "cell_type": "code",
   "outputs": [
    {
     "data": {
      "text/plain": "<Figure size 800x600 with 1 Axes>",
      "image/png": "[encoded data removed]"
     },
     "metadata": {},
     "output_type": "display_data"
    }
   ],
   "source": [
    "import matplotlib.pyplot as plt\n",
    "\n",
    "plt.figure(figsize=(8, 6))\n",
    "plt.bar(label_counts.index, label_counts.values, color=['skyblue', 'orange', 'green'])\n",
    "plt.xticks(label_counts.index, ['Regular customers (0)', 'Bargain hunters (1)', 'Loyal customers (2)'])\n",
    "plt.ylabel('Количество клиентов')\n",
    "plt.title('Распределение меток клиентов')\n",
    "plt.show()"
   ],
   "metadata": {
    "ExecuteTime": {
     "end_time": "2024-09-25T07:11:28.022685500Z",
     "start_time": "2024-09-25T07:11:27.859530600Z"
    },
    "id": "f6b91ba67815d3fa",
    "outputId": "39443dc6-0edd-466a-d938-fe6a06a01a3b"
   },
   "id": "f6b91ba67815d3fa",
   "execution_count": null
  },
  {
   "cell_type": "markdown",
   "source": [
    "Да, в данной ситуации наблюдается дисбаланс данных между классами, необходимо принять меры, поскольку дисбаланс в данных может повлиять на качество обучение модели (смещение в сторону доминирующего класса), особенно если модель чувствительна к различиям в количестве образцов для каждого класса.\n",
    "\n",
    "- Но в целом, распределение классов лучше сбалансировано, чем в большинстве реальных задач, но дисбаланс все же виден достаточно явно\n",
    "\n",
    "-----\n",
    "\n",
    "Для эффективной борьбы с дисбалансом классов, я думаю воспользоваться методом взвешивания классов class weight (более сильные штрафы за ошибки в классе-меньшинстве) и возможно протестировать кросс-валидацию с учетом стратификации, и вот почему:\n",
    "\n",
    "- `Undersampling` может привести к потере важных данных, что плохо отразится на обобщающей способности модели в контексте моей задачи.\n",
    "\n",
    "- `Oversampling` может привести к переобучению модели, так как он увеличивает размер выборки за счет дублирования данных миноритарного класса\n"
   ],
   "metadata": {
    "collapsed": false,
    "id": "bfafcd419fbb26a4"
   },
   "id": "bfafcd419fbb26a4"
  },
  {
   "cell_type": "markdown",
   "source": [
    "## 2. **Data preprocessing**\n",
    "\n",
    "-----\n",
    "\n",
    "Выполним предобработку данных (последовательностей событий) с использованием библиотеки ptls и класса PandasDataPreprocessor\n"
   ],
   "metadata": {
    "collapsed": false,
    "id": "c6cf5743aabf3a4b"
   },
   "id": "c6cf5743aabf3a4b"
  },
  {
   "cell_type": "code",
   "outputs": [
    {
     "data": {
      "text/plain": "Index(['transaction_date', 'customer_id', 'quantity', 'price',\n       'product_category', 'discount_applied', 'total_amount'],\n      dtype='object')"
     },
     "execution_count": 4,
     "metadata": {},
     "output_type": "execute_result"
    }
   ],
   "source": [
    "df.columns"
   ],
   "metadata": {
    "colab": {
     "base_uri": "https://localhost:8080/"
    },
    "id": "f169ff50a5a93dc0",
    "outputId": "16cb6ef6-6b47-4be5-c184-4a35f9d2c882",
    "ExecuteTime": {
     "end_time": "2024-09-25T12:15:22.600872800Z",
     "start_time": "2024-09-25T12:15:22.485249700Z"
    }
   },
   "id": "f169ff50a5a93dc0",
   "execution_count": 4
  },
  {
   "cell_type": "code",
   "outputs": [],
   "source": [
    "from ptls.preprocessing import PandasDataPreprocessor\n",
    "\n",
    "preprocessor = PandasDataPreprocessor(\n",
    "    col_id='customer_id',\n",
    "    col_event_time='transaction_date',\n",
    "    event_time_transformation='none',\n",
    "    cols_category=['product_category'],\n",
    "    category_transformation='frequency',\n",
    "    cols_numerical=['quantity', 'price', 'discount_applied', 'total_amount'],\n",
    "    return_records=True\n",
    ")"
   ],
   "metadata": {
    "id": "5e118701c67d23c7",
    "ExecuteTime": {
     "end_time": "2024-09-25T12:15:23.547802900Z",
     "start_time": "2024-09-25T12:15:23.307237900Z"
    }
   },
   "id": "5e118701c67d23c7",
   "execution_count": 5
  },
  {
   "cell_type": "code",
   "outputs": [
    {
     "name": "stdout",
     "output_type": "stream",
     "text": [
      "CPU times: total: 12.1 s\n",
      "Wall time: 30.2 s\n"
     ]
    }
   ],
   "source": [
    "%%time\n",
    "\n",
    "dataset = preprocessor.fit_transform(df)"
   ],
   "metadata": {
    "colab": {
     "base_uri": "https://localhost:8080/"
    },
    "id": "f5293babc52f24ff",
    "outputId": "b9bc47ec-3f1d-4da0-934f-9ed065db526b",
    "ExecuteTime": {
     "end_time": "2024-09-25T12:15:54.736150800Z",
     "start_time": "2024-09-25T12:15:24.473317500Z"
    }
   },
   "id": "f5293babc52f24ff",
   "execution_count": 6
  },
  {
   "cell_type": "code",
   "outputs": [
    {
     "data": {
      "text/plain": "[{'customer_id': 14,\n  'transaction_date': tensor([ 14,  69,  72,  79, 106, 217, 222, 232, 266, 273]),\n  'event_time': tensor([ 14,  69,  72,  79, 106, 217, 222, 232, 266, 273]),\n  'product_category': tensor([1, 3, 4, 4, 1, 2, 4, 4, 2, 3]),\n  'quantity': tensor([1, 8, 6, 1, 2, 5, 6, 9, 8, 4]),\n  'price': tensor([96.4300, 54.1800, 40.5900, 70.2600, 23.7800, 60.6500, 92.3200, 26.9400,\n          23.8000, 26.5600], dtype=torch.float64),\n  'discount_applied': tensor([ 5., 21., 12., 20., 24., 16.,  8., 16.,  5., 27.], dtype=torch.float64),\n  'total_amount': tensor([ 91.6100, 342.4200, 214.3200,  56.2100,  36.1500, 254.7300, 509.6100,\n          203.6700, 180.8800,  77.5600], dtype=torch.float64)}]"
     },
     "execution_count": 7,
     "metadata": {},
     "output_type": "execute_result"
    }
   ],
   "source": [
    "dataset[:1]"
   ],
   "metadata": {
    "colab": {
     "base_uri": "https://localhost:8080/"
    },
    "id": "30e50ba2b3d6fe31",
    "outputId": "7e1a6feb-28d7-464c-8067-0bd14abdb62a",
    "ExecuteTime": {
     "end_time": "2024-09-25T12:15:57.146667Z",
     "start_time": "2024-09-25T12:15:57.013544800Z"
    }
   },
   "id": "30e50ba2b3d6fe31",
   "execution_count": 7
  },
  {
   "cell_type": "markdown",
   "source": [
    "- **сохраним состояние препроцессора**"
   ],
   "metadata": {
    "collapsed": false,
    "id": "e6c248ea8f992cbb"
   },
   "id": "e6c248ea8f992cbb"
  },
  {
   "cell_type": "code",
   "outputs": [],
   "source": [
    "import pickle\n",
    "\n",
    "with open('preprocessor.p', 'wb') as f:\n",
    "    pickle.dump(preprocessor, f)"
   ],
   "metadata": {
    "id": "6cf929fe9883095b",
    "ExecuteTime": {
     "end_time": "2024-09-25T12:15:58.624141800Z",
     "start_time": "2024-09-25T12:15:58.535172200Z"
    }
   },
   "id": "6cf929fe9883095b",
   "execution_count": 8
  },
  {
   "cell_type": "markdown",
   "source": [
    "- **разделим набор данных на train validation test выборки**"
   ],
   "metadata": {
    "collapsed": false,
    "id": "3583fe0213b51b5f"
   },
   "id": "3583fe0213b51b5f"
  },
  {
   "cell_type": "code",
   "outputs": [
    {
     "name": "stdout",
     "output_type": "stream",
     "text": [
      "Train: 57129\n",
      "Test: 19043\n",
      "Validation: 19043\n"
     ]
    }
   ],
   "source": [
    "from sklearn.model_selection import train_test_split\n",
    "\n",
    "train_temp, test = train_test_split(dataset, test_size=0.2, random_state=42)\n",
    "train, val = train_test_split(train_temp, test_size=0.25, random_state=42)\n",
    "\n",
    "print(f\"Train: {len(train)}\\n\"\n",
    "      f\"Test: {len(test)}\\n\"\n",
    "      f\"Validation: {len(val)}\\n\")"
   ],
   "metadata": {
    "colab": {
     "base_uri": "https://localhost:8080/"
    },
    "id": "f7b4fdf99b78d0c4",
    "outputId": "daa4531c-c607-4efc-aa1c-8ade1530634c",
    "ExecuteTime": {
     "end_time": "2024-09-25T12:16:03.097383200Z",
     "start_time": "2024-09-25T12:16:02.572140100Z"
    }
   },
   "id": "f7b4fdf99b78d0c4",
   "execution_count": 9
  },
  {
   "cell_type": "code",
   "outputs": [
    {
     "data": {
      "text/plain": "({'customer_id': 646472,\n  'transaction_date': tensor([ 13,  17,  19,  22,  53,  74,  80,  89,  91,  97, 113, 168, 214, 222,\n          225, 233, 281, 293, 295, 308, 314, 329]),\n  'event_time': tensor([ 13,  17,  19,  22,  53,  74,  80,  89,  91,  97, 113, 168, 214, 222,\n          225, 233, 281, 293, 295, 308, 314, 329]),\n  'product_category': tensor([1, 1, 4, 1, 3, 2, 3, 4, 1, 3, 3, 4, 3, 3, 4, 2, 3, 3, 1, 4, 2, 2]),\n  'quantity': tensor([4, 8, 5, 9, 3, 5, 8, 3, 5, 4, 3, 6, 9, 5, 2, 5, 9, 2, 7, 1, 9, 9]),\n  'price': tensor([36.0800, 73.8600, 97.2100, 69.7500, 81.8800, 50.0300, 30.8100, 42.8500,\n          35.2600, 92.1200, 13.7800, 63.6100, 54.3600, 38.8500, 31.8500, 56.9400,\n          54.2500, 56.2300, 17.2900, 50.6500, 88.6800, 51.4300],\n         dtype=torch.float64),\n  'discount_applied': tensor([11., 10., 30., 12.,  9., 24., 16.,  6., 17.,  1., 22., 20.,  2., 28.,\n          23.,  3., 30., 15.,  1., 19., 24.,  8.], dtype=torch.float64),\n  'total_amount': tensor([128.4400, 531.7900, 340.2400, 552.4200, 223.5300, 190.1100, 207.0400,\n          120.8400, 146.3300, 364.8000,  32.2500, 305.3300, 479.4600, 139.8600,\n           49.0500, 276.1600, 341.7800,  95.5900, 119.8200,  41.0300, 606.5700,\n          425.8400], dtype=torch.float64)},\n {'customer_id': 988264,\n  'transaction_date': tensor([  8, 148, 256, 359]),\n  'event_time': tensor([  8, 148, 256, 359]),\n  'product_category': tensor([2, 2, 1, 4]),\n  'quantity': tensor([8, 7, 6, 7]),\n  'price': tensor([15.0600, 32.8600, 19.2200, 80.4900], dtype=torch.float64),\n  'discount_applied': tensor([ 9., 22.,  3.,  1.], dtype=torch.float64),\n  'total_amount': tensor([109.6400, 179.4200, 111.8600, 557.8000], dtype=torch.float64)},\n {'customer_id': 976229,\n  'transaction_date': tensor([ 25, 212, 348, 375]),\n  'event_time': tensor([ 25, 212, 348, 375]),\n  'product_category': tensor([1, 3, 3, 2]),\n  'quantity': tensor([6, 9, 9, 5]),\n  'price': tensor([88.2700, 16.4200, 19.0700, 34.0300], dtype=torch.float64),\n  'discount_applied': tensor([ 2., 20., 25.,  9.], dtype=torch.float64),\n  'total_amount': tensor([519.0300, 118.2200, 128.7200, 154.8400], dtype=torch.float64)})"
     },
     "execution_count": 11,
     "metadata": {},
     "output_type": "execute_result"
    }
   ],
   "source": [
    "train[0], test[0], val[0]"
   ],
   "metadata": {
    "colab": {
     "base_uri": "https://localhost:8080/"
    },
    "id": "24f3cbd8d8e8abd3",
    "outputId": "59c55a56-6e82-4071-a99e-c23743de66f6",
    "ExecuteTime": {
     "end_time": "2024-09-25T12:17:06.793927Z",
     "start_time": "2024-09-25T12:17:06.720488200Z"
    }
   },
   "id": "24f3cbd8d8e8abd3",
   "execution_count": 11
  },
  {
   "cell_type": "code",
   "outputs": [],
   "source": [
    "from functools import partial\n",
    "from ptls.nn import TrxEncoder, RnnSeqEncoder\n",
    "from ptls.frames.coles import CoLESModule\n",
    "import torch\n",
    "\n",
    "trx_encoder_params = dict(\n",
    "    embeddings_noise=0.003,\n",
    "    numeric_values={\n",
    "        'price': 'identity',\n",
    "        'quantity': 'identity',\n",
    "        'discount_applied': 'identity',\n",
    "        'total_amount': 'identity'\n",
    "    },\n",
    "    embeddings={\n",
    "        'transaction_date': {'in': 500, 'out': 16},\n",
    "        'product_category': {'in': 128, 'out': 16},\n",
    "    },\n",
    ")\n",
    "\n",
    "\n",
    "seq_encoder = RnnSeqEncoder(\n",
    "    trx_encoder=TrxEncoder(**trx_encoder_params),\n",
    "    hidden_size=256,\n",
    "    type='gru',\n",
    ")\n",
    "\n",
    "\n",
    "model = CoLESModule(\n",
    "    seq_encoder=seq_encoder,\n",
    "    optimizer_partial=partial(\n",
    "        torch.optim.Adam,\n",
    "        lr=0.001,\n",
    "        # weight_decay=1e-5 # Добавлена L2 регуляризация\n",
    "    ),\n",
    "    lr_scheduler_partial=partial(torch.optim.lr_scheduler.StepLR, step_size=30, gamma=0.9),\n",
    ")"
   ],
   "metadata": {
    "id": "e789ecbfe4afb54b",
    "ExecuteTime": {
     "end_time": "2024-09-25T12:17:13.383931200Z",
     "start_time": "2024-09-25T12:17:12.824652100Z"
    }
   },
   "id": "e789ecbfe4afb54b",
   "execution_count": 12
  },
  {
   "cell_type": "markdown",
   "source": [
    "- **создадим DataModule + *с шагом проверки (валидации) для training***\n",
    "\n",
    "-----\n",
    "\n",
    "- **создадим DataModule для test, чтобы после обучения провести оценку**"
   ],
   "metadata": {
    "collapsed": false,
    "id": "814f226ebb46262"
   },
   "id": "814f226ebb46262"
  },
  {
   "cell_type": "code",
   "outputs": [
    {
     "output_type": "execute_result",
     "data": {
      "text/plain": [
       "(57129, 19043, 19043)"
      ]
     },
     "metadata": {},
     "execution_count": 13
    }
   ],
   "source": [
    "len(train), len(test), len(val)"
   ],
   "metadata": {
    "ExecuteTime": {
     "end_time": "2024-09-24T18:33:35.212676Z",
     "start_time": "2024-09-24T18:33:35.145674700Z"
    },
    "colab": {
     "base_uri": "https://localhost:8080/"
    },
    "id": "e299436d346b677c",
    "outputId": "dd6e1fa5-d96d-42f9-987b-b56a906d25ad"
   },
   "id": "e299436d346b677c",
   "execution_count": 13
  },
  {
   "cell_type": "code",
   "outputs": [
    {
     "output_type": "execute_result",
     "data": {
      "text/plain": [
       "{'customer_id': 646472,\n",
       " 'transaction_date': tensor([ 13,  17,  19,  22,  53,  74,  80,  89,  91,  97, 113, 168, 214, 222,\n",
       "         225, 233, 281, 293, 295, 308, 314, 329]),\n",
       " 'event_time': tensor([ 13,  17,  19,  22,  53,  74,  80,  89,  91,  97, 113, 168, 214, 222,\n",
       "         225, 233, 281, 293, 295, 308, 314, 329]),\n",
       " 'product_category': tensor([1, 1, 4, 1, 3, 2, 3, 4, 1, 3, 3, 4, 3, 3, 4, 2, 3, 3, 1, 4, 2, 2]),\n",
       " 'quantity': tensor([4, 8, 5, 9, 3, 5, 8, 3, 5, 4, 3, 6, 9, 5, 2, 5, 9, 2, 7, 1, 9, 9]),\n",
       " 'price': tensor([36.0800, 73.8600, 97.2100, 69.7500, 81.8800, 50.0300, 30.8100, 42.8500,\n",
       "         35.2600, 92.1200, 13.7800, 63.6100, 54.3600, 38.8500, 31.8500, 56.9400,\n",
       "         54.2500, 56.2300, 17.2900, 50.6500, 88.6800, 51.4300],\n",
       "        dtype=torch.float64),\n",
       " 'discount_applied': tensor([11., 10., 30., 12.,  9., 24., 16.,  6., 17.,  1., 22., 20.,  2., 28.,\n",
       "         23.,  3., 30., 15.,  1., 19., 24.,  8.], dtype=torch.float64),\n",
       " 'total_amount': tensor([128.4400, 531.7900, 340.2400, 552.4200, 223.5300, 190.1100, 207.0400,\n",
       "         120.8400, 146.3300, 364.8000,  32.2500, 305.3300, 479.4600, 139.8600,\n",
       "          49.0500, 276.1600, 341.7800,  95.5900, 119.8200,  41.0300, 606.5700,\n",
       "         425.8400], dtype=torch.float64)}"
      ]
     },
     "metadata": {},
     "execution_count": 14
    }
   ],
   "source": [
    "train[0]"
   ],
   "metadata": {
    "ExecuteTime": {
     "end_time": "2024-09-24T18:33:35.970851700Z",
     "start_time": "2024-09-24T18:33:35.905851100Z"
    },
    "colab": {
     "base_uri": "https://localhost:8080/"
    },
    "id": "f68bb3729c329c32",
    "outputId": "b7fbc8bd-80a1-492c-e755-be594177a711"
   },
   "id": "f68bb3729c329c32",
   "execution_count": 14
  },
  {
   "cell_type": "code",
   "outputs": [],
   "source": [
    "from ptls.data_load.datasets import MemoryMapDataset\n",
    "from ptls.data_load.iterable_processing import SeqLenFilter\n",
    "from ptls.frames.coles import ColesDataset\n",
    "from ptls.frames.coles.split_strategy import SampleSlices\n",
    "from ptls.frames import PtlsDataModule\n",
    "\n",
    "\n",
    "# для обучения + валидации\n",
    "train_dl = PtlsDataModule(\n",
    "    train_data=ColesDataset(\n",
    "        MemoryMapDataset(\n",
    "            data=train,\n",
    "            i_filters=[SeqLenFilter(min_seq_len=5)],\n",
    "        ),\n",
    "        splitter=SampleSlices(split_count=5, cnt_min=3, cnt_max=20),\n",
    "\n",
    "    ),\n",
    "    valid_data=ColesDataset(\n",
    "        MemoryMapDataset(\n",
    "            data=val,\n",
    "            i_filters=[SeqLenFilter(min_seq_len=5)],\n",
    "        ),\n",
    "        splitter=SampleSlices(split_count=5, cnt_min=3, cnt_max=20),\n",
    "    ),\n",
    "    valid_num_workers=16,\n",
    "    valid_batch_size=256,\n",
    "    train_num_workers=16,\n",
    "    train_batch_size=256,\n",
    ")\n",
    "\n",
    "# для тестирования\n",
    "test_dl = PtlsDataModule(\n",
    "    test_data=ColesDataset(\n",
    "        MemoryMapDataset(\n",
    "            data=test,\n",
    "            i_filters=[SeqLenFilter(min_seq_len=5)],\n",
    "        ),\n",
    "        splitter=SampleSlices(split_count=5, cnt_min=3, cnt_max=20),\n",
    "    ),\n",
    "    test_num_workers=16,\n",
    "    test_batch_size=256,\n",
    ")"
   ],
   "metadata": {
    "ExecuteTime": {
     "end_time": "2024-09-24T18:33:36.820975700Z",
     "start_time": "2024-09-24T18:33:36.587972200Z"
    },
    "id": "fe0007dceb2cab74"
   },
   "id": "fe0007dceb2cab74",
   "execution_count": 15
  },
  {
   "cell_type": "code",
   "outputs": [
    {
     "output_type": "stream",
     "name": "stdout",
     "text": [
      "28558\n"
     ]
    },
    {
     "output_type": "stream",
     "name": "stderr",
     "text": [
      "/usr/local/lib/python3.10/dist-packages/torch/utils/data/dataloader.py:557: UserWarning: This DataLoader will create 16 worker processes in total. Our suggested max number of worker in current system is 2, which is smaller than what this DataLoader is going to create. Please be aware that excessive worker creation might get DataLoader running slow or even freeze, lower the worker number to avoid potential slowness/freeze if necessary.\n",
      "  warnings.warn(_create_warning_msg(\n"
     ]
    }
   ],
   "source": [
    "print(len(train_dl.train_dataloader().dataset))"
   ],
   "metadata": {
    "ExecuteTime": {
     "end_time": "2024-09-24T18:33:37.443354700Z",
     "start_time": "2024-09-24T18:33:37.356347200Z"
    },
    "colab": {
     "base_uri": "https://localhost:8080/"
    },
    "id": "3cde525f1cc03cdb",
    "outputId": "00c6c78a-aceb-4fba-f796-09d3bd4c9337"
   },
   "id": "3cde525f1cc03cdb",
   "execution_count": 16
  },
  {
   "cell_type": "markdown",
   "source": [
    "**Добавим логирование метрик эпохи обучения**"
   ],
   "metadata": {
    "id": "tDWVib8pzy2K"
   },
   "id": "tDWVib8pzy2K"
  },
  {
   "cell_type": "code",
   "source": [
    "import pytorch_lightning as pl\n",
    "from colorama import Fore, Style\n",
    "\n",
    "class MetricLoggingCallback(pl.Callback):\n",
    "    def on_train_epoch_end(self, trainer, pl_module):\n",
    "        print(f\"\\nEpoch {Fore.LIGHTBLUE_EX}{trainer.current_epoch}{Style.RESET_ALL}:\\n\"\n",
    "              f\"-------------------------\\n\"\n",
    "              f\"valid/recall_top_k: {Fore.LIGHTYELLOW_EX}{trainer.callback_metrics['valid/recall_top_k']:.3f}{Style.RESET_ALL}\\n\"\n",
    "              f\"loss: {Fore.LIGHTYELLOW_EX}{trainer.callback_metrics['loss']:.3f}{Style.RESET_ALL}\\n\"\n",
    "              f\"-------------------------\\n\\n\")"
   ],
   "metadata": {
    "id": "2esDTwUMVdd1"
   },
   "id": "2esDTwUMVdd1",
   "execution_count": 17,
   "outputs": []
  },
  {
   "cell_type": "markdown",
   "source": [
    "**Также в trainer добавим коллбэки для early stopping (для борьбы с переобучением) и логирование метрик**"
   ],
   "metadata": {
    "id": "r3ZtgBZSz_3y"
   },
   "id": "r3ZtgBZSz_3y"
  },
  {
   "cell_type": "code",
   "outputs": [
    {
     "output_type": "stream",
     "name": "stderr",
     "text": [
      "INFO:pytorch_lightning.utilities.rank_zero:GPU available: True (cuda), used: True\n",
      "INFO:pytorch_lightning.utilities.rank_zero:TPU available: False, using: 0 TPU cores\n",
      "INFO:pytorch_lightning.utilities.rank_zero:HPU available: False, using: 0 HPUs\n"
     ]
    }
   ],
   "source": [
    "from pytorch_lightning.callbacks import EarlyStopping, ModelCheckpoint\n",
    "\n",
    "early_stop_callback = EarlyStopping(\n",
    "    monitor='loss',\n",
    "    min_delta=0.00,\n",
    "    patience=3,\n",
    "    verbose=True,\n",
    "    mode='min'\n",
    ")\n",
    "\n",
    "trainer = pl.Trainer(\n",
    "    max_epochs=15,\n",
    "    accelerator=\"cuda\" if torch.cuda.is_available() else \"cpu\",\n",
    "    devices=1 if torch.cuda.is_available() else \"auto\",\n",
    "    callbacks=[early_stop_callback, MetricLoggingCallback()],\n",
    "    enable_progress_bar=True,\n",
    ")"
   ],
   "metadata": {
    "ExecuteTime": {
     "end_time": "2024-09-24T18:33:38.077842500Z",
     "start_time": "2024-09-24T18:33:37.972823100Z"
    },
    "colab": {
     "base_uri": "https://localhost:8080/"
    },
    "id": "8601863d124b23f5",
    "outputId": "46c2c8e1-e035-4c3a-b593-d7bcb81ebb02"
   },
   "id": "8601863d124b23f5",
   "execution_count": 18
  },
  {
   "cell_type": "code",
   "outputs": [
    {
     "output_type": "stream",
     "name": "stderr",
     "text": [
      "INFO:pytorch_lightning.accelerators.cuda:LOCAL_RANK: 0 - CUDA_VISIBLE_DEVICES: [0]\n",
      "INFO:pytorch_lightning.callbacks.model_summary:\n",
      "  | Name               | Type            | Params | Mode \n",
      "---------------------------------------------------------------\n",
      "0 | _loss              | ContrastiveLoss | 0      | train\n",
      "1 | _seq_encoder       | RnnSeqEncoder   | 236 K  | train\n",
      "2 | _validation_metric | BatchRecallTopK | 0      | train\n",
      "3 | _head              | Head            | 0      | train\n",
      "---------------------------------------------------------------\n",
      "236 K     Trainable params\n",
      "0         Non-trainable params\n",
      "236 K     Total params\n",
      "0.944     Total estimated model params size (MB)\n",
      "22        Modules in train mode\n",
      "0         Modules in eval mode\n"
     ]
    },
    {
     "output_type": "display_data",
     "data": {
      "text/plain": [
       "Sanity Checking: |          | 0/? [00:00<?, ?it/s]"
      ],
      "application/vnd.jupyter.widget-view+json": {
       "version_major": 2,
       "version_minor": 0,
       "model_id": "3083862354ad4b23a1a8dfbe7b750c98"
      }
     },
     "metadata": {}
    },
    {
     "output_type": "display_data",
     "data": {
      "text/plain": [
       "Training: |          | 0/? [00:00<?, ?it/s]"
      ],
      "application/vnd.jupyter.widget-view+json": {
       "version_major": 2,
       "version_minor": 0,
       "model_id": "3d6e7487339044cea445bad91e7b89f3"
      }
     },
     "metadata": {}
    },
    {
     "output_type": "display_data",
     "data": {
      "text/plain": [
       "Validation: |          | 0/? [00:00<?, ?it/s]"
      ],
      "application/vnd.jupyter.widget-view+json": {
       "version_major": 2,
       "version_minor": 0,
       "model_id": "cf043f5dd04d49afad6f5bbaa7962a56"
      }
     },
     "metadata": {}
    },
    {
     "output_type": "stream",
     "name": "stderr",
     "text": [
      "INFO:pytorch_lightning.callbacks.early_stopping:Metric loss improved. New best score: 236.631\n"
     ]
    },
    {
     "output_type": "stream",
     "name": "stdout",
     "text": [
      "\n",
      "Epoch \u001B[94m0\u001B[0m:\n",
      "-------------------------\n",
      "valid/recall_top_k: \u001B[93m0.618\u001B[0m\n",
      "loss: \u001B[93m236.631\u001B[0m\n",
      "-------------------------\n",
      "\n"
     ]
    },
    {
     "output_type": "display_data",
     "data": {
      "text/plain": [
       "Validation: |          | 0/? [00:00<?, ?it/s]"
      ],
      "application/vnd.jupyter.widget-view+json": {
       "version_major": 2,
       "version_minor": 0,
       "model_id": "b4519d826c3a428c84a535281c990c21"
      }
     },
     "metadata": {}
    },
    {
     "output_type": "stream",
     "name": "stderr",
     "text": [
      "INFO:pytorch_lightning.callbacks.early_stopping:Metric loss improved by 31.072 >= min_delta = 0.0. New best score: 205.559\n"
     ]
    },
    {
     "output_type": "stream",
     "name": "stdout",
     "text": [
      "\n",
      "Epoch \u001B[94m1\u001B[0m:\n",
      "-------------------------\n",
      "valid/recall_top_k: \u001B[93m0.697\u001B[0m\n",
      "loss: \u001B[93m205.559\u001B[0m\n",
      "-------------------------\n",
      "\n"
     ]
    },
    {
     "output_type": "display_data",
     "data": {
      "text/plain": [
       "Validation: |          | 0/? [00:00<?, ?it/s]"
      ],
      "application/vnd.jupyter.widget-view+json": {
       "version_major": 2,
       "version_minor": 0,
       "model_id": "de12c25a68d44ffb854eda3f939f3acb"
      }
     },
     "metadata": {}
    },
    {
     "output_type": "stream",
     "name": "stderr",
     "text": [
      "INFO:pytorch_lightning.callbacks.early_stopping:Metric loss improved by 35.529 >= min_delta = 0.0. New best score: 170.030\n"
     ]
    },
    {
     "output_type": "stream",
     "name": "stdout",
     "text": [
      "\n",
      "Epoch \u001B[94m2\u001B[0m:\n",
      "-------------------------\n",
      "valid/recall_top_k: \u001B[93m0.767\u001B[0m\n",
      "loss: \u001B[93m170.030\u001B[0m\n",
      "-------------------------\n",
      "\n"
     ]
    },
    {
     "output_type": "display_data",
     "data": {
      "text/plain": [
       "Validation: |          | 0/? [00:00<?, ?it/s]"
      ],
      "application/vnd.jupyter.widget-view+json": {
       "version_major": 2,
       "version_minor": 0,
       "model_id": "b47d35793d2e461b94e6ee06317d0d63"
      }
     },
     "metadata": {}
    },
    {
     "output_type": "stream",
     "name": "stdout",
     "text": [
      "\n",
      "Epoch \u001B[94m3\u001B[0m:\n",
      "-------------------------\n",
      "valid/recall_top_k: \u001B[93m0.801\u001B[0m\n",
      "loss: \u001B[93m174.483\u001B[0m\n",
      "-------------------------\n",
      "\n"
     ]
    },
    {
     "output_type": "display_data",
     "data": {
      "text/plain": [
       "Validation: |          | 0/? [00:00<?, ?it/s]"
      ],
      "application/vnd.jupyter.widget-view+json": {
       "version_major": 2,
       "version_minor": 0,
       "model_id": "74bc00bbe1d74d1dafaecc06c24f0494"
      }
     },
     "metadata": {}
    },
    {
     "output_type": "stream",
     "name": "stderr",
     "text": [
      "INFO:pytorch_lightning.callbacks.early_stopping:Metric loss improved by 0.725 >= min_delta = 0.0. New best score: 169.304\n"
     ]
    },
    {
     "output_type": "stream",
     "name": "stdout",
     "text": [
      "\n",
      "Epoch \u001B[94m4\u001B[0m:\n",
      "-------------------------\n",
      "valid/recall_top_k: \u001B[93m0.821\u001B[0m\n",
      "loss: \u001B[93m169.304\u001B[0m\n",
      "-------------------------\n",
      "\n"
     ]
    },
    {
     "output_type": "display_data",
     "data": {
      "text/plain": [
       "Validation: |          | 0/? [00:00<?, ?it/s]"
      ],
      "application/vnd.jupyter.widget-view+json": {
       "version_major": 2,
       "version_minor": 0,
       "model_id": "d156341684254d75a461b5317598dfea"
      }
     },
     "metadata": {}
    },
    {
     "output_type": "stream",
     "name": "stderr",
     "text": [
      "INFO:pytorch_lightning.callbacks.early_stopping:Metric loss improved by 12.901 >= min_delta = 0.0. New best score: 156.403\n"
     ]
    },
    {
     "output_type": "stream",
     "name": "stdout",
     "text": [
      "\n",
      "Epoch \u001B[94m5\u001B[0m:\n",
      "-------------------------\n",
      "valid/recall_top_k: \u001B[93m0.830\u001B[0m\n",
      "loss: \u001B[93m156.403\u001B[0m\n",
      "-------------------------\n",
      "\n"
     ]
    },
    {
     "output_type": "display_data",
     "data": {
      "text/plain": [
       "Validation: |          | 0/? [00:00<?, ?it/s]"
      ],
      "application/vnd.jupyter.widget-view+json": {
       "version_major": 2,
       "version_minor": 0,
       "model_id": "900471c806c049a1ba20a9a40e5fff1c"
      }
     },
     "metadata": {}
    },
    {
     "output_type": "stream",
     "name": "stdout",
     "text": [
      "\n",
      "Epoch \u001B[94m6\u001B[0m:\n",
      "-------------------------\n",
      "valid/recall_top_k: \u001B[93m0.836\u001B[0m\n",
      "loss: \u001B[93m162.777\u001B[0m\n",
      "-------------------------\n",
      "\n"
     ]
    },
    {
     "output_type": "display_data",
     "data": {
      "text/plain": [
       "Validation: |          | 0/? [00:00<?, ?it/s]"
      ],
      "application/vnd.jupyter.widget-view+json": {
       "version_major": 2,
       "version_minor": 0,
       "model_id": "8de3a6d950f1485badc5ee983ce7346e"
      }
     },
     "metadata": {}
    },
    {
     "output_type": "stream",
     "name": "stderr",
     "text": [
      "INFO:pytorch_lightning.callbacks.early_stopping:Metric loss improved by 2.294 >= min_delta = 0.0. New best score: 154.109\n"
     ]
    },
    {
     "output_type": "stream",
     "name": "stdout",
     "text": [
      "\n",
      "Epoch \u001B[94m7\u001B[0m:\n",
      "-------------------------\n",
      "valid/recall_top_k: \u001B[93m0.842\u001B[0m\n",
      "loss: \u001B[93m154.109\u001B[0m\n",
      "-------------------------\n",
      "\n"
     ]
    },
    {
     "output_type": "display_data",
     "data": {
      "text/plain": [
       "Validation: |          | 0/? [00:00<?, ?it/s]"
      ],
      "application/vnd.jupyter.widget-view+json": {
       "version_major": 2,
       "version_minor": 0,
       "model_id": "6ebb26b16a7f468e8d505745647fc308"
      }
     },
     "metadata": {}
    },
    {
     "output_type": "stream",
     "name": "stderr",
     "text": [
      "INFO:pytorch_lightning.callbacks.early_stopping:Metric loss improved by 9.460 >= min_delta = 0.0. New best score: 144.650\n"
     ]
    },
    {
     "output_type": "stream",
     "name": "stdout",
     "text": [
      "\n",
      "Epoch \u001B[94m8\u001B[0m:\n",
      "-------------------------\n",
      "valid/recall_top_k: \u001B[93m0.843\u001B[0m\n",
      "loss: \u001B[93m144.650\u001B[0m\n",
      "-------------------------\n",
      "\n"
     ]
    },
    {
     "output_type": "display_data",
     "data": {
      "text/plain": [
       "Validation: |          | 0/? [00:00<?, ?it/s]"
      ],
      "application/vnd.jupyter.widget-view+json": {
       "version_major": 2,
       "version_minor": 0,
       "model_id": "649f9dbc13b04eb3a05901cd3c948ea9"
      }
     },
     "metadata": {}
    },
    {
     "output_type": "stream",
     "name": "stderr",
     "text": [
      "INFO:pytorch_lightning.callbacks.early_stopping:Metric loss improved by 0.403 >= min_delta = 0.0. New best score: 144.247\n"
     ]
    },
    {
     "output_type": "stream",
     "name": "stdout",
     "text": [
      "\n",
      "Epoch \u001B[94m9\u001B[0m:\n",
      "-------------------------\n",
      "valid/recall_top_k: \u001B[93m0.851\u001B[0m\n",
      "loss: \u001B[93m144.247\u001B[0m\n",
      "-------------------------\n",
      "\n"
     ]
    },
    {
     "output_type": "display_data",
     "data": {
      "text/plain": [
       "Validation: |          | 0/? [00:00<?, ?it/s]"
      ],
      "application/vnd.jupyter.widget-view+json": {
       "version_major": 2,
       "version_minor": 0,
       "model_id": "3e7cd5b907854adebb0b7e333810fe10"
      }
     },
     "metadata": {}
    },
    {
     "output_type": "stream",
     "name": "stderr",
     "text": [
      "INFO:pytorch_lightning.callbacks.early_stopping:Metric loss improved by 4.160 >= min_delta = 0.0. New best score: 140.087\n"
     ]
    },
    {
     "output_type": "stream",
     "name": "stdout",
     "text": [
      "\n",
      "Epoch \u001B[94m10\u001B[0m:\n",
      "-------------------------\n",
      "valid/recall_top_k: \u001B[93m0.849\u001B[0m\n",
      "loss: \u001B[93m140.087\u001B[0m\n",
      "-------------------------\n",
      "\n"
     ]
    },
    {
     "output_type": "display_data",
     "data": {
      "text/plain": [
       "Validation: |          | 0/? [00:00<?, ?it/s]"
      ],
      "application/vnd.jupyter.widget-view+json": {
       "version_major": 2,
       "version_minor": 0,
       "model_id": "84a0fd1576e649409096c9f6cb2c5946"
      }
     },
     "metadata": {}
    },
    {
     "output_type": "stream",
     "name": "stdout",
     "text": [
      "\n",
      "Epoch \u001B[94m11\u001B[0m:\n",
      "-------------------------\n",
      "valid/recall_top_k: \u001B[93m0.853\u001B[0m\n",
      "loss: \u001B[93m150.336\u001B[0m\n",
      "-------------------------\n",
      "\n"
     ]
    },
    {
     "output_type": "display_data",
     "data": {
      "text/plain": [
       "Validation: |          | 0/? [00:00<?, ?it/s]"
      ],
      "application/vnd.jupyter.widget-view+json": {
       "version_major": 2,
       "version_minor": 0,
       "model_id": "55221cda121b4e3c9beec3f678977c9b"
      }
     },
     "metadata": {}
    },
    {
     "output_type": "stream",
     "name": "stderr",
     "text": [
      "INFO:pytorch_lightning.callbacks.early_stopping:Metric loss improved by 1.085 >= min_delta = 0.0. New best score: 139.001\n"
     ]
    },
    {
     "output_type": "stream",
     "name": "stdout",
     "text": [
      "\n",
      "Epoch \u001B[94m12\u001B[0m:\n",
      "-------------------------\n",
      "valid/recall_top_k: \u001B[93m0.854\u001B[0m\n",
      "loss: \u001B[93m139.001\u001B[0m\n",
      "-------------------------\n",
      "\n"
     ]
    },
    {
     "output_type": "display_data",
     "data": {
      "text/plain": [
       "Validation: |          | 0/? [00:00<?, ?it/s]"
      ],
      "application/vnd.jupyter.widget-view+json": {
       "version_major": 2,
       "version_minor": 0,
       "model_id": "943d952c4f35469ba5da2b3a3a547e5d"
      }
     },
     "metadata": {}
    },
    {
     "output_type": "stream",
     "name": "stderr",
     "text": [
      "INFO:pytorch_lightning.callbacks.early_stopping:Metric loss improved by 5.763 >= min_delta = 0.0. New best score: 133.238\n"
     ]
    },
    {
     "output_type": "stream",
     "name": "stdout",
     "text": [
      "\n",
      "Epoch \u001B[94m13\u001B[0m:\n",
      "-------------------------\n",
      "valid/recall_top_k: \u001B[93m0.853\u001B[0m\n",
      "loss: \u001B[93m133.238\u001B[0m\n",
      "-------------------------\n",
      "\n"
     ]
    },
    {
     "output_type": "display_data",
     "data": {
      "text/plain": [
       "Validation: |          | 0/? [00:00<?, ?it/s]"
      ],
      "application/vnd.jupyter.widget-view+json": {
       "version_major": 2,
       "version_minor": 0,
       "model_id": "1c3aebec5bcb4ad09ef8453dad830576"
      }
     },
     "metadata": {}
    },
    {
     "output_type": "stream",
     "name": "stderr",
     "text": [
      "INFO:pytorch_lightning.utilities.rank_zero:`Trainer.fit` stopped: `max_epochs=15` reached.\n"
     ]
    },
    {
     "output_type": "stream",
     "name": "stdout",
     "text": [
      "\n",
      "Epoch \u001B[94m14\u001B[0m:\n",
      "-------------------------\n",
      "valid/recall_top_k: \u001B[93m0.855\u001B[0m\n",
      "loss: \u001B[93m136.579\u001B[0m\n",
      "-------------------------\n",
      "\n",
      "\n",
      "CPU times: user 2min 56s, sys: 28.1 s, total: 3min 24s\n",
      "Wall time: 12min 53s\n"
     ]
    }
   ],
   "source": [
    "%%time\n",
    "trainer.fit(\n",
    "    model=model,\n",
    "    datamodule=train_dl\n",
    ")"
   ],
   "metadata": {
    "ExecuteTime": {
     "start_time": "2024-09-24T18:33:38.803981500Z"
    },
    "colab": {
     "base_uri": "https://localhost:8080/",
     "height": 1000,
     "referenced_widgets": [
      "3083862354ad4b23a1a8dfbe7b750c98",
      "529ff248d29e4772bd3bb445f6f020ec",
      "e9184df36b584fff9f21f2c4cd24e5e1",
      "cafe3b827b2b46e3ba3ed6ecaf3576ba",
      "3c5cbae6b9794ab9b5c5ceeead28a2a0",
      "b17d2a23ceea4b6d87f7ef17aaf7f52f",
      "282abaa5052140be97fee9ad920418cd",
      "43f67f8c7ede4a9cb6fab8722e5be154",
      "6af492269a9f41179c75ec7c4bd9c54a",
      "bf40f8e8014140cd849b7cbe615fe427",
      "a680ecbc732c4305bf1eb59d25a752d3",
      "3d6e7487339044cea445bad91e7b89f3",
      "04c44dacdd404823a42ed91274eb92cb",
      "fccd3b8aaffb4db89f0e291e6cd8a6f7",
      "fd9406263eb84f9eb8c5769e07cad05f",
      "7421d96db4ae46afa0c5c716651b87f7",
      "718b429f8fc94136bbfbc148fed6a765",
      "8dbbe20c598948e987b66d19514bf96c",
      "912e519915c949d78439226c52b177bb",
      "bdab966be4994638b92ef01e26f8215f",
      "5610c510a37f4aa99a92af3576b1c9fb",
      "9f62da4edb864af6a292768705f00354",
      "cf043f5dd04d49afad6f5bbaa7962a56",
      "cdbed3d4db73471cbf6020d65f26696a",
      "4889ae75db944445a61c5198eff5f77b",
      "7e5f5b9f1bab4d8f8b8d362de7f6757d",
      "11772106047943ed9c3572de2e4e1233",
      "38b7ce24b7fb471ea846d5f4b60d2f49",
      "3b8e8c2972774c5f92ef47817418611b",
      "a1c1017e4615457b9cf67c8485a76918",
      "988c107dd1d04db2a1ae7a867cd43808",
      "7008e9bcefd64512915988399e5c59f4",
      "fcfff2dce7e14b1ea0f817b4f81515b3",
      "b4519d826c3a428c84a535281c990c21",
      "8023f0a8a7ab45e68c0b2ba0d64df373",
      "00626c075c2446c9a0b9cd993889cbee",
      "fb92f1689f1a46cba4daa8adcdbf4fa5",
      "d5303d55006c48c0a1be68a0ba43929b",
      "b855fcdbaa8e4d77861d1f5141f7eb02",
      "ca1050bf178c4475abd7d3d9b6c8c4a9",
      "7feb27d7a63343c0a656a7156151688b",
      "b4b1b3b6ada54b71a0e08db772269535",
      "149b50ce162c4c418ec1d00015a2a670",
      "8facf4308c7b4c7c91cb7cba548d2711",
      "de12c25a68d44ffb854eda3f939f3acb",
      "4ccc869aef964a6e8ca243fd8de9c8cf",
      "77d46b8885134ba0ba7cd67a9b4c7b52",
      "6e7487fd78f042f483af25796c67e486",
      "1d813feabb604246b70efe7be41e7d64",
      "2b2045f7c53f4b16ac0a2f8dd089f656",
      "516f90a8a1474d13b8241f45c6d9b365",
      "e9ad0627927a4f24b979d9db459752de",
      "45c8bc29ec994dfea62ef3879590d274",
      "02bd6d9e75014caa884eba57b0928e7e",
      "f3a73e95d7ea4b0889879007a899cc9a",
      "b47d35793d2e461b94e6ee06317d0d63",
      "3589431472464de0a7cf07389563fab1",
      "6780175605d64f8e9e67a90a10ddd93e",
      "49076adec24b405aa16d6e52a3d3bea1",
      "b5b9bb7e7f434edfb0351c6ab5a3d61b",
      "6f581734a22b4ba5a412c1e83a0bb79d",
      "3cfce55070b24e68b84b3ddeb9a252a4",
      "5d005e85186e407aad97a1049a8dfa67",
      "88930db83b7f4c6fb1bfed0222e9d239",
      "fbed911dbbdd491b8fa10c024e721fc1",
      "5f96ea9f8f564c3da1b71e033920b68e",
      "74bc00bbe1d74d1dafaecc06c24f0494",
      "89444b3bf55d47889843d970eaa82888",
      "7d7ba211100d4331b19ebced228d3c07",
      "05092ac7c97f45cc818486768f533dff",
      "8605d260c46445969a4729ee9f3d345a",
      "22ce6e16b0b647bb904ca484ae2d13e8",
      "0155d87de91e4ceb9953d6d8d1043376",
      "244963fea89147acbf5873cc63b3bad9",
      "36129c042b974f40b8d87ec10f0e09d8",
      "dfc1885332a740b8b449aff7d3532a4b",
      "3ba30f49c5014abc9cb7258da7e7f4ca",
      "d156341684254d75a461b5317598dfea",
      "02b2a76d22064c68af9e688ad3feb83d",
      "288899fa49ff40518de775e90f5bb21d",
      "41a9cc3fef984e2e935e7f4bde8579ee",
      "e7054b2d5929434bb3be379315aa9ad9",
      "773b4f949ee44d72aad3890c2a59cacc",
      "aaed41c7e0f94626a0d5dbc9b2569296",
      "a2f626e0eb0b467a940c61a268c30ecc",
      "2c207e62068e4a6d87bb7faa0a312a97",
      "c4faf4c480e046b09a523605ec695ce3",
      "efceeab6bc514854850204a2db54f982",
      "900471c806c049a1ba20a9a40e5fff1c",
      "361aa916758b4e4a91a1c202ea8f5fec",
      "05b591b1d108452e96c437b9b9a14c4d",
      "6b4b5ef607824daca0d96384b7ccc9d1",
      "a6bce031461a4711a6d2640385f8ff42",
      "0691f53dc9c5481b8c5e19e2c3cfd06d",
      "7d7efff69a6b4da98313c68c8025d851",
      "1776271ca53f4b40b76705f67c881edd",
      "f3b5ca5724e84d14aebcd39738ad1332",
      "22b4456a352e4e97a43b31f0226d1d60",
      "56453cd368324e98a5a3088222f07a7f",
      "8de3a6d950f1485badc5ee983ce7346e",
      "bc7a32ddf26f4a7495de8b1f5056c4d9",
      "dbf023d9b54b472aa1726ad9bc07b7be",
      "a9f0bc14936541a59fd2ef46e6287ba8",
      "8aefeb13820f4ae4b171fabd77405f2c",
      "eb408f6b076b467eafa81c25d2235bdc",
      "eb75d19770ae40daa54b5e98756051b9",
      "3e5acf1632c34674925d2ece53297166",
      "a61f2bd8ee464c76b198fae77c96ab6d",
      "db39dccc4a5e471ca0c4ad6cba1548aa",
      "d26a378f8d1c4d9f97342c86507836f2",
      "6ebb26b16a7f468e8d505745647fc308",
      "4d776828aa274ce3bee287e020e484c8",
      "d11da1b3d02c40dcaa75a8ddb4baa753",
      "179168b192594647bf6e02d5f8b26b4f",
      "89f77616b61b42598730427bd762263b",
      "9748e7b5e35141fc8311c9b1913a0928",
      "a1de9c58c2b14561baee6a4c8b545653",
      "3b6685ed0a2847918a490ac7345ed370",
      "a758f717790f4e93b86660501d431eb1",
      "facbb209069d49f4805430dbd7a84a7d",
      "1d3d595241f443aca66bdc44a3e73142",
      "649f9dbc13b04eb3a05901cd3c948ea9",
      "83108af2e1eb4146be0aad3bf763b9ea",
      "45449167451b4b0fa5e186f8c1c8795d",
      "fb60005193634700b02cc16a66331dfb",
      "6f3c415c2f3d4ed59adcbf708d275d30",
      "e328c8e7831241d1868c242151a3b7c3",
      "acd8a0dd87734c7c88664ba811961793",
      "85e1dd14e36549c397d7f3644b91fcb0",
      "9424e692f2e941049bdf5b410781eaf4",
      "549e7343b7eb45bd8acc4254773ca239",
      "b3eca1ef34b143de9923409dd86946fc",
      "3e7cd5b907854adebb0b7e333810fe10",
      "7b33e727385840108c265caea59278ee",
      "530336ee405d4d7f83564f66d1b3593b",
      "4cc0686abd30484cb390057b4ba608d8",
      "afb6ba2289184509b0519c11d3038010",
      "68a39ef6ac444905a809defff2690b11",
      "6a7741b857914d93b1ea79c095c0b19c",
      "4971d11793cf46dfaac777c9bb919b9b",
      "c21441aeaeaa40f6a9c9b0d37272eb42",
      "2ddeb4f2c4e84d22ae299d647cc86465",
      "4d3fbf6f0bba4e9cb193e2e4f514b5f5",
      "84a0fd1576e649409096c9f6cb2c5946",
      "926307a2b3d94a369f4890791d6308ae",
      "dc8aace5d0104985a9ffc08f9f996508",
      "9ee7c0797ee64834903b817c0dd753e5",
      "17d7d6167c71441684bc4e27b4d9b6e6",
      "1dbdda4086d842709c03f45c0f12ba20",
      "75f1aeb7282e4bf18fb6965c495284d7",
      "c12b636315c04c0aa3e1719394ce23fe",
      "25140e6800fc490ebfb7f06bdf754408",
      "f58c2b4b31024a188aa54f23f7e4019c",
      "fdecce45f0dc49d49b854b069fb2eb65",
      "55221cda121b4e3c9beec3f678977c9b",
      "144449dc422e438aa9c1ea8ecbaa24ec",
      "f2418a30094440889dba6e4ba916f4f1",
      "e9d30cee3f6b449aa929c2c169f1f066",
      "6c009b5eaca041a29c781ac38279d8d7",
      "e7a7fb3216d04a5293f945928c213130",
      "96cf866f9297461eb15567dc4077ef64",
      "a7604620c3cb4d5bb4c056eaf6cd093d",
      "9d788d3981fa4121acbe88d9d9854a8f",
      "9a805eb1146f40e5951555e68af88524",
      "09d58d3d78b64ce99c3904c8935283aa",
      "943d952c4f35469ba5da2b3a3a547e5d",
      "07d037dd41af495f8b854de392fd7335",
      "5a9deeb3dd7c4d739a1404c215315107",
      "a565f53fb5254a3abc876c910f5f4e3c",
      "a5e941d5608c4b11a34e0b01c603d254",
      "4ac11a98499e427699fcdceee806c9e1",
      "e260547811014978b969e24e6c9d9503",
      "e2cd5a1a8c1b4e2e8a13c076c24c7ee5",
      "8e8de90fc59246289685384f97d817f5",
      "4954ad28e68742088725f36ab2e6ee78",
      "34211f674da042a8b8af91ff0252a468",
      "1c3aebec5bcb4ad09ef8453dad830576",
      "1775fcd2fa424be49294a03bcbaee2c4",
      "e64802cf2ced4eb1b39150efb9d2d963",
      "409f16ad6d1b440c97ec6dd962d644ec",
      "636069acda164173864aa309c55b5824",
      "a189a5cdfc0b4a57ad00a52ab422ef47",
      "93d3cd9096a34d1c952d2278ddca30fb",
      "ac52dcaf8f5c407fb5bd54e16bd33aef",
      "777de8339eaf42cd9e605efbf69cae69",
      "27c8ba175d764e0dad1306cd1bda84cb",
      "e72ad8aba20948798a858e9461345f18"
     ]
    },
    "id": "cd7ddb339bcb6bfa",
    "outputId": "cba4678a-c136-40e7-eb91-ec796051e5b4"
   },
   "id": "cd7ddb339bcb6bfa",
   "execution_count": 19
  },
  {
   "cell_type": "code",
   "outputs": [],
   "source": [
    "torch.save(seq_encoder.state_dict(), \"rt-emb.pt\")"
   ],
   "metadata": {
    "id": "4d335052d7a1d820"
   },
   "id": "4d335052d7a1d820",
   "execution_count": 20
  },
  {
   "cell_type": "markdown",
   "source": [
    "**Протестируем обученную модель:**\n",
    "\n",
    "- расширим CoLESModule, чтобы добавить возможность тестирования модели с использованием метода test_step()\n",
    "- загрузим веса\n",
    "- выполним тест"
   ],
   "metadata": {
    "id": "cg2YHMDcoRBG"
   },
   "id": "cg2YHMDcoRBG"
  },
  {
   "cell_type": "code",
   "source": [
    "class ExtendedCoLESModule(CoLESModule):\n",
    "    def __init__(self, seq_encoder, optimizer_partial, lr_scheduler_partial, head=None, loss=None, validation_metric=None):\n",
    "        super().__init__(\n",
    "            seq_encoder=seq_encoder,\n",
    "            head=head,\n",
    "            loss=loss,\n",
    "            validation_metric=validation_metric,\n",
    "            optimizer_partial=optimizer_partial,\n",
    "            lr_scheduler_partial=lr_scheduler_partial\n",
    "        )\n",
    "\n",
    "    def test_step(self, batch, batch_idx):\n",
    "        inputs, labels = batch\n",
    "\n",
    "        y_h, y = self.shared_step(inputs, labels)\n",
    "        recall_top_k = self._validation_metric(y_h, y)\n",
    "        self.log('test/recall_top_k', recall_top_k, prog_bar=True)\n",
    "\n",
    "        return {'test/recall_top_k': recall_top_k}\n"
   ],
   "metadata": {
    "id": "MYeLm5JZvmTW"
   },
   "id": "MYeLm5JZvmTW",
   "execution_count": 41,
   "outputs": []
  },
  {
   "cell_type": "code",
   "source": [
    "seq_encoder = RnnSeqEncoder(\n",
    "    trx_encoder=TrxEncoder(**trx_encoder_params),\n",
    "    hidden_size=256,\n",
    "    type='gru',\n",
    ")\n",
    "\n",
    "\n",
    "seq_encoder.load_state_dict(torch.load(\"rt-emb.pt\"))"
   ],
   "metadata": {
    "colab": {
     "base_uri": "https://localhost:8080/"
    },
    "id": "bL65NYCJvuiL",
    "outputId": "9c13edd3-2982-4384-b24c-4d5c6352ca30"
   },
   "id": "bL65NYCJvuiL",
   "execution_count": 42,
   "outputs": [
    {
     "output_type": "stream",
     "name": "stderr",
     "text": [
      "<ipython-input-42-0a00ef0593dd>:8: FutureWarning: You are using `torch.load` with `weights_only=False` (the current default value), which uses the default pickle module implicitly. It is possible to construct malicious pickle data which will execute arbitrary code during unpickling (See https://github.com/pytorch/pytorch/blob/main/SECURITY.md#untrusted-models for more details). In a future release, the default value for `weights_only` will be flipped to `True`. This limits the functions that could be executed during unpickling. Arbitrary objects will no longer be allowed to be loaded via this mode unless they are explicitly allowlisted by the user via `torch.serialization.add_safe_globals`. We recommend you start setting `weights_only=True` for any use case where you don't have full control of the loaded file. Please open an issue on GitHub for any issues related to this experimental feature.\n",
      "  seq_encoder.load_state_dict(torch.load(\"rt-emb.pt\"))\n"
     ]
    },
    {
     "output_type": "execute_result",
     "data": {
      "text/plain": [
       "<All keys matched successfully>"
      ]
     },
     "metadata": {},
     "execution_count": 42
    }
   ]
  },
  {
   "cell_type": "code",
   "source": [
    "extended_model = ExtendedCoLESModule(\n",
    "    seq_encoder=seq_encoder,\n",
    "    optimizer_partial=partial(\n",
    "        torch.optim.Adam,\n",
    "        lr=0.001,\n",
    "    ),\n",
    "    lr_scheduler_partial=partial(torch.optim.lr_scheduler.StepLR, step_size=30, gamma=0.9),\n",
    ")\n",
    "\n",
    "\n",
    "trainer.test(\n",
    "    model=extended_model,\n",
    "    datamodule=test_dl\n",
    ")"
   ],
   "metadata": {
    "colab": {
     "base_uri": "https://localhost:8080/",
     "height": 169,
     "referenced_widgets": [
      "baacc40d47d24eeaa2133bb2db019b1a",
      "c447c7c32ad34c9eaeac9219883b7907",
      "8e39c8f9b5564381a8deba792b8ba822",
      "4d7d37aaa9ac4cc6a4d35e1fd166daf6",
      "a5f3a9ce35b940e4b70055bf7a3499e7",
      "3788e476581d42acb1593523c3e771c3",
      "15bcf6ddb3b04446b46ee9a6d9320be9",
      "e5041343ddf646859b866020e778a872",
      "fb765033bda2427791d69e1c514e1413",
      "8cda37f87ac64c4a997e61c2f5d852cd",
      "0c8ed85d2fac462ab5d54f2cc1ac6c2c"
     ]
    },
    "id": "q44vn9a9v2wL",
    "outputId": "3f62ccf8-53de-483a-d891-bda44a063928"
   },
   "id": "q44vn9a9v2wL",
   "execution_count": 43,
   "outputs": [
    {
     "output_type": "stream",
     "name": "stderr",
     "text": [
      "INFO:pytorch_lightning.accelerators.cuda:LOCAL_RANK: 0 - CUDA_VISIBLE_DEVICES: [0]\n"
     ]
    },
    {
     "output_type": "display_data",
     "data": {
      "text/plain": [
       "Testing: |          | 0/? [00:00<?, ?it/s]"
      ],
      "application/vnd.jupyter.widget-view+json": {
       "version_major": 2,
       "version_minor": 0,
       "model_id": "baacc40d47d24eeaa2133bb2db019b1a"
      }
     },
     "metadata": {}
    },
    {
     "output_type": "display_data",
     "data": {
      "text/plain": [
       "┏━━━━━━━━━━━━━━━━━━━━━━━━━━━┳━━━━━━━━━━━━━━━━━━━━━━━━━━━┓\n",
       "┃\u001B[1m \u001B[0m\u001B[1m       Test metric       \u001B[0m\u001B[1m \u001B[0m┃\u001B[1m \u001B[0m\u001B[1m      DataLoader 0       \u001B[0m\u001B[1m \u001B[0m┃\n",
       "┡━━━━━━━━━━━━━━━━━━━━━━━━━━━╇━━━━━━━━━━━━━━━━━━━━━━━━━━━┩\n",
       "│\u001B[36m \u001B[0m\u001B[36m    test/recall_top_k    \u001B[0m\u001B[36m \u001B[0m│\u001B[35m \u001B[0m\u001B[35m   0.8543421030044556    \u001B[0m\u001B[35m \u001B[0m│\n",
       "└───────────────────────────┴───────────────────────────┘\n"
      ],
      "text/html": [
       "<pre style=\"white-space:pre;overflow-x:auto;line-height:normal;font-family:Menlo,'DejaVu Sans Mono',consolas,'Courier New',monospace\">┏━━━━━━━━━━━━━━━━━━━━━━━━━━━┳━━━━━━━━━━━━━━━━━━━━━━━━━━━┓\n",
       "┃<span style=\"font-weight: bold\">        Test metric        </span>┃<span style=\"font-weight: bold\">       DataLoader 0        </span>┃\n",
       "┡━━━━━━━━━━━━━━━━━━━━━━━━━━━╇━━━━━━━━━━━━━━━━━━━━━━━━━━━┩\n",
       "│<span style=\"color: #008080; text-decoration-color: #008080\">     test/recall_top_k     </span>│<span style=\"color: #800080; text-decoration-color: #800080\">    0.8543421030044556     </span>│\n",
       "└───────────────────────────┴───────────────────────────┘\n",
       "</pre>\n"
      ]
     },
     "metadata": {}
    },
    {
     "output_type": "execute_result",
     "data": {
      "text/plain": [
       "[{'test/recall_top_k': 0.8543421030044556}]"
      ]
     },
     "metadata": {},
     "execution_count": 43
    }
   ]
  },
  {
   "cell_type": "markdown",
   "source": [
    "- **Выполним инференс эмбеддингов для тренировочных и тестовых данных**"
   ],
   "metadata": {
    "id": "AKUhYJSmy_CV"
   },
   "id": "AKUhYJSmy_CV"
  },
  {
   "cell_type": "code",
   "source": [
    "seq_encoder = RnnSeqEncoder(\n",
    "    trx_encoder=TrxEncoder(**trx_encoder_params),\n",
    "    hidden_size=256,\n",
    "    type='gru',\n",
    ")\n",
    "\n",
    "\n",
    "seq_encoder.load_state_dict(torch.load(\"../../src/model_weights/rt-emb.pt\"))\n",
    "\n",
    "\n",
    "model = CoLESModule(\n",
    "    seq_encoder=seq_encoder,\n",
    "    optimizer_partial=partial(\n",
    "        torch.optim.Adam,\n",
    "        lr=0.001,\n",
    "    ),\n",
    "    lr_scheduler_partial=partial(torch.optim.lr_scheduler.StepLR, step_size=30, gamma=0.9),\n",
    ")"
   ],
   "metadata": {
    "id": "0DCvtCu_zIGO",
    "ExecuteTime": {
     "end_time": "2024-09-25T12:17:38.284810500Z",
     "start_time": "2024-09-25T12:17:38.199567400Z"
    }
   },
   "id": "0DCvtCu_zIGO",
   "execution_count": 13,
   "outputs": [
    {
     "name": "stderr",
     "output_type": "stream",
     "text": [
      "C:\\Users\\nikdf\\AppData\\Local\\Temp\\ipykernel_19984\\1123104947.py:8: FutureWarning: You are using `torch.load` with `weights_only=False` (the current default value), which uses the default pickle module implicitly. It is possible to construct malicious pickle data which will execute arbitrary code during unpickling (See https://github.com/pytorch/pytorch/blob/main/SECURITY.md#untrusted-models for more details). In a future release, the default value for `weights_only` will be flipped to `True`. This limits the functions that could be executed during unpickling. Arbitrary objects will no longer be allowed to be loaded via this mode unless they are explicitly allowlisted by the user via `torch.serialization.add_safe_globals`. We recommend you start setting `weights_only=True` for any use case where you don't have full control of the loaded file. Please open an issue on GitHub for any issues related to this experimental feature.\n",
      "  seq_encoder.load_state_dict(torch.load(\"../../src/model_weights/rt-emb.pt\"))\n"
     ]
    }
   ]
  },
  {
   "cell_type": "code",
   "source": [
    "from ptls.data_load.datasets import inference_data_loader\n",
    "\n",
    "\n",
    "trainer = pl.Trainer(\n",
    "    max_epochs=15,\n",
    "    accelerator=\"cuda\" if torch.cuda.is_available() else \"cpu\",\n",
    "    devices=1 if torch.cuda.is_available() else \"auto\",\n",
    "    enable_progress_bar=True,\n",
    ")\n",
    "\n",
    "train_dl = inference_data_loader(train, num_workers=0, batch_size=256)\n",
    "train_embeds = torch.vstack(trainer.predict(model, train_dl, ))\n",
    "\n",
    "test_dl = inference_data_loader(test, num_workers=0, batch_size=256)\n",
    "test_embeds = torch.vstack(trainer.predict(model, test_dl))\n",
    "\n",
    "\n",
    "train_embeds.shape, test_embeds.shape"
   ],
   "metadata": {
    "colab": {
     "base_uri": "https://localhost:8080/",
     "height": 133,
     "referenced_widgets": [
      "6f6bf3d84f7541698da2032e87f70f09",
      "ee80d56f0d7145d9b54bf7d3d7228536",
      "8fa04f51a8e14e9c8e855b426af36ae1",
      "f0befde077cd4fb7a3d86355b6b0491f",
      "b062306aa6da4886a564a122a880d2c9",
      "edf2a97456d3449e8c1be1986e5f18a8",
      "e06f51a3e1f940f59409cbad23c8b27a",
      "80aba32c18614180a3e86ce7a8528012",
      "8a8fc4e40a814702b0108a27671c4b6a",
      "6011b27594a14f89a71966c2c7bfa1d4",
      "15af7c09e1464c9288e368d1eec1e07b",
      "7cdf4bb1e449467eaf94c86bc55b750e",
      "3f01b599be95450899a310c2ef445f06",
      "03b9e7ebe2eb478cb9013640a0a37514",
      "6acc03d6578144f797a8396001ce189f",
      "6f82d2a77bff4286bb5f619c7f7c152c",
      "c56e8be8277b414d9dfb4e99788fc7d0",
      "e333495763204ea6884379110e176d6b",
      "e06f179c88a44415bec8a82dacaa634a",
      "848e1096dbf04d52b8edd3ec17538fc9",
      "52076ba65fad45268c049a4180ad913f",
      "2e4dc4ec5a3b4c9484e0944864a0acb3"
     ]
    },
    "id": "5BE94KL2xb-q",
    "outputId": "f4244731-9107-4bac-eae3-4ec8494f48b4",
    "ExecuteTime": {
     "end_time": "2024-09-25T12:19:07.936334800Z",
     "start_time": "2024-09-25T12:19:02.084802300Z"
    }
   },
   "id": "5BE94KL2xb-q",
   "execution_count": 15,
   "outputs": [
    {
     "name": "stderr",
     "output_type": "stream",
     "text": [
      "GPU available: True (cuda), used: True\n",
      "TPU available: False, using: 0 TPU cores\n",
      "HPU available: False, using: 0 HPUs\n",
      "You are using a CUDA device ('NVIDIA GeForce RTX 4060 Ti') that has Tensor Cores. To properly utilize them, you should set `torch.set_float32_matmul_precision('medium' | 'high')` which will trade-off precision for performance. For more details, read https://pytorch.org/docs/stable/generated/torch.set_float32_matmul_precision.html#torch.set_float32_matmul_precision\n",
      "LOCAL_RANK: 0 - CUDA_VISIBLE_DEVICES: [0]\n",
      "C:\\Users\\nikdf\\PycharmProjects\\sber_ai_lab_task\\.venv\\lib\\site-packages\\pytorch_lightning\\trainer\\connectors\\data_connector.py:424: The 'predict_dataloader' does not have many workers which may be a bottleneck. Consider increasing the value of the `num_workers` argument` to `num_workers=19` in the `DataLoader` to improve performance.\n"
     ]
    },
    {
     "data": {
      "text/plain": "Predicting: |          | 0/? [00:00<?, ?it/s]",
      "application/vnd.jupyter.widget-view+json": {
       "version_major": 2,
       "version_minor": 0,
       "model_id": "863d36eb83e249bab885d6ba81913e8f"
      }
     },
     "metadata": {},
     "output_type": "display_data"
    },
    {
     "name": "stderr",
     "output_type": "stream",
     "text": [
      "LOCAL_RANK: 0 - CUDA_VISIBLE_DEVICES: [0]\n"
     ]
    },
    {
     "data": {
      "text/plain": "Predicting: |          | 0/? [00:00<?, ?it/s]",
      "application/vnd.jupyter.widget-view+json": {
       "version_major": 2,
       "version_minor": 0,
       "model_id": "4dadf4bcd81e4a4b817bee21de97dee0"
      }
     },
     "metadata": {},
     "output_type": "display_data"
    },
    {
     "data": {
      "text/plain": "(torch.Size([57129, 256]), torch.Size([19043, 256]))"
     },
     "execution_count": 15,
     "metadata": {},
     "output_type": "execute_result"
    }
   ]
  },
  {
   "cell_type": "code",
   "source": [
    "df_target = pd.read_csv('../../src/data/target_TransactionRetail.csv')\n",
    "\n",
    "df_target"
   ],
   "metadata": {
    "colab": {
     "base_uri": "https://localhost:8080/",
     "height": 424
    },
    "id": "pcPtk4bMp0LU",
    "outputId": "a41a99e1-50b0-4a3c-9507-5e90a0476f92",
    "ExecuteTime": {
     "end_time": "2024-09-25T12:19:39.069717800Z",
     "start_time": "2024-09-25T12:19:38.977247900Z"
    }
   },
   "id": "pcPtk4bMp0LU",
   "execution_count": 16,
   "outputs": [
    {
     "data": {
      "text/plain": "       customer_id  target\n0               14       1\n1               42       2\n2               49       1\n3               59       2\n4               65       0\n...            ...     ...\n95210       999910       1\n95211       999931       0\n95212       999977       1\n95213       999990       2\n95214       999997       0\n\n[95215 rows x 2 columns]",
      "text/html": "<div>\n<style scoped>\n    .dataframe tbody tr th:only-of-type {\n        vertical-align: middle;\n    }\n\n    .dataframe tbody tr th {\n        vertical-align: top;\n    }\n\n    .dataframe thead th {\n        text-align: right;\n    }\n</style>\n<table border=\"1\" class=\"dataframe\">\n  <thead>\n    <tr style=\"text-align: right;\">\n      <th></th>\n      <th>customer_id</th>\n      <th>target</th>\n    </tr>\n  </thead>\n  <tbody>\n    <tr>\n      <th>0</th>\n      <td>14</td>\n      <td>1</td>\n    </tr>\n    <tr>\n      <th>1</th>\n      <td>42</td>\n      <td>2</td>\n    </tr>\n    <tr>\n      <th>2</th>\n      <td>49</td>\n      <td>1</td>\n    </tr>\n    <tr>\n      <th>3</th>\n      <td>59</td>\n      <td>2</td>\n    </tr>\n    <tr>\n      <th>4</th>\n      <td>65</td>\n      <td>0</td>\n    </tr>\n    <tr>\n      <th>...</th>\n      <td>...</td>\n      <td>...</td>\n    </tr>\n    <tr>\n      <th>95210</th>\n      <td>999910</td>\n      <td>1</td>\n    </tr>\n    <tr>\n      <th>95211</th>\n      <td>999931</td>\n      <td>0</td>\n    </tr>\n    <tr>\n      <th>95212</th>\n      <td>999977</td>\n      <td>1</td>\n    </tr>\n    <tr>\n      <th>95213</th>\n      <td>999990</td>\n      <td>2</td>\n    </tr>\n    <tr>\n      <th>95214</th>\n      <td>999997</td>\n      <td>0</td>\n    </tr>\n  </tbody>\n</table>\n<p>95215 rows × 2 columns</p>\n</div>"
     },
     "execution_count": 16,
     "metadata": {},
     "output_type": "execute_result"
    }
   ]
  },
  {
   "cell_type": "code",
   "source": [
    "df_target = df_target.set_index('customer_id')\n",
    "\n",
    "train_df = pd.DataFrame(data=train_embeds, columns=[f'embed_{i}' for i in range(train_embeds.shape[1])])\n",
    "train_df['customer_id'] = [x['customer_id'] for x in train]\n",
    "train_df = train_df.merge(df_target, how='left', on='customer_id')\n",
    "\n",
    "test_df = pd.DataFrame(data=test_embeds, columns=[f'embed_{i}' for i in range(test_embeds.shape[1])])\n",
    "test_df['customer_id'] = [x['customer_id'] for x in test]\n",
    "test_df = test_df.merge(df_target, how='left', on='customer_id')\n",
    "\n",
    "\n",
    "train_df.shape, test_df.shape"
   ],
   "metadata": {
    "colab": {
     "base_uri": "https://localhost:8080/"
    },
    "id": "UpkFniIS03sZ",
    "outputId": "e1c69561-312d-4303-964e-cb4aa884f816",
    "ExecuteTime": {
     "end_time": "2024-09-25T12:19:40.684290300Z",
     "start_time": "2024-09-25T12:19:40.481118800Z"
    }
   },
   "id": "UpkFniIS03sZ",
   "execution_count": 17,
   "outputs": [
    {
     "data": {
      "text/plain": "((57129, 258), (19043, 258))"
     },
     "execution_count": 17,
     "metadata": {},
     "output_type": "execute_result"
    }
   ]
  },
  {
   "cell_type": "markdown",
   "source": [
    "**Обучим random forest на основе полученных эмбеддингов для сегментации клиентов по их покупательскому поведению (чтобы в последствие можно было предлагать наиболее релевантные предложения)**"
   ],
   "metadata": {
    "id": "B6zFtK_I31_X"
   },
   "id": "B6zFtK_I31_X"
  },
  {
   "cell_type": "markdown",
   "source": [
    "Как я уже упоминал ранее, для решения проблемы дисбаланса классов будет использована кросс-валидация с учетом стратификации и class weight\n",
    "\n",
    "- для этого поделим это на 2 эксперимента\n",
    "\n",
    "-----\n",
    "\n",
    "Дополнительно, я решил применить grid search для поиска оптимальных гиперпараметров"
   ],
   "metadata": {
    "id": "sAxwPn_y4NSB"
   },
   "id": "sAxwPn_y4NSB"
  },
  {
   "cell_type": "markdown",
   "source": [
    "#### Эксперимент №1: **со стратифицированной кросс-валидацией**"
   ],
   "metadata": {
    "id": "y0iintoI5PDk"
   },
   "id": "y0iintoI5PDk"
  },
  {
   "cell_type": "code",
   "source": [
    "import pandas as pd\n",
    "from sklearn.ensemble import RandomForestClassifier\n",
    "from sklearn.model_selection import StratifiedKFold, GridSearchCV\n",
    "from sklearn.metrics import classification_report, accuracy_score\n",
    "\n",
    "\n",
    "embed_columns = [x for x in train_df.columns if x.startswith('embed')]\n",
    "X_train, y_train = train_df[embed_columns], train_df['target']\n",
    "\n",
    "X_test, y_test = test_df[embed_columns], test_df['target']\n",
    "\n",
    "\n",
    "stratified_kfold = StratifiedKFold(n_splits=5, shuffle=True, random_state=42)\n",
    "\n",
    "\n",
    "param_grid = {\n",
    "    'n_estimators': [50, 100, 200],\n",
    "    'max_depth': [None, 10, 20, 30],\n",
    "}\n",
    "\n",
    "\n",
    "rf = RandomForestClassifier(random_state=42)\n",
    "\n",
    "grid_search = GridSearchCV(estimator=rf, param_grid=param_grid,\n",
    "                           scoring='accuracy', cv=stratified_kfold, n_jobs=-1)\n",
    "\n",
    "\n",
    "grid_search.fit(X_train, y_train)\n",
    "\n",
    "\n",
    "print(\"Best parameters found: \", grid_search.best_params_)\n",
    "\n",
    "# predict\n",
    "y_pred = grid_search.predict(X_test)\n",
    "test_accuracy = accuracy_score(y_test, y_pred)\n",
    "print(f'Test Accuracy: {test_accuracy:.4f}')\n",
    "\n",
    "# summary\n",
    "print(classification_report(y_test, y_pred))"
   ],
   "metadata": {
    "id": "IurzN_YB4J51",
    "ExecuteTime": {
     "end_time": "2024-09-25T12:28:51.566079600Z",
     "start_time": "2024-09-25T12:19:52.295963400Z"
    }
   },
   "id": "IurzN_YB4J51",
   "execution_count": 18,
   "outputs": [
    {
     "name": "stdout",
     "output_type": "stream",
     "text": [
      "Best parameters found:  {'max_depth': None, 'n_estimators': 200}\n",
      "Test Accuracy: 0.7735\n",
      "              precision    recall  f1-score   support\n",
      "\n",
      "           0       0.74      0.94      0.83     11123\n",
      "           1       0.87      0.62      0.73      5556\n",
      "           2       0.84      0.33      0.47      2364\n",
      "\n",
      "    accuracy                           0.77     19043\n",
      "   macro avg       0.82      0.63      0.68     19043\n",
      "weighted avg       0.79      0.77      0.76     19043\n"
     ]
    }
   ]
  },
  {
   "cell_type": "code",
   "outputs": [
    {
     "data": {
      "text/plain": "<Figure size 1000x700 with 2 Axes>",
      "image/png": "[encoded data removed]"
     },
     "metadata": {},
     "output_type": "display_data"
    }
   ],
   "source": [
    "from sklearn.metrics import confusion_matrix\n",
    "\n",
    "conf_matrix = confusion_matrix(y_test, y_pred)\n",
    "\n",
    "plt.figure(figsize=(10, 7))\n",
    "sns.heatmap(conf_matrix, annot=True, fmt='d', cmap='Blues', \n",
    "            xticklabels=['0', '1', '2'], \n",
    "            yticklabels=['0', '1', '2'])\n",
    "plt.ylabel('True')\n",
    "plt.xlabel('Predicted')\n",
    "plt.title('Confusion Matrix')\n",
    "plt.show()"
   ],
   "metadata": {
    "collapsed": false,
    "ExecuteTime": {
     "end_time": "2024-09-25T13:26:10.597001Z",
     "start_time": "2024-09-25T13:26:10.402002100Z"
    }
   },
   "id": "3f2d2a48e539ad2d",
   "execution_count": 28
  },
  {
   "cell_type": "markdown",
   "source": [
    "**Вывод касательно первого эксперимента:**\n",
    "-----\n",
    "\n",
    "- сначала по матрице ошибок\n",
    "\n",
    "TP00=`10482`, FP01=493, FP02=148\n",
    "FN10=2089, TP11=`3464`, FP12=3\n",
    "FN20=1579, FN21=2, TP22=`783`\n",
    "\n",
    "В целом результат средний, безусловно еще есть над чем работать, все-таки дисбаланс классов, мне кажется, сказался на итоговом результате предсказательной способности алгоритма\n",
    "\n",
    "Возможно стоит попробовать эксперимент с генерированием синтетических данных\n",
    "\n",
    "----- \n",
    "\n",
    "accuracy на тестовой выборке составила: `~77.3%`"
   ],
   "metadata": {
    "collapsed": false
   },
   "id": "89611bf4cb57fa7d"
  },
  {
   "cell_type": "markdown",
   "source": [
    "#### Эксперимент №2: **с class weight**"
   ],
   "metadata": {
    "collapsed": false
   },
   "id": "f579793376a525df"
  },
  {
   "cell_type": "code",
   "outputs": [
    {
     "name": "stdout",
     "output_type": "stream",
     "text": [
      "Fitting 5 folds for each of 12 candidates, totalling 60 fits\n",
      "\n",
      "Best parameters found:  {'class_weight': 'balanced', 'max_depth': 20, 'n_estimators': 200}\n",
      "\n",
      "Test Accuracy: 0.7834\n",
      "\n",
      "              precision    recall  f1-score   support\n",
      "\n",
      "           0       0.76      0.92      0.83     11123\n",
      "           1       0.87      0.63      0.73      5556\n",
      "           2       0.77      0.49      0.60      2364\n",
      "\n",
      "    accuracy                           0.78     19043\n",
      "   macro avg       0.80      0.68      0.72     19043\n",
      "weighted avg       0.79      0.78      0.77     19043\n"
     ]
    }
   ],
   "source": [
    "embed_columns = [x for x in train_df.columns if x.startswith('embed')]\n",
    "X_train, y_train = train_df[embed_columns], train_df['target']\n",
    "\n",
    "X_test, y_test = test_df[embed_columns], test_df['target']\n",
    "\n",
    "\n",
    "param_grid = {\n",
    "    'n_estimators': [50, 100, 200],\n",
    "    'max_depth': [None, 10, 20, 30],\n",
    "    'class_weight': ['balanced']\n",
    "}\n",
    "\n",
    "\n",
    "rf = RandomForestClassifier(random_state=42)\n",
    "\n",
    "grid_search = GridSearchCV(estimator=rf, param_grid=param_grid, \n",
    "                           scoring='accuracy', cv=5, n_jobs=-1, verbose=2)\n",
    "\n",
    "\n",
    "grid_search.fit(X_train, y_train)\n",
    "\n",
    "\n",
    "print(\"\\nBest parameters found: \", grid_search.best_params_)\n",
    "\n",
    "\n",
    "# predict\n",
    "y_pred = grid_search.predict(X_test)\n",
    "test_accuracy = accuracy_score(y_test, y_pred)\n",
    "print(f'\\nTest Accuracy: {test_accuracy:.4f}\\n')\n",
    "\n",
    "# summary\n",
    "print(classification_report(y_test, y_pred))"
   ],
   "metadata": {
    "collapsed": false,
    "ExecuteTime": {
     "end_time": "2024-09-25T13:58:29.194206500Z",
     "start_time": "2024-09-25T13:49:47.677793200Z"
    }
   },
   "id": "d80aec30ff5f6095",
   "execution_count": 31
  },
  {
   "cell_type": "code",
   "outputs": [
    {
     "data": {
      "text/plain": "<Figure size 1000x700 with 2 Axes>",
      "image/png": "[encoded data removed]"
     },
     "metadata": {},
     "output_type": "display_data"
    }
   ],
   "source": [
    "from sklearn.metrics import confusion_matrix\n",
    "\n",
    "conf_matrix = confusion_matrix(y_test, y_pred)\n",
    "\n",
    "plt.figure(figsize=(10, 7))\n",
    "sns.heatmap(conf_matrix, annot=True, fmt='d', cmap='Blues', \n",
    "            xticklabels=['0', '1', '2'], \n",
    "            yticklabels=['0', '1', '2'])\n",
    "plt.ylabel('True')\n",
    "plt.xlabel('Predicted')\n",
    "plt.title('Confusion Matrix')\n",
    "plt.show()"
   ],
   "metadata": {
    "collapsed": false,
    "ExecuteTime": {
     "end_time": "2024-09-25T14:02:01.831581800Z",
     "start_time": "2024-09-25T14:02:01.658536700Z"
    }
   },
   "id": "e656f3413c644dd1",
   "execution_count": 32
  },
  {
   "cell_type": "markdown",
   "source": [
    "**Вывод касательно второго эксперимента:**\n",
    "-----\n",
    "\n",
    "Хмм, использование class weight для борьбы с дисбалансом классов показало чуть лучший результат в сравнение с первым экспериментом, однако распределение по классам всё ещё оставляет желать лучшего\n",
    "\n",
    "Все-таки стоит поработать с набором данных, чтобы сбалансировать классы перед обучением random forest\n",
    "\n",
    "И думаю стоит уделить внимание oversampling и undersampling и посмотреть на результаты обучения\n",
    "\n",
    "А также попробовать другие ансамблевые методы (градиентный бустинг)\n",
    "\n",
    "----- \n",
    "\n",
    "accuracy на тестовой выборке составила: `~78.3%`"
   ],
   "metadata": {
    "collapsed": false
   },
   "id": "ba98302cf6ccd297"
  }
 ],
 "metadata": {
  "kernelspec": {
   "name": "python3",
   "language": "python",
   "display_name": "Python 3 (ipykernel)"
  },
  "language_info": {
   "codemirror_mode": {
    "name": "ipython",
    "version": 2
   },
   "file_extension": ".py",
   "mimetype": "text/x-python",
   "name": "python",
   "nbconvert_exporter": "python",
   "pygments_lexer": "ipython2",
   "version": "2.7.6"
  },
  "colab": {
   "provenance": [],
   "gpuType": "T4"
  },
  "accelerator": "GPU",
  "widgets": {
   "application/vnd.jupyter.widget-state+json": {
    "3083862354ad4b23a1a8dfbe7b750c98": {
     "model_module": "@jupyter-widgets/controls",
     "model_name": "HBoxModel",
     "model_module_version": "1.5.0",
     "state": {
      "_dom_classes": [],
      "_model_module": "@jupyter-widgets/controls",
      "_model_module_version": "1.5.0",
      "_model_name": "HBoxModel",
      "_view_count": null,
      "_view_module": "@jupyter-widgets/controls",
      "_view_module_version": "1.5.0",
      "_view_name": "HBoxView",
      "box_style": "",
      "children": [
       "IPY_MODEL_529ff248d29e4772bd3bb445f6f020ec",
       "IPY_MODEL_e9184df36b584fff9f21f2c4cd24e5e1",
       "IPY_MODEL_cafe3b827b2b46e3ba3ed6ecaf3576ba"
      ],
      "layout": "IPY_MODEL_3c5cbae6b9794ab9b5c5ceeead28a2a0"
     }
    },
    "529ff248d29e4772bd3bb445f6f020ec": {
     "model_module": "@jupyter-widgets/controls",
     "model_name": "HTMLModel",
     "model_module_version": "1.5.0",
     "state": {
      "_dom_classes": [],
      "_model_module": "@jupyter-widgets/controls",
      "_model_module_version": "1.5.0",
      "_model_name": "HTMLModel",
      "_view_count": null,
      "_view_module": "@jupyter-widgets/controls",
      "_view_module_version": "1.5.0",
      "_view_name": "HTMLView",
      "description": "",
      "description_tooltip": null,
      "layout": "IPY_MODEL_b17d2a23ceea4b6d87f7ef17aaf7f52f",
      "placeholder": "​",
      "style": "IPY_MODEL_282abaa5052140be97fee9ad920418cd",
      "value": "Sanity Checking DataLoader 0: 100%"
     }
    },
    "e9184df36b584fff9f21f2c4cd24e5e1": {
     "model_module": "@jupyter-widgets/controls",
     "model_name": "FloatProgressModel",
     "model_module_version": "1.5.0",
     "state": {
      "_dom_classes": [],
      "_model_module": "@jupyter-widgets/controls",
      "_model_module_version": "1.5.0",
      "_model_name": "FloatProgressModel",
      "_view_count": null,
      "_view_module": "@jupyter-widgets/controls",
      "_view_module_version": "1.5.0",
      "_view_name": "ProgressView",
      "bar_style": "",
      "description": "",
      "description_tooltip": null,
      "layout": "IPY_MODEL_43f67f8c7ede4a9cb6fab8722e5be154",
      "max": 2,
      "min": 0,
      "orientation": "horizontal",
      "style": "IPY_MODEL_6af492269a9f41179c75ec7c4bd9c54a",
      "value": 2
     }
    },
    "cafe3b827b2b46e3ba3ed6ecaf3576ba": {
     "model_module": "@jupyter-widgets/controls",
     "model_name": "HTMLModel",
     "model_module_version": "1.5.0",
     "state": {
      "_dom_classes": [],
      "_model_module": "@jupyter-widgets/controls",
      "_model_module_version": "1.5.0",
      "_model_name": "HTMLModel",
      "_view_count": null,
      "_view_module": "@jupyter-widgets/controls",
      "_view_module_version": "1.5.0",
      "_view_name": "HTMLView",
      "description": "",
      "description_tooltip": null,
      "layout": "IPY_MODEL_bf40f8e8014140cd849b7cbe615fe427",
      "placeholder": "​",
      "style": "IPY_MODEL_a680ecbc732c4305bf1eb59d25a752d3",
      "value": " 2/2 [00:05&lt;00:00,  0.34it/s]"
     }
    },
    "3c5cbae6b9794ab9b5c5ceeead28a2a0": {
     "model_module": "@jupyter-widgets/base",
     "model_name": "LayoutModel",
     "model_module_version": "1.2.0",
     "state": {
      "_model_module": "@jupyter-widgets/base",
      "_model_module_version": "1.2.0",
      "_model_name": "LayoutModel",
      "_view_count": null,
      "_view_module": "@jupyter-widgets/base",
      "_view_module_version": "1.2.0",
      "_view_name": "LayoutView",
      "align_content": null,
      "align_items": null,
      "align_self": null,
      "border": null,
      "bottom": null,
      "display": "inline-flex",
      "flex": null,
      "flex_flow": "row wrap",
      "grid_area": null,
      "grid_auto_columns": null,
      "grid_auto_flow": null,
      "grid_auto_rows": null,
      "grid_column": null,
      "grid_gap": null,
      "grid_row": null,
      "grid_template_areas": null,
      "grid_template_columns": null,
      "grid_template_rows": null,
      "height": null,
      "justify_content": null,
      "justify_items": null,
      "left": null,
      "margin": null,
      "max_height": null,
      "max_width": null,
      "min_height": null,
      "min_width": null,
      "object_fit": null,
      "object_position": null,
      "order": null,
      "overflow": null,
      "overflow_x": null,
      "overflow_y": null,
      "padding": null,
      "right": null,
      "top": null,
      "visibility": "hidden",
      "width": "100%"
     }
    },
    "b17d2a23ceea4b6d87f7ef17aaf7f52f": {
     "model_module": "@jupyter-widgets/base",
     "model_name": "LayoutModel",
     "model_module_version": "1.2.0",
     "state": {
      "_model_module": "@jupyter-widgets/base",
      "_model_module_version": "1.2.0",
      "_model_name": "LayoutModel",
      "_view_count": null,
      "_view_module": "@jupyter-widgets/base",
      "_view_module_version": "1.2.0",
      "_view_name": "LayoutView",
      "align_content": null,
      "align_items": null,
      "align_self": null,
      "border": null,
      "bottom": null,
      "display": null,
      "flex": null,
      "flex_flow": null,
      "grid_area": null,
      "grid_auto_columns": null,
      "grid_auto_flow": null,
      "grid_auto_rows": null,
      "grid_column": null,
      "grid_gap": null,
      "grid_row": null,
      "grid_template_areas": null,
      "grid_template_columns": null,
      "grid_template_rows": null,
      "height": null,
      "justify_content": null,
      "justify_items": null,
      "left": null,
      "margin": null,
      "max_height": null,
      "max_width": null,
      "min_height": null,
      "min_width": null,
      "object_fit": null,
      "object_position": null,
      "order": null,
      "overflow": null,
      "overflow_x": null,
      "overflow_y": null,
      "padding": null,
      "right": null,
      "top": null,
      "visibility": null,
      "width": null
     }
    },
    "282abaa5052140be97fee9ad920418cd": {
     "model_module": "@jupyter-widgets/controls",
     "model_name": "DescriptionStyleModel",
     "model_module_version": "1.5.0",
     "state": {
      "_model_module": "@jupyter-widgets/controls",
      "_model_module_version": "1.5.0",
      "_model_name": "DescriptionStyleModel",
      "_view_count": null,
      "_view_module": "@jupyter-widgets/base",
      "_view_module_version": "1.2.0",
      "_view_name": "StyleView",
      "description_width": ""
     }
    },
    "43f67f8c7ede4a9cb6fab8722e5be154": {
     "model_module": "@jupyter-widgets/base",
     "model_name": "LayoutModel",
     "model_module_version": "1.2.0",
     "state": {
      "_model_module": "@jupyter-widgets/base",
      "_model_module_version": "1.2.0",
      "_model_name": "LayoutModel",
      "_view_count": null,
      "_view_module": "@jupyter-widgets/base",
      "_view_module_version": "1.2.0",
      "_view_name": "LayoutView",
      "align_content": null,
      "align_items": null,
      "align_self": null,
      "border": null,
      "bottom": null,
      "display": null,
      "flex": "2",
      "flex_flow": null,
      "grid_area": null,
      "grid_auto_columns": null,
      "grid_auto_flow": null,
      "grid_auto_rows": null,
      "grid_column": null,
      "grid_gap": null,
      "grid_row": null,
      "grid_template_areas": null,
      "grid_template_columns": null,
      "grid_template_rows": null,
      "height": null,
      "justify_content": null,
      "justify_items": null,
      "left": null,
      "margin": null,
      "max_height": null,
      "max_width": null,
      "min_height": null,
      "min_width": null,
      "object_fit": null,
      "object_position": null,
      "order": null,
      "overflow": null,
      "overflow_x": null,
      "overflow_y": null,
      "padding": null,
      "right": null,
      "top": null,
      "visibility": null,
      "width": null
     }
    },
    "6af492269a9f41179c75ec7c4bd9c54a": {
     "model_module": "@jupyter-widgets/controls",
     "model_name": "ProgressStyleModel",
     "model_module_version": "1.5.0",
     "state": {
      "_model_module": "@jupyter-widgets/controls",
      "_model_module_version": "1.5.0",
      "_model_name": "ProgressStyleModel",
      "_view_count": null,
      "_view_module": "@jupyter-widgets/base",
      "_view_module_version": "1.2.0",
      "_view_name": "StyleView",
      "bar_color": null,
      "description_width": ""
     }
    },
    "bf40f8e8014140cd849b7cbe615fe427": {
     "model_module": "@jupyter-widgets/base",
     "model_name": "LayoutModel",
     "model_module_version": "1.2.0",
     "state": {
      "_model_module": "@jupyter-widgets/base",
      "_model_module_version": "1.2.0",
      "_model_name": "LayoutModel",
      "_view_count": null,
      "_view_module": "@jupyter-widgets/base",
      "_view_module_version": "1.2.0",
      "_view_name": "LayoutView",
      "align_content": null,
      "align_items": null,
      "align_self": null,
      "border": null,
      "bottom": null,
      "display": null,
      "flex": null,
      "flex_flow": null,
      "grid_area": null,
      "grid_auto_columns": null,
      "grid_auto_flow": null,
      "grid_auto_rows": null,
      "grid_column": null,
      "grid_gap": null,
      "grid_row": null,
      "grid_template_areas": null,
      "grid_template_columns": null,
      "grid_template_rows": null,
      "height": null,
      "justify_content": null,
      "justify_items": null,
      "left": null,
      "margin": null,
      "max_height": null,
      "max_width": null,
      "min_height": null,
      "min_width": null,
      "object_fit": null,
      "object_position": null,
      "order": null,
      "overflow": null,
      "overflow_x": null,
      "overflow_y": null,
      "padding": null,
      "right": null,
      "top": null,
      "visibility": null,
      "width": null
     }
    },
    "a680ecbc732c4305bf1eb59d25a752d3": {
     "model_module": "@jupyter-widgets/controls",
     "model_name": "DescriptionStyleModel",
     "model_module_version": "1.5.0",
     "state": {
      "_model_module": "@jupyter-widgets/controls",
      "_model_module_version": "1.5.0",
      "_model_name": "DescriptionStyleModel",
      "_view_count": null,
      "_view_module": "@jupyter-widgets/base",
      "_view_module_version": "1.2.0",
      "_view_name": "StyleView",
      "description_width": ""
     }
    },
    "3d6e7487339044cea445bad91e7b89f3": {
     "model_module": "@jupyter-widgets/controls",
     "model_name": "HBoxModel",
     "model_module_version": "1.5.0",
     "state": {
      "_dom_classes": [],
      "_model_module": "@jupyter-widgets/controls",
      "_model_module_version": "1.5.0",
      "_model_name": "HBoxModel",
      "_view_count": null,
      "_view_module": "@jupyter-widgets/controls",
      "_view_module_version": "1.5.0",
      "_view_name": "HBoxView",
      "box_style": "",
      "children": [
       "IPY_MODEL_04c44dacdd404823a42ed91274eb92cb",
       "IPY_MODEL_fccd3b8aaffb4db89f0e291e6cd8a6f7",
       "IPY_MODEL_fd9406263eb84f9eb8c5769e07cad05f"
      ],
      "layout": "IPY_MODEL_7421d96db4ae46afa0c5c716651b87f7"
     }
    },
    "04c44dacdd404823a42ed91274eb92cb": {
     "model_module": "@jupyter-widgets/controls",
     "model_name": "HTMLModel",
     "model_module_version": "1.5.0",
     "state": {
      "_dom_classes": [],
      "_model_module": "@jupyter-widgets/controls",
      "_model_module_version": "1.5.0",
      "_model_name": "HTMLModel",
      "_view_count": null,
      "_view_module": "@jupyter-widgets/controls",
      "_view_module_version": "1.5.0",
      "_view_name": "HTMLView",
      "description": "",
      "description_tooltip": null,
      "layout": "IPY_MODEL_718b429f8fc94136bbfbc148fed6a765",
      "placeholder": "​",
      "style": "IPY_MODEL_8dbbe20c598948e987b66d19514bf96c",
      "value": "Epoch 14: 100%"
     }
    },
    "fccd3b8aaffb4db89f0e291e6cd8a6f7": {
     "model_module": "@jupyter-widgets/controls",
     "model_name": "FloatProgressModel",
     "model_module_version": "1.5.0",
     "state": {
      "_dom_classes": [],
      "_model_module": "@jupyter-widgets/controls",
      "_model_module_version": "1.5.0",
      "_model_name": "FloatProgressModel",
      "_view_count": null,
      "_view_module": "@jupyter-widgets/controls",
      "_view_module_version": "1.5.0",
      "_view_name": "ProgressView",
      "bar_style": "success",
      "description": "",
      "description_tooltip": null,
      "layout": "IPY_MODEL_912e519915c949d78439226c52b177bb",
      "max": 112,
      "min": 0,
      "orientation": "horizontal",
      "style": "IPY_MODEL_bdab966be4994638b92ef01e26f8215f",
      "value": 112
     }
    },
    "fd9406263eb84f9eb8c5769e07cad05f": {
     "model_module": "@jupyter-widgets/controls",
     "model_name": "HTMLModel",
     "model_module_version": "1.5.0",
     "state": {
      "_dom_classes": [],
      "_model_module": "@jupyter-widgets/controls",
      "_model_module_version": "1.5.0",
      "_model_name": "HTMLModel",
      "_view_count": null,
      "_view_module": "@jupyter-widgets/controls",
      "_view_module_version": "1.5.0",
      "_view_name": "HTMLView",
      "description": "",
      "description_tooltip": null,
      "layout": "IPY_MODEL_5610c510a37f4aa99a92af3576b1c9fb",
      "placeholder": "​",
      "style": "IPY_MODEL_9f62da4edb864af6a292768705f00354",
      "value": " 112/112 [00:45&lt;00:00,  2.46it/s, v_num=0, seq_len=8.130, valid/recall_top_k=0.855]"
     }
    },
    "7421d96db4ae46afa0c5c716651b87f7": {
     "model_module": "@jupyter-widgets/base",
     "model_name": "LayoutModel",
     "model_module_version": "1.2.0",
     "state": {
      "_model_module": "@jupyter-widgets/base",
      "_model_module_version": "1.2.0",
      "_model_name": "LayoutModel",
      "_view_count": null,
      "_view_module": "@jupyter-widgets/base",
      "_view_module_version": "1.2.0",
      "_view_name": "LayoutView",
      "align_content": null,
      "align_items": null,
      "align_self": null,
      "border": null,
      "bottom": null,
      "display": "inline-flex",
      "flex": null,
      "flex_flow": "row wrap",
      "grid_area": null,
      "grid_auto_columns": null,
      "grid_auto_flow": null,
      "grid_auto_rows": null,
      "grid_column": null,
      "grid_gap": null,
      "grid_row": null,
      "grid_template_areas": null,
      "grid_template_columns": null,
      "grid_template_rows": null,
      "height": null,
      "justify_content": null,
      "justify_items": null,
      "left": null,
      "margin": null,
      "max_height": null,
      "max_width": null,
      "min_height": null,
      "min_width": null,
      "object_fit": null,
      "object_position": null,
      "order": null,
      "overflow": null,
      "overflow_x": null,
      "overflow_y": null,
      "padding": null,
      "right": null,
      "top": null,
      "visibility": null,
      "width": "100%"
     }
    },
    "718b429f8fc94136bbfbc148fed6a765": {
     "model_module": "@jupyter-widgets/base",
     "model_name": "LayoutModel",
     "model_module_version": "1.2.0",
     "state": {
      "_model_module": "@jupyter-widgets/base",
      "_model_module_version": "1.2.0",
      "_model_name": "LayoutModel",
      "_view_count": null,
      "_view_module": "@jupyter-widgets/base",
      "_view_module_version": "1.2.0",
      "_view_name": "LayoutView",
      "align_content": null,
      "align_items": null,
      "align_self": null,
      "border": null,
      "bottom": null,
      "display": null,
      "flex": null,
      "flex_flow": null,
      "grid_area": null,
      "grid_auto_columns": null,
      "grid_auto_flow": null,
      "grid_auto_rows": null,
      "grid_column": null,
      "grid_gap": null,
      "grid_row": null,
      "grid_template_areas": null,
      "grid_template_columns": null,
      "grid_template_rows": null,
      "height": null,
      "justify_content": null,
      "justify_items": null,
      "left": null,
      "margin": null,
      "max_height": null,
      "max_width": null,
      "min_height": null,
      "min_width": null,
      "object_fit": null,
      "object_position": null,
      "order": null,
      "overflow": null,
      "overflow_x": null,
      "overflow_y": null,
      "padding": null,
      "right": null,
      "top": null,
      "visibility": null,
      "width": null
     }
    },
    "8dbbe20c598948e987b66d19514bf96c": {
     "model_module": "@jupyter-widgets/controls",
     "model_name": "DescriptionStyleModel",
     "model_module_version": "1.5.0",
     "state": {
      "_model_module": "@jupyter-widgets/controls",
      "_model_module_version": "1.5.0",
      "_model_name": "DescriptionStyleModel",
      "_view_count": null,
      "_view_module": "@jupyter-widgets/base",
      "_view_module_version": "1.2.0",
      "_view_name": "StyleView",
      "description_width": ""
     }
    },
    "912e519915c949d78439226c52b177bb": {
     "model_module": "@jupyter-widgets/base",
     "model_name": "LayoutModel",
     "model_module_version": "1.2.0",
     "state": {
      "_model_module": "@jupyter-widgets/base",
      "_model_module_version": "1.2.0",
      "_model_name": "LayoutModel",
      "_view_count": null,
      "_view_module": "@jupyter-widgets/base",
      "_view_module_version": "1.2.0",
      "_view_name": "LayoutView",
      "align_content": null,
      "align_items": null,
      "align_self": null,
      "border": null,
      "bottom": null,
      "display": null,
      "flex": "2",
      "flex_flow": null,
      "grid_area": null,
      "grid_auto_columns": null,
      "grid_auto_flow": null,
      "grid_auto_rows": null,
      "grid_column": null,
      "grid_gap": null,
      "grid_row": null,
      "grid_template_areas": null,
      "grid_template_columns": null,
      "grid_template_rows": null,
      "height": null,
      "justify_content": null,
      "justify_items": null,
      "left": null,
      "margin": null,
      "max_height": null,
      "max_width": null,
      "min_height": null,
      "min_width": null,
      "object_fit": null,
      "object_position": null,
      "order": null,
      "overflow": null,
      "overflow_x": null,
      "overflow_y": null,
      "padding": null,
      "right": null,
      "top": null,
      "visibility": null,
      "width": null
     }
    },
    "bdab966be4994638b92ef01e26f8215f": {
     "model_module": "@jupyter-widgets/controls",
     "model_name": "ProgressStyleModel",
     "model_module_version": "1.5.0",
     "state": {
      "_model_module": "@jupyter-widgets/controls",
      "_model_module_version": "1.5.0",
      "_model_name": "ProgressStyleModel",
      "_view_count": null,
      "_view_module": "@jupyter-widgets/base",
      "_view_module_version": "1.2.0",
      "_view_name": "StyleView",
      "bar_color": null,
      "description_width": ""
     }
    },
    "5610c510a37f4aa99a92af3576b1c9fb": {
     "model_module": "@jupyter-widgets/base",
     "model_name": "LayoutModel",
     "model_module_version": "1.2.0",
     "state": {
      "_model_module": "@jupyter-widgets/base",
      "_model_module_version": "1.2.0",
      "_model_name": "LayoutModel",
      "_view_count": null,
      "_view_module": "@jupyter-widgets/base",
      "_view_module_version": "1.2.0",
      "_view_name": "LayoutView",
      "align_content": null,
      "align_items": null,
      "align_self": null,
      "border": null,
      "bottom": null,
      "display": null,
      "flex": null,
      "flex_flow": null,
      "grid_area": null,
      "grid_auto_columns": null,
      "grid_auto_flow": null,
      "grid_auto_rows": null,
      "grid_column": null,
      "grid_gap": null,
      "grid_row": null,
      "grid_template_areas": null,
      "grid_template_columns": null,
      "grid_template_rows": null,
      "height": null,
      "justify_content": null,
      "justify_items": null,
      "left": null,
      "margin": null,
      "max_height": null,
      "max_width": null,
      "min_height": null,
      "min_width": null,
      "object_fit": null,
      "object_position": null,
      "order": null,
      "overflow": null,
      "overflow_x": null,
      "overflow_y": null,
      "padding": null,
      "right": null,
      "top": null,
      "visibility": null,
      "width": null
     }
    },
    "9f62da4edb864af6a292768705f00354": {
     "model_module": "@jupyter-widgets/controls",
     "model_name": "DescriptionStyleModel",
     "model_module_version": "1.5.0",
     "state": {
      "_model_module": "@jupyter-widgets/controls",
      "_model_module_version": "1.5.0",
      "_model_name": "DescriptionStyleModel",
      "_view_count": null,
      "_view_module": "@jupyter-widgets/base",
      "_view_module_version": "1.2.0",
      "_view_name": "StyleView",
      "description_width": ""
     }
    },
    "cf043f5dd04d49afad6f5bbaa7962a56": {
     "model_module": "@jupyter-widgets/controls",
     "model_name": "HBoxModel",
     "model_module_version": "1.5.0",
     "state": {
      "_dom_classes": [],
      "_model_module": "@jupyter-widgets/controls",
      "_model_module_version": "1.5.0",
      "_model_name": "HBoxModel",
      "_view_count": null,
      "_view_module": "@jupyter-widgets/controls",
      "_view_module_version": "1.5.0",
      "_view_name": "HBoxView",
      "box_style": "",
      "children": [
       "IPY_MODEL_cdbed3d4db73471cbf6020d65f26696a",
       "IPY_MODEL_4889ae75db944445a61c5198eff5f77b",
       "IPY_MODEL_7e5f5b9f1bab4d8f8b8d362de7f6757d"
      ],
      "layout": "IPY_MODEL_11772106047943ed9c3572de2e4e1233"
     }
    },
    "cdbed3d4db73471cbf6020d65f26696a": {
     "model_module": "@jupyter-widgets/controls",
     "model_name": "HTMLModel",
     "model_module_version": "1.5.0",
     "state": {
      "_dom_classes": [],
      "_model_module": "@jupyter-widgets/controls",
      "_model_module_version": "1.5.0",
      "_model_name": "HTMLModel",
      "_view_count": null,
      "_view_module": "@jupyter-widgets/controls",
      "_view_module_version": "1.5.0",
      "_view_name": "HTMLView",
      "description": "",
      "description_tooltip": null,
      "layout": "IPY_MODEL_38b7ce24b7fb471ea846d5f4b60d2f49",
      "placeholder": "​",
      "style": "IPY_MODEL_3b8e8c2972774c5f92ef47817418611b",
      "value": "Validation DataLoader 0: 100%"
     }
    },
    "4889ae75db944445a61c5198eff5f77b": {
     "model_module": "@jupyter-widgets/controls",
     "model_name": "FloatProgressModel",
     "model_module_version": "1.5.0",
     "state": {
      "_dom_classes": [],
      "_model_module": "@jupyter-widgets/controls",
      "_model_module_version": "1.5.0",
      "_model_name": "FloatProgressModel",
      "_view_count": null,
      "_view_module": "@jupyter-widgets/controls",
      "_view_module_version": "1.5.0",
      "_view_name": "ProgressView",
      "bar_style": "",
      "description": "",
      "description_tooltip": null,
      "layout": "IPY_MODEL_a1c1017e4615457b9cf67c8485a76918",
      "max": 38,
      "min": 0,
      "orientation": "horizontal",
      "style": "IPY_MODEL_988c107dd1d04db2a1ae7a867cd43808",
      "value": 38
     }
    },
    "7e5f5b9f1bab4d8f8b8d362de7f6757d": {
     "model_module": "@jupyter-widgets/controls",
     "model_name": "HTMLModel",
     "model_module_version": "1.5.0",
     "state": {
      "_dom_classes": [],
      "_model_module": "@jupyter-widgets/controls",
      "_model_module_version": "1.5.0",
      "_model_name": "HTMLModel",
      "_view_count": null,
      "_view_module": "@jupyter-widgets/controls",
      "_view_module_version": "1.5.0",
      "_view_name": "HTMLView",
      "description": "",
      "description_tooltip": null,
      "layout": "IPY_MODEL_7008e9bcefd64512915988399e5c59f4",
      "placeholder": "​",
      "style": "IPY_MODEL_fcfff2dce7e14b1ea0f817b4f81515b3",
      "value": " 38/38 [00:07&lt;00:00,  4.92it/s]"
     }
    },
    "11772106047943ed9c3572de2e4e1233": {
     "model_module": "@jupyter-widgets/base",
     "model_name": "LayoutModel",
     "model_module_version": "1.2.0",
     "state": {
      "_model_module": "@jupyter-widgets/base",
      "_model_module_version": "1.2.0",
      "_model_name": "LayoutModel",
      "_view_count": null,
      "_view_module": "@jupyter-widgets/base",
      "_view_module_version": "1.2.0",
      "_view_name": "LayoutView",
      "align_content": null,
      "align_items": null,
      "align_self": null,
      "border": null,
      "bottom": null,
      "display": "inline-flex",
      "flex": null,
      "flex_flow": "row wrap",
      "grid_area": null,
      "grid_auto_columns": null,
      "grid_auto_flow": null,
      "grid_auto_rows": null,
      "grid_column": null,
      "grid_gap": null,
      "grid_row": null,
      "grid_template_areas": null,
      "grid_template_columns": null,
      "grid_template_rows": null,
      "height": null,
      "justify_content": null,
      "justify_items": null,
      "left": null,
      "margin": null,
      "max_height": null,
      "max_width": null,
      "min_height": null,
      "min_width": null,
      "object_fit": null,
      "object_position": null,
      "order": null,
      "overflow": null,
      "overflow_x": null,
      "overflow_y": null,
      "padding": null,
      "right": null,
      "top": null,
      "visibility": "hidden",
      "width": "100%"
     }
    },
    "38b7ce24b7fb471ea846d5f4b60d2f49": {
     "model_module": "@jupyter-widgets/base",
     "model_name": "LayoutModel",
     "model_module_version": "1.2.0",
     "state": {
      "_model_module": "@jupyter-widgets/base",
      "_model_module_version": "1.2.0",
      "_model_name": "LayoutModel",
      "_view_count": null,
      "_view_module": "@jupyter-widgets/base",
      "_view_module_version": "1.2.0",
      "_view_name": "LayoutView",
      "align_content": null,
      "align_items": null,
      "align_self": null,
      "border": null,
      "bottom": null,
      "display": null,
      "flex": null,
      "flex_flow": null,
      "grid_area": null,
      "grid_auto_columns": null,
      "grid_auto_flow": null,
      "grid_auto_rows": null,
      "grid_column": null,
      "grid_gap": null,
      "grid_row": null,
      "grid_template_areas": null,
      "grid_template_columns": null,
      "grid_template_rows": null,
      "height": null,
      "justify_content": null,
      "justify_items": null,
      "left": null,
      "margin": null,
      "max_height": null,
      "max_width": null,
      "min_height": null,
      "min_width": null,
      "object_fit": null,
      "object_position": null,
      "order": null,
      "overflow": null,
      "overflow_x": null,
      "overflow_y": null,
      "padding": null,
      "right": null,
      "top": null,
      "visibility": null,
      "width": null
     }
    },
    "3b8e8c2972774c5f92ef47817418611b": {
     "model_module": "@jupyter-widgets/controls",
     "model_name": "DescriptionStyleModel",
     "model_module_version": "1.5.0",
     "state": {
      "_model_module": "@jupyter-widgets/controls",
      "_model_module_version": "1.5.0",
      "_model_name": "DescriptionStyleModel",
      "_view_count": null,
      "_view_module": "@jupyter-widgets/base",
      "_view_module_version": "1.2.0",
      "_view_name": "StyleView",
      "description_width": ""
     }
    },
    "a1c1017e4615457b9cf67c8485a76918": {
     "model_module": "@jupyter-widgets/base",
     "model_name": "LayoutModel",
     "model_module_version": "1.2.0",
     "state": {
      "_model_module": "@jupyter-widgets/base",
      "_model_module_version": "1.2.0",
      "_model_name": "LayoutModel",
      "_view_count": null,
      "_view_module": "@jupyter-widgets/base",
      "_view_module_version": "1.2.0",
      "_view_name": "LayoutView",
      "align_content": null,
      "align_items": null,
      "align_self": null,
      "border": null,
      "bottom": null,
      "display": null,
      "flex": "2",
      "flex_flow": null,
      "grid_area": null,
      "grid_auto_columns": null,
      "grid_auto_flow": null,
      "grid_auto_rows": null,
      "grid_column": null,
      "grid_gap": null,
      "grid_row": null,
      "grid_template_areas": null,
      "grid_template_columns": null,
      "grid_template_rows": null,
      "height": null,
      "justify_content": null,
      "justify_items": null,
      "left": null,
      "margin": null,
      "max_height": null,
      "max_width": null,
      "min_height": null,
      "min_width": null,
      "object_fit": null,
      "object_position": null,
      "order": null,
      "overflow": null,
      "overflow_x": null,
      "overflow_y": null,
      "padding": null,
      "right": null,
      "top": null,
      "visibility": null,
      "width": null
     }
    },
    "988c107dd1d04db2a1ae7a867cd43808": {
     "model_module": "@jupyter-widgets/controls",
     "model_name": "ProgressStyleModel",
     "model_module_version": "1.5.0",
     "state": {
      "_model_module": "@jupyter-widgets/controls",
      "_model_module_version": "1.5.0",
      "_model_name": "ProgressStyleModel",
      "_view_count": null,
      "_view_module": "@jupyter-widgets/base",
      "_view_module_version": "1.2.0",
      "_view_name": "StyleView",
      "bar_color": null,
      "description_width": ""
     }
    },
    "7008e9bcefd64512915988399e5c59f4": {
     "model_module": "@jupyter-widgets/base",
     "model_name": "LayoutModel",
     "model_module_version": "1.2.0",
     "state": {
      "_model_module": "@jupyter-widgets/base",
      "_model_module_version": "1.2.0",
      "_model_name": "LayoutModel",
      "_view_count": null,
      "_view_module": "@jupyter-widgets/base",
      "_view_module_version": "1.2.0",
      "_view_name": "LayoutView",
      "align_content": null,
      "align_items": null,
      "align_self": null,
      "border": null,
      "bottom": null,
      "display": null,
      "flex": null,
      "flex_flow": null,
      "grid_area": null,
      "grid_auto_columns": null,
      "grid_auto_flow": null,
      "grid_auto_rows": null,
      "grid_column": null,
      "grid_gap": null,
      "grid_row": null,
      "grid_template_areas": null,
      "grid_template_columns": null,
      "grid_template_rows": null,
      "height": null,
      "justify_content": null,
      "justify_items": null,
      "left": null,
      "margin": null,
      "max_height": null,
      "max_width": null,
      "min_height": null,
      "min_width": null,
      "object_fit": null,
      "object_position": null,
      "order": null,
      "overflow": null,
      "overflow_x": null,
      "overflow_y": null,
      "padding": null,
      "right": null,
      "top": null,
      "visibility": null,
      "width": null
     }
    },
    "fcfff2dce7e14b1ea0f817b4f81515b3": {
     "model_module": "@jupyter-widgets/controls",
     "model_name": "DescriptionStyleModel",
     "model_module_version": "1.5.0",
     "state": {
      "_model_module": "@jupyter-widgets/controls",
      "_model_module_version": "1.5.0",
      "_model_name": "DescriptionStyleModel",
      "_view_count": null,
      "_view_module": "@jupyter-widgets/base",
      "_view_module_version": "1.2.0",
      "_view_name": "StyleView",
      "description_width": ""
     }
    },
    "b4519d826c3a428c84a535281c990c21": {
     "model_module": "@jupyter-widgets/controls",
     "model_name": "HBoxModel",
     "model_module_version": "1.5.0",
     "state": {
      "_dom_classes": [],
      "_model_module": "@jupyter-widgets/controls",
      "_model_module_version": "1.5.0",
      "_model_name": "HBoxModel",
      "_view_count": null,
      "_view_module": "@jupyter-widgets/controls",
      "_view_module_version": "1.5.0",
      "_view_name": "HBoxView",
      "box_style": "",
      "children": [
       "IPY_MODEL_8023f0a8a7ab45e68c0b2ba0d64df373",
       "IPY_MODEL_00626c075c2446c9a0b9cd993889cbee",
       "IPY_MODEL_fb92f1689f1a46cba4daa8adcdbf4fa5"
      ],
      "layout": "IPY_MODEL_d5303d55006c48c0a1be68a0ba43929b"
     }
    },
    "8023f0a8a7ab45e68c0b2ba0d64df373": {
     "model_module": "@jupyter-widgets/controls",
     "model_name": "HTMLModel",
     "model_module_version": "1.5.0",
     "state": {
      "_dom_classes": [],
      "_model_module": "@jupyter-widgets/controls",
      "_model_module_version": "1.5.0",
      "_model_name": "HTMLModel",
      "_view_count": null,
      "_view_module": "@jupyter-widgets/controls",
      "_view_module_version": "1.5.0",
      "_view_name": "HTMLView",
      "description": "",
      "description_tooltip": null,
      "layout": "IPY_MODEL_b855fcdbaa8e4d77861d1f5141f7eb02",
      "placeholder": "​",
      "style": "IPY_MODEL_ca1050bf178c4475abd7d3d9b6c8c4a9",
      "value": "Validation DataLoader 0: 100%"
     }
    },
    "00626c075c2446c9a0b9cd993889cbee": {
     "model_module": "@jupyter-widgets/controls",
     "model_name": "FloatProgressModel",
     "model_module_version": "1.5.0",
     "state": {
      "_dom_classes": [],
      "_model_module": "@jupyter-widgets/controls",
      "_model_module_version": "1.5.0",
      "_model_name": "FloatProgressModel",
      "_view_count": null,
      "_view_module": "@jupyter-widgets/controls",
      "_view_module_version": "1.5.0",
      "_view_name": "ProgressView",
      "bar_style": "",
      "description": "",
      "description_tooltip": null,
      "layout": "IPY_MODEL_7feb27d7a63343c0a656a7156151688b",
      "max": 38,
      "min": 0,
      "orientation": "horizontal",
      "style": "IPY_MODEL_b4b1b3b6ada54b71a0e08db772269535",
      "value": 38
     }
    },
    "fb92f1689f1a46cba4daa8adcdbf4fa5": {
     "model_module": "@jupyter-widgets/controls",
     "model_name": "HTMLModel",
     "model_module_version": "1.5.0",
     "state": {
      "_dom_classes": [],
      "_model_module": "@jupyter-widgets/controls",
      "_model_module_version": "1.5.0",
      "_model_name": "HTMLModel",
      "_view_count": null,
      "_view_module": "@jupyter-widgets/controls",
      "_view_module_version": "1.5.0",
      "_view_name": "HTMLView",
      "description": "",
      "description_tooltip": null,
      "layout": "IPY_MODEL_149b50ce162c4c418ec1d00015a2a670",
      "placeholder": "​",
      "style": "IPY_MODEL_8facf4308c7b4c7c91cb7cba548d2711",
      "value": " 38/38 [00:06&lt;00:00,  6.04it/s]"
     }
    },
    "d5303d55006c48c0a1be68a0ba43929b": {
     "model_module": "@jupyter-widgets/base",
     "model_name": "LayoutModel",
     "model_module_version": "1.2.0",
     "state": {
      "_model_module": "@jupyter-widgets/base",
      "_model_module_version": "1.2.0",
      "_model_name": "LayoutModel",
      "_view_count": null,
      "_view_module": "@jupyter-widgets/base",
      "_view_module_version": "1.2.0",
      "_view_name": "LayoutView",
      "align_content": null,
      "align_items": null,
      "align_self": null,
      "border": null,
      "bottom": null,
      "display": "inline-flex",
      "flex": null,
      "flex_flow": "row wrap",
      "grid_area": null,
      "grid_auto_columns": null,
      "grid_auto_flow": null,
      "grid_auto_rows": null,
      "grid_column": null,
      "grid_gap": null,
      "grid_row": null,
      "grid_template_areas": null,
      "grid_template_columns": null,
      "grid_template_rows": null,
      "height": null,
      "justify_content": null,
      "justify_items": null,
      "left": null,
      "margin": null,
      "max_height": null,
      "max_width": null,
      "min_height": null,
      "min_width": null,
      "object_fit": null,
      "object_position": null,
      "order": null,
      "overflow": null,
      "overflow_x": null,
      "overflow_y": null,
      "padding": null,
      "right": null,
      "top": null,
      "visibility": "hidden",
      "width": "100%"
     }
    },
    "b855fcdbaa8e4d77861d1f5141f7eb02": {
     "model_module": "@jupyter-widgets/base",
     "model_name": "LayoutModel",
     "model_module_version": "1.2.0",
     "state": {
      "_model_module": "@jupyter-widgets/base",
      "_model_module_version": "1.2.0",
      "_model_name": "LayoutModel",
      "_view_count": null,
      "_view_module": "@jupyter-widgets/base",
      "_view_module_version": "1.2.0",
      "_view_name": "LayoutView",
      "align_content": null,
      "align_items": null,
      "align_self": null,
      "border": null,
      "bottom": null,
      "display": null,
      "flex": null,
      "flex_flow": null,
      "grid_area": null,
      "grid_auto_columns": null,
      "grid_auto_flow": null,
      "grid_auto_rows": null,
      "grid_column": null,
      "grid_gap": null,
      "grid_row": null,
      "grid_template_areas": null,
      "grid_template_columns": null,
      "grid_template_rows": null,
      "height": null,
      "justify_content": null,
      "justify_items": null,
      "left": null,
      "margin": null,
      "max_height": null,
      "max_width": null,
      "min_height": null,
      "min_width": null,
      "object_fit": null,
      "object_position": null,
      "order": null,
      "overflow": null,
      "overflow_x": null,
      "overflow_y": null,
      "padding": null,
      "right": null,
      "top": null,
      "visibility": null,
      "width": null
     }
    },
    "ca1050bf178c4475abd7d3d9b6c8c4a9": {
     "model_module": "@jupyter-widgets/controls",
     "model_name": "DescriptionStyleModel",
     "model_module_version": "1.5.0",
     "state": {
      "_model_module": "@jupyter-widgets/controls",
      "_model_module_version": "1.5.0",
      "_model_name": "DescriptionStyleModel",
      "_view_count": null,
      "_view_module": "@jupyter-widgets/base",
      "_view_module_version": "1.2.0",
      "_view_name": "StyleView",
      "description_width": ""
     }
    },
    "7feb27d7a63343c0a656a7156151688b": {
     "model_module": "@jupyter-widgets/base",
     "model_name": "LayoutModel",
     "model_module_version": "1.2.0",
     "state": {
      "_model_module": "@jupyter-widgets/base",
      "_model_module_version": "1.2.0",
      "_model_name": "LayoutModel",
      "_view_count": null,
      "_view_module": "@jupyter-widgets/base",
      "_view_module_version": "1.2.0",
      "_view_name": "LayoutView",
      "align_content": null,
      "align_items": null,
      "align_self": null,
      "border": null,
      "bottom": null,
      "display": null,
      "flex": "2",
      "flex_flow": null,
      "grid_area": null,
      "grid_auto_columns": null,
      "grid_auto_flow": null,
      "grid_auto_rows": null,
      "grid_column": null,
      "grid_gap": null,
      "grid_row": null,
      "grid_template_areas": null,
      "grid_template_columns": null,
      "grid_template_rows": null,
      "height": null,
      "justify_content": null,
      "justify_items": null,
      "left": null,
      "margin": null,
      "max_height": null,
      "max_width": null,
      "min_height": null,
      "min_width": null,
      "object_fit": null,
      "object_position": null,
      "order": null,
      "overflow": null,
      "overflow_x": null,
      "overflow_y": null,
      "padding": null,
      "right": null,
      "top": null,
      "visibility": null,
      "width": null
     }
    },
    "b4b1b3b6ada54b71a0e08db772269535": {
     "model_module": "@jupyter-widgets/controls",
     "model_name": "ProgressStyleModel",
     "model_module_version": "1.5.0",
     "state": {
      "_model_module": "@jupyter-widgets/controls",
      "_model_module_version": "1.5.0",
      "_model_name": "ProgressStyleModel",
      "_view_count": null,
      "_view_module": "@jupyter-widgets/base",
      "_view_module_version": "1.2.0",
      "_view_name": "StyleView",
      "bar_color": null,
      "description_width": ""
     }
    },
    "149b50ce162c4c418ec1d00015a2a670": {
     "model_module": "@jupyter-widgets/base",
     "model_name": "LayoutModel",
     "model_module_version": "1.2.0",
     "state": {
      "_model_module": "@jupyter-widgets/base",
      "_model_module_version": "1.2.0",
      "_model_name": "LayoutModel",
      "_view_count": null,
      "_view_module": "@jupyter-widgets/base",
      "_view_module_version": "1.2.0",
      "_view_name": "LayoutView",
      "align_content": null,
      "align_items": null,
      "align_self": null,
      "border": null,
      "bottom": null,
      "display": null,
      "flex": null,
      "flex_flow": null,
      "grid_area": null,
      "grid_auto_columns": null,
      "grid_auto_flow": null,
      "grid_auto_rows": null,
      "grid_column": null,
      "grid_gap": null,
      "grid_row": null,
      "grid_template_areas": null,
      "grid_template_columns": null,
      "grid_template_rows": null,
      "height": null,
      "justify_content": null,
      "justify_items": null,
      "left": null,
      "margin": null,
      "max_height": null,
      "max_width": null,
      "min_height": null,
      "min_width": null,
      "object_fit": null,
      "object_position": null,
      "order": null,
      "overflow": null,
      "overflow_x": null,
      "overflow_y": null,
      "padding": null,
      "right": null,
      "top": null,
      "visibility": null,
      "width": null
     }
    },
    "8facf4308c7b4c7c91cb7cba548d2711": {
     "model_module": "@jupyter-widgets/controls",
     "model_name": "DescriptionStyleModel",
     "model_module_version": "1.5.0",
     "state": {
      "_model_module": "@jupyter-widgets/controls",
      "_model_module_version": "1.5.0",
      "_model_name": "DescriptionStyleModel",
      "_view_count": null,
      "_view_module": "@jupyter-widgets/base",
      "_view_module_version": "1.2.0",
      "_view_name": "StyleView",
      "description_width": ""
     }
    },
    "de12c25a68d44ffb854eda3f939f3acb": {
     "model_module": "@jupyter-widgets/controls",
     "model_name": "HBoxModel",
     "model_module_version": "1.5.0",
     "state": {
      "_dom_classes": [],
      "_model_module": "@jupyter-widgets/controls",
      "_model_module_version": "1.5.0",
      "_model_name": "HBoxModel",
      "_view_count": null,
      "_view_module": "@jupyter-widgets/controls",
      "_view_module_version": "1.5.0",
      "_view_name": "HBoxView",
      "box_style": "",
      "children": [
       "IPY_MODEL_4ccc869aef964a6e8ca243fd8de9c8cf",
       "IPY_MODEL_77d46b8885134ba0ba7cd67a9b4c7b52",
       "IPY_MODEL_6e7487fd78f042f483af25796c67e486"
      ],
      "layout": "IPY_MODEL_1d813feabb604246b70efe7be41e7d64"
     }
    },
    "4ccc869aef964a6e8ca243fd8de9c8cf": {
     "model_module": "@jupyter-widgets/controls",
     "model_name": "HTMLModel",
     "model_module_version": "1.5.0",
     "state": {
      "_dom_classes": [],
      "_model_module": "@jupyter-widgets/controls",
      "_model_module_version": "1.5.0",
      "_model_name": "HTMLModel",
      "_view_count": null,
      "_view_module": "@jupyter-widgets/controls",
      "_view_module_version": "1.5.0",
      "_view_name": "HTMLView",
      "description": "",
      "description_tooltip": null,
      "layout": "IPY_MODEL_2b2045f7c53f4b16ac0a2f8dd089f656",
      "placeholder": "​",
      "style": "IPY_MODEL_516f90a8a1474d13b8241f45c6d9b365",
      "value": "Validation DataLoader 0: 100%"
     }
    },
    "77d46b8885134ba0ba7cd67a9b4c7b52": {
     "model_module": "@jupyter-widgets/controls",
     "model_name": "FloatProgressModel",
     "model_module_version": "1.5.0",
     "state": {
      "_dom_classes": [],
      "_model_module": "@jupyter-widgets/controls",
      "_model_module_version": "1.5.0",
      "_model_name": "FloatProgressModel",
      "_view_count": null,
      "_view_module": "@jupyter-widgets/controls",
      "_view_module_version": "1.5.0",
      "_view_name": "ProgressView",
      "bar_style": "",
      "description": "",
      "description_tooltip": null,
      "layout": "IPY_MODEL_e9ad0627927a4f24b979d9db459752de",
      "max": 38,
      "min": 0,
      "orientation": "horizontal",
      "style": "IPY_MODEL_45c8bc29ec994dfea62ef3879590d274",
      "value": 38
     }
    },
    "6e7487fd78f042f483af25796c67e486": {
     "model_module": "@jupyter-widgets/controls",
     "model_name": "HTMLModel",
     "model_module_version": "1.5.0",
     "state": {
      "_dom_classes": [],
      "_model_module": "@jupyter-widgets/controls",
      "_model_module_version": "1.5.0",
      "_model_name": "HTMLModel",
      "_view_count": null,
      "_view_module": "@jupyter-widgets/controls",
      "_view_module_version": "1.5.0",
      "_view_name": "HTMLView",
      "description": "",
      "description_tooltip": null,
      "layout": "IPY_MODEL_02bd6d9e75014caa884eba57b0928e7e",
      "placeholder": "​",
      "style": "IPY_MODEL_f3a73e95d7ea4b0889879007a899cc9a",
      "value": " 38/38 [00:04&lt;00:00,  8.69it/s]"
     }
    },
    "1d813feabb604246b70efe7be41e7d64": {
     "model_module": "@jupyter-widgets/base",
     "model_name": "LayoutModel",
     "model_module_version": "1.2.0",
     "state": {
      "_model_module": "@jupyter-widgets/base",
      "_model_module_version": "1.2.0",
      "_model_name": "LayoutModel",
      "_view_count": null,
      "_view_module": "@jupyter-widgets/base",
      "_view_module_version": "1.2.0",
      "_view_name": "LayoutView",
      "align_content": null,
      "align_items": null,
      "align_self": null,
      "border": null,
      "bottom": null,
      "display": "inline-flex",
      "flex": null,
      "flex_flow": "row wrap",
      "grid_area": null,
      "grid_auto_columns": null,
      "grid_auto_flow": null,
      "grid_auto_rows": null,
      "grid_column": null,
      "grid_gap": null,
      "grid_row": null,
      "grid_template_areas": null,
      "grid_template_columns": null,
      "grid_template_rows": null,
      "height": null,
      "justify_content": null,
      "justify_items": null,
      "left": null,
      "margin": null,
      "max_height": null,
      "max_width": null,
      "min_height": null,
      "min_width": null,
      "object_fit": null,
      "object_position": null,
      "order": null,
      "overflow": null,
      "overflow_x": null,
      "overflow_y": null,
      "padding": null,
      "right": null,
      "top": null,
      "visibility": "hidden",
      "width": "100%"
     }
    },
    "2b2045f7c53f4b16ac0a2f8dd089f656": {
     "model_module": "@jupyter-widgets/base",
     "model_name": "LayoutModel",
     "model_module_version": "1.2.0",
     "state": {
      "_model_module": "@jupyter-widgets/base",
      "_model_module_version": "1.2.0",
      "_model_name": "LayoutModel",
      "_view_count": null,
      "_view_module": "@jupyter-widgets/base",
      "_view_module_version": "1.2.0",
      "_view_name": "LayoutView",
      "align_content": null,
      "align_items": null,
      "align_self": null,
      "border": null,
      "bottom": null,
      "display": null,
      "flex": null,
      "flex_flow": null,
      "grid_area": null,
      "grid_auto_columns": null,
      "grid_auto_flow": null,
      "grid_auto_rows": null,
      "grid_column": null,
      "grid_gap": null,
      "grid_row": null,
      "grid_template_areas": null,
      "grid_template_columns": null,
      "grid_template_rows": null,
      "height": null,
      "justify_content": null,
      "justify_items": null,
      "left": null,
      "margin": null,
      "max_height": null,
      "max_width": null,
      "min_height": null,
      "min_width": null,
      "object_fit": null,
      "object_position": null,
      "order": null,
      "overflow": null,
      "overflow_x": null,
      "overflow_y": null,
      "padding": null,
      "right": null,
      "top": null,
      "visibility": null,
      "width": null
     }
    },
    "516f90a8a1474d13b8241f45c6d9b365": {
     "model_module": "@jupyter-widgets/controls",
     "model_name": "DescriptionStyleModel",
     "model_module_version": "1.5.0",
     "state": {
      "_model_module": "@jupyter-widgets/controls",
      "_model_module_version": "1.5.0",
      "_model_name": "DescriptionStyleModel",
      "_view_count": null,
      "_view_module": "@jupyter-widgets/base",
      "_view_module_version": "1.2.0",
      "_view_name": "StyleView",
      "description_width": ""
     }
    },
    "e9ad0627927a4f24b979d9db459752de": {
     "model_module": "@jupyter-widgets/base",
     "model_name": "LayoutModel",
     "model_module_version": "1.2.0",
     "state": {
      "_model_module": "@jupyter-widgets/base",
      "_model_module_version": "1.2.0",
      "_model_name": "LayoutModel",
      "_view_count": null,
      "_view_module": "@jupyter-widgets/base",
      "_view_module_version": "1.2.0",
      "_view_name": "LayoutView",
      "align_content": null,
      "align_items": null,
      "align_self": null,
      "border": null,
      "bottom": null,
      "display": null,
      "flex": "2",
      "flex_flow": null,
      "grid_area": null,
      "grid_auto_columns": null,
      "grid_auto_flow": null,
      "grid_auto_rows": null,
      "grid_column": null,
      "grid_gap": null,
      "grid_row": null,
      "grid_template_areas": null,
      "grid_template_columns": null,
      "grid_template_rows": null,
      "height": null,
      "justify_content": null,
      "justify_items": null,
      "left": null,
      "margin": null,
      "max_height": null,
      "max_width": null,
      "min_height": null,
      "min_width": null,
      "object_fit": null,
      "object_position": null,
      "order": null,
      "overflow": null,
      "overflow_x": null,
      "overflow_y": null,
      "padding": null,
      "right": null,
      "top": null,
      "visibility": null,
      "width": null
     }
    },
    "45c8bc29ec994dfea62ef3879590d274": {
     "model_module": "@jupyter-widgets/controls",
     "model_name": "ProgressStyleModel",
     "model_module_version": "1.5.0",
     "state": {
      "_model_module": "@jupyter-widgets/controls",
      "_model_module_version": "1.5.0",
      "_model_name": "ProgressStyleModel",
      "_view_count": null,
      "_view_module": "@jupyter-widgets/base",
      "_view_module_version": "1.2.0",
      "_view_name": "StyleView",
      "bar_color": null,
      "description_width": ""
     }
    },
    "02bd6d9e75014caa884eba57b0928e7e": {
     "model_module": "@jupyter-widgets/base",
     "model_name": "LayoutModel",
     "model_module_version": "1.2.0",
     "state": {
      "_model_module": "@jupyter-widgets/base",
      "_model_module_version": "1.2.0",
      "_model_name": "LayoutModel",
      "_view_count": null,
      "_view_module": "@jupyter-widgets/base",
      "_view_module_version": "1.2.0",
      "_view_name": "LayoutView",
      "align_content": null,
      "align_items": null,
      "align_self": null,
      "border": null,
      "bottom": null,
      "display": null,
      "flex": null,
      "flex_flow": null,
      "grid_area": null,
      "grid_auto_columns": null,
      "grid_auto_flow": null,
      "grid_auto_rows": null,
      "grid_column": null,
      "grid_gap": null,
      "grid_row": null,
      "grid_template_areas": null,
      "grid_template_columns": null,
      "grid_template_rows": null,
      "height": null,
      "justify_content": null,
      "justify_items": null,
      "left": null,
      "margin": null,
      "max_height": null,
      "max_width": null,
      "min_height": null,
      "min_width": null,
      "object_fit": null,
      "object_position": null,
      "order": null,
      "overflow": null,
      "overflow_x": null,
      "overflow_y": null,
      "padding": null,
      "right": null,
      "top": null,
      "visibility": null,
      "width": null
     }
    },
    "f3a73e95d7ea4b0889879007a899cc9a": {
     "model_module": "@jupyter-widgets/controls",
     "model_name": "DescriptionStyleModel",
     "model_module_version": "1.5.0",
     "state": {
      "_model_module": "@jupyter-widgets/controls",
      "_model_module_version": "1.5.0",
      "_model_name": "DescriptionStyleModel",
      "_view_count": null,
      "_view_module": "@jupyter-widgets/base",
      "_view_module_version": "1.2.0",
      "_view_name": "StyleView",
      "description_width": ""
     }
    },
    "b47d35793d2e461b94e6ee06317d0d63": {
     "model_module": "@jupyter-widgets/controls",
     "model_name": "HBoxModel",
     "model_module_version": "1.5.0",
     "state": {
      "_dom_classes": [],
      "_model_module": "@jupyter-widgets/controls",
      "_model_module_version": "1.5.0",
      "_model_name": "HBoxModel",
      "_view_count": null,
      "_view_module": "@jupyter-widgets/controls",
      "_view_module_version": "1.5.0",
      "_view_name": "HBoxView",
      "box_style": "",
      "children": [
       "IPY_MODEL_3589431472464de0a7cf07389563fab1",
       "IPY_MODEL_6780175605d64f8e9e67a90a10ddd93e",
       "IPY_MODEL_49076adec24b405aa16d6e52a3d3bea1"
      ],
      "layout": "IPY_MODEL_b5b9bb7e7f434edfb0351c6ab5a3d61b"
     }
    },
    "3589431472464de0a7cf07389563fab1": {
     "model_module": "@jupyter-widgets/controls",
     "model_name": "HTMLModel",
     "model_module_version": "1.5.0",
     "state": {
      "_dom_classes": [],
      "_model_module": "@jupyter-widgets/controls",
      "_model_module_version": "1.5.0",
      "_model_name": "HTMLModel",
      "_view_count": null,
      "_view_module": "@jupyter-widgets/controls",
      "_view_module_version": "1.5.0",
      "_view_name": "HTMLView",
      "description": "",
      "description_tooltip": null,
      "layout": "IPY_MODEL_6f581734a22b4ba5a412c1e83a0bb79d",
      "placeholder": "​",
      "style": "IPY_MODEL_3cfce55070b24e68b84b3ddeb9a252a4",
      "value": "Validation DataLoader 0: 100%"
     }
    },
    "6780175605d64f8e9e67a90a10ddd93e": {
     "model_module": "@jupyter-widgets/controls",
     "model_name": "FloatProgressModel",
     "model_module_version": "1.5.0",
     "state": {
      "_dom_classes": [],
      "_model_module": "@jupyter-widgets/controls",
      "_model_module_version": "1.5.0",
      "_model_name": "FloatProgressModel",
      "_view_count": null,
      "_view_module": "@jupyter-widgets/controls",
      "_view_module_version": "1.5.0",
      "_view_name": "ProgressView",
      "bar_style": "",
      "description": "",
      "description_tooltip": null,
      "layout": "IPY_MODEL_5d005e85186e407aad97a1049a8dfa67",
      "max": 38,
      "min": 0,
      "orientation": "horizontal",
      "style": "IPY_MODEL_88930db83b7f4c6fb1bfed0222e9d239",
      "value": 38
     }
    },
    "49076adec24b405aa16d6e52a3d3bea1": {
     "model_module": "@jupyter-widgets/controls",
     "model_name": "HTMLModel",
     "model_module_version": "1.5.0",
     "state": {
      "_dom_classes": [],
      "_model_module": "@jupyter-widgets/controls",
      "_model_module_version": "1.5.0",
      "_model_name": "HTMLModel",
      "_view_count": null,
      "_view_module": "@jupyter-widgets/controls",
      "_view_module_version": "1.5.0",
      "_view_name": "HTMLView",
      "description": "",
      "description_tooltip": null,
      "layout": "IPY_MODEL_fbed911dbbdd491b8fa10c024e721fc1",
      "placeholder": "​",
      "style": "IPY_MODEL_5f96ea9f8f564c3da1b71e033920b68e",
      "value": " 38/38 [00:04&lt;00:00,  8.86it/s]"
     }
    },
    "b5b9bb7e7f434edfb0351c6ab5a3d61b": {
     "model_module": "@jupyter-widgets/base",
     "model_name": "LayoutModel",
     "model_module_version": "1.2.0",
     "state": {
      "_model_module": "@jupyter-widgets/base",
      "_model_module_version": "1.2.0",
      "_model_name": "LayoutModel",
      "_view_count": null,
      "_view_module": "@jupyter-widgets/base",
      "_view_module_version": "1.2.0",
      "_view_name": "LayoutView",
      "align_content": null,
      "align_items": null,
      "align_self": null,
      "border": null,
      "bottom": null,
      "display": "inline-flex",
      "flex": null,
      "flex_flow": "row wrap",
      "grid_area": null,
      "grid_auto_columns": null,
      "grid_auto_flow": null,
      "grid_auto_rows": null,
      "grid_column": null,
      "grid_gap": null,
      "grid_row": null,
      "grid_template_areas": null,
      "grid_template_columns": null,
      "grid_template_rows": null,
      "height": null,
      "justify_content": null,
      "justify_items": null,
      "left": null,
      "margin": null,
      "max_height": null,
      "max_width": null,
      "min_height": null,
      "min_width": null,
      "object_fit": null,
      "object_position": null,
      "order": null,
      "overflow": null,
      "overflow_x": null,
      "overflow_y": null,
      "padding": null,
      "right": null,
      "top": null,
      "visibility": "hidden",
      "width": "100%"
     }
    },
    "6f581734a22b4ba5a412c1e83a0bb79d": {
     "model_module": "@jupyter-widgets/base",
     "model_name": "LayoutModel",
     "model_module_version": "1.2.0",
     "state": {
      "_model_module": "@jupyter-widgets/base",
      "_model_module_version": "1.2.0",
      "_model_name": "LayoutModel",
      "_view_count": null,
      "_view_module": "@jupyter-widgets/base",
      "_view_module_version": "1.2.0",
      "_view_name": "LayoutView",
      "align_content": null,
      "align_items": null,
      "align_self": null,
      "border": null,
      "bottom": null,
      "display": null,
      "flex": null,
      "flex_flow": null,
      "grid_area": null,
      "grid_auto_columns": null,
      "grid_auto_flow": null,
      "grid_auto_rows": null,
      "grid_column": null,
      "grid_gap": null,
      "grid_row": null,
      "grid_template_areas": null,
      "grid_template_columns": null,
      "grid_template_rows": null,
      "height": null,
      "justify_content": null,
      "justify_items": null,
      "left": null,
      "margin": null,
      "max_height": null,
      "max_width": null,
      "min_height": null,
      "min_width": null,
      "object_fit": null,
      "object_position": null,
      "order": null,
      "overflow": null,
      "overflow_x": null,
      "overflow_y": null,
      "padding": null,
      "right": null,
      "top": null,
      "visibility": null,
      "width": null
     }
    },
    "3cfce55070b24e68b84b3ddeb9a252a4": {
     "model_module": "@jupyter-widgets/controls",
     "model_name": "DescriptionStyleModel",
     "model_module_version": "1.5.0",
     "state": {
      "_model_module": "@jupyter-widgets/controls",
      "_model_module_version": "1.5.0",
      "_model_name": "DescriptionStyleModel",
      "_view_count": null,
      "_view_module": "@jupyter-widgets/base",
      "_view_module_version": "1.2.0",
      "_view_name": "StyleView",
      "description_width": ""
     }
    },
    "5d005e85186e407aad97a1049a8dfa67": {
     "model_module": "@jupyter-widgets/base",
     "model_name": "LayoutModel",
     "model_module_version": "1.2.0",
     "state": {
      "_model_module": "@jupyter-widgets/base",
      "_model_module_version": "1.2.0",
      "_model_name": "LayoutModel",
      "_view_count": null,
      "_view_module": "@jupyter-widgets/base",
      "_view_module_version": "1.2.0",
      "_view_name": "LayoutView",
      "align_content": null,
      "align_items": null,
      "align_self": null,
      "border": null,
      "bottom": null,
      "display": null,
      "flex": "2",
      "flex_flow": null,
      "grid_area": null,
      "grid_auto_columns": null,
      "grid_auto_flow": null,
      "grid_auto_rows": null,
      "grid_column": null,
      "grid_gap": null,
      "grid_row": null,
      "grid_template_areas": null,
      "grid_template_columns": null,
      "grid_template_rows": null,
      "height": null,
      "justify_content": null,
      "justify_items": null,
      "left": null,
      "margin": null,
      "max_height": null,
      "max_width": null,
      "min_height": null,
      "min_width": null,
      "object_fit": null,
      "object_position": null,
      "order": null,
      "overflow": null,
      "overflow_x": null,
      "overflow_y": null,
      "padding": null,
      "right": null,
      "top": null,
      "visibility": null,
      "width": null
     }
    },
    "88930db83b7f4c6fb1bfed0222e9d239": {
     "model_module": "@jupyter-widgets/controls",
     "model_name": "ProgressStyleModel",
     "model_module_version": "1.5.0",
     "state": {
      "_model_module": "@jupyter-widgets/controls",
      "_model_module_version": "1.5.0",
      "_model_name": "ProgressStyleModel",
      "_view_count": null,
      "_view_module": "@jupyter-widgets/base",
      "_view_module_version": "1.2.0",
      "_view_name": "StyleView",
      "bar_color": null,
      "description_width": ""
     }
    },
    "fbed911dbbdd491b8fa10c024e721fc1": {
     "model_module": "@jupyter-widgets/base",
     "model_name": "LayoutModel",
     "model_module_version": "1.2.0",
     "state": {
      "_model_module": "@jupyter-widgets/base",
      "_model_module_version": "1.2.0",
      "_model_name": "LayoutModel",
      "_view_count": null,
      "_view_module": "@jupyter-widgets/base",
      "_view_module_version": "1.2.0",
      "_view_name": "LayoutView",
      "align_content": null,
      "align_items": null,
      "align_self": null,
      "border": null,
      "bottom": null,
      "display": null,
      "flex": null,
      "flex_flow": null,
      "grid_area": null,
      "grid_auto_columns": null,
      "grid_auto_flow": null,
      "grid_auto_rows": null,
      "grid_column": null,
      "grid_gap": null,
      "grid_row": null,
      "grid_template_areas": null,
      "grid_template_columns": null,
      "grid_template_rows": null,
      "height": null,
      "justify_content": null,
      "justify_items": null,
      "left": null,
      "margin": null,
      "max_height": null,
      "max_width": null,
      "min_height": null,
      "min_width": null,
      "object_fit": null,
      "object_position": null,
      "order": null,
      "overflow": null,
      "overflow_x": null,
      "overflow_y": null,
      "padding": null,
      "right": null,
      "top": null,
      "visibility": null,
      "width": null
     }
    },
    "5f96ea9f8f564c3da1b71e033920b68e": {
     "model_module": "@jupyter-widgets/controls",
     "model_name": "DescriptionStyleModel",
     "model_module_version": "1.5.0",
     "state": {
      "_model_module": "@jupyter-widgets/controls",
      "_model_module_version": "1.5.0",
      "_model_name": "DescriptionStyleModel",
      "_view_count": null,
      "_view_module": "@jupyter-widgets/base",
      "_view_module_version": "1.2.0",
      "_view_name": "StyleView",
      "description_width": ""
     }
    },
    "74bc00bbe1d74d1dafaecc06c24f0494": {
     "model_module": "@jupyter-widgets/controls",
     "model_name": "HBoxModel",
     "model_module_version": "1.5.0",
     "state": {
      "_dom_classes": [],
      "_model_module": "@jupyter-widgets/controls",
      "_model_module_version": "1.5.0",
      "_model_name": "HBoxModel",
      "_view_count": null,
      "_view_module": "@jupyter-widgets/controls",
      "_view_module_version": "1.5.0",
      "_view_name": "HBoxView",
      "box_style": "",
      "children": [
       "IPY_MODEL_89444b3bf55d47889843d970eaa82888",
       "IPY_MODEL_7d7ba211100d4331b19ebced228d3c07",
       "IPY_MODEL_05092ac7c97f45cc818486768f533dff"
      ],
      "layout": "IPY_MODEL_8605d260c46445969a4729ee9f3d345a"
     }
    },
    "89444b3bf55d47889843d970eaa82888": {
     "model_module": "@jupyter-widgets/controls",
     "model_name": "HTMLModel",
     "model_module_version": "1.5.0",
     "state": {
      "_dom_classes": [],
      "_model_module": "@jupyter-widgets/controls",
      "_model_module_version": "1.5.0",
      "_model_name": "HTMLModel",
      "_view_count": null,
      "_view_module": "@jupyter-widgets/controls",
      "_view_module_version": "1.5.0",
      "_view_name": "HTMLView",
      "description": "",
      "description_tooltip": null,
      "layout": "IPY_MODEL_22ce6e16b0b647bb904ca484ae2d13e8",
      "placeholder": "​",
      "style": "IPY_MODEL_0155d87de91e4ceb9953d6d8d1043376",
      "value": "Validation DataLoader 0: 100%"
     }
    },
    "7d7ba211100d4331b19ebced228d3c07": {
     "model_module": "@jupyter-widgets/controls",
     "model_name": "FloatProgressModel",
     "model_module_version": "1.5.0",
     "state": {
      "_dom_classes": [],
      "_model_module": "@jupyter-widgets/controls",
      "_model_module_version": "1.5.0",
      "_model_name": "FloatProgressModel",
      "_view_count": null,
      "_view_module": "@jupyter-widgets/controls",
      "_view_module_version": "1.5.0",
      "_view_name": "ProgressView",
      "bar_style": "",
      "description": "",
      "description_tooltip": null,
      "layout": "IPY_MODEL_244963fea89147acbf5873cc63b3bad9",
      "max": 38,
      "min": 0,
      "orientation": "horizontal",
      "style": "IPY_MODEL_36129c042b974f40b8d87ec10f0e09d8",
      "value": 38
     }
    },
    "05092ac7c97f45cc818486768f533dff": {
     "model_module": "@jupyter-widgets/controls",
     "model_name": "HTMLModel",
     "model_module_version": "1.5.0",
     "state": {
      "_dom_classes": [],
      "_model_module": "@jupyter-widgets/controls",
      "_model_module_version": "1.5.0",
      "_model_name": "HTMLModel",
      "_view_count": null,
      "_view_module": "@jupyter-widgets/controls",
      "_view_module_version": "1.5.0",
      "_view_name": "HTMLView",
      "description": "",
      "description_tooltip": null,
      "layout": "IPY_MODEL_dfc1885332a740b8b449aff7d3532a4b",
      "placeholder": "​",
      "style": "IPY_MODEL_3ba30f49c5014abc9cb7258da7e7f4ca",
      "value": " 38/38 [00:05&lt;00:00,  7.26it/s]"
     }
    },
    "8605d260c46445969a4729ee9f3d345a": {
     "model_module": "@jupyter-widgets/base",
     "model_name": "LayoutModel",
     "model_module_version": "1.2.0",
     "state": {
      "_model_module": "@jupyter-widgets/base",
      "_model_module_version": "1.2.0",
      "_model_name": "LayoutModel",
      "_view_count": null,
      "_view_module": "@jupyter-widgets/base",
      "_view_module_version": "1.2.0",
      "_view_name": "LayoutView",
      "align_content": null,
      "align_items": null,
      "align_self": null,
      "border": null,
      "bottom": null,
      "display": "inline-flex",
      "flex": null,
      "flex_flow": "row wrap",
      "grid_area": null,
      "grid_auto_columns": null,
      "grid_auto_flow": null,
      "grid_auto_rows": null,
      "grid_column": null,
      "grid_gap": null,
      "grid_row": null,
      "grid_template_areas": null,
      "grid_template_columns": null,
      "grid_template_rows": null,
      "height": null,
      "justify_content": null,
      "justify_items": null,
      "left": null,
      "margin": null,
      "max_height": null,
      "max_width": null,
      "min_height": null,
      "min_width": null,
      "object_fit": null,
      "object_position": null,
      "order": null,
      "overflow": null,
      "overflow_x": null,
      "overflow_y": null,
      "padding": null,
      "right": null,
      "top": null,
      "visibility": "hidden",
      "width": "100%"
     }
    },
    "22ce6e16b0b647bb904ca484ae2d13e8": {
     "model_module": "@jupyter-widgets/base",
     "model_name": "LayoutModel",
     "model_module_version": "1.2.0",
     "state": {
      "_model_module": "@jupyter-widgets/base",
      "_model_module_version": "1.2.0",
      "_model_name": "LayoutModel",
      "_view_count": null,
      "_view_module": "@jupyter-widgets/base",
      "_view_module_version": "1.2.0",
      "_view_name": "LayoutView",
      "align_content": null,
      "align_items": null,
      "align_self": null,
      "border": null,
      "bottom": null,
      "display": null,
      "flex": null,
      "flex_flow": null,
      "grid_area": null,
      "grid_auto_columns": null,
      "grid_auto_flow": null,
      "grid_auto_rows": null,
      "grid_column": null,
      "grid_gap": null,
      "grid_row": null,
      "grid_template_areas": null,
      "grid_template_columns": null,
      "grid_template_rows": null,
      "height": null,
      "justify_content": null,
      "justify_items": null,
      "left": null,
      "margin": null,
      "max_height": null,
      "max_width": null,
      "min_height": null,
      "min_width": null,
      "object_fit": null,
      "object_position": null,
      "order": null,
      "overflow": null,
      "overflow_x": null,
      "overflow_y": null,
      "padding": null,
      "right": null,
      "top": null,
      "visibility": null,
      "width": null
     }
    },
    "0155d87de91e4ceb9953d6d8d1043376": {
     "model_module": "@jupyter-widgets/controls",
     "model_name": "DescriptionStyleModel",
     "model_module_version": "1.5.0",
     "state": {
      "_model_module": "@jupyter-widgets/controls",
      "_model_module_version": "1.5.0",
      "_model_name": "DescriptionStyleModel",
      "_view_count": null,
      "_view_module": "@jupyter-widgets/base",
      "_view_module_version": "1.2.0",
      "_view_name": "StyleView",
      "description_width": ""
     }
    },
    "244963fea89147acbf5873cc63b3bad9": {
     "model_module": "@jupyter-widgets/base",
     "model_name": "LayoutModel",
     "model_module_version": "1.2.0",
     "state": {
      "_model_module": "@jupyter-widgets/base",
      "_model_module_version": "1.2.0",
      "_model_name": "LayoutModel",
      "_view_count": null,
      "_view_module": "@jupyter-widgets/base",
      "_view_module_version": "1.2.0",
      "_view_name": "LayoutView",
      "align_content": null,
      "align_items": null,
      "align_self": null,
      "border": null,
      "bottom": null,
      "display": null,
      "flex": "2",
      "flex_flow": null,
      "grid_area": null,
      "grid_auto_columns": null,
      "grid_auto_flow": null,
      "grid_auto_rows": null,
      "grid_column": null,
      "grid_gap": null,
      "grid_row": null,
      "grid_template_areas": null,
      "grid_template_columns": null,
      "grid_template_rows": null,
      "height": null,
      "justify_content": null,
      "justify_items": null,
      "left": null,
      "margin": null,
      "max_height": null,
      "max_width": null,
      "min_height": null,
      "min_width": null,
      "object_fit": null,
      "object_position": null,
      "order": null,
      "overflow": null,
      "overflow_x": null,
      "overflow_y": null,
      "padding": null,
      "right": null,
      "top": null,
      "visibility": null,
      "width": null
     }
    },
    "36129c042b974f40b8d87ec10f0e09d8": {
     "model_module": "@jupyter-widgets/controls",
     "model_name": "ProgressStyleModel",
     "model_module_version": "1.5.0",
     "state": {
      "_model_module": "@jupyter-widgets/controls",
      "_model_module_version": "1.5.0",
      "_model_name": "ProgressStyleModel",
      "_view_count": null,
      "_view_module": "@jupyter-widgets/base",
      "_view_module_version": "1.2.0",
      "_view_name": "StyleView",
      "bar_color": null,
      "description_width": ""
     }
    },
    "dfc1885332a740b8b449aff7d3532a4b": {
     "model_module": "@jupyter-widgets/base",
     "model_name": "LayoutModel",
     "model_module_version": "1.2.0",
     "state": {
      "_model_module": "@jupyter-widgets/base",
      "_model_module_version": "1.2.0",
      "_model_name": "LayoutModel",
      "_view_count": null,
      "_view_module": "@jupyter-widgets/base",
      "_view_module_version": "1.2.0",
      "_view_name": "LayoutView",
      "align_content": null,
      "align_items": null,
      "align_self": null,
      "border": null,
      "bottom": null,
      "display": null,
      "flex": null,
      "flex_flow": null,
      "grid_area": null,
      "grid_auto_columns": null,
      "grid_auto_flow": null,
      "grid_auto_rows": null,
      "grid_column": null,
      "grid_gap": null,
      "grid_row": null,
      "grid_template_areas": null,
      "grid_template_columns": null,
      "grid_template_rows": null,
      "height": null,
      "justify_content": null,
      "justify_items": null,
      "left": null,
      "margin": null,
      "max_height": null,
      "max_width": null,
      "min_height": null,
      "min_width": null,
      "object_fit": null,
      "object_position": null,
      "order": null,
      "overflow": null,
      "overflow_x": null,
      "overflow_y": null,
      "padding": null,
      "right": null,
      "top": null,
      "visibility": null,
      "width": null
     }
    },
    "3ba30f49c5014abc9cb7258da7e7f4ca": {
     "model_module": "@jupyter-widgets/controls",
     "model_name": "DescriptionStyleModel",
     "model_module_version": "1.5.0",
     "state": {
      "_model_module": "@jupyter-widgets/controls",
      "_model_module_version": "1.5.0",
      "_model_name": "DescriptionStyleModel",
      "_view_count": null,
      "_view_module": "@jupyter-widgets/base",
      "_view_module_version": "1.2.0",
      "_view_name": "StyleView",
      "description_width": ""
     }
    },
    "d156341684254d75a461b5317598dfea": {
     "model_module": "@jupyter-widgets/controls",
     "model_name": "HBoxModel",
     "model_module_version": "1.5.0",
     "state": {
      "_dom_classes": [],
      "_model_module": "@jupyter-widgets/controls",
      "_model_module_version": "1.5.0",
      "_model_name": "HBoxModel",
      "_view_count": null,
      "_view_module": "@jupyter-widgets/controls",
      "_view_module_version": "1.5.0",
      "_view_name": "HBoxView",
      "box_style": "",
      "children": [
       "IPY_MODEL_02b2a76d22064c68af9e688ad3feb83d",
       "IPY_MODEL_288899fa49ff40518de775e90f5bb21d",
       "IPY_MODEL_41a9cc3fef984e2e935e7f4bde8579ee"
      ],
      "layout": "IPY_MODEL_e7054b2d5929434bb3be379315aa9ad9"
     }
    },
    "02b2a76d22064c68af9e688ad3feb83d": {
     "model_module": "@jupyter-widgets/controls",
     "model_name": "HTMLModel",
     "model_module_version": "1.5.0",
     "state": {
      "_dom_classes": [],
      "_model_module": "@jupyter-widgets/controls",
      "_model_module_version": "1.5.0",
      "_model_name": "HTMLModel",
      "_view_count": null,
      "_view_module": "@jupyter-widgets/controls",
      "_view_module_version": "1.5.0",
      "_view_name": "HTMLView",
      "description": "",
      "description_tooltip": null,
      "layout": "IPY_MODEL_773b4f949ee44d72aad3890c2a59cacc",
      "placeholder": "​",
      "style": "IPY_MODEL_aaed41c7e0f94626a0d5dbc9b2569296",
      "value": "Validation DataLoader 0: 100%"
     }
    },
    "288899fa49ff40518de775e90f5bb21d": {
     "model_module": "@jupyter-widgets/controls",
     "model_name": "FloatProgressModel",
     "model_module_version": "1.5.0",
     "state": {
      "_dom_classes": [],
      "_model_module": "@jupyter-widgets/controls",
      "_model_module_version": "1.5.0",
      "_model_name": "FloatProgressModel",
      "_view_count": null,
      "_view_module": "@jupyter-widgets/controls",
      "_view_module_version": "1.5.0",
      "_view_name": "ProgressView",
      "bar_style": "",
      "description": "",
      "description_tooltip": null,
      "layout": "IPY_MODEL_a2f626e0eb0b467a940c61a268c30ecc",
      "max": 38,
      "min": 0,
      "orientation": "horizontal",
      "style": "IPY_MODEL_2c207e62068e4a6d87bb7faa0a312a97",
      "value": 38
     }
    },
    "41a9cc3fef984e2e935e7f4bde8579ee": {
     "model_module": "@jupyter-widgets/controls",
     "model_name": "HTMLModel",
     "model_module_version": "1.5.0",
     "state": {
      "_dom_classes": [],
      "_model_module": "@jupyter-widgets/controls",
      "_model_module_version": "1.5.0",
      "_model_name": "HTMLModel",
      "_view_count": null,
      "_view_module": "@jupyter-widgets/controls",
      "_view_module_version": "1.5.0",
      "_view_name": "HTMLView",
      "description": "",
      "description_tooltip": null,
      "layout": "IPY_MODEL_c4faf4c480e046b09a523605ec695ce3",
      "placeholder": "​",
      "style": "IPY_MODEL_efceeab6bc514854850204a2db54f982",
      "value": " 38/38 [00:07&lt;00:00,  4.99it/s]"
     }
    },
    "e7054b2d5929434bb3be379315aa9ad9": {
     "model_module": "@jupyter-widgets/base",
     "model_name": "LayoutModel",
     "model_module_version": "1.2.0",
     "state": {
      "_model_module": "@jupyter-widgets/base",
      "_model_module_version": "1.2.0",
      "_model_name": "LayoutModel",
      "_view_count": null,
      "_view_module": "@jupyter-widgets/base",
      "_view_module_version": "1.2.0",
      "_view_name": "LayoutView",
      "align_content": null,
      "align_items": null,
      "align_self": null,
      "border": null,
      "bottom": null,
      "display": "inline-flex",
      "flex": null,
      "flex_flow": "row wrap",
      "grid_area": null,
      "grid_auto_columns": null,
      "grid_auto_flow": null,
      "grid_auto_rows": null,
      "grid_column": null,
      "grid_gap": null,
      "grid_row": null,
      "grid_template_areas": null,
      "grid_template_columns": null,
      "grid_template_rows": null,
      "height": null,
      "justify_content": null,
      "justify_items": null,
      "left": null,
      "margin": null,
      "max_height": null,
      "max_width": null,
      "min_height": null,
      "min_width": null,
      "object_fit": null,
      "object_position": null,
      "order": null,
      "overflow": null,
      "overflow_x": null,
      "overflow_y": null,
      "padding": null,
      "right": null,
      "top": null,
      "visibility": "hidden",
      "width": "100%"
     }
    },
    "773b4f949ee44d72aad3890c2a59cacc": {
     "model_module": "@jupyter-widgets/base",
     "model_name": "LayoutModel",
     "model_module_version": "1.2.0",
     "state": {
      "_model_module": "@jupyter-widgets/base",
      "_model_module_version": "1.2.0",
      "_model_name": "LayoutModel",
      "_view_count": null,
      "_view_module": "@jupyter-widgets/base",
      "_view_module_version": "1.2.0",
      "_view_name": "LayoutView",
      "align_content": null,
      "align_items": null,
      "align_self": null,
      "border": null,
      "bottom": null,
      "display": null,
      "flex": null,
      "flex_flow": null,
      "grid_area": null,
      "grid_auto_columns": null,
      "grid_auto_flow": null,
      "grid_auto_rows": null,
      "grid_column": null,
      "grid_gap": null,
      "grid_row": null,
      "grid_template_areas": null,
      "grid_template_columns": null,
      "grid_template_rows": null,
      "height": null,
      "justify_content": null,
      "justify_items": null,
      "left": null,
      "margin": null,
      "max_height": null,
      "max_width": null,
      "min_height": null,
      "min_width": null,
      "object_fit": null,
      "object_position": null,
      "order": null,
      "overflow": null,
      "overflow_x": null,
      "overflow_y": null,
      "padding": null,
      "right": null,
      "top": null,
      "visibility": null,
      "width": null
     }
    },
    "aaed41c7e0f94626a0d5dbc9b2569296": {
     "model_module": "@jupyter-widgets/controls",
     "model_name": "DescriptionStyleModel",
     "model_module_version": "1.5.0",
     "state": {
      "_model_module": "@jupyter-widgets/controls",
      "_model_module_version": "1.5.0",
      "_model_name": "DescriptionStyleModel",
      "_view_count": null,
      "_view_module": "@jupyter-widgets/base",
      "_view_module_version": "1.2.0",
      "_view_name": "StyleView",
      "description_width": ""
     }
    },
    "a2f626e0eb0b467a940c61a268c30ecc": {
     "model_module": "@jupyter-widgets/base",
     "model_name": "LayoutModel",
     "model_module_version": "1.2.0",
     "state": {
      "_model_module": "@jupyter-widgets/base",
      "_model_module_version": "1.2.0",
      "_model_name": "LayoutModel",
      "_view_count": null,
      "_view_module": "@jupyter-widgets/base",
      "_view_module_version": "1.2.0",
      "_view_name": "LayoutView",
      "align_content": null,
      "align_items": null,
      "align_self": null,
      "border": null,
      "bottom": null,
      "display": null,
      "flex": "2",
      "flex_flow": null,
      "grid_area": null,
      "grid_auto_columns": null,
      "grid_auto_flow": null,
      "grid_auto_rows": null,
      "grid_column": null,
      "grid_gap": null,
      "grid_row": null,
      "grid_template_areas": null,
      "grid_template_columns": null,
      "grid_template_rows": null,
      "height": null,
      "justify_content": null,
      "justify_items": null,
      "left": null,
      "margin": null,
      "max_height": null,
      "max_width": null,
      "min_height": null,
      "min_width": null,
      "object_fit": null,
      "object_position": null,
      "order": null,
      "overflow": null,
      "overflow_x": null,
      "overflow_y": null,
      "padding": null,
      "right": null,
      "top": null,
      "visibility": null,
      "width": null
     }
    },
    "2c207e62068e4a6d87bb7faa0a312a97": {
     "model_module": "@jupyter-widgets/controls",
     "model_name": "ProgressStyleModel",
     "model_module_version": "1.5.0",
     "state": {
      "_model_module": "@jupyter-widgets/controls",
      "_model_module_version": "1.5.0",
      "_model_name": "ProgressStyleModel",
      "_view_count": null,
      "_view_module": "@jupyter-widgets/base",
      "_view_module_version": "1.2.0",
      "_view_name": "StyleView",
      "bar_color": null,
      "description_width": ""
     }
    },
    "c4faf4c480e046b09a523605ec695ce3": {
     "model_module": "@jupyter-widgets/base",
     "model_name": "LayoutModel",
     "model_module_version": "1.2.0",
     "state": {
      "_model_module": "@jupyter-widgets/base",
      "_model_module_version": "1.2.0",
      "_model_name": "LayoutModel",
      "_view_count": null,
      "_view_module": "@jupyter-widgets/base",
      "_view_module_version": "1.2.0",
      "_view_name": "LayoutView",
      "align_content": null,
      "align_items": null,
      "align_self": null,
      "border": null,
      "bottom": null,
      "display": null,
      "flex": null,
      "flex_flow": null,
      "grid_area": null,
      "grid_auto_columns": null,
      "grid_auto_flow": null,
      "grid_auto_rows": null,
      "grid_column": null,
      "grid_gap": null,
      "grid_row": null,
      "grid_template_areas": null,
      "grid_template_columns": null,
      "grid_template_rows": null,
      "height": null,
      "justify_content": null,
      "justify_items": null,
      "left": null,
      "margin": null,
      "max_height": null,
      "max_width": null,
      "min_height": null,
      "min_width": null,
      "object_fit": null,
      "object_position": null,
      "order": null,
      "overflow": null,
      "overflow_x": null,
      "overflow_y": null,
      "padding": null,
      "right": null,
      "top": null,
      "visibility": null,
      "width": null
     }
    },
    "efceeab6bc514854850204a2db54f982": {
     "model_module": "@jupyter-widgets/controls",
     "model_name": "DescriptionStyleModel",
     "model_module_version": "1.5.0",
     "state": {
      "_model_module": "@jupyter-widgets/controls",
      "_model_module_version": "1.5.0",
      "_model_name": "DescriptionStyleModel",
      "_view_count": null,
      "_view_module": "@jupyter-widgets/base",
      "_view_module_version": "1.2.0",
      "_view_name": "StyleView",
      "description_width": ""
     }
    },
    "900471c806c049a1ba20a9a40e5fff1c": {
     "model_module": "@jupyter-widgets/controls",
     "model_name": "HBoxModel",
     "model_module_version": "1.5.0",
     "state": {
      "_dom_classes": [],
      "_model_module": "@jupyter-widgets/controls",
      "_model_module_version": "1.5.0",
      "_model_name": "HBoxModel",
      "_view_count": null,
      "_view_module": "@jupyter-widgets/controls",
      "_view_module_version": "1.5.0",
      "_view_name": "HBoxView",
      "box_style": "",
      "children": [
       "IPY_MODEL_361aa916758b4e4a91a1c202ea8f5fec",
       "IPY_MODEL_05b591b1d108452e96c437b9b9a14c4d",
       "IPY_MODEL_6b4b5ef607824daca0d96384b7ccc9d1"
      ],
      "layout": "IPY_MODEL_a6bce031461a4711a6d2640385f8ff42"
     }
    },
    "361aa916758b4e4a91a1c202ea8f5fec": {
     "model_module": "@jupyter-widgets/controls",
     "model_name": "HTMLModel",
     "model_module_version": "1.5.0",
     "state": {
      "_dom_classes": [],
      "_model_module": "@jupyter-widgets/controls",
      "_model_module_version": "1.5.0",
      "_model_name": "HTMLModel",
      "_view_count": null,
      "_view_module": "@jupyter-widgets/controls",
      "_view_module_version": "1.5.0",
      "_view_name": "HTMLView",
      "description": "",
      "description_tooltip": null,
      "layout": "IPY_MODEL_0691f53dc9c5481b8c5e19e2c3cfd06d",
      "placeholder": "​",
      "style": "IPY_MODEL_7d7efff69a6b4da98313c68c8025d851",
      "value": "Validation DataLoader 0: 100%"
     }
    },
    "05b591b1d108452e96c437b9b9a14c4d": {
     "model_module": "@jupyter-widgets/controls",
     "model_name": "FloatProgressModel",
     "model_module_version": "1.5.0",
     "state": {
      "_dom_classes": [],
      "_model_module": "@jupyter-widgets/controls",
      "_model_module_version": "1.5.0",
      "_model_name": "FloatProgressModel",
      "_view_count": null,
      "_view_module": "@jupyter-widgets/controls",
      "_view_module_version": "1.5.0",
      "_view_name": "ProgressView",
      "bar_style": "",
      "description": "",
      "description_tooltip": null,
      "layout": "IPY_MODEL_1776271ca53f4b40b76705f67c881edd",
      "max": 38,
      "min": 0,
      "orientation": "horizontal",
      "style": "IPY_MODEL_f3b5ca5724e84d14aebcd39738ad1332",
      "value": 38
     }
    },
    "6b4b5ef607824daca0d96384b7ccc9d1": {
     "model_module": "@jupyter-widgets/controls",
     "model_name": "HTMLModel",
     "model_module_version": "1.5.0",
     "state": {
      "_dom_classes": [],
      "_model_module": "@jupyter-widgets/controls",
      "_model_module_version": "1.5.0",
      "_model_name": "HTMLModel",
      "_view_count": null,
      "_view_module": "@jupyter-widgets/controls",
      "_view_module_version": "1.5.0",
      "_view_name": "HTMLView",
      "description": "",
      "description_tooltip": null,
      "layout": "IPY_MODEL_22b4456a352e4e97a43b31f0226d1d60",
      "placeholder": "​",
      "style": "IPY_MODEL_56453cd368324e98a5a3088222f07a7f",
      "value": " 38/38 [00:06&lt;00:00,  5.63it/s]"
     }
    },
    "a6bce031461a4711a6d2640385f8ff42": {
     "model_module": "@jupyter-widgets/base",
     "model_name": "LayoutModel",
     "model_module_version": "1.2.0",
     "state": {
      "_model_module": "@jupyter-widgets/base",
      "_model_module_version": "1.2.0",
      "_model_name": "LayoutModel",
      "_view_count": null,
      "_view_module": "@jupyter-widgets/base",
      "_view_module_version": "1.2.0",
      "_view_name": "LayoutView",
      "align_content": null,
      "align_items": null,
      "align_self": null,
      "border": null,
      "bottom": null,
      "display": "inline-flex",
      "flex": null,
      "flex_flow": "row wrap",
      "grid_area": null,
      "grid_auto_columns": null,
      "grid_auto_flow": null,
      "grid_auto_rows": null,
      "grid_column": null,
      "grid_gap": null,
      "grid_row": null,
      "grid_template_areas": null,
      "grid_template_columns": null,
      "grid_template_rows": null,
      "height": null,
      "justify_content": null,
      "justify_items": null,
      "left": null,
      "margin": null,
      "max_height": null,
      "max_width": null,
      "min_height": null,
      "min_width": null,
      "object_fit": null,
      "object_position": null,
      "order": null,
      "overflow": null,
      "overflow_x": null,
      "overflow_y": null,
      "padding": null,
      "right": null,
      "top": null,
      "visibility": "hidden",
      "width": "100%"
     }
    },
    "0691f53dc9c5481b8c5e19e2c3cfd06d": {
     "model_module": "@jupyter-widgets/base",
     "model_name": "LayoutModel",
     "model_module_version": "1.2.0",
     "state": {
      "_model_module": "@jupyter-widgets/base",
      "_model_module_version": "1.2.0",
      "_model_name": "LayoutModel",
      "_view_count": null,
      "_view_module": "@jupyter-widgets/base",
      "_view_module_version": "1.2.0",
      "_view_name": "LayoutView",
      "align_content": null,
      "align_items": null,
      "align_self": null,
      "border": null,
      "bottom": null,
      "display": null,
      "flex": null,
      "flex_flow": null,
      "grid_area": null,
      "grid_auto_columns": null,
      "grid_auto_flow": null,
      "grid_auto_rows": null,
      "grid_column": null,
      "grid_gap": null,
      "grid_row": null,
      "grid_template_areas": null,
      "grid_template_columns": null,
      "grid_template_rows": null,
      "height": null,
      "justify_content": null,
      "justify_items": null,
      "left": null,
      "margin": null,
      "max_height": null,
      "max_width": null,
      "min_height": null,
      "min_width": null,
      "object_fit": null,
      "object_position": null,
      "order": null,
      "overflow": null,
      "overflow_x": null,
      "overflow_y": null,
      "padding": null,
      "right": null,
      "top": null,
      "visibility": null,
      "width": null
     }
    },
    "7d7efff69a6b4da98313c68c8025d851": {
     "model_module": "@jupyter-widgets/controls",
     "model_name": "DescriptionStyleModel",
     "model_module_version": "1.5.0",
     "state": {
      "_model_module": "@jupyter-widgets/controls",
      "_model_module_version": "1.5.0",
      "_model_name": "DescriptionStyleModel",
      "_view_count": null,
      "_view_module": "@jupyter-widgets/base",
      "_view_module_version": "1.2.0",
      "_view_name": "StyleView",
      "description_width": ""
     }
    },
    "1776271ca53f4b40b76705f67c881edd": {
     "model_module": "@jupyter-widgets/base",
     "model_name": "LayoutModel",
     "model_module_version": "1.2.0",
     "state": {
      "_model_module": "@jupyter-widgets/base",
      "_model_module_version": "1.2.0",
      "_model_name": "LayoutModel",
      "_view_count": null,
      "_view_module": "@jupyter-widgets/base",
      "_view_module_version": "1.2.0",
      "_view_name": "LayoutView",
      "align_content": null,
      "align_items": null,
      "align_self": null,
      "border": null,
      "bottom": null,
      "display": null,
      "flex": "2",
      "flex_flow": null,
      "grid_area": null,
      "grid_auto_columns": null,
      "grid_auto_flow": null,
      "grid_auto_rows": null,
      "grid_column": null,
      "grid_gap": null,
      "grid_row": null,
      "grid_template_areas": null,
      "grid_template_columns": null,
      "grid_template_rows": null,
      "height": null,
      "justify_content": null,
      "justify_items": null,
      "left": null,
      "margin": null,
      "max_height": null,
      "max_width": null,
      "min_height": null,
      "min_width": null,
      "object_fit": null,
      "object_position": null,
      "order": null,
      "overflow": null,
      "overflow_x": null,
      "overflow_y": null,
      "padding": null,
      "right": null,
      "top": null,
      "visibility": null,
      "width": null
     }
    },
    "f3b5ca5724e84d14aebcd39738ad1332": {
     "model_module": "@jupyter-widgets/controls",
     "model_name": "ProgressStyleModel",
     "model_module_version": "1.5.0",
     "state": {
      "_model_module": "@jupyter-widgets/controls",
      "_model_module_version": "1.5.0",
      "_model_name": "ProgressStyleModel",
      "_view_count": null,
      "_view_module": "@jupyter-widgets/base",
      "_view_module_version": "1.2.0",
      "_view_name": "StyleView",
      "bar_color": null,
      "description_width": ""
     }
    },
    "22b4456a352e4e97a43b31f0226d1d60": {
     "model_module": "@jupyter-widgets/base",
     "model_name": "LayoutModel",
     "model_module_version": "1.2.0",
     "state": {
      "_model_module": "@jupyter-widgets/base",
      "_model_module_version": "1.2.0",
      "_model_name": "LayoutModel",
      "_view_count": null,
      "_view_module": "@jupyter-widgets/base",
      "_view_module_version": "1.2.0",
      "_view_name": "LayoutView",
      "align_content": null,
      "align_items": null,
      "align_self": null,
      "border": null,
      "bottom": null,
      "display": null,
      "flex": null,
      "flex_flow": null,
      "grid_area": null,
      "grid_auto_columns": null,
      "grid_auto_flow": null,
      "grid_auto_rows": null,
      "grid_column": null,
      "grid_gap": null,
      "grid_row": null,
      "grid_template_areas": null,
      "grid_template_columns": null,
      "grid_template_rows": null,
      "height": null,
      "justify_content": null,
      "justify_items": null,
      "left": null,
      "margin": null,
      "max_height": null,
      "max_width": null,
      "min_height": null,
      "min_width": null,
      "object_fit": null,
      "object_position": null,
      "order": null,
      "overflow": null,
      "overflow_x": null,
      "overflow_y": null,
      "padding": null,
      "right": null,
      "top": null,
      "visibility": null,
      "width": null
     }
    },
    "56453cd368324e98a5a3088222f07a7f": {
     "model_module": "@jupyter-widgets/controls",
     "model_name": "DescriptionStyleModel",
     "model_module_version": "1.5.0",
     "state": {
      "_model_module": "@jupyter-widgets/controls",
      "_model_module_version": "1.5.0",
      "_model_name": "DescriptionStyleModel",
      "_view_count": null,
      "_view_module": "@jupyter-widgets/base",
      "_view_module_version": "1.2.0",
      "_view_name": "StyleView",
      "description_width": ""
     }
    },
    "8de3a6d950f1485badc5ee983ce7346e": {
     "model_module": "@jupyter-widgets/controls",
     "model_name": "HBoxModel",
     "model_module_version": "1.5.0",
     "state": {
      "_dom_classes": [],
      "_model_module": "@jupyter-widgets/controls",
      "_model_module_version": "1.5.0",
      "_model_name": "HBoxModel",
      "_view_count": null,
      "_view_module": "@jupyter-widgets/controls",
      "_view_module_version": "1.5.0",
      "_view_name": "HBoxView",
      "box_style": "",
      "children": [
       "IPY_MODEL_bc7a32ddf26f4a7495de8b1f5056c4d9",
       "IPY_MODEL_dbf023d9b54b472aa1726ad9bc07b7be",
       "IPY_MODEL_a9f0bc14936541a59fd2ef46e6287ba8"
      ],
      "layout": "IPY_MODEL_8aefeb13820f4ae4b171fabd77405f2c"
     }
    },
    "bc7a32ddf26f4a7495de8b1f5056c4d9": {
     "model_module": "@jupyter-widgets/controls",
     "model_name": "HTMLModel",
     "model_module_version": "1.5.0",
     "state": {
      "_dom_classes": [],
      "_model_module": "@jupyter-widgets/controls",
      "_model_module_version": "1.5.0",
      "_model_name": "HTMLModel",
      "_view_count": null,
      "_view_module": "@jupyter-widgets/controls",
      "_view_module_version": "1.5.0",
      "_view_name": "HTMLView",
      "description": "",
      "description_tooltip": null,
      "layout": "IPY_MODEL_eb408f6b076b467eafa81c25d2235bdc",
      "placeholder": "​",
      "style": "IPY_MODEL_eb75d19770ae40daa54b5e98756051b9",
      "value": "Validation DataLoader 0: 100%"
     }
    },
    "dbf023d9b54b472aa1726ad9bc07b7be": {
     "model_module": "@jupyter-widgets/controls",
     "model_name": "FloatProgressModel",
     "model_module_version": "1.5.0",
     "state": {
      "_dom_classes": [],
      "_model_module": "@jupyter-widgets/controls",
      "_model_module_version": "1.5.0",
      "_model_name": "FloatProgressModel",
      "_view_count": null,
      "_view_module": "@jupyter-widgets/controls",
      "_view_module_version": "1.5.0",
      "_view_name": "ProgressView",
      "bar_style": "",
      "description": "",
      "description_tooltip": null,
      "layout": "IPY_MODEL_3e5acf1632c34674925d2ece53297166",
      "max": 38,
      "min": 0,
      "orientation": "horizontal",
      "style": "IPY_MODEL_a61f2bd8ee464c76b198fae77c96ab6d",
      "value": 38
     }
    },
    "a9f0bc14936541a59fd2ef46e6287ba8": {
     "model_module": "@jupyter-widgets/controls",
     "model_name": "HTMLModel",
     "model_module_version": "1.5.0",
     "state": {
      "_dom_classes": [],
      "_model_module": "@jupyter-widgets/controls",
      "_model_module_version": "1.5.0",
      "_model_name": "HTMLModel",
      "_view_count": null,
      "_view_module": "@jupyter-widgets/controls",
      "_view_module_version": "1.5.0",
      "_view_name": "HTMLView",
      "description": "",
      "description_tooltip": null,
      "layout": "IPY_MODEL_db39dccc4a5e471ca0c4ad6cba1548aa",
      "placeholder": "​",
      "style": "IPY_MODEL_d26a378f8d1c4d9f97342c86507836f2",
      "value": " 38/38 [00:04&lt;00:00,  7.84it/s]"
     }
    },
    "8aefeb13820f4ae4b171fabd77405f2c": {
     "model_module": "@jupyter-widgets/base",
     "model_name": "LayoutModel",
     "model_module_version": "1.2.0",
     "state": {
      "_model_module": "@jupyter-widgets/base",
      "_model_module_version": "1.2.0",
      "_model_name": "LayoutModel",
      "_view_count": null,
      "_view_module": "@jupyter-widgets/base",
      "_view_module_version": "1.2.0",
      "_view_name": "LayoutView",
      "align_content": null,
      "align_items": null,
      "align_self": null,
      "border": null,
      "bottom": null,
      "display": "inline-flex",
      "flex": null,
      "flex_flow": "row wrap",
      "grid_area": null,
      "grid_auto_columns": null,
      "grid_auto_flow": null,
      "grid_auto_rows": null,
      "grid_column": null,
      "grid_gap": null,
      "grid_row": null,
      "grid_template_areas": null,
      "grid_template_columns": null,
      "grid_template_rows": null,
      "height": null,
      "justify_content": null,
      "justify_items": null,
      "left": null,
      "margin": null,
      "max_height": null,
      "max_width": null,
      "min_height": null,
      "min_width": null,
      "object_fit": null,
      "object_position": null,
      "order": null,
      "overflow": null,
      "overflow_x": null,
      "overflow_y": null,
      "padding": null,
      "right": null,
      "top": null,
      "visibility": "hidden",
      "width": "100%"
     }
    },
    "eb408f6b076b467eafa81c25d2235bdc": {
     "model_module": "@jupyter-widgets/base",
     "model_name": "LayoutModel",
     "model_module_version": "1.2.0",
     "state": {
      "_model_module": "@jupyter-widgets/base",
      "_model_module_version": "1.2.0",
      "_model_name": "LayoutModel",
      "_view_count": null,
      "_view_module": "@jupyter-widgets/base",
      "_view_module_version": "1.2.0",
      "_view_name": "LayoutView",
      "align_content": null,
      "align_items": null,
      "align_self": null,
      "border": null,
      "bottom": null,
      "display": null,
      "flex": null,
      "flex_flow": null,
      "grid_area": null,
      "grid_auto_columns": null,
      "grid_auto_flow": null,
      "grid_auto_rows": null,
      "grid_column": null,
      "grid_gap": null,
      "grid_row": null,
      "grid_template_areas": null,
      "grid_template_columns": null,
      "grid_template_rows": null,
      "height": null,
      "justify_content": null,
      "justify_items": null,
      "left": null,
      "margin": null,
      "max_height": null,
      "max_width": null,
      "min_height": null,
      "min_width": null,
      "object_fit": null,
      "object_position": null,
      "order": null,
      "overflow": null,
      "overflow_x": null,
      "overflow_y": null,
      "padding": null,
      "right": null,
      "top": null,
      "visibility": null,
      "width": null
     }
    },
    "eb75d19770ae40daa54b5e98756051b9": {
     "model_module": "@jupyter-widgets/controls",
     "model_name": "DescriptionStyleModel",
     "model_module_version": "1.5.0",
     "state": {
      "_model_module": "@jupyter-widgets/controls",
      "_model_module_version": "1.5.0",
      "_model_name": "DescriptionStyleModel",
      "_view_count": null,
      "_view_module": "@jupyter-widgets/base",
      "_view_module_version": "1.2.0",
      "_view_name": "StyleView",
      "description_width": ""
     }
    },
    "3e5acf1632c34674925d2ece53297166": {
     "model_module": "@jupyter-widgets/base",
     "model_name": "LayoutModel",
     "model_module_version": "1.2.0",
     "state": {
      "_model_module": "@jupyter-widgets/base",
      "_model_module_version": "1.2.0",
      "_model_name": "LayoutModel",
      "_view_count": null,
      "_view_module": "@jupyter-widgets/base",
      "_view_module_version": "1.2.0",
      "_view_name": "LayoutView",
      "align_content": null,
      "align_items": null,
      "align_self": null,
      "border": null,
      "bottom": null,
      "display": null,
      "flex": "2",
      "flex_flow": null,
      "grid_area": null,
      "grid_auto_columns": null,
      "grid_auto_flow": null,
      "grid_auto_rows": null,
      "grid_column": null,
      "grid_gap": null,
      "grid_row": null,
      "grid_template_areas": null,
      "grid_template_columns": null,
      "grid_template_rows": null,
      "height": null,
      "justify_content": null,
      "justify_items": null,
      "left": null,
      "margin": null,
      "max_height": null,
      "max_width": null,
      "min_height": null,
      "min_width": null,
      "object_fit": null,
      "object_position": null,
      "order": null,
      "overflow": null,
      "overflow_x": null,
      "overflow_y": null,
      "padding": null,
      "right": null,
      "top": null,
      "visibility": null,
      "width": null
     }
    },
    "a61f2bd8ee464c76b198fae77c96ab6d": {
     "model_module": "@jupyter-widgets/controls",
     "model_name": "ProgressStyleModel",
     "model_module_version": "1.5.0",
     "state": {
      "_model_module": "@jupyter-widgets/controls",
      "_model_module_version": "1.5.0",
      "_model_name": "ProgressStyleModel",
      "_view_count": null,
      "_view_module": "@jupyter-widgets/base",
      "_view_module_version": "1.2.0",
      "_view_name": "StyleView",
      "bar_color": null,
      "description_width": ""
     }
    },
    "db39dccc4a5e471ca0c4ad6cba1548aa": {
     "model_module": "@jupyter-widgets/base",
     "model_name": "LayoutModel",
     "model_module_version": "1.2.0",
     "state": {
      "_model_module": "@jupyter-widgets/base",
      "_model_module_version": "1.2.0",
      "_model_name": "LayoutModel",
      "_view_count": null,
      "_view_module": "@jupyter-widgets/base",
      "_view_module_version": "1.2.0",
      "_view_name": "LayoutView",
      "align_content": null,
      "align_items": null,
      "align_self": null,
      "border": null,
      "bottom": null,
      "display": null,
      "flex": null,
      "flex_flow": null,
      "grid_area": null,
      "grid_auto_columns": null,
      "grid_auto_flow": null,
      "grid_auto_rows": null,
      "grid_column": null,
      "grid_gap": null,
      "grid_row": null,
      "grid_template_areas": null,
      "grid_template_columns": null,
      "grid_template_rows": null,
      "height": null,
      "justify_content": null,
      "justify_items": null,
      "left": null,
      "margin": null,
      "max_height": null,
      "max_width": null,
      "min_height": null,
      "min_width": null,
      "object_fit": null,
      "object_position": null,
      "order": null,
      "overflow": null,
      "overflow_x": null,
      "overflow_y": null,
      "padding": null,
      "right": null,
      "top": null,
      "visibility": null,
      "width": null
     }
    },
    "d26a378f8d1c4d9f97342c86507836f2": {
     "model_module": "@jupyter-widgets/controls",
     "model_name": "DescriptionStyleModel",
     "model_module_version": "1.5.0",
     "state": {
      "_model_module": "@jupyter-widgets/controls",
      "_model_module_version": "1.5.0",
      "_model_name": "DescriptionStyleModel",
      "_view_count": null,
      "_view_module": "@jupyter-widgets/base",
      "_view_module_version": "1.2.0",
      "_view_name": "StyleView",
      "description_width": ""
     }
    },
    "6ebb26b16a7f468e8d505745647fc308": {
     "model_module": "@jupyter-widgets/controls",
     "model_name": "HBoxModel",
     "model_module_version": "1.5.0",
     "state": {
      "_dom_classes": [],
      "_model_module": "@jupyter-widgets/controls",
      "_model_module_version": "1.5.0",
      "_model_name": "HBoxModel",
      "_view_count": null,
      "_view_module": "@jupyter-widgets/controls",
      "_view_module_version": "1.5.0",
      "_view_name": "HBoxView",
      "box_style": "",
      "children": [
       "IPY_MODEL_4d776828aa274ce3bee287e020e484c8",
       "IPY_MODEL_d11da1b3d02c40dcaa75a8ddb4baa753",
       "IPY_MODEL_179168b192594647bf6e02d5f8b26b4f"
      ],
      "layout": "IPY_MODEL_89f77616b61b42598730427bd762263b"
     }
    },
    "4d776828aa274ce3bee287e020e484c8": {
     "model_module": "@jupyter-widgets/controls",
     "model_name": "HTMLModel",
     "model_module_version": "1.5.0",
     "state": {
      "_dom_classes": [],
      "_model_module": "@jupyter-widgets/controls",
      "_model_module_version": "1.5.0",
      "_model_name": "HTMLModel",
      "_view_count": null,
      "_view_module": "@jupyter-widgets/controls",
      "_view_module_version": "1.5.0",
      "_view_name": "HTMLView",
      "description": "",
      "description_tooltip": null,
      "layout": "IPY_MODEL_9748e7b5e35141fc8311c9b1913a0928",
      "placeholder": "​",
      "style": "IPY_MODEL_a1de9c58c2b14561baee6a4c8b545653",
      "value": "Validation DataLoader 0: 100%"
     }
    },
    "d11da1b3d02c40dcaa75a8ddb4baa753": {
     "model_module": "@jupyter-widgets/controls",
     "model_name": "FloatProgressModel",
     "model_module_version": "1.5.0",
     "state": {
      "_dom_classes": [],
      "_model_module": "@jupyter-widgets/controls",
      "_model_module_version": "1.5.0",
      "_model_name": "FloatProgressModel",
      "_view_count": null,
      "_view_module": "@jupyter-widgets/controls",
      "_view_module_version": "1.5.0",
      "_view_name": "ProgressView",
      "bar_style": "",
      "description": "",
      "description_tooltip": null,
      "layout": "IPY_MODEL_3b6685ed0a2847918a490ac7345ed370",
      "max": 38,
      "min": 0,
      "orientation": "horizontal",
      "style": "IPY_MODEL_a758f717790f4e93b86660501d431eb1",
      "value": 38
     }
    },
    "179168b192594647bf6e02d5f8b26b4f": {
     "model_module": "@jupyter-widgets/controls",
     "model_name": "HTMLModel",
     "model_module_version": "1.5.0",
     "state": {
      "_dom_classes": [],
      "_model_module": "@jupyter-widgets/controls",
      "_model_module_version": "1.5.0",
      "_model_name": "HTMLModel",
      "_view_count": null,
      "_view_module": "@jupyter-widgets/controls",
      "_view_module_version": "1.5.0",
      "_view_name": "HTMLView",
      "description": "",
      "description_tooltip": null,
      "layout": "IPY_MODEL_facbb209069d49f4805430dbd7a84a7d",
      "placeholder": "​",
      "style": "IPY_MODEL_1d3d595241f443aca66bdc44a3e73142",
      "value": " 38/38 [00:04&lt;00:00,  8.78it/s]"
     }
    },
    "89f77616b61b42598730427bd762263b": {
     "model_module": "@jupyter-widgets/base",
     "model_name": "LayoutModel",
     "model_module_version": "1.2.0",
     "state": {
      "_model_module": "@jupyter-widgets/base",
      "_model_module_version": "1.2.0",
      "_model_name": "LayoutModel",
      "_view_count": null,
      "_view_module": "@jupyter-widgets/base",
      "_view_module_version": "1.2.0",
      "_view_name": "LayoutView",
      "align_content": null,
      "align_items": null,
      "align_self": null,
      "border": null,
      "bottom": null,
      "display": "inline-flex",
      "flex": null,
      "flex_flow": "row wrap",
      "grid_area": null,
      "grid_auto_columns": null,
      "grid_auto_flow": null,
      "grid_auto_rows": null,
      "grid_column": null,
      "grid_gap": null,
      "grid_row": null,
      "grid_template_areas": null,
      "grid_template_columns": null,
      "grid_template_rows": null,
      "height": null,
      "justify_content": null,
      "justify_items": null,
      "left": null,
      "margin": null,
      "max_height": null,
      "max_width": null,
      "min_height": null,
      "min_width": null,
      "object_fit": null,
      "object_position": null,
      "order": null,
      "overflow": null,
      "overflow_x": null,
      "overflow_y": null,
      "padding": null,
      "right": null,
      "top": null,
      "visibility": "hidden",
      "width": "100%"
     }
    },
    "9748e7b5e35141fc8311c9b1913a0928": {
     "model_module": "@jupyter-widgets/base",
     "model_name": "LayoutModel",
     "model_module_version": "1.2.0",
     "state": {
      "_model_module": "@jupyter-widgets/base",
      "_model_module_version": "1.2.0",
      "_model_name": "LayoutModel",
      "_view_count": null,
      "_view_module": "@jupyter-widgets/base",
      "_view_module_version": "1.2.0",
      "_view_name": "LayoutView",
      "align_content": null,
      "align_items": null,
      "align_self": null,
      "border": null,
      "bottom": null,
      "display": null,
      "flex": null,
      "flex_flow": null,
      "grid_area": null,
      "grid_auto_columns": null,
      "grid_auto_flow": null,
      "grid_auto_rows": null,
      "grid_column": null,
      "grid_gap": null,
      "grid_row": null,
      "grid_template_areas": null,
      "grid_template_columns": null,
      "grid_template_rows": null,
      "height": null,
      "justify_content": null,
      "justify_items": null,
      "left": null,
      "margin": null,
      "max_height": null,
      "max_width": null,
      "min_height": null,
      "min_width": null,
      "object_fit": null,
      "object_position": null,
      "order": null,
      "overflow": null,
      "overflow_x": null,
      "overflow_y": null,
      "padding": null,
      "right": null,
      "top": null,
      "visibility": null,
      "width": null
     }
    },
    "a1de9c58c2b14561baee6a4c8b545653": {
     "model_module": "@jupyter-widgets/controls",
     "model_name": "DescriptionStyleModel",
     "model_module_version": "1.5.0",
     "state": {
      "_model_module": "@jupyter-widgets/controls",
      "_model_module_version": "1.5.0",
      "_model_name": "DescriptionStyleModel",
      "_view_count": null,
      "_view_module": "@jupyter-widgets/base",
      "_view_module_version": "1.2.0",
      "_view_name": "StyleView",
      "description_width": ""
     }
    },
    "3b6685ed0a2847918a490ac7345ed370": {
     "model_module": "@jupyter-widgets/base",
     "model_name": "LayoutModel",
     "model_module_version": "1.2.0",
     "state": {
      "_model_module": "@jupyter-widgets/base",
      "_model_module_version": "1.2.0",
      "_model_name": "LayoutModel",
      "_view_count": null,
      "_view_module": "@jupyter-widgets/base",
      "_view_module_version": "1.2.0",
      "_view_name": "LayoutView",
      "align_content": null,
      "align_items": null,
      "align_self": null,
      "border": null,
      "bottom": null,
      "display": null,
      "flex": "2",
      "flex_flow": null,
      "grid_area": null,
      "grid_auto_columns": null,
      "grid_auto_flow": null,
      "grid_auto_rows": null,
      "grid_column": null,
      "grid_gap": null,
      "grid_row": null,
      "grid_template_areas": null,
      "grid_template_columns": null,
      "grid_template_rows": null,
      "height": null,
      "justify_content": null,
      "justify_items": null,
      "left": null,
      "margin": null,
      "max_height": null,
      "max_width": null,
      "min_height": null,
      "min_width": null,
      "object_fit": null,
      "object_position": null,
      "order": null,
      "overflow": null,
      "overflow_x": null,
      "overflow_y": null,
      "padding": null,
      "right": null,
      "top": null,
      "visibility": null,
      "width": null
     }
    },
    "a758f717790f4e93b86660501d431eb1": {
     "model_module": "@jupyter-widgets/controls",
     "model_name": "ProgressStyleModel",
     "model_module_version": "1.5.0",
     "state": {
      "_model_module": "@jupyter-widgets/controls",
      "_model_module_version": "1.5.0",
      "_model_name": "ProgressStyleModel",
      "_view_count": null,
      "_view_module": "@jupyter-widgets/base",
      "_view_module_version": "1.2.0",
      "_view_name": "StyleView",
      "bar_color": null,
      "description_width": ""
     }
    },
    "facbb209069d49f4805430dbd7a84a7d": {
     "model_module": "@jupyter-widgets/base",
     "model_name": "LayoutModel",
     "model_module_version": "1.2.0",
     "state": {
      "_model_module": "@jupyter-widgets/base",
      "_model_module_version": "1.2.0",
      "_model_name": "LayoutModel",
      "_view_count": null,
      "_view_module": "@jupyter-widgets/base",
      "_view_module_version": "1.2.0",
      "_view_name": "LayoutView",
      "align_content": null,
      "align_items": null,
      "align_self": null,
      "border": null,
      "bottom": null,
      "display": null,
      "flex": null,
      "flex_flow": null,
      "grid_area": null,
      "grid_auto_columns": null,
      "grid_auto_flow": null,
      "grid_auto_rows": null,
      "grid_column": null,
      "grid_gap": null,
      "grid_row": null,
      "grid_template_areas": null,
      "grid_template_columns": null,
      "grid_template_rows": null,
      "height": null,
      "justify_content": null,
      "justify_items": null,
      "left": null,
      "margin": null,
      "max_height": null,
      "max_width": null,
      "min_height": null,
      "min_width": null,
      "object_fit": null,
      "object_position": null,
      "order": null,
      "overflow": null,
      "overflow_x": null,
      "overflow_y": null,
      "padding": null,
      "right": null,
      "top": null,
      "visibility": null,
      "width": null
     }
    },
    "1d3d595241f443aca66bdc44a3e73142": {
     "model_module": "@jupyter-widgets/controls",
     "model_name": "DescriptionStyleModel",
     "model_module_version": "1.5.0",
     "state": {
      "_model_module": "@jupyter-widgets/controls",
      "_model_module_version": "1.5.0",
      "_model_name": "DescriptionStyleModel",
      "_view_count": null,
      "_view_module": "@jupyter-widgets/base",
      "_view_module_version": "1.2.0",
      "_view_name": "StyleView",
      "description_width": ""
     }
    },
    "649f9dbc13b04eb3a05901cd3c948ea9": {
     "model_module": "@jupyter-widgets/controls",
     "model_name": "HBoxModel",
     "model_module_version": "1.5.0",
     "state": {
      "_dom_classes": [],
      "_model_module": "@jupyter-widgets/controls",
      "_model_module_version": "1.5.0",
      "_model_name": "HBoxModel",
      "_view_count": null,
      "_view_module": "@jupyter-widgets/controls",
      "_view_module_version": "1.5.0",
      "_view_name": "HBoxView",
      "box_style": "",
      "children": [
       "IPY_MODEL_83108af2e1eb4146be0aad3bf763b9ea",
       "IPY_MODEL_45449167451b4b0fa5e186f8c1c8795d",
       "IPY_MODEL_fb60005193634700b02cc16a66331dfb"
      ],
      "layout": "IPY_MODEL_6f3c415c2f3d4ed59adcbf708d275d30"
     }
    },
    "83108af2e1eb4146be0aad3bf763b9ea": {
     "model_module": "@jupyter-widgets/controls",
     "model_name": "HTMLModel",
     "model_module_version": "1.5.0",
     "state": {
      "_dom_classes": [],
      "_model_module": "@jupyter-widgets/controls",
      "_model_module_version": "1.5.0",
      "_model_name": "HTMLModel",
      "_view_count": null,
      "_view_module": "@jupyter-widgets/controls",
      "_view_module_version": "1.5.0",
      "_view_name": "HTMLView",
      "description": "",
      "description_tooltip": null,
      "layout": "IPY_MODEL_e328c8e7831241d1868c242151a3b7c3",
      "placeholder": "​",
      "style": "IPY_MODEL_acd8a0dd87734c7c88664ba811961793",
      "value": "Validation DataLoader 0: 100%"
     }
    },
    "45449167451b4b0fa5e186f8c1c8795d": {
     "model_module": "@jupyter-widgets/controls",
     "model_name": "FloatProgressModel",
     "model_module_version": "1.5.0",
     "state": {
      "_dom_classes": [],
      "_model_module": "@jupyter-widgets/controls",
      "_model_module_version": "1.5.0",
      "_model_name": "FloatProgressModel",
      "_view_count": null,
      "_view_module": "@jupyter-widgets/controls",
      "_view_module_version": "1.5.0",
      "_view_name": "ProgressView",
      "bar_style": "",
      "description": "",
      "description_tooltip": null,
      "layout": "IPY_MODEL_85e1dd14e36549c397d7f3644b91fcb0",
      "max": 38,
      "min": 0,
      "orientation": "horizontal",
      "style": "IPY_MODEL_9424e692f2e941049bdf5b410781eaf4",
      "value": 38
     }
    },
    "fb60005193634700b02cc16a66331dfb": {
     "model_module": "@jupyter-widgets/controls",
     "model_name": "HTMLModel",
     "model_module_version": "1.5.0",
     "state": {
      "_dom_classes": [],
      "_model_module": "@jupyter-widgets/controls",
      "_model_module_version": "1.5.0",
      "_model_name": "HTMLModel",
      "_view_count": null,
      "_view_module": "@jupyter-widgets/controls",
      "_view_module_version": "1.5.0",
      "_view_name": "HTMLView",
      "description": "",
      "description_tooltip": null,
      "layout": "IPY_MODEL_549e7343b7eb45bd8acc4254773ca239",
      "placeholder": "​",
      "style": "IPY_MODEL_b3eca1ef34b143de9923409dd86946fc",
      "value": " 38/38 [00:07&lt;00:00,  5.24it/s]"
     }
    },
    "6f3c415c2f3d4ed59adcbf708d275d30": {
     "model_module": "@jupyter-widgets/base",
     "model_name": "LayoutModel",
     "model_module_version": "1.2.0",
     "state": {
      "_model_module": "@jupyter-widgets/base",
      "_model_module_version": "1.2.0",
      "_model_name": "LayoutModel",
      "_view_count": null,
      "_view_module": "@jupyter-widgets/base",
      "_view_module_version": "1.2.0",
      "_view_name": "LayoutView",
      "align_content": null,
      "align_items": null,
      "align_self": null,
      "border": null,
      "bottom": null,
      "display": "inline-flex",
      "flex": null,
      "flex_flow": "row wrap",
      "grid_area": null,
      "grid_auto_columns": null,
      "grid_auto_flow": null,
      "grid_auto_rows": null,
      "grid_column": null,
      "grid_gap": null,
      "grid_row": null,
      "grid_template_areas": null,
      "grid_template_columns": null,
      "grid_template_rows": null,
      "height": null,
      "justify_content": null,
      "justify_items": null,
      "left": null,
      "margin": null,
      "max_height": null,
      "max_width": null,
      "min_height": null,
      "min_width": null,
      "object_fit": null,
      "object_position": null,
      "order": null,
      "overflow": null,
      "overflow_x": null,
      "overflow_y": null,
      "padding": null,
      "right": null,
      "top": null,
      "visibility": "hidden",
      "width": "100%"
     }
    },
    "e328c8e7831241d1868c242151a3b7c3": {
     "model_module": "@jupyter-widgets/base",
     "model_name": "LayoutModel",
     "model_module_version": "1.2.0",
     "state": {
      "_model_module": "@jupyter-widgets/base",
      "_model_module_version": "1.2.0",
      "_model_name": "LayoutModel",
      "_view_count": null,
      "_view_module": "@jupyter-widgets/base",
      "_view_module_version": "1.2.0",
      "_view_name": "LayoutView",
      "align_content": null,
      "align_items": null,
      "align_self": null,
      "border": null,
      "bottom": null,
      "display": null,
      "flex": null,
      "flex_flow": null,
      "grid_area": null,
      "grid_auto_columns": null,
      "grid_auto_flow": null,
      "grid_auto_rows": null,
      "grid_column": null,
      "grid_gap": null,
      "grid_row": null,
      "grid_template_areas": null,
      "grid_template_columns": null,
      "grid_template_rows": null,
      "height": null,
      "justify_content": null,
      "justify_items": null,
      "left": null,
      "margin": null,
      "max_height": null,
      "max_width": null,
      "min_height": null,
      "min_width": null,
      "object_fit": null,
      "object_position": null,
      "order": null,
      "overflow": null,
      "overflow_x": null,
      "overflow_y": null,
      "padding": null,
      "right": null,
      "top": null,
      "visibility": null,
      "width": null
     }
    },
    "acd8a0dd87734c7c88664ba811961793": {
     "model_module": "@jupyter-widgets/controls",
     "model_name": "DescriptionStyleModel",
     "model_module_version": "1.5.0",
     "state": {
      "_model_module": "@jupyter-widgets/controls",
      "_model_module_version": "1.5.0",
      "_model_name": "DescriptionStyleModel",
      "_view_count": null,
      "_view_module": "@jupyter-widgets/base",
      "_view_module_version": "1.2.0",
      "_view_name": "StyleView",
      "description_width": ""
     }
    },
    "85e1dd14e36549c397d7f3644b91fcb0": {
     "model_module": "@jupyter-widgets/base",
     "model_name": "LayoutModel",
     "model_module_version": "1.2.0",
     "state": {
      "_model_module": "@jupyter-widgets/base",
      "_model_module_version": "1.2.0",
      "_model_name": "LayoutModel",
      "_view_count": null,
      "_view_module": "@jupyter-widgets/base",
      "_view_module_version": "1.2.0",
      "_view_name": "LayoutView",
      "align_content": null,
      "align_items": null,
      "align_self": null,
      "border": null,
      "bottom": null,
      "display": null,
      "flex": "2",
      "flex_flow": null,
      "grid_area": null,
      "grid_auto_columns": null,
      "grid_auto_flow": null,
      "grid_auto_rows": null,
      "grid_column": null,
      "grid_gap": null,
      "grid_row": null,
      "grid_template_areas": null,
      "grid_template_columns": null,
      "grid_template_rows": null,
      "height": null,
      "justify_content": null,
      "justify_items": null,
      "left": null,
      "margin": null,
      "max_height": null,
      "max_width": null,
      "min_height": null,
      "min_width": null,
      "object_fit": null,
      "object_position": null,
      "order": null,
      "overflow": null,
      "overflow_x": null,
      "overflow_y": null,
      "padding": null,
      "right": null,
      "top": null,
      "visibility": null,
      "width": null
     }
    },
    "9424e692f2e941049bdf5b410781eaf4": {
     "model_module": "@jupyter-widgets/controls",
     "model_name": "ProgressStyleModel",
     "model_module_version": "1.5.0",
     "state": {
      "_model_module": "@jupyter-widgets/controls",
      "_model_module_version": "1.5.0",
      "_model_name": "ProgressStyleModel",
      "_view_count": null,
      "_view_module": "@jupyter-widgets/base",
      "_view_module_version": "1.2.0",
      "_view_name": "StyleView",
      "bar_color": null,
      "description_width": ""
     }
    },
    "549e7343b7eb45bd8acc4254773ca239": {
     "model_module": "@jupyter-widgets/base",
     "model_name": "LayoutModel",
     "model_module_version": "1.2.0",
     "state": {
      "_model_module": "@jupyter-widgets/base",
      "_model_module_version": "1.2.0",
      "_model_name": "LayoutModel",
      "_view_count": null,
      "_view_module": "@jupyter-widgets/base",
      "_view_module_version": "1.2.0",
      "_view_name": "LayoutView",
      "align_content": null,
      "align_items": null,
      "align_self": null,
      "border": null,
      "bottom": null,
      "display": null,
      "flex": null,
      "flex_flow": null,
      "grid_area": null,
      "grid_auto_columns": null,
      "grid_auto_flow": null,
      "grid_auto_rows": null,
      "grid_column": null,
      "grid_gap": null,
      "grid_row": null,
      "grid_template_areas": null,
      "grid_template_columns": null,
      "grid_template_rows": null,
      "height": null,
      "justify_content": null,
      "justify_items": null,
      "left": null,
      "margin": null,
      "max_height": null,
      "max_width": null,
      "min_height": null,
      "min_width": null,
      "object_fit": null,
      "object_position": null,
      "order": null,
      "overflow": null,
      "overflow_x": null,
      "overflow_y": null,
      "padding": null,
      "right": null,
      "top": null,
      "visibility": null,
      "width": null
     }
    },
    "b3eca1ef34b143de9923409dd86946fc": {
     "model_module": "@jupyter-widgets/controls",
     "model_name": "DescriptionStyleModel",
     "model_module_version": "1.5.0",
     "state": {
      "_model_module": "@jupyter-widgets/controls",
      "_model_module_version": "1.5.0",
      "_model_name": "DescriptionStyleModel",
      "_view_count": null,
      "_view_module": "@jupyter-widgets/base",
      "_view_module_version": "1.2.0",
      "_view_name": "StyleView",
      "description_width": ""
     }
    },
    "3e7cd5b907854adebb0b7e333810fe10": {
     "model_module": "@jupyter-widgets/controls",
     "model_name": "HBoxModel",
     "model_module_version": "1.5.0",
     "state": {
      "_dom_classes": [],
      "_model_module": "@jupyter-widgets/controls",
      "_model_module_version": "1.5.0",
      "_model_name": "HBoxModel",
      "_view_count": null,
      "_view_module": "@jupyter-widgets/controls",
      "_view_module_version": "1.5.0",
      "_view_name": "HBoxView",
      "box_style": "",
      "children": [
       "IPY_MODEL_7b33e727385840108c265caea59278ee",
       "IPY_MODEL_530336ee405d4d7f83564f66d1b3593b",
       "IPY_MODEL_4cc0686abd30484cb390057b4ba608d8"
      ],
      "layout": "IPY_MODEL_afb6ba2289184509b0519c11d3038010"
     }
    },
    "7b33e727385840108c265caea59278ee": {
     "model_module": "@jupyter-widgets/controls",
     "model_name": "HTMLModel",
     "model_module_version": "1.5.0",
     "state": {
      "_dom_classes": [],
      "_model_module": "@jupyter-widgets/controls",
      "_model_module_version": "1.5.0",
      "_model_name": "HTMLModel",
      "_view_count": null,
      "_view_module": "@jupyter-widgets/controls",
      "_view_module_version": "1.5.0",
      "_view_name": "HTMLView",
      "description": "",
      "description_tooltip": null,
      "layout": "IPY_MODEL_68a39ef6ac444905a809defff2690b11",
      "placeholder": "​",
      "style": "IPY_MODEL_6a7741b857914d93b1ea79c095c0b19c",
      "value": "Validation DataLoader 0: 100%"
     }
    },
    "530336ee405d4d7f83564f66d1b3593b": {
     "model_module": "@jupyter-widgets/controls",
     "model_name": "FloatProgressModel",
     "model_module_version": "1.5.0",
     "state": {
      "_dom_classes": [],
      "_model_module": "@jupyter-widgets/controls",
      "_model_module_version": "1.5.0",
      "_model_name": "FloatProgressModel",
      "_view_count": null,
      "_view_module": "@jupyter-widgets/controls",
      "_view_module_version": "1.5.0",
      "_view_name": "ProgressView",
      "bar_style": "",
      "description": "",
      "description_tooltip": null,
      "layout": "IPY_MODEL_4971d11793cf46dfaac777c9bb919b9b",
      "max": 38,
      "min": 0,
      "orientation": "horizontal",
      "style": "IPY_MODEL_c21441aeaeaa40f6a9c9b0d37272eb42",
      "value": 38
     }
    },
    "4cc0686abd30484cb390057b4ba608d8": {
     "model_module": "@jupyter-widgets/controls",
     "model_name": "HTMLModel",
     "model_module_version": "1.5.0",
     "state": {
      "_dom_classes": [],
      "_model_module": "@jupyter-widgets/controls",
      "_model_module_version": "1.5.0",
      "_model_name": "HTMLModel",
      "_view_count": null,
      "_view_module": "@jupyter-widgets/controls",
      "_view_module_version": "1.5.0",
      "_view_name": "HTMLView",
      "description": "",
      "description_tooltip": null,
      "layout": "IPY_MODEL_2ddeb4f2c4e84d22ae299d647cc86465",
      "placeholder": "​",
      "style": "IPY_MODEL_4d3fbf6f0bba4e9cb193e2e4f514b5f5",
      "value": " 38/38 [00:05&lt;00:00,  6.81it/s]"
     }
    },
    "afb6ba2289184509b0519c11d3038010": {
     "model_module": "@jupyter-widgets/base",
     "model_name": "LayoutModel",
     "model_module_version": "1.2.0",
     "state": {
      "_model_module": "@jupyter-widgets/base",
      "_model_module_version": "1.2.0",
      "_model_name": "LayoutModel",
      "_view_count": null,
      "_view_module": "@jupyter-widgets/base",
      "_view_module_version": "1.2.0",
      "_view_name": "LayoutView",
      "align_content": null,
      "align_items": null,
      "align_self": null,
      "border": null,
      "bottom": null,
      "display": "inline-flex",
      "flex": null,
      "flex_flow": "row wrap",
      "grid_area": null,
      "grid_auto_columns": null,
      "grid_auto_flow": null,
      "grid_auto_rows": null,
      "grid_column": null,
      "grid_gap": null,
      "grid_row": null,
      "grid_template_areas": null,
      "grid_template_columns": null,
      "grid_template_rows": null,
      "height": null,
      "justify_content": null,
      "justify_items": null,
      "left": null,
      "margin": null,
      "max_height": null,
      "max_width": null,
      "min_height": null,
      "min_width": null,
      "object_fit": null,
      "object_position": null,
      "order": null,
      "overflow": null,
      "overflow_x": null,
      "overflow_y": null,
      "padding": null,
      "right": null,
      "top": null,
      "visibility": "hidden",
      "width": "100%"
     }
    },
    "68a39ef6ac444905a809defff2690b11": {
     "model_module": "@jupyter-widgets/base",
     "model_name": "LayoutModel",
     "model_module_version": "1.2.0",
     "state": {
      "_model_module": "@jupyter-widgets/base",
      "_model_module_version": "1.2.0",
      "_model_name": "LayoutModel",
      "_view_count": null,
      "_view_module": "@jupyter-widgets/base",
      "_view_module_version": "1.2.0",
      "_view_name": "LayoutView",
      "align_content": null,
      "align_items": null,
      "align_self": null,
      "border": null,
      "bottom": null,
      "display": null,
      "flex": null,
      "flex_flow": null,
      "grid_area": null,
      "grid_auto_columns": null,
      "grid_auto_flow": null,
      "grid_auto_rows": null,
      "grid_column": null,
      "grid_gap": null,
      "grid_row": null,
      "grid_template_areas": null,
      "grid_template_columns": null,
      "grid_template_rows": null,
      "height": null,
      "justify_content": null,
      "justify_items": null,
      "left": null,
      "margin": null,
      "max_height": null,
      "max_width": null,
      "min_height": null,
      "min_width": null,
      "object_fit": null,
      "object_position": null,
      "order": null,
      "overflow": null,
      "overflow_x": null,
      "overflow_y": null,
      "padding": null,
      "right": null,
      "top": null,
      "visibility": null,
      "width": null
     }
    },
    "6a7741b857914d93b1ea79c095c0b19c": {
     "model_module": "@jupyter-widgets/controls",
     "model_name": "DescriptionStyleModel",
     "model_module_version": "1.5.0",
     "state": {
      "_model_module": "@jupyter-widgets/controls",
      "_model_module_version": "1.5.0",
      "_model_name": "DescriptionStyleModel",
      "_view_count": null,
      "_view_module": "@jupyter-widgets/base",
      "_view_module_version": "1.2.0",
      "_view_name": "StyleView",
      "description_width": ""
     }
    },
    "4971d11793cf46dfaac777c9bb919b9b": {
     "model_module": "@jupyter-widgets/base",
     "model_name": "LayoutModel",
     "model_module_version": "1.2.0",
     "state": {
      "_model_module": "@jupyter-widgets/base",
      "_model_module_version": "1.2.0",
      "_model_name": "LayoutModel",
      "_view_count": null,
      "_view_module": "@jupyter-widgets/base",
      "_view_module_version": "1.2.0",
      "_view_name": "LayoutView",
      "align_content": null,
      "align_items": null,
      "align_self": null,
      "border": null,
      "bottom": null,
      "display": null,
      "flex": "2",
      "flex_flow": null,
      "grid_area": null,
      "grid_auto_columns": null,
      "grid_auto_flow": null,
      "grid_auto_rows": null,
      "grid_column": null,
      "grid_gap": null,
      "grid_row": null,
      "grid_template_areas": null,
      "grid_template_columns": null,
      "grid_template_rows": null,
      "height": null,
      "justify_content": null,
      "justify_items": null,
      "left": null,
      "margin": null,
      "max_height": null,
      "max_width": null,
      "min_height": null,
      "min_width": null,
      "object_fit": null,
      "object_position": null,
      "order": null,
      "overflow": null,
      "overflow_x": null,
      "overflow_y": null,
      "padding": null,
      "right": null,
      "top": null,
      "visibility": null,
      "width": null
     }
    },
    "c21441aeaeaa40f6a9c9b0d37272eb42": {
     "model_module": "@jupyter-widgets/controls",
     "model_name": "ProgressStyleModel",
     "model_module_version": "1.5.0",
     "state": {
      "_model_module": "@jupyter-widgets/controls",
      "_model_module_version": "1.5.0",
      "_model_name": "ProgressStyleModel",
      "_view_count": null,
      "_view_module": "@jupyter-widgets/base",
      "_view_module_version": "1.2.0",
      "_view_name": "StyleView",
      "bar_color": null,
      "description_width": ""
     }
    },
    "2ddeb4f2c4e84d22ae299d647cc86465": {
     "model_module": "@jupyter-widgets/base",
     "model_name": "LayoutModel",
     "model_module_version": "1.2.0",
     "state": {
      "_model_module": "@jupyter-widgets/base",
      "_model_module_version": "1.2.0",
      "_model_name": "LayoutModel",
      "_view_count": null,
      "_view_module": "@jupyter-widgets/base",
      "_view_module_version": "1.2.0",
      "_view_name": "LayoutView",
      "align_content": null,
      "align_items": null,
      "align_self": null,
      "border": null,
      "bottom": null,
      "display": null,
      "flex": null,
      "flex_flow": null,
      "grid_area": null,
      "grid_auto_columns": null,
      "grid_auto_flow": null,
      "grid_auto_rows": null,
      "grid_column": null,
      "grid_gap": null,
      "grid_row": null,
      "grid_template_areas": null,
      "grid_template_columns": null,
      "grid_template_rows": null,
      "height": null,
      "justify_content": null,
      "justify_items": null,
      "left": null,
      "margin": null,
      "max_height": null,
      "max_width": null,
      "min_height": null,
      "min_width": null,
      "object_fit": null,
      "object_position": null,
      "order": null,
      "overflow": null,
      "overflow_x": null,
      "overflow_y": null,
      "padding": null,
      "right": null,
      "top": null,
      "visibility": null,
      "width": null
     }
    },
    "4d3fbf6f0bba4e9cb193e2e4f514b5f5": {
     "model_module": "@jupyter-widgets/controls",
     "model_name": "DescriptionStyleModel",
     "model_module_version": "1.5.0",
     "state": {
      "_model_module": "@jupyter-widgets/controls",
      "_model_module_version": "1.5.0",
      "_model_name": "DescriptionStyleModel",
      "_view_count": null,
      "_view_module": "@jupyter-widgets/base",
      "_view_module_version": "1.2.0",
      "_view_name": "StyleView",
      "description_width": ""
     }
    },
    "84a0fd1576e649409096c9f6cb2c5946": {
     "model_module": "@jupyter-widgets/controls",
     "model_name": "HBoxModel",
     "model_module_version": "1.5.0",
     "state": {
      "_dom_classes": [],
      "_model_module": "@jupyter-widgets/controls",
      "_model_module_version": "1.5.0",
      "_model_name": "HBoxModel",
      "_view_count": null,
      "_view_module": "@jupyter-widgets/controls",
      "_view_module_version": "1.5.0",
      "_view_name": "HBoxView",
      "box_style": "",
      "children": [
       "IPY_MODEL_926307a2b3d94a369f4890791d6308ae",
       "IPY_MODEL_dc8aace5d0104985a9ffc08f9f996508",
       "IPY_MODEL_9ee7c0797ee64834903b817c0dd753e5"
      ],
      "layout": "IPY_MODEL_17d7d6167c71441684bc4e27b4d9b6e6"
     }
    },
    "926307a2b3d94a369f4890791d6308ae": {
     "model_module": "@jupyter-widgets/controls",
     "model_name": "HTMLModel",
     "model_module_version": "1.5.0",
     "state": {
      "_dom_classes": [],
      "_model_module": "@jupyter-widgets/controls",
      "_model_module_version": "1.5.0",
      "_model_name": "HTMLModel",
      "_view_count": null,
      "_view_module": "@jupyter-widgets/controls",
      "_view_module_version": "1.5.0",
      "_view_name": "HTMLView",
      "description": "",
      "description_tooltip": null,
      "layout": "IPY_MODEL_1dbdda4086d842709c03f45c0f12ba20",
      "placeholder": "​",
      "style": "IPY_MODEL_75f1aeb7282e4bf18fb6965c495284d7",
      "value": "Validation DataLoader 0: 100%"
     }
    },
    "dc8aace5d0104985a9ffc08f9f996508": {
     "model_module": "@jupyter-widgets/controls",
     "model_name": "FloatProgressModel",
     "model_module_version": "1.5.0",
     "state": {
      "_dom_classes": [],
      "_model_module": "@jupyter-widgets/controls",
      "_model_module_version": "1.5.0",
      "_model_name": "FloatProgressModel",
      "_view_count": null,
      "_view_module": "@jupyter-widgets/controls",
      "_view_module_version": "1.5.0",
      "_view_name": "ProgressView",
      "bar_style": "",
      "description": "",
      "description_tooltip": null,
      "layout": "IPY_MODEL_c12b636315c04c0aa3e1719394ce23fe",
      "max": 38,
      "min": 0,
      "orientation": "horizontal",
      "style": "IPY_MODEL_25140e6800fc490ebfb7f06bdf754408",
      "value": 38
     }
    },
    "9ee7c0797ee64834903b817c0dd753e5": {
     "model_module": "@jupyter-widgets/controls",
     "model_name": "HTMLModel",
     "model_module_version": "1.5.0",
     "state": {
      "_dom_classes": [],
      "_model_module": "@jupyter-widgets/controls",
      "_model_module_version": "1.5.0",
      "_model_name": "HTMLModel",
      "_view_count": null,
      "_view_module": "@jupyter-widgets/controls",
      "_view_module_version": "1.5.0",
      "_view_name": "HTMLView",
      "description": "",
      "description_tooltip": null,
      "layout": "IPY_MODEL_f58c2b4b31024a188aa54f23f7e4019c",
      "placeholder": "​",
      "style": "IPY_MODEL_fdecce45f0dc49d49b854b069fb2eb65",
      "value": " 38/38 [00:08&lt;00:00,  4.32it/s]"
     }
    },
    "17d7d6167c71441684bc4e27b4d9b6e6": {
     "model_module": "@jupyter-widgets/base",
     "model_name": "LayoutModel",
     "model_module_version": "1.2.0",
     "state": {
      "_model_module": "@jupyter-widgets/base",
      "_model_module_version": "1.2.0",
      "_model_name": "LayoutModel",
      "_view_count": null,
      "_view_module": "@jupyter-widgets/base",
      "_view_module_version": "1.2.0",
      "_view_name": "LayoutView",
      "align_content": null,
      "align_items": null,
      "align_self": null,
      "border": null,
      "bottom": null,
      "display": "inline-flex",
      "flex": null,
      "flex_flow": "row wrap",
      "grid_area": null,
      "grid_auto_columns": null,
      "grid_auto_flow": null,
      "grid_auto_rows": null,
      "grid_column": null,
      "grid_gap": null,
      "grid_row": null,
      "grid_template_areas": null,
      "grid_template_columns": null,
      "grid_template_rows": null,
      "height": null,
      "justify_content": null,
      "justify_items": null,
      "left": null,
      "margin": null,
      "max_height": null,
      "max_width": null,
      "min_height": null,
      "min_width": null,
      "object_fit": null,
      "object_position": null,
      "order": null,
      "overflow": null,
      "overflow_x": null,
      "overflow_y": null,
      "padding": null,
      "right": null,
      "top": null,
      "visibility": "hidden",
      "width": "100%"
     }
    },
    "1dbdda4086d842709c03f45c0f12ba20": {
     "model_module": "@jupyter-widgets/base",
     "model_name": "LayoutModel",
     "model_module_version": "1.2.0",
     "state": {
      "_model_module": "@jupyter-widgets/base",
      "_model_module_version": "1.2.0",
      "_model_name": "LayoutModel",
      "_view_count": null,
      "_view_module": "@jupyter-widgets/base",
      "_view_module_version": "1.2.0",
      "_view_name": "LayoutView",
      "align_content": null,
      "align_items": null,
      "align_self": null,
      "border": null,
      "bottom": null,
      "display": null,
      "flex": null,
      "flex_flow": null,
      "grid_area": null,
      "grid_auto_columns": null,
      "grid_auto_flow": null,
      "grid_auto_rows": null,
      "grid_column": null,
      "grid_gap": null,
      "grid_row": null,
      "grid_template_areas": null,
      "grid_template_columns": null,
      "grid_template_rows": null,
      "height": null,
      "justify_content": null,
      "justify_items": null,
      "left": null,
      "margin": null,
      "max_height": null,
      "max_width": null,
      "min_height": null,
      "min_width": null,
      "object_fit": null,
      "object_position": null,
      "order": null,
      "overflow": null,
      "overflow_x": null,
      "overflow_y": null,
      "padding": null,
      "right": null,
      "top": null,
      "visibility": null,
      "width": null
     }
    },
    "75f1aeb7282e4bf18fb6965c495284d7": {
     "model_module": "@jupyter-widgets/controls",
     "model_name": "DescriptionStyleModel",
     "model_module_version": "1.5.0",
     "state": {
      "_model_module": "@jupyter-widgets/controls",
      "_model_module_version": "1.5.0",
      "_model_name": "DescriptionStyleModel",
      "_view_count": null,
      "_view_module": "@jupyter-widgets/base",
      "_view_module_version": "1.2.0",
      "_view_name": "StyleView",
      "description_width": ""
     }
    },
    "c12b636315c04c0aa3e1719394ce23fe": {
     "model_module": "@jupyter-widgets/base",
     "model_name": "LayoutModel",
     "model_module_version": "1.2.0",
     "state": {
      "_model_module": "@jupyter-widgets/base",
      "_model_module_version": "1.2.0",
      "_model_name": "LayoutModel",
      "_view_count": null,
      "_view_module": "@jupyter-widgets/base",
      "_view_module_version": "1.2.0",
      "_view_name": "LayoutView",
      "align_content": null,
      "align_items": null,
      "align_self": null,
      "border": null,
      "bottom": null,
      "display": null,
      "flex": "2",
      "flex_flow": null,
      "grid_area": null,
      "grid_auto_columns": null,
      "grid_auto_flow": null,
      "grid_auto_rows": null,
      "grid_column": null,
      "grid_gap": null,
      "grid_row": null,
      "grid_template_areas": null,
      "grid_template_columns": null,
      "grid_template_rows": null,
      "height": null,
      "justify_content": null,
      "justify_items": null,
      "left": null,
      "margin": null,
      "max_height": null,
      "max_width": null,
      "min_height": null,
      "min_width": null,
      "object_fit": null,
      "object_position": null,
      "order": null,
      "overflow": null,
      "overflow_x": null,
      "overflow_y": null,
      "padding": null,
      "right": null,
      "top": null,
      "visibility": null,
      "width": null
     }
    },
    "25140e6800fc490ebfb7f06bdf754408": {
     "model_module": "@jupyter-widgets/controls",
     "model_name": "ProgressStyleModel",
     "model_module_version": "1.5.0",
     "state": {
      "_model_module": "@jupyter-widgets/controls",
      "_model_module_version": "1.5.0",
      "_model_name": "ProgressStyleModel",
      "_view_count": null,
      "_view_module": "@jupyter-widgets/base",
      "_view_module_version": "1.2.0",
      "_view_name": "StyleView",
      "bar_color": null,
      "description_width": ""
     }
    },
    "f58c2b4b31024a188aa54f23f7e4019c": {
     "model_module": "@jupyter-widgets/base",
     "model_name": "LayoutModel",
     "model_module_version": "1.2.0",
     "state": {
      "_model_module": "@jupyter-widgets/base",
      "_model_module_version": "1.2.0",
      "_model_name": "LayoutModel",
      "_view_count": null,
      "_view_module": "@jupyter-widgets/base",
      "_view_module_version": "1.2.0",
      "_view_name": "LayoutView",
      "align_content": null,
      "align_items": null,
      "align_self": null,
      "border": null,
      "bottom": null,
      "display": null,
      "flex": null,
      "flex_flow": null,
      "grid_area": null,
      "grid_auto_columns": null,
      "grid_auto_flow": null,
      "grid_auto_rows": null,
      "grid_column": null,
      "grid_gap": null,
      "grid_row": null,
      "grid_template_areas": null,
      "grid_template_columns": null,
      "grid_template_rows": null,
      "height": null,
      "justify_content": null,
      "justify_items": null,
      "left": null,
      "margin": null,
      "max_height": null,
      "max_width": null,
      "min_height": null,
      "min_width": null,
      "object_fit": null,
      "object_position": null,
      "order": null,
      "overflow": null,
      "overflow_x": null,
      "overflow_y": null,
      "padding": null,
      "right": null,
      "top": null,
      "visibility": null,
      "width": null
     }
    },
    "fdecce45f0dc49d49b854b069fb2eb65": {
     "model_module": "@jupyter-widgets/controls",
     "model_name": "DescriptionStyleModel",
     "model_module_version": "1.5.0",
     "state": {
      "_model_module": "@jupyter-widgets/controls",
      "_model_module_version": "1.5.0",
      "_model_name": "DescriptionStyleModel",
      "_view_count": null,
      "_view_module": "@jupyter-widgets/base",
      "_view_module_version": "1.2.0",
      "_view_name": "StyleView",
      "description_width": ""
     }
    },
    "55221cda121b4e3c9beec3f678977c9b": {
     "model_module": "@jupyter-widgets/controls",
     "model_name": "HBoxModel",
     "model_module_version": "1.5.0",
     "state": {
      "_dom_classes": [],
      "_model_module": "@jupyter-widgets/controls",
      "_model_module_version": "1.5.0",
      "_model_name": "HBoxModel",
      "_view_count": null,
      "_view_module": "@jupyter-widgets/controls",
      "_view_module_version": "1.5.0",
      "_view_name": "HBoxView",
      "box_style": "",
      "children": [
       "IPY_MODEL_144449dc422e438aa9c1ea8ecbaa24ec",
       "IPY_MODEL_f2418a30094440889dba6e4ba916f4f1",
       "IPY_MODEL_e9d30cee3f6b449aa929c2c169f1f066"
      ],
      "layout": "IPY_MODEL_6c009b5eaca041a29c781ac38279d8d7"
     }
    },
    "144449dc422e438aa9c1ea8ecbaa24ec": {
     "model_module": "@jupyter-widgets/controls",
     "model_name": "HTMLModel",
     "model_module_version": "1.5.0",
     "state": {
      "_dom_classes": [],
      "_model_module": "@jupyter-widgets/controls",
      "_model_module_version": "1.5.0",
      "_model_name": "HTMLModel",
      "_view_count": null,
      "_view_module": "@jupyter-widgets/controls",
      "_view_module_version": "1.5.0",
      "_view_name": "HTMLView",
      "description": "",
      "description_tooltip": null,
      "layout": "IPY_MODEL_e7a7fb3216d04a5293f945928c213130",
      "placeholder": "​",
      "style": "IPY_MODEL_96cf866f9297461eb15567dc4077ef64",
      "value": "Validation DataLoader 0: 100%"
     }
    },
    "f2418a30094440889dba6e4ba916f4f1": {
     "model_module": "@jupyter-widgets/controls",
     "model_name": "FloatProgressModel",
     "model_module_version": "1.5.0",
     "state": {
      "_dom_classes": [],
      "_model_module": "@jupyter-widgets/controls",
      "_model_module_version": "1.5.0",
      "_model_name": "FloatProgressModel",
      "_view_count": null,
      "_view_module": "@jupyter-widgets/controls",
      "_view_module_version": "1.5.0",
      "_view_name": "ProgressView",
      "bar_style": "",
      "description": "",
      "description_tooltip": null,
      "layout": "IPY_MODEL_a7604620c3cb4d5bb4c056eaf6cd093d",
      "max": 38,
      "min": 0,
      "orientation": "horizontal",
      "style": "IPY_MODEL_9d788d3981fa4121acbe88d9d9854a8f",
      "value": 38
     }
    },
    "e9d30cee3f6b449aa929c2c169f1f066": {
     "model_module": "@jupyter-widgets/controls",
     "model_name": "HTMLModel",
     "model_module_version": "1.5.0",
     "state": {
      "_dom_classes": [],
      "_model_module": "@jupyter-widgets/controls",
      "_model_module_version": "1.5.0",
      "_model_name": "HTMLModel",
      "_view_count": null,
      "_view_module": "@jupyter-widgets/controls",
      "_view_module_version": "1.5.0",
      "_view_name": "HTMLView",
      "description": "",
      "description_tooltip": null,
      "layout": "IPY_MODEL_9a805eb1146f40e5951555e68af88524",
      "placeholder": "​",
      "style": "IPY_MODEL_09d58d3d78b64ce99c3904c8935283aa",
      "value": " 38/38 [00:07&lt;00:00,  5.14it/s]"
     }
    },
    "6c009b5eaca041a29c781ac38279d8d7": {
     "model_module": "@jupyter-widgets/base",
     "model_name": "LayoutModel",
     "model_module_version": "1.2.0",
     "state": {
      "_model_module": "@jupyter-widgets/base",
      "_model_module_version": "1.2.0",
      "_model_name": "LayoutModel",
      "_view_count": null,
      "_view_module": "@jupyter-widgets/base",
      "_view_module_version": "1.2.0",
      "_view_name": "LayoutView",
      "align_content": null,
      "align_items": null,
      "align_self": null,
      "border": null,
      "bottom": null,
      "display": "inline-flex",
      "flex": null,
      "flex_flow": "row wrap",
      "grid_area": null,
      "grid_auto_columns": null,
      "grid_auto_flow": null,
      "grid_auto_rows": null,
      "grid_column": null,
      "grid_gap": null,
      "grid_row": null,
      "grid_template_areas": null,
      "grid_template_columns": null,
      "grid_template_rows": null,
      "height": null,
      "justify_content": null,
      "justify_items": null,
      "left": null,
      "margin": null,
      "max_height": null,
      "max_width": null,
      "min_height": null,
      "min_width": null,
      "object_fit": null,
      "object_position": null,
      "order": null,
      "overflow": null,
      "overflow_x": null,
      "overflow_y": null,
      "padding": null,
      "right": null,
      "top": null,
      "visibility": "hidden",
      "width": "100%"
     }
    },
    "e7a7fb3216d04a5293f945928c213130": {
     "model_module": "@jupyter-widgets/base",
     "model_name": "LayoutModel",
     "model_module_version": "1.2.0",
     "state": {
      "_model_module": "@jupyter-widgets/base",
      "_model_module_version": "1.2.0",
      "_model_name": "LayoutModel",
      "_view_count": null,
      "_view_module": "@jupyter-widgets/base",
      "_view_module_version": "1.2.0",
      "_view_name": "LayoutView",
      "align_content": null,
      "align_items": null,
      "align_self": null,
      "border": null,
      "bottom": null,
      "display": null,
      "flex": null,
      "flex_flow": null,
      "grid_area": null,
      "grid_auto_columns": null,
      "grid_auto_flow": null,
      "grid_auto_rows": null,
      "grid_column": null,
      "grid_gap": null,
      "grid_row": null,
      "grid_template_areas": null,
      "grid_template_columns": null,
      "grid_template_rows": null,
      "height": null,
      "justify_content": null,
      "justify_items": null,
      "left": null,
      "margin": null,
      "max_height": null,
      "max_width": null,
      "min_height": null,
      "min_width": null,
      "object_fit": null,
      "object_position": null,
      "order": null,
      "overflow": null,
      "overflow_x": null,
      "overflow_y": null,
      "padding": null,
      "right": null,
      "top": null,
      "visibility": null,
      "width": null
     }
    },
    "96cf866f9297461eb15567dc4077ef64": {
     "model_module": "@jupyter-widgets/controls",
     "model_name": "DescriptionStyleModel",
     "model_module_version": "1.5.0",
     "state": {
      "_model_module": "@jupyter-widgets/controls",
      "_model_module_version": "1.5.0",
      "_model_name": "DescriptionStyleModel",
      "_view_count": null,
      "_view_module": "@jupyter-widgets/base",
      "_view_module_version": "1.2.0",
      "_view_name": "StyleView",
      "description_width": ""
     }
    },
    "a7604620c3cb4d5bb4c056eaf6cd093d": {
     "model_module": "@jupyter-widgets/base",
     "model_name": "LayoutModel",
     "model_module_version": "1.2.0",
     "state": {
      "_model_module": "@jupyter-widgets/base",
      "_model_module_version": "1.2.0",
      "_model_name": "LayoutModel",
      "_view_count": null,
      "_view_module": "@jupyter-widgets/base",
      "_view_module_version": "1.2.0",
      "_view_name": "LayoutView",
      "align_content": null,
      "align_items": null,
      "align_self": null,
      "border": null,
      "bottom": null,
      "display": null,
      "flex": "2",
      "flex_flow": null,
      "grid_area": null,
      "grid_auto_columns": null,
      "grid_auto_flow": null,
      "grid_auto_rows": null,
      "grid_column": null,
      "grid_gap": null,
      "grid_row": null,
      "grid_template_areas": null,
      "grid_template_columns": null,
      "grid_template_rows": null,
      "height": null,
      "justify_content": null,
      "justify_items": null,
      "left": null,
      "margin": null,
      "max_height": null,
      "max_width": null,
      "min_height": null,
      "min_width": null,
      "object_fit": null,
      "object_position": null,
      "order": null,
      "overflow": null,
      "overflow_x": null,
      "overflow_y": null,
      "padding": null,
      "right": null,
      "top": null,
      "visibility": null,
      "width": null
     }
    },
    "9d788d3981fa4121acbe88d9d9854a8f": {
     "model_module": "@jupyter-widgets/controls",
     "model_name": "ProgressStyleModel",
     "model_module_version": "1.5.0",
     "state": {
      "_model_module": "@jupyter-widgets/controls",
      "_model_module_version": "1.5.0",
      "_model_name": "ProgressStyleModel",
      "_view_count": null,
      "_view_module": "@jupyter-widgets/base",
      "_view_module_version": "1.2.0",
      "_view_name": "StyleView",
      "bar_color": null,
      "description_width": ""
     }
    },
    "9a805eb1146f40e5951555e68af88524": {
     "model_module": "@jupyter-widgets/base",
     "model_name": "LayoutModel",
     "model_module_version": "1.2.0",
     "state": {
      "_model_module": "@jupyter-widgets/base",
      "_model_module_version": "1.2.0",
      "_model_name": "LayoutModel",
      "_view_count": null,
      "_view_module": "@jupyter-widgets/base",
      "_view_module_version": "1.2.0",
      "_view_name": "LayoutView",
      "align_content": null,
      "align_items": null,
      "align_self": null,
      "border": null,
      "bottom": null,
      "display": null,
      "flex": null,
      "flex_flow": null,
      "grid_area": null,
      "grid_auto_columns": null,
      "grid_auto_flow": null,
      "grid_auto_rows": null,
      "grid_column": null,
      "grid_gap": null,
      "grid_row": null,
      "grid_template_areas": null,
      "grid_template_columns": null,
      "grid_template_rows": null,
      "height": null,
      "justify_content": null,
      "justify_items": null,
      "left": null,
      "margin": null,
      "max_height": null,
      "max_width": null,
      "min_height": null,
      "min_width": null,
      "object_fit": null,
      "object_position": null,
      "order": null,
      "overflow": null,
      "overflow_x": null,
      "overflow_y": null,
      "padding": null,
      "right": null,
      "top": null,
      "visibility": null,
      "width": null
     }
    },
    "09d58d3d78b64ce99c3904c8935283aa": {
     "model_module": "@jupyter-widgets/controls",
     "model_name": "DescriptionStyleModel",
     "model_module_version": "1.5.0",
     "state": {
      "_model_module": "@jupyter-widgets/controls",
      "_model_module_version": "1.5.0",
      "_model_name": "DescriptionStyleModel",
      "_view_count": null,
      "_view_module": "@jupyter-widgets/base",
      "_view_module_version": "1.2.0",
      "_view_name": "StyleView",
      "description_width": ""
     }
    },
    "943d952c4f35469ba5da2b3a3a547e5d": {
     "model_module": "@jupyter-widgets/controls",
     "model_name": "HBoxModel",
     "model_module_version": "1.5.0",
     "state": {
      "_dom_classes": [],
      "_model_module": "@jupyter-widgets/controls",
      "_model_module_version": "1.5.0",
      "_model_name": "HBoxModel",
      "_view_count": null,
      "_view_module": "@jupyter-widgets/controls",
      "_view_module_version": "1.5.0",
      "_view_name": "HBoxView",
      "box_style": "",
      "children": [
       "IPY_MODEL_07d037dd41af495f8b854de392fd7335",
       "IPY_MODEL_5a9deeb3dd7c4d739a1404c215315107",
       "IPY_MODEL_a565f53fb5254a3abc876c910f5f4e3c"
      ],
      "layout": "IPY_MODEL_a5e941d5608c4b11a34e0b01c603d254"
     }
    },
    "07d037dd41af495f8b854de392fd7335": {
     "model_module": "@jupyter-widgets/controls",
     "model_name": "HTMLModel",
     "model_module_version": "1.5.0",
     "state": {
      "_dom_classes": [],
      "_model_module": "@jupyter-widgets/controls",
      "_model_module_version": "1.5.0",
      "_model_name": "HTMLModel",
      "_view_count": null,
      "_view_module": "@jupyter-widgets/controls",
      "_view_module_version": "1.5.0",
      "_view_name": "HTMLView",
      "description": "",
      "description_tooltip": null,
      "layout": "IPY_MODEL_4ac11a98499e427699fcdceee806c9e1",
      "placeholder": "​",
      "style": "IPY_MODEL_e260547811014978b969e24e6c9d9503",
      "value": "Validation DataLoader 0: 100%"
     }
    },
    "5a9deeb3dd7c4d739a1404c215315107": {
     "model_module": "@jupyter-widgets/controls",
     "model_name": "FloatProgressModel",
     "model_module_version": "1.5.0",
     "state": {
      "_dom_classes": [],
      "_model_module": "@jupyter-widgets/controls",
      "_model_module_version": "1.5.0",
      "_model_name": "FloatProgressModel",
      "_view_count": null,
      "_view_module": "@jupyter-widgets/controls",
      "_view_module_version": "1.5.0",
      "_view_name": "ProgressView",
      "bar_style": "",
      "description": "",
      "description_tooltip": null,
      "layout": "IPY_MODEL_e2cd5a1a8c1b4e2e8a13c076c24c7ee5",
      "max": 38,
      "min": 0,
      "orientation": "horizontal",
      "style": "IPY_MODEL_8e8de90fc59246289685384f97d817f5",
      "value": 38
     }
    },
    "a565f53fb5254a3abc876c910f5f4e3c": {
     "model_module": "@jupyter-widgets/controls",
     "model_name": "HTMLModel",
     "model_module_version": "1.5.0",
     "state": {
      "_dom_classes": [],
      "_model_module": "@jupyter-widgets/controls",
      "_model_module_version": "1.5.0",
      "_model_name": "HTMLModel",
      "_view_count": null,
      "_view_module": "@jupyter-widgets/controls",
      "_view_module_version": "1.5.0",
      "_view_name": "HTMLView",
      "description": "",
      "description_tooltip": null,
      "layout": "IPY_MODEL_4954ad28e68742088725f36ab2e6ee78",
      "placeholder": "​",
      "style": "IPY_MODEL_34211f674da042a8b8af91ff0252a468",
      "value": " 38/38 [00:06&lt;00:00,  5.46it/s]"
     }
    },
    "a5e941d5608c4b11a34e0b01c603d254": {
     "model_module": "@jupyter-widgets/base",
     "model_name": "LayoutModel",
     "model_module_version": "1.2.0",
     "state": {
      "_model_module": "@jupyter-widgets/base",
      "_model_module_version": "1.2.0",
      "_model_name": "LayoutModel",
      "_view_count": null,
      "_view_module": "@jupyter-widgets/base",
      "_view_module_version": "1.2.0",
      "_view_name": "LayoutView",
      "align_content": null,
      "align_items": null,
      "align_self": null,
      "border": null,
      "bottom": null,
      "display": "inline-flex",
      "flex": null,
      "flex_flow": "row wrap",
      "grid_area": null,
      "grid_auto_columns": null,
      "grid_auto_flow": null,
      "grid_auto_rows": null,
      "grid_column": null,
      "grid_gap": null,
      "grid_row": null,
      "grid_template_areas": null,
      "grid_template_columns": null,
      "grid_template_rows": null,
      "height": null,
      "justify_content": null,
      "justify_items": null,
      "left": null,
      "margin": null,
      "max_height": null,
      "max_width": null,
      "min_height": null,
      "min_width": null,
      "object_fit": null,
      "object_position": null,
      "order": null,
      "overflow": null,
      "overflow_x": null,
      "overflow_y": null,
      "padding": null,
      "right": null,
      "top": null,
      "visibility": "hidden",
      "width": "100%"
     }
    },
    "4ac11a98499e427699fcdceee806c9e1": {
     "model_module": "@jupyter-widgets/base",
     "model_name": "LayoutModel",
     "model_module_version": "1.2.0",
     "state": {
      "_model_module": "@jupyter-widgets/base",
      "_model_module_version": "1.2.0",
      "_model_name": "LayoutModel",
      "_view_count": null,
      "_view_module": "@jupyter-widgets/base",
      "_view_module_version": "1.2.0",
      "_view_name": "LayoutView",
      "align_content": null,
      "align_items": null,
      "align_self": null,
      "border": null,
      "bottom": null,
      "display": null,
      "flex": null,
      "flex_flow": null,
      "grid_area": null,
      "grid_auto_columns": null,
      "grid_auto_flow": null,
      "grid_auto_rows": null,
      "grid_column": null,
      "grid_gap": null,
      "grid_row": null,
      "grid_template_areas": null,
      "grid_template_columns": null,
      "grid_template_rows": null,
      "height": null,
      "justify_content": null,
      "justify_items": null,
      "left": null,
      "margin": null,
      "max_height": null,
      "max_width": null,
      "min_height": null,
      "min_width": null,
      "object_fit": null,
      "object_position": null,
      "order": null,
      "overflow": null,
      "overflow_x": null,
      "overflow_y": null,
      "padding": null,
      "right": null,
      "top": null,
      "visibility": null,
      "width": null
     }
    },
    "e260547811014978b969e24e6c9d9503": {
     "model_module": "@jupyter-widgets/controls",
     "model_name": "DescriptionStyleModel",
     "model_module_version": "1.5.0",
     "state": {
      "_model_module": "@jupyter-widgets/controls",
      "_model_module_version": "1.5.0",
      "_model_name": "DescriptionStyleModel",
      "_view_count": null,
      "_view_module": "@jupyter-widgets/base",
      "_view_module_version": "1.2.0",
      "_view_name": "StyleView",
      "description_width": ""
     }
    },
    "e2cd5a1a8c1b4e2e8a13c076c24c7ee5": {
     "model_module": "@jupyter-widgets/base",
     "model_name": "LayoutModel",
     "model_module_version": "1.2.0",
     "state": {
      "_model_module": "@jupyter-widgets/base",
      "_model_module_version": "1.2.0",
      "_model_name": "LayoutModel",
      "_view_count": null,
      "_view_module": "@jupyter-widgets/base",
      "_view_module_version": "1.2.0",
      "_view_name": "LayoutView",
      "align_content": null,
      "align_items": null,
      "align_self": null,
      "border": null,
      "bottom": null,
      "display": null,
      "flex": "2",
      "flex_flow": null,
      "grid_area": null,
      "grid_auto_columns": null,
      "grid_auto_flow": null,
      "grid_auto_rows": null,
      "grid_column": null,
      "grid_gap": null,
      "grid_row": null,
      "grid_template_areas": null,
      "grid_template_columns": null,
      "grid_template_rows": null,
      "height": null,
      "justify_content": null,
      "justify_items": null,
      "left": null,
      "margin": null,
      "max_height": null,
      "max_width": null,
      "min_height": null,
      "min_width": null,
      "object_fit": null,
      "object_position": null,
      "order": null,
      "overflow": null,
      "overflow_x": null,
      "overflow_y": null,
      "padding": null,
      "right": null,
      "top": null,
      "visibility": null,
      "width": null
     }
    },
    "8e8de90fc59246289685384f97d817f5": {
     "model_module": "@jupyter-widgets/controls",
     "model_name": "ProgressStyleModel",
     "model_module_version": "1.5.0",
     "state": {
      "_model_module": "@jupyter-widgets/controls",
      "_model_module_version": "1.5.0",
      "_model_name": "ProgressStyleModel",
      "_view_count": null,
      "_view_module": "@jupyter-widgets/base",
      "_view_module_version": "1.2.0",
      "_view_name": "StyleView",
      "bar_color": null,
      "description_width": ""
     }
    },
    "4954ad28e68742088725f36ab2e6ee78": {
     "model_module": "@jupyter-widgets/base",
     "model_name": "LayoutModel",
     "model_module_version": "1.2.0",
     "state": {
      "_model_module": "@jupyter-widgets/base",
      "_model_module_version": "1.2.0",
      "_model_name": "LayoutModel",
      "_view_count": null,
      "_view_module": "@jupyter-widgets/base",
      "_view_module_version": "1.2.0",
      "_view_name": "LayoutView",
      "align_content": null,
      "align_items": null,
      "align_self": null,
      "border": null,
      "bottom": null,
      "display": null,
      "flex": null,
      "flex_flow": null,
      "grid_area": null,
      "grid_auto_columns": null,
      "grid_auto_flow": null,
      "grid_auto_rows": null,
      "grid_column": null,
      "grid_gap": null,
      "grid_row": null,
      "grid_template_areas": null,
      "grid_template_columns": null,
      "grid_template_rows": null,
      "height": null,
      "justify_content": null,
      "justify_items": null,
      "left": null,
      "margin": null,
      "max_height": null,
      "max_width": null,
      "min_height": null,
      "min_width": null,
      "object_fit": null,
      "object_position": null,
      "order": null,
      "overflow": null,
      "overflow_x": null,
      "overflow_y": null,
      "padding": null,
      "right": null,
      "top": null,
      "visibility": null,
      "width": null
     }
    },
    "34211f674da042a8b8af91ff0252a468": {
     "model_module": "@jupyter-widgets/controls",
     "model_name": "DescriptionStyleModel",
     "model_module_version": "1.5.0",
     "state": {
      "_model_module": "@jupyter-widgets/controls",
      "_model_module_version": "1.5.0",
      "_model_name": "DescriptionStyleModel",
      "_view_count": null,
      "_view_module": "@jupyter-widgets/base",
      "_view_module_version": "1.2.0",
      "_view_name": "StyleView",
      "description_width": ""
     }
    },
    "1c3aebec5bcb4ad09ef8453dad830576": {
     "model_module": "@jupyter-widgets/controls",
     "model_name": "HBoxModel",
     "model_module_version": "1.5.0",
     "state": {
      "_dom_classes": [],
      "_model_module": "@jupyter-widgets/controls",
      "_model_module_version": "1.5.0",
      "_model_name": "HBoxModel",
      "_view_count": null,
      "_view_module": "@jupyter-widgets/controls",
      "_view_module_version": "1.5.0",
      "_view_name": "HBoxView",
      "box_style": "",
      "children": [
       "IPY_MODEL_1775fcd2fa424be49294a03bcbaee2c4",
       "IPY_MODEL_e64802cf2ced4eb1b39150efb9d2d963",
       "IPY_MODEL_409f16ad6d1b440c97ec6dd962d644ec"
      ],
      "layout": "IPY_MODEL_636069acda164173864aa309c55b5824"
     }
    },
    "1775fcd2fa424be49294a03bcbaee2c4": {
     "model_module": "@jupyter-widgets/controls",
     "model_name": "HTMLModel",
     "model_module_version": "1.5.0",
     "state": {
      "_dom_classes": [],
      "_model_module": "@jupyter-widgets/controls",
      "_model_module_version": "1.5.0",
      "_model_name": "HTMLModel",
      "_view_count": null,
      "_view_module": "@jupyter-widgets/controls",
      "_view_module_version": "1.5.0",
      "_view_name": "HTMLView",
      "description": "",
      "description_tooltip": null,
      "layout": "IPY_MODEL_a189a5cdfc0b4a57ad00a52ab422ef47",
      "placeholder": "​",
      "style": "IPY_MODEL_93d3cd9096a34d1c952d2278ddca30fb",
      "value": "Validation DataLoader 0: 100%"
     }
    },
    "e64802cf2ced4eb1b39150efb9d2d963": {
     "model_module": "@jupyter-widgets/controls",
     "model_name": "FloatProgressModel",
     "model_module_version": "1.5.0",
     "state": {
      "_dom_classes": [],
      "_model_module": "@jupyter-widgets/controls",
      "_model_module_version": "1.5.0",
      "_model_name": "FloatProgressModel",
      "_view_count": null,
      "_view_module": "@jupyter-widgets/controls",
      "_view_module_version": "1.5.0",
      "_view_name": "ProgressView",
      "bar_style": "",
      "description": "",
      "description_tooltip": null,
      "layout": "IPY_MODEL_ac52dcaf8f5c407fb5bd54e16bd33aef",
      "max": 38,
      "min": 0,
      "orientation": "horizontal",
      "style": "IPY_MODEL_777de8339eaf42cd9e605efbf69cae69",
      "value": 38
     }
    },
    "409f16ad6d1b440c97ec6dd962d644ec": {
     "model_module": "@jupyter-widgets/controls",
     "model_name": "HTMLModel",
     "model_module_version": "1.5.0",
     "state": {
      "_dom_classes": [],
      "_model_module": "@jupyter-widgets/controls",
      "_model_module_version": "1.5.0",
      "_model_name": "HTMLModel",
      "_view_count": null,
      "_view_module": "@jupyter-widgets/controls",
      "_view_module_version": "1.5.0",
      "_view_name": "HTMLView",
      "description": "",
      "description_tooltip": null,
      "layout": "IPY_MODEL_27c8ba175d764e0dad1306cd1bda84cb",
      "placeholder": "​",
      "style": "IPY_MODEL_e72ad8aba20948798a858e9461345f18",
      "value": " 38/38 [00:04&lt;00:00,  8.39it/s]"
     }
    },
    "636069acda164173864aa309c55b5824": {
     "model_module": "@jupyter-widgets/base",
     "model_name": "LayoutModel",
     "model_module_version": "1.2.0",
     "state": {
      "_model_module": "@jupyter-widgets/base",
      "_model_module_version": "1.2.0",
      "_model_name": "LayoutModel",
      "_view_count": null,
      "_view_module": "@jupyter-widgets/base",
      "_view_module_version": "1.2.0",
      "_view_name": "LayoutView",
      "align_content": null,
      "align_items": null,
      "align_self": null,
      "border": null,
      "bottom": null,
      "display": "inline-flex",
      "flex": null,
      "flex_flow": "row wrap",
      "grid_area": null,
      "grid_auto_columns": null,
      "grid_auto_flow": null,
      "grid_auto_rows": null,
      "grid_column": null,
      "grid_gap": null,
      "grid_row": null,
      "grid_template_areas": null,
      "grid_template_columns": null,
      "grid_template_rows": null,
      "height": null,
      "justify_content": null,
      "justify_items": null,
      "left": null,
      "margin": null,
      "max_height": null,
      "max_width": null,
      "min_height": null,
      "min_width": null,
      "object_fit": null,
      "object_position": null,
      "order": null,
      "overflow": null,
      "overflow_x": null,
      "overflow_y": null,
      "padding": null,
      "right": null,
      "top": null,
      "visibility": "hidden",
      "width": "100%"
     }
    },
    "a189a5cdfc0b4a57ad00a52ab422ef47": {
     "model_module": "@jupyter-widgets/base",
     "model_name": "LayoutModel",
     "model_module_version": "1.2.0",
     "state": {
      "_model_module": "@jupyter-widgets/base",
      "_model_module_version": "1.2.0",
      "_model_name": "LayoutModel",
      "_view_count": null,
      "_view_module": "@jupyter-widgets/base",
      "_view_module_version": "1.2.0",
      "_view_name": "LayoutView",
      "align_content": null,
      "align_items": null,
      "align_self": null,
      "border": null,
      "bottom": null,
      "display": null,
      "flex": null,
      "flex_flow": null,
      "grid_area": null,
      "grid_auto_columns": null,
      "grid_auto_flow": null,
      "grid_auto_rows": null,
      "grid_column": null,
      "grid_gap": null,
      "grid_row": null,
      "grid_template_areas": null,
      "grid_template_columns": null,
      "grid_template_rows": null,
      "height": null,
      "justify_content": null,
      "justify_items": null,
      "left": null,
      "margin": null,
      "max_height": null,
      "max_width": null,
      "min_height": null,
      "min_width": null,
      "object_fit": null,
      "object_position": null,
      "order": null,
      "overflow": null,
      "overflow_x": null,
      "overflow_y": null,
      "padding": null,
      "right": null,
      "top": null,
      "visibility": null,
      "width": null
     }
    },
    "93d3cd9096a34d1c952d2278ddca30fb": {
     "model_module": "@jupyter-widgets/controls",
     "model_name": "DescriptionStyleModel",
     "model_module_version": "1.5.0",
     "state": {
      "_model_module": "@jupyter-widgets/controls",
      "_model_module_version": "1.5.0",
      "_model_name": "DescriptionStyleModel",
      "_view_count": null,
      "_view_module": "@jupyter-widgets/base",
      "_view_module_version": "1.2.0",
      "_view_name": "StyleView",
      "description_width": ""
     }
    },
    "ac52dcaf8f5c407fb5bd54e16bd33aef": {
     "model_module": "@jupyter-widgets/base",
     "model_name": "LayoutModel",
     "model_module_version": "1.2.0",
     "state": {
      "_model_module": "@jupyter-widgets/base",
      "_model_module_version": "1.2.0",
      "_model_name": "LayoutModel",
      "_view_count": null,
      "_view_module": "@jupyter-widgets/base",
      "_view_module_version": "1.2.0",
      "_view_name": "LayoutView",
      "align_content": null,
      "align_items": null,
      "align_self": null,
      "border": null,
      "bottom": null,
      "display": null,
      "flex": "2",
      "flex_flow": null,
      "grid_area": null,
      "grid_auto_columns": null,
      "grid_auto_flow": null,
      "grid_auto_rows": null,
      "grid_column": null,
      "grid_gap": null,
      "grid_row": null,
      "grid_template_areas": null,
      "grid_template_columns": null,
      "grid_template_rows": null,
      "height": null,
      "justify_content": null,
      "justify_items": null,
      "left": null,
      "margin": null,
      "max_height": null,
      "max_width": null,
      "min_height": null,
      "min_width": null,
      "object_fit": null,
      "object_position": null,
      "order": null,
      "overflow": null,
      "overflow_x": null,
      "overflow_y": null,
      "padding": null,
      "right": null,
      "top": null,
      "visibility": null,
      "width": null
     }
    },
    "777de8339eaf42cd9e605efbf69cae69": {
     "model_module": "@jupyter-widgets/controls",
     "model_name": "ProgressStyleModel",
     "model_module_version": "1.5.0",
     "state": {
      "_model_module": "@jupyter-widgets/controls",
      "_model_module_version": "1.5.0",
      "_model_name": "ProgressStyleModel",
      "_view_count": null,
      "_view_module": "@jupyter-widgets/base",
      "_view_module_version": "1.2.0",
      "_view_name": "StyleView",
      "bar_color": null,
      "description_width": ""
     }
    },
    "27c8ba175d764e0dad1306cd1bda84cb": {
     "model_module": "@jupyter-widgets/base",
     "model_name": "LayoutModel",
     "model_module_version": "1.2.0",
     "state": {
      "_model_module": "@jupyter-widgets/base",
      "_model_module_version": "1.2.0",
      "_model_name": "LayoutModel",
      "_view_count": null,
      "_view_module": "@jupyter-widgets/base",
      "_view_module_version": "1.2.0",
      "_view_name": "LayoutView",
      "align_content": null,
      "align_items": null,
      "align_self": null,
      "border": null,
      "bottom": null,
      "display": null,
      "flex": null,
      "flex_flow": null,
      "grid_area": null,
      "grid_auto_columns": null,
      "grid_auto_flow": null,
      "grid_auto_rows": null,
      "grid_column": null,
      "grid_gap": null,
      "grid_row": null,
      "grid_template_areas": null,
      "grid_template_columns": null,
      "grid_template_rows": null,
      "height": null,
      "justify_content": null,
      "justify_items": null,
      "left": null,
      "margin": null,
      "max_height": null,
      "max_width": null,
      "min_height": null,
      "min_width": null,
      "object_fit": null,
      "object_position": null,
      "order": null,
      "overflow": null,
      "overflow_x": null,
      "overflow_y": null,
      "padding": null,
      "right": null,
      "top": null,
      "visibility": null,
      "width": null
     }
    },
    "e72ad8aba20948798a858e9461345f18": {
     "model_module": "@jupyter-widgets/controls",
     "model_name": "DescriptionStyleModel",
     "model_module_version": "1.5.0",
     "state": {
      "_model_module": "@jupyter-widgets/controls",
      "_model_module_version": "1.5.0",
      "_model_name": "DescriptionStyleModel",
      "_view_count": null,
      "_view_module": "@jupyter-widgets/base",
      "_view_module_version": "1.2.0",
      "_view_name": "StyleView",
      "description_width": ""
     }
    },
    "baacc40d47d24eeaa2133bb2db019b1a": {
     "model_module": "@jupyter-widgets/controls",
     "model_name": "HBoxModel",
     "model_module_version": "1.5.0",
     "state": {
      "_dom_classes": [],
      "_model_module": "@jupyter-widgets/controls",
      "_model_module_version": "1.5.0",
      "_model_name": "HBoxModel",
      "_view_count": null,
      "_view_module": "@jupyter-widgets/controls",
      "_view_module_version": "1.5.0",
      "_view_name": "HBoxView",
      "box_style": "",
      "children": [
       "IPY_MODEL_c447c7c32ad34c9eaeac9219883b7907",
       "IPY_MODEL_8e39c8f9b5564381a8deba792b8ba822",
       "IPY_MODEL_4d7d37aaa9ac4cc6a4d35e1fd166daf6"
      ],
      "layout": "IPY_MODEL_a5f3a9ce35b940e4b70055bf7a3499e7"
     }
    },
    "c447c7c32ad34c9eaeac9219883b7907": {
     "model_module": "@jupyter-widgets/controls",
     "model_name": "HTMLModel",
     "model_module_version": "1.5.0",
     "state": {
      "_dom_classes": [],
      "_model_module": "@jupyter-widgets/controls",
      "_model_module_version": "1.5.0",
      "_model_name": "HTMLModel",
      "_view_count": null,
      "_view_module": "@jupyter-widgets/controls",
      "_view_module_version": "1.5.0",
      "_view_name": "HTMLView",
      "description": "",
      "description_tooltip": null,
      "layout": "IPY_MODEL_3788e476581d42acb1593523c3e771c3",
      "placeholder": "​",
      "style": "IPY_MODEL_15bcf6ddb3b04446b46ee9a6d9320be9",
      "value": "Testing DataLoader 0: 100%"
     }
    },
    "8e39c8f9b5564381a8deba792b8ba822": {
     "model_module": "@jupyter-widgets/controls",
     "model_name": "FloatProgressModel",
     "model_module_version": "1.5.0",
     "state": {
      "_dom_classes": [],
      "_model_module": "@jupyter-widgets/controls",
      "_model_module_version": "1.5.0",
      "_model_name": "FloatProgressModel",
      "_view_count": null,
      "_view_module": "@jupyter-widgets/controls",
      "_view_module_version": "1.5.0",
      "_view_name": "ProgressView",
      "bar_style": "success",
      "description": "",
      "description_tooltip": null,
      "layout": "IPY_MODEL_e5041343ddf646859b866020e778a872",
      "max": 38,
      "min": 0,
      "orientation": "horizontal",
      "style": "IPY_MODEL_fb765033bda2427791d69e1c514e1413",
      "value": 38
     }
    },
    "4d7d37aaa9ac4cc6a4d35e1fd166daf6": {
     "model_module": "@jupyter-widgets/controls",
     "model_name": "HTMLModel",
     "model_module_version": "1.5.0",
     "state": {
      "_dom_classes": [],
      "_model_module": "@jupyter-widgets/controls",
      "_model_module_version": "1.5.0",
      "_model_name": "HTMLModel",
      "_view_count": null,
      "_view_module": "@jupyter-widgets/controls",
      "_view_module_version": "1.5.0",
      "_view_name": "HTMLView",
      "description": "",
      "description_tooltip": null,
      "layout": "IPY_MODEL_8cda37f87ac64c4a997e61c2f5d852cd",
      "placeholder": "​",
      "style": "IPY_MODEL_0c8ed85d2fac462ab5d54f2cc1ac6c2c",
      "value": " 38/38 [00:07&lt;00:00,  5.41it/s]"
     }
    },
    "a5f3a9ce35b940e4b70055bf7a3499e7": {
     "model_module": "@jupyter-widgets/base",
     "model_name": "LayoutModel",
     "model_module_version": "1.2.0",
     "state": {
      "_model_module": "@jupyter-widgets/base",
      "_model_module_version": "1.2.0",
      "_model_name": "LayoutModel",
      "_view_count": null,
      "_view_module": "@jupyter-widgets/base",
      "_view_module_version": "1.2.0",
      "_view_name": "LayoutView",
      "align_content": null,
      "align_items": null,
      "align_self": null,
      "border": null,
      "bottom": null,
      "display": "inline-flex",
      "flex": null,
      "flex_flow": "row wrap",
      "grid_area": null,
      "grid_auto_columns": null,
      "grid_auto_flow": null,
      "grid_auto_rows": null,
      "grid_column": null,
      "grid_gap": null,
      "grid_row": null,
      "grid_template_areas": null,
      "grid_template_columns": null,
      "grid_template_rows": null,
      "height": null,
      "justify_content": null,
      "justify_items": null,
      "left": null,
      "margin": null,
      "max_height": null,
      "max_width": null,
      "min_height": null,
      "min_width": null,
      "object_fit": null,
      "object_position": null,
      "order": null,
      "overflow": null,
      "overflow_x": null,
      "overflow_y": null,
      "padding": null,
      "right": null,
      "top": null,
      "visibility": null,
      "width": "100%"
     }
    },
    "3788e476581d42acb1593523c3e771c3": {
     "model_module": "@jupyter-widgets/base",
     "model_name": "LayoutModel",
     "model_module_version": "1.2.0",
     "state": {
      "_model_module": "@jupyter-widgets/base",
      "_model_module_version": "1.2.0",
      "_model_name": "LayoutModel",
      "_view_count": null,
      "_view_module": "@jupyter-widgets/base",
      "_view_module_version": "1.2.0",
      "_view_name": "LayoutView",
      "align_content": null,
      "align_items": null,
      "align_self": null,
      "border": null,
      "bottom": null,
      "display": null,
      "flex": null,
      "flex_flow": null,
      "grid_area": null,
      "grid_auto_columns": null,
      "grid_auto_flow": null,
      "grid_auto_rows": null,
      "grid_column": null,
      "grid_gap": null,
      "grid_row": null,
      "grid_template_areas": null,
      "grid_template_columns": null,
      "grid_template_rows": null,
      "height": null,
      "justify_content": null,
      "justify_items": null,
      "left": null,
      "margin": null,
      "max_height": null,
      "max_width": null,
      "min_height": null,
      "min_width": null,
      "object_fit": null,
      "object_position": null,
      "order": null,
      "overflow": null,
      "overflow_x": null,
      "overflow_y": null,
      "padding": null,
      "right": null,
      "top": null,
      "visibility": null,
      "width": null
     }
    },
    "15bcf6ddb3b04446b46ee9a6d9320be9": {
     "model_module": "@jupyter-widgets/controls",
     "model_name": "DescriptionStyleModel",
     "model_module_version": "1.5.0",
     "state": {
      "_model_module": "@jupyter-widgets/controls",
      "_model_module_version": "1.5.0",
      "_model_name": "DescriptionStyleModel",
      "_view_count": null,
      "_view_module": "@jupyter-widgets/base",
      "_view_module_version": "1.2.0",
      "_view_name": "StyleView",
      "description_width": ""
     }
    },
    "e5041343ddf646859b866020e778a872": {
     "model_module": "@jupyter-widgets/base",
     "model_name": "LayoutModel",
     "model_module_version": "1.2.0",
     "state": {
      "_model_module": "@jupyter-widgets/base",
      "_model_module_version": "1.2.0",
      "_model_name": "LayoutModel",
      "_view_count": null,
      "_view_module": "@jupyter-widgets/base",
      "_view_module_version": "1.2.0",
      "_view_name": "LayoutView",
      "align_content": null,
      "align_items": null,
      "align_self": null,
      "border": null,
      "bottom": null,
      "display": null,
      "flex": "2",
      "flex_flow": null,
      "grid_area": null,
      "grid_auto_columns": null,
      "grid_auto_flow": null,
      "grid_auto_rows": null,
      "grid_column": null,
      "grid_gap": null,
      "grid_row": null,
      "grid_template_areas": null,
      "grid_template_columns": null,
      "grid_template_rows": null,
      "height": null,
      "justify_content": null,
      "justify_items": null,
      "left": null,
      "margin": null,
      "max_height": null,
      "max_width": null,
      "min_height": null,
      "min_width": null,
      "object_fit": null,
      "object_position": null,
      "order": null,
      "overflow": null,
      "overflow_x": null,
      "overflow_y": null,
      "padding": null,
      "right": null,
      "top": null,
      "visibility": null,
      "width": null
     }
    },
    "fb765033bda2427791d69e1c514e1413": {
     "model_module": "@jupyter-widgets/controls",
     "model_name": "ProgressStyleModel",
     "model_module_version": "1.5.0",
     "state": {
      "_model_module": "@jupyter-widgets/controls",
      "_model_module_version": "1.5.0",
      "_model_name": "ProgressStyleModel",
      "_view_count": null,
      "_view_module": "@jupyter-widgets/base",
      "_view_module_version": "1.2.0",
      "_view_name": "StyleView",
      "bar_color": null,
      "description_width": ""
     }
    },
    "8cda37f87ac64c4a997e61c2f5d852cd": {
     "model_module": "@jupyter-widgets/base",
     "model_name": "LayoutModel",
     "model_module_version": "1.2.0",
     "state": {
      "_model_module": "@jupyter-widgets/base",
      "_model_module_version": "1.2.0",
      "_model_name": "LayoutModel",
      "_view_count": null,
      "_view_module": "@jupyter-widgets/base",
      "_view_module_version": "1.2.0",
      "_view_name": "LayoutView",
      "align_content": null,
      "align_items": null,
      "align_self": null,
      "border": null,
      "bottom": null,
      "display": null,
      "flex": null,
      "flex_flow": null,
      "grid_area": null,
      "grid_auto_columns": null,
      "grid_auto_flow": null,
      "grid_auto_rows": null,
      "grid_column": null,
      "grid_gap": null,
      "grid_row": null,
      "grid_template_areas": null,
      "grid_template_columns": null,
      "grid_template_rows": null,
      "height": null,
      "justify_content": null,
      "justify_items": null,
      "left": null,
      "margin": null,
      "max_height": null,
      "max_width": null,
      "min_height": null,
      "min_width": null,
      "object_fit": null,
      "object_position": null,
      "order": null,
      "overflow": null,
      "overflow_x": null,
      "overflow_y": null,
      "padding": null,
      "right": null,
      "top": null,
      "visibility": null,
      "width": null
     }
    },
    "0c8ed85d2fac462ab5d54f2cc1ac6c2c": {
     "model_module": "@jupyter-widgets/controls",
     "model_name": "DescriptionStyleModel",
     "model_module_version": "1.5.0",
     "state": {
      "_model_module": "@jupyter-widgets/controls",
      "_model_module_version": "1.5.0",
      "_model_name": "DescriptionStyleModel",
      "_view_count": null,
      "_view_module": "@jupyter-widgets/base",
      "_view_module_version": "1.2.0",
      "_view_name": "StyleView",
      "description_width": ""
     }
    },
    "6f6bf3d84f7541698da2032e87f70f09": {
     "model_module": "@jupyter-widgets/controls",
     "model_name": "HBoxModel",
     "model_module_version": "1.5.0",
     "state": {
      "_dom_classes": [],
      "_model_module": "@jupyter-widgets/controls",
      "_model_module_version": "1.5.0",
      "_model_name": "HBoxModel",
      "_view_count": null,
      "_view_module": "@jupyter-widgets/controls",
      "_view_module_version": "1.5.0",
      "_view_name": "HBoxView",
      "box_style": "",
      "children": [
       "IPY_MODEL_ee80d56f0d7145d9b54bf7d3d7228536",
       "IPY_MODEL_8fa04f51a8e14e9c8e855b426af36ae1",
       "IPY_MODEL_f0befde077cd4fb7a3d86355b6b0491f"
      ],
      "layout": "IPY_MODEL_b062306aa6da4886a564a122a880d2c9"
     }
    },
    "ee80d56f0d7145d9b54bf7d3d7228536": {
     "model_module": "@jupyter-widgets/controls",
     "model_name": "HTMLModel",
     "model_module_version": "1.5.0",
     "state": {
      "_dom_classes": [],
      "_model_module": "@jupyter-widgets/controls",
      "_model_module_version": "1.5.0",
      "_model_name": "HTMLModel",
      "_view_count": null,
      "_view_module": "@jupyter-widgets/controls",
      "_view_module_version": "1.5.0",
      "_view_name": "HTMLView",
      "description": "",
      "description_tooltip": null,
      "layout": "IPY_MODEL_edf2a97456d3449e8c1be1986e5f18a8",
      "placeholder": "​",
      "style": "IPY_MODEL_e06f51a3e1f940f59409cbad23c8b27a",
      "value": "Predicting DataLoader 0: "
     }
    },
    "8fa04f51a8e14e9c8e855b426af36ae1": {
     "model_module": "@jupyter-widgets/controls",
     "model_name": "FloatProgressModel",
     "model_module_version": "1.5.0",
     "state": {
      "_dom_classes": [],
      "_model_module": "@jupyter-widgets/controls",
      "_model_module_version": "1.5.0",
      "_model_name": "FloatProgressModel",
      "_view_count": null,
      "_view_module": "@jupyter-widgets/controls",
      "_view_module_version": "1.5.0",
      "_view_name": "ProgressView",
      "bar_style": "success",
      "description": "",
      "description_tooltip": null,
      "layout": "IPY_MODEL_80aba32c18614180a3e86ce7a8528012",
      "max": 1,
      "min": 0,
      "orientation": "horizontal",
      "style": "IPY_MODEL_8a8fc4e40a814702b0108a27671c4b6a",
      "value": 1
     }
    },
    "f0befde077cd4fb7a3d86355b6b0491f": {
     "model_module": "@jupyter-widgets/controls",
     "model_name": "HTMLModel",
     "model_module_version": "1.5.0",
     "state": {
      "_dom_classes": [],
      "_model_module": "@jupyter-widgets/controls",
      "_model_module_version": "1.5.0",
      "_model_name": "HTMLModel",
      "_view_count": null,
      "_view_module": "@jupyter-widgets/controls",
      "_view_module_version": "1.5.0",
      "_view_name": "HTMLView",
      "description": "",
      "description_tooltip": null,
      "layout": "IPY_MODEL_6011b27594a14f89a71966c2c7bfa1d4",
      "placeholder": "​",
      "style": "IPY_MODEL_15af7c09e1464c9288e368d1eec1e07b",
      "value": " 220/? [00:05&lt;00:00, 38.97it/s]"
     }
    },
    "b062306aa6da4886a564a122a880d2c9": {
     "model_module": "@jupyter-widgets/base",
     "model_name": "LayoutModel",
     "model_module_version": "1.2.0",
     "state": {
      "_model_module": "@jupyter-widgets/base",
      "_model_module_version": "1.2.0",
      "_model_name": "LayoutModel",
      "_view_count": null,
      "_view_module": "@jupyter-widgets/base",
      "_view_module_version": "1.2.0",
      "_view_name": "LayoutView",
      "align_content": null,
      "align_items": null,
      "align_self": null,
      "border": null,
      "bottom": null,
      "display": "inline-flex",
      "flex": null,
      "flex_flow": "row wrap",
      "grid_area": null,
      "grid_auto_columns": null,
      "grid_auto_flow": null,
      "grid_auto_rows": null,
      "grid_column": null,
      "grid_gap": null,
      "grid_row": null,
      "grid_template_areas": null,
      "grid_template_columns": null,
      "grid_template_rows": null,
      "height": null,
      "justify_content": null,
      "justify_items": null,
      "left": null,
      "margin": null,
      "max_height": null,
      "max_width": null,
      "min_height": null,
      "min_width": null,
      "object_fit": null,
      "object_position": null,
      "order": null,
      "overflow": null,
      "overflow_x": null,
      "overflow_y": null,
      "padding": null,
      "right": null,
      "top": null,
      "visibility": null,
      "width": "100%"
     }
    },
    "edf2a97456d3449e8c1be1986e5f18a8": {
     "model_module": "@jupyter-widgets/base",
     "model_name": "LayoutModel",
     "model_module_version": "1.2.0",
     "state": {
      "_model_module": "@jupyter-widgets/base",
      "_model_module_version": "1.2.0",
      "_model_name": "LayoutModel",
      "_view_count": null,
      "_view_module": "@jupyter-widgets/base",
      "_view_module_version": "1.2.0",
      "_view_name": "LayoutView",
      "align_content": null,
      "align_items": null,
      "align_self": null,
      "border": null,
      "bottom": null,
      "display": null,
      "flex": null,
      "flex_flow": null,
      "grid_area": null,
      "grid_auto_columns": null,
      "grid_auto_flow": null,
      "grid_auto_rows": null,
      "grid_column": null,
      "grid_gap": null,
      "grid_row": null,
      "grid_template_areas": null,
      "grid_template_columns": null,
      "grid_template_rows": null,
      "height": null,
      "justify_content": null,
      "justify_items": null,
      "left": null,
      "margin": null,
      "max_height": null,
      "max_width": null,
      "min_height": null,
      "min_width": null,
      "object_fit": null,
      "object_position": null,
      "order": null,
      "overflow": null,
      "overflow_x": null,
      "overflow_y": null,
      "padding": null,
      "right": null,
      "top": null,
      "visibility": null,
      "width": null
     }
    },
    "e06f51a3e1f940f59409cbad23c8b27a": {
     "model_module": "@jupyter-widgets/controls",
     "model_name": "DescriptionStyleModel",
     "model_module_version": "1.5.0",
     "state": {
      "_model_module": "@jupyter-widgets/controls",
      "_model_module_version": "1.5.0",
      "_model_name": "DescriptionStyleModel",
      "_view_count": null,
      "_view_module": "@jupyter-widgets/base",
      "_view_module_version": "1.2.0",
      "_view_name": "StyleView",
      "description_width": ""
     }
    },
    "80aba32c18614180a3e86ce7a8528012": {
     "model_module": "@jupyter-widgets/base",
     "model_name": "LayoutModel",
     "model_module_version": "1.2.0",
     "state": {
      "_model_module": "@jupyter-widgets/base",
      "_model_module_version": "1.2.0",
      "_model_name": "LayoutModel",
      "_view_count": null,
      "_view_module": "@jupyter-widgets/base",
      "_view_module_version": "1.2.0",
      "_view_name": "LayoutView",
      "align_content": null,
      "align_items": null,
      "align_self": null,
      "border": null,
      "bottom": null,
      "display": null,
      "flex": "2",
      "flex_flow": null,
      "grid_area": null,
      "grid_auto_columns": null,
      "grid_auto_flow": null,
      "grid_auto_rows": null,
      "grid_column": null,
      "grid_gap": null,
      "grid_row": null,
      "grid_template_areas": null,
      "grid_template_columns": null,
      "grid_template_rows": null,
      "height": null,
      "justify_content": null,
      "justify_items": null,
      "left": null,
      "margin": null,
      "max_height": null,
      "max_width": null,
      "min_height": null,
      "min_width": null,
      "object_fit": null,
      "object_position": null,
      "order": null,
      "overflow": null,
      "overflow_x": null,
      "overflow_y": null,
      "padding": null,
      "right": null,
      "top": null,
      "visibility": null,
      "width": null
     }
    },
    "8a8fc4e40a814702b0108a27671c4b6a": {
     "model_module": "@jupyter-widgets/controls",
     "model_name": "ProgressStyleModel",
     "model_module_version": "1.5.0",
     "state": {
      "_model_module": "@jupyter-widgets/controls",
      "_model_module_version": "1.5.0",
      "_model_name": "ProgressStyleModel",
      "_view_count": null,
      "_view_module": "@jupyter-widgets/base",
      "_view_module_version": "1.2.0",
      "_view_name": "StyleView",
      "bar_color": null,
      "description_width": ""
     }
    },
    "6011b27594a14f89a71966c2c7bfa1d4": {
     "model_module": "@jupyter-widgets/base",
     "model_name": "LayoutModel",
     "model_module_version": "1.2.0",
     "state": {
      "_model_module": "@jupyter-widgets/base",
      "_model_module_version": "1.2.0",
      "_model_name": "LayoutModel",
      "_view_count": null,
      "_view_module": "@jupyter-widgets/base",
      "_view_module_version": "1.2.0",
      "_view_name": "LayoutView",
      "align_content": null,
      "align_items": null,
      "align_self": null,
      "border": null,
      "bottom": null,
      "display": null,
      "flex": null,
      "flex_flow": null,
      "grid_area": null,
      "grid_auto_columns": null,
      "grid_auto_flow": null,
      "grid_auto_rows": null,
      "grid_column": null,
      "grid_gap": null,
      "grid_row": null,
      "grid_template_areas": null,
      "grid_template_columns": null,
      "grid_template_rows": null,
      "height": null,
      "justify_content": null,
      "justify_items": null,
      "left": null,
      "margin": null,
      "max_height": null,
      "max_width": null,
      "min_height": null,
      "min_width": null,
      "object_fit": null,
      "object_position": null,
      "order": null,
      "overflow": null,
      "overflow_x": null,
      "overflow_y": null,
      "padding": null,
      "right": null,
      "top": null,
      "visibility": null,
      "width": null
     }
    },
    "15af7c09e1464c9288e368d1eec1e07b": {
     "model_module": "@jupyter-widgets/controls",
     "model_name": "DescriptionStyleModel",
     "model_module_version": "1.5.0",
     "state": {
      "_model_module": "@jupyter-widgets/controls",
      "_model_module_version": "1.5.0",
      "_model_name": "DescriptionStyleModel",
      "_view_count": null,
      "_view_module": "@jupyter-widgets/base",
      "_view_module_version": "1.2.0",
      "_view_name": "StyleView",
      "description_width": ""
     }
    },
    "7cdf4bb1e449467eaf94c86bc55b750e": {
     "model_module": "@jupyter-widgets/controls",
     "model_name": "HBoxModel",
     "model_module_version": "1.5.0",
     "state": {
      "_dom_classes": [],
      "_model_module": "@jupyter-widgets/controls",
      "_model_module_version": "1.5.0",
      "_model_name": "HBoxModel",
      "_view_count": null,
      "_view_module": "@jupyter-widgets/controls",
      "_view_module_version": "1.5.0",
      "_view_name": "HBoxView",
      "box_style": "",
      "children": [
       "IPY_MODEL_3f01b599be95450899a310c2ef445f06",
       "IPY_MODEL_03b9e7ebe2eb478cb9013640a0a37514",
       "IPY_MODEL_6acc03d6578144f797a8396001ce189f"
      ],
      "layout": "IPY_MODEL_6f82d2a77bff4286bb5f619c7f7c152c"
     }
    },
    "3f01b599be95450899a310c2ef445f06": {
     "model_module": "@jupyter-widgets/controls",
     "model_name": "HTMLModel",
     "model_module_version": "1.5.0",
     "state": {
      "_dom_classes": [],
      "_model_module": "@jupyter-widgets/controls",
      "_model_module_version": "1.5.0",
      "_model_name": "HTMLModel",
      "_view_count": null,
      "_view_module": "@jupyter-widgets/controls",
      "_view_module_version": "1.5.0",
      "_view_name": "HTMLView",
      "description": "",
      "description_tooltip": null,
      "layout": "IPY_MODEL_c56e8be8277b414d9dfb4e99788fc7d0",
      "placeholder": "​",
      "style": "IPY_MODEL_e333495763204ea6884379110e176d6b",
      "value": "Predicting DataLoader 0: "
     }
    },
    "03b9e7ebe2eb478cb9013640a0a37514": {
     "model_module": "@jupyter-widgets/controls",
     "model_name": "FloatProgressModel",
     "model_module_version": "1.5.0",
     "state": {
      "_dom_classes": [],
      "_model_module": "@jupyter-widgets/controls",
      "_model_module_version": "1.5.0",
      "_model_name": "FloatProgressModel",
      "_view_count": null,
      "_view_module": "@jupyter-widgets/controls",
      "_view_module_version": "1.5.0",
      "_view_name": "ProgressView",
      "bar_style": "success",
      "description": "",
      "description_tooltip": null,
      "layout": "IPY_MODEL_e06f179c88a44415bec8a82dacaa634a",
      "max": 1,
      "min": 0,
      "orientation": "horizontal",
      "style": "IPY_MODEL_848e1096dbf04d52b8edd3ec17538fc9",
      "value": 1
     }
    },
    "6acc03d6578144f797a8396001ce189f": {
     "model_module": "@jupyter-widgets/controls",
     "model_name": "HTMLModel",
     "model_module_version": "1.5.0",
     "state": {
      "_dom_classes": [],
      "_model_module": "@jupyter-widgets/controls",
      "_model_module_version": "1.5.0",
      "_model_name": "HTMLModel",
      "_view_count": null,
      "_view_module": "@jupyter-widgets/controls",
      "_view_module_version": "1.5.0",
      "_view_name": "HTMLView",
      "description": "",
      "description_tooltip": null,
      "layout": "IPY_MODEL_52076ba65fad45268c049a4180ad913f",
      "placeholder": "​",
      "style": "IPY_MODEL_2e4dc4ec5a3b4c9484e0944864a0acb3",
      "value": " 60/? [00:01&lt;00:00, 37.68it/s]"
     }
    },
    "6f82d2a77bff4286bb5f619c7f7c152c": {
     "model_module": "@jupyter-widgets/base",
     "model_name": "LayoutModel",
     "model_module_version": "1.2.0",
     "state": {
      "_model_module": "@jupyter-widgets/base",
      "_model_module_version": "1.2.0",
      "_model_name": "LayoutModel",
      "_view_count": null,
      "_view_module": "@jupyter-widgets/base",
      "_view_module_version": "1.2.0",
      "_view_name": "LayoutView",
      "align_content": null,
      "align_items": null,
      "align_self": null,
      "border": null,
      "bottom": null,
      "display": "inline-flex",
      "flex": null,
      "flex_flow": "row wrap",
      "grid_area": null,
      "grid_auto_columns": null,
      "grid_auto_flow": null,
      "grid_auto_rows": null,
      "grid_column": null,
      "grid_gap": null,
      "grid_row": null,
      "grid_template_areas": null,
      "grid_template_columns": null,
      "grid_template_rows": null,
      "height": null,
      "justify_content": null,
      "justify_items": null,
      "left": null,
      "margin": null,
      "max_height": null,
      "max_width": null,
      "min_height": null,
      "min_width": null,
      "object_fit": null,
      "object_position": null,
      "order": null,
      "overflow": null,
      "overflow_x": null,
      "overflow_y": null,
      "padding": null,
      "right": null,
      "top": null,
      "visibility": null,
      "width": "100%"
     }
    },
    "c56e8be8277b414d9dfb4e99788fc7d0": {
     "model_module": "@jupyter-widgets/base",
     "model_name": "LayoutModel",
     "model_module_version": "1.2.0",
     "state": {
      "_model_module": "@jupyter-widgets/base",
      "_model_module_version": "1.2.0",
      "_model_name": "LayoutModel",
      "_view_count": null,
      "_view_module": "@jupyter-widgets/base",
      "_view_module_version": "1.2.0",
      "_view_name": "LayoutView",
      "align_content": null,
      "align_items": null,
      "align_self": null,
      "border": null,
      "bottom": null,
      "display": null,
      "flex": null,
      "flex_flow": null,
      "grid_area": null,
      "grid_auto_columns": null,
      "grid_auto_flow": null,
      "grid_auto_rows": null,
      "grid_column": null,
      "grid_gap": null,
      "grid_row": null,
      "grid_template_areas": null,
      "grid_template_columns": null,
      "grid_template_rows": null,
      "height": null,
      "justify_content": null,
      "justify_items": null,
      "left": null,
      "margin": null,
      "max_height": null,
      "max_width": null,
      "min_height": null,
      "min_width": null,
      "object_fit": null,
      "object_position": null,
      "order": null,
      "overflow": null,
      "overflow_x": null,
      "overflow_y": null,
      "padding": null,
      "right": null,
      "top": null,
      "visibility": null,
      "width": null
     }
    },
    "e333495763204ea6884379110e176d6b": {
     "model_module": "@jupyter-widgets/controls",
     "model_name": "DescriptionStyleModel",
     "model_module_version": "1.5.0",
     "state": {
      "_model_module": "@jupyter-widgets/controls",
      "_model_module_version": "1.5.0",
      "_model_name": "DescriptionStyleModel",
      "_view_count": null,
      "_view_module": "@jupyter-widgets/base",
      "_view_module_version": "1.2.0",
      "_view_name": "StyleView",
      "description_width": ""
     }
    },
    "e06f179c88a44415bec8a82dacaa634a": {
     "model_module": "@jupyter-widgets/base",
     "model_name": "LayoutModel",
     "model_module_version": "1.2.0",
     "state": {
      "_model_module": "@jupyter-widgets/base",
      "_model_module_version": "1.2.0",
      "_model_name": "LayoutModel",
      "_view_count": null,
      "_view_module": "@jupyter-widgets/base",
      "_view_module_version": "1.2.0",
      "_view_name": "LayoutView",
      "align_content": null,
      "align_items": null,
      "align_self": null,
      "border": null,
      "bottom": null,
      "display": null,
      "flex": "2",
      "flex_flow": null,
      "grid_area": null,
      "grid_auto_columns": null,
      "grid_auto_flow": null,
      "grid_auto_rows": null,
      "grid_column": null,
      "grid_gap": null,
      "grid_row": null,
      "grid_template_areas": null,
      "grid_template_columns": null,
      "grid_template_rows": null,
      "height": null,
      "justify_content": null,
      "justify_items": null,
      "left": null,
      "margin": null,
      "max_height": null,
      "max_width": null,
      "min_height": null,
      "min_width": null,
      "object_fit": null,
      "object_position": null,
      "order": null,
      "overflow": null,
      "overflow_x": null,
      "overflow_y": null,
      "padding": null,
      "right": null,
      "top": null,
      "visibility": null,
      "width": null
     }
    },
    "848e1096dbf04d52b8edd3ec17538fc9": {
     "model_module": "@jupyter-widgets/controls",
     "model_name": "ProgressStyleModel",
     "model_module_version": "1.5.0",
     "state": {
      "_model_module": "@jupyter-widgets/controls",
      "_model_module_version": "1.5.0",
      "_model_name": "ProgressStyleModel",
      "_view_count": null,
      "_view_module": "@jupyter-widgets/base",
      "_view_module_version": "1.2.0",
      "_view_name": "StyleView",
      "bar_color": null,
      "description_width": ""
     }
    },
    "52076ba65fad45268c049a4180ad913f": {
     "model_module": "@jupyter-widgets/base",
     "model_name": "LayoutModel",
     "model_module_version": "1.2.0",
     "state": {
      "_model_module": "@jupyter-widgets/base",
      "_model_module_version": "1.2.0",
      "_model_name": "LayoutModel",
      "_view_count": null,
      "_view_module": "@jupyter-widgets/base",
      "_view_module_version": "1.2.0",
      "_view_name": "LayoutView",
      "align_content": null,
      "align_items": null,
      "align_self": null,
      "border": null,
      "bottom": null,
      "display": null,
      "flex": null,
      "flex_flow": null,
      "grid_area": null,
      "grid_auto_columns": null,
      "grid_auto_flow": null,
      "grid_auto_rows": null,
      "grid_column": null,
      "grid_gap": null,
      "grid_row": null,
      "grid_template_areas": null,
      "grid_template_columns": null,
      "grid_template_rows": null,
      "height": null,
      "justify_content": null,
      "justify_items": null,
      "left": null,
      "margin": null,
      "max_height": null,
      "max_width": null,
      "min_height": null,
      "min_width": null,
      "object_fit": null,
      "object_position": null,
      "order": null,
      "overflow": null,
      "overflow_x": null,
      "overflow_y": null,
      "padding": null,
      "right": null,
      "top": null,
      "visibility": null,
      "width": null
     }
    },
    "2e4dc4ec5a3b4c9484e0944864a0acb3": {
     "model_module": "@jupyter-widgets/controls",
     "model_name": "DescriptionStyleModel",
     "model_module_version": "1.5.0",
     "state": {
      "_model_module": "@jupyter-widgets/controls",
      "_model_module_version": "1.5.0",
      "_model_name": "DescriptionStyleModel",
      "_view_count": null,
      "_view_module": "@jupyter-widgets/base",
      "_view_module_version": "1.2.0",
      "_view_name": "StyleView",
      "description_width": ""
     }
    }
   }
  }
 },
 "nbformat": 4,
 "nbformat_minor": 5
}
